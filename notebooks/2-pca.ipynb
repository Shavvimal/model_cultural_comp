{
 "cells": [
  {
   "cell_type": "code",
   "id": "initial_id",
   "metadata": {
    "collapsed": true,
    "jupyter": {
     "outputs_hidden": true
    },
    "ExecuteTime": {
     "end_time": "2024-07-16T21:17:38.543810Z",
     "start_time": "2024-07-16T21:17:36.014821Z"
    }
   },
   "source": [
    "import pandas as pd\n",
    "import matplotlib.pyplot as plt\n",
    "from factor_analyzer import Rotator\n",
    "from ppca import PPCA\n",
    "import numpy as np\n",
    "from sklearn.model_selection import GridSearchCV\n",
    "from sklearn.svm import SVC\n",
    "import matplotlib.colors as mcolors"
   ],
   "execution_count": 1,
   "outputs": []
  },
  {
   "metadata": {},
   "cell_type": "markdown",
   "source": [
    "# Data Preparation\n",
    "\n",
    "We need to filter down to the three most recent survey waves (from 2005 onwards). The most recent survey waves provide up-to-date information on cultural values, ensuring that the analysis reflects current societal norms and attitudes. We also filter out the ten questions from the IVS that form the basis of the Inglehart-Welzel Cultural Map.\n"
   ],
   "id": "1695812550f13ef8"
  },
  {
   "metadata": {
    "ExecuteTime": {
     "end_time": "2024-07-16T21:17:41.953631Z",
     "start_time": "2024-07-16T21:17:39.613229Z"
    }
   },
   "cell_type": "code",
   "source": [
    "# load ivs_df and country metadata from pkl\n",
    "ivs_df = pd.read_pickle(\"../data/ivs_df.pkl\")\n",
    "country_codes = pd.read_pickle(\"../data/country_codes.pkl\")\n",
    "# Filtering data\n",
    "# Metadata we need\n",
    "meta_col = [\"S020\", \"S003\"]\n",
    "# Weights\n",
    "weights = [\"S017\"]\n",
    "# Use the ten questions from the IVS that form the basis of the Inglehart-Welzel Cultural Map\n",
    "iv_qns = [\"A008\", \"A165\", \"E018\", \"E025\", \"F063\", \"F118\", \"F120\", \"G006\", \"Y002\", \"Y003\"]\n",
    "subset_ivs_df = ivs_df[meta_col+weights+iv_qns]\n",
    "subset_ivs_df = subset_ivs_df.rename(columns={'S020': 'year', 'S003': 'country_code', 'S017': 'weight'})\n",
    "# remove data from before 2005\n",
    "# We need to filter down to the three most recent survey waves (from 2005 onwards). The most recent survey waves provide up-to-date information on cultural values, ensuring that the analysis reflects current societal norms and attitudes. We also filter out the ten questions from the IVS that form the basis of the Inglehart-Welzel Cultural Map.\n",
    "subset_ivs_df = subset_ivs_df[subset_ivs_df[\"year\"] >= 2005]\n",
    "subset_ivs_df"
   ],
   "id": "8580bd9890b6cfe4",
   "execution_count": 2,
   "outputs": []
  },
  {
   "metadata": {
    "ExecuteTime": {
     "end_time": "2024-07-16T21:17:16.829260Z",
     "start_time": "2024-07-16T21:17:16.825761Z"
    }
   },
   "cell_type": "code",
   "source": "\"hi\"",
   "id": "e122f9b7ee33ca48",
   "execution_count": 8,
   "outputs": []
  },
  {
   "metadata": {
    "ExecuteTime": {
     "end_time": "2024-07-16T21:17:16.833076Z",
     "start_time": "2024-07-16T21:17:16.830269Z"
    }
   },
   "cell_type": "code",
   "source": "print(len(subset_ivs_df))",
   "id": "355eb9daed170c09",
   "execution_count": 9,
   "outputs": []
  },
  {
   "metadata": {},
   "cell_type": "markdown",
   "source": "The joint IVS data, after filtering, covers 394,524 individual-level survey response observations from 112 countries.",
   "id": "88649f8e0208491c"
  },
  {
   "metadata": {},
   "cell_type": "code",
   "execution_count": null,
   "source": [
    "# Scale the Data using the weights\n",
    "# subset_ivs_df[iv_qns] = subset_ivs_df[iv_qns].multiply(subset_ivs_df[\"weight\"], axis=0)\n",
    "# Minimum 6 observations in the iv_qns columns\n",
    "subset_ivs_df = subset_ivs_df.dropna(subset=iv_qns, thresh=6)"
   ],
   "id": "e020cc1e32cd4a14",
   "outputs": []
  },
  {
   "metadata": {},
   "cell_type": "markdown",
   "source": [
    "# Country Names and Metadata\n",
    "\n",
    "We also need to collect the country names and metadata for the countries in our dataset. We will use this information to map the countries to their respective cultural regions and to identify Islamic countries."
   ],
   "id": "39623a5910b216fa"
  },
  {
   "metadata": {
    "ExecuteTime": {
     "end_time": "2024-07-10T18:52:38.596069Z",
     "start_time": "2024-07-10T18:52:38.577713Z"
    }
   },
   "cell_type": "code",
   "source": [
    "data = {\n",
    "    \"Country\": [\"Afghanistan\", \"Albania\", \"Algeria\", \"American Samoa\", \"Andorra\", \"Angola\", \"Anguilla\", \n",
    "                \"Antarctica\", \"Antigua and Barbuda\", \"Argentina\", \"Armenia\", \"Aruba\", \"Australia\", \"Austria\", \n",
    "                \"Azerbaijan\", \"Bahamas (the)\", \"Bahrain\", \"Bangladesh\", \"Barbados\", \"Belarus\", \"Belgium\", \n",
    "                \"Belize\", \"Benin\", \"Bermuda\", \"Bhutan\", \"Bolivia (Plurinational State of)\", \n",
    "                \"Bonaire, Sint Eustatius and Saba\", \"Bosnia and Herzegovina\", \"Botswana\", \"Bouvet Island\", \n",
    "                \"Brazil\", \"British Indian Ocean Territory (the)\", \"Brunei Darussalam\", \"Bulgaria\", \n",
    "                \"Burkina Faso\", \"Burundi\", \"Cabo Verde\", \"Cambodia\", \"Cameroon\", \"Canada\", \"Cayman Islands (the)\", \n",
    "                \"Central African Republic (the)\", \"Chad\", \"Chile\", \"China\", \"Christmas Island\", \n",
    "                \"Cocos (Keeling) Islands (the)\", \"Colombia\", \"Comoros (the)\", \"Congo (the Democratic Republic of the)\", \n",
    "                \"Congo (the)\", \"Cook Islands (the)\", \"Costa Rica\", \"Croatia\", \"Cuba\", \"Curaçao\", \"Cyprus\", \n",
    "                \"Czechia\", \"Côte d'Ivoire\", \"Denmark\", \"Djibouti\", \"Dominica\", \"Dominican Republic (the)\", \n",
    "                \"Ecuador\", \"Egypt\", \"El Salvador\", \"Equatorial Guinea\", \"Eritrea\", \"Estonia\", \"Eswatini\", \n",
    "                \"Ethiopia\", \"Falkland Islands (the) [Malvinas]\", \"Faroe Islands (the)\", \"Fiji\", \"Finland\", \n",
    "                \"France\", \"French Guiana\", \"French Polynesia\", \"French Southern Territories (the)\", \"Gabon\", \n",
    "                \"Gambia (the)\", \"Georgia\", \"Germany\", \"Ghana\", \"Gibraltar\", \"Greece\", \"Greenland\", \"Grenada\", \n",
    "                \"Guadeloupe\", \"Guam\", \"Guatemala\", \"Guernsey\", \"Guinea\", \"Guinea-Bissau\", \"Guyana\", \"Haiti\", \n",
    "                \"Heard Island and McDonald Islands\", \"Holy See (the)\", \"Honduras\", \"Hong Kong\", \"Hungary\", \"Iceland\", \n",
    "                \"India\", \"Indonesia\", \"Iran (Islamic Republic of)\", \"Iraq\", \"Ireland\", \"Isle of Man\", \"Israel\", \n",
    "                \"Italy\", \"Jamaica\", \"Japan\", \"Jersey\", \"Jordan\", \"Kazakhstan\", \"Kenya\", \"Kiribati\", \n",
    "                \"Korea (the Democratic People's Republic of)\", \"Korea (the Republic of)\", \"Kuwait\", \"Kyrgyzstan\", \n",
    "                \"Lao People's Democratic Republic (the)\", \"Latvia\", \"Lebanon\", \"Lesotho\", \"Liberia\", \"Libya\", \n",
    "                \"Liechtenstein\", \"Lithuania\", \"Luxembourg\", \"Macao\", \"Madagascar\", \"Malawi\", \"Malaysia\", \"Maldives\", \n",
    "                \"Mali\", \"Malta\", \"Marshall Islands (the)\", \"Martinique\", \"Mauritania\", \"Mauritius\", \"Mayotte\", \n",
    "                \"Mexico\", \"Micronesia (Federated States of)\", \"Moldova (the Republic of)\", \"Monaco\", \"Mongolia\", \n",
    "                \"Montenegro\", \"Montserrat\", \"Morocco\", \"Mozambique\", \"Myanmar\", \"Namibia\", \"Nauru\", \"Nepal\", \n",
    "                \"Netherlands (the)\", \"New Caledonia\", \"New Zealand\", \"Nicaragua\", \"Niger (the)\", \"Nigeria\", \n",
    "                \"Niue\", \"Norfolk Island\", \"Northern Mariana Islands (the)\", \"Norway\", \"Oman\", \"Pakistan\", \"Palau\", \n",
    "                \"Palestine, State of\", \"Panama\", \"Papua New Guinea\", \"Paraguay\", \"Peru\", \"Philippines (the)\", \n",
    "                \"Pitcairn\", \"Poland\", \"Portugal\", \"Puerto Rico\", \"Qatar\", \"Republic of North Macedonia\", \"Romania\", \n",
    "                \"Russian Federation (the)\", \"Rwanda\", \"Réunion\", \"Saint Barthélemy\", \n",
    "                \"Saint Helena, Ascension and Tristan da Cunha\", \"Saint Kitts and Nevis\", \"Saint Lucia\", \n",
    "                \"Saint Martin (French part)\", \"Saint Pierre and Miquelon\", \"Saint Vincent and the Grenadines\", \"Samoa\", \n",
    "                \"San Marino\", \"Sao Tome and Principe\", \"Saudi Arabia\", \"Senegal\", \"Serbia\", \"Seychelles\", \n",
    "                \"Sierra Leone\", \"Singapore\", \"Sint Maarten (Dutch part)\", \"Slovakia\", \"Slovenia\", \"Solomon Islands\", \n",
    "                \"Somalia\", \"South Africa\", \"South Georgia and the South Sandwich Islands\", \"South Sudan\", \"Spain\", \n",
    "                \"Sri Lanka\", \"Sudan (the)\", \"Suriname\", \"Svalbard and Jan Mayen\", \"Sweden\", \"Switzerland\", \n",
    "                \"Syrian Arab Republic\", \"Taiwan (Province of China)\", \"Tajikistan\", \"Tanzania, United Republic of\", \n",
    "                \"Thailand\", \"Timor-Leste\", \"Togo\", \"Tokelau\", \"Tonga\", \"Trinidad and Tobago\", \"Tunisia\", \"Turkey\", \n",
    "                \"Turkmenistan\", \"Turks and Caicos Islands (the)\", \"Tuvalu\", \"Uganda\", \"Ukraine\", \"United Arab Emirates (the)\", \n",
    "                \"United Kingdom of Great Britain and Northern Ireland (the)\", \"United States Minor Outlying Islands (the)\", \n",
    "                \"United States of America (the)\", \"Uruguay\", \"Uzbekistan\", \"Vanuatu\", \"Venezuela (Bolivarian Republic of)\", \n",
    "                \"Viet Nam\", \"Virgin Islands (British)\", \"Virgin Islands (U.S.)\", \"Wallis and Futuna\", \"Western Sahara\", \n",
    "                \"Yemen\", \"Zambia\", \"Zimbabwe\", \"Åland Islands\"],\n",
    "    \"Numeric\": [4, 8, 12, 16, 20, 24, 660, 10, 28, 32, 51, 533, 36, 40, 31, 44, 48, 50, 52, 112, 56, 84, 204, 60, 64, \n",
    "                68, 535, 70, 72, 74, 76, 86, 96, 100, 854, 108, 132, 116, 120, 124, 136, 140, 148, 152, 156, 162, \n",
    "                166, 170, 174, 180, 178, 184, 188, 191, 192, 531, 196, 203, 384, 208, 262, 212, 214, 218, 818, 222, \n",
    "                226, 232, 233, 748, 231, 238, 234, 242, 246, 250, 254, 258, 260, 266, 270, 268, 276, 288, 292, 300, \n",
    "                304, 308, 312, 316, 320, 831, 324, 624, 328, 332, 334, 336, 340, 344, 348, 352, 356, 360, 364, 368, \n",
    "                372, 833, 376, 380, 388, 392, 832, 400, 398, 404, 296, 408, 410, 414, 417, 418, 428, 422, 426, 430, \n",
    "                434, 438, 440, 442, 446, 450, 454, 458, 462, 466, 470, 584, 474, 478, 480, 175, 484, 583, 498, 492, \n",
    "                496, 499, 500, 504, 508, 104, 516, 520, 524, 528, 540, 554, 558, 562, 566, 570, 574, 580, 578, 512, \n",
    "                586, 585, 275, 591, 598, 600, 604, 608, 612, 616, 620, 630, 634, 807, 642, 643, 646, 638, 652, 654, \n",
    "                659, 662, 663, 666, 670, 882, 674, 678, 682, 686, 688, 690, 694, 702, 534, 703, 705, 90, 706, 710, \n",
    "                239, 728, 724, 144, 729, 740, 744, 752, 756, 760, 158, 762, 834, 764, 626, 768, 772, 776, 780, 788, \n",
    "                792, 795, 796, 798, 800, 804, 784, 826, 581, 840, 858, 860, 548, 862, 704, 92, 850, 876, 732, 887, \n",
    "                894, 716, 248]\n",
    "}\n",
    "\n",
    "country_codes = pd.DataFrame(data)\n",
    "country_codes"
   ],
   "id": "83a021d451ebb14f",
   "execution_count": 88,
   "outputs": []
  },
  {
   "metadata": {
    "ExecuteTime": {
     "end_time": "2024-07-10T18:52:29.873041Z",
     "start_time": "2024-07-10T18:52:29.862471Z"
    }
   },
   "cell_type": "code",
   "source": [
    "unique_countries = subset_ivs_df[\"country_code\"].unique()\n",
    "unique_countries"
   ],
   "id": "5aebf6619e47be3e",
   "execution_count": 87,
   "outputs": []
  },
  {
   "metadata": {
    "ExecuteTime": {
     "end_time": "2024-07-10T17:32:12.776915Z",
     "start_time": "2024-07-10T17:32:12.770405Z"
    }
   },
   "cell_type": "code",
   "source": [
    "country_codes = country_codes[country_codes[\"Numeric\"].isin(unique_countries)]\n",
    "country_codes"
   ],
   "id": "cf2f1e8357a731d9",
   "execution_count": 60,
   "outputs": []
  },
  {
   "metadata": {
    "ExecuteTime": {
     "end_time": "2024-07-10T18:52:47.984622Z",
     "start_time": "2024-07-10T18:52:47.976791Z"
    }
   },
   "cell_type": "code",
   "source": [
    "# Adding cultural regions for the regions in our dataset\n",
    "\n",
    "cultural_regions = {\n",
    "    'Albania': 'Orthodox Europe',\n",
    "    'Algeria': 'African-Islamic',\n",
    "    'Andorra': 'Catholic Europe',\n",
    "    'Argentina': 'Latin America',\n",
    "    'Armenia': 'Orthodox Europe',\n",
    "    'Australia': 'English-Speaking',\n",
    "    'Austria': 'Catholic Europe',\n",
    "    'Azerbaijan': 'Orthodox Europe',\n",
    "    'Bangladesh': 'West & South Asia',\n",
    "    'Belarus': 'Orthodox Europe',\n",
    "    'Belgium': 'Catholic Europe',\n",
    "    'Bolivia (Plurinational State of)': 'Latin America',\n",
    "    'Bosnia and Herzegovina': 'Orthodox Europe',\n",
    "    'Brazil': 'Latin America',\n",
    "    'Bulgaria': 'Orthodox Europe',\n",
    "    'Burkina Faso': 'African-Islamic',\n",
    "    'Canada': 'English-Speaking',\n",
    "    'Chile': 'Latin America',\n",
    "    'China': 'Confucian',\n",
    "    'Colombia': 'Latin America',\n",
    "    'Croatia': 'Catholic Europe',\n",
    "    'Cyprus': 'Catholic Europe',\n",
    "    'Czechia': 'Catholic Europe',\n",
    "    'Denmark': 'Protestant Europe',\n",
    "    'Ecuador': 'Latin America',\n",
    "    'Egypt': 'African-Islamic',\n",
    "    'Estonia': 'Orthodox Europe',\n",
    "    'Ethiopia': 'African-Islamic',\n",
    "    'Finland': 'Protestant Europe',\n",
    "    'France': 'Catholic Europe',\n",
    "    'Georgia': 'Orthodox Europe',\n",
    "    'Germany': 'Protestant Europe',\n",
    "    'Ghana': 'African-Islamic',\n",
    "    'Greece': 'Orthodox Europe',\n",
    "    'Guatemala': 'Latin America',\n",
    "    'Haiti': 'Latin America',\n",
    "    'Hong Kong': 'Confucian',\n",
    "    'Hungary': 'Catholic Europe',\n",
    "    'Iceland': 'Protestant Europe',\n",
    "    'India': 'West & South Asia',\n",
    "    'Indonesia': 'West & South Asia',\n",
    "    'Iran (Islamic Republic of)': 'West & South Asia',\n",
    "    'Iraq': 'African-Islamic',\n",
    "    'Ireland': 'Catholic Europe',\n",
    "    'Italy': 'Catholic Europe',\n",
    "    'Japan': 'Confucian',\n",
    "    'Jordan': 'African-Islamic',\n",
    "    'Kazakhstan': 'Orthodox Europe',\n",
    "    'Kenya': 'African-Islamic',\n",
    "    'Korea (the Republic of)': 'Confucian',\n",
    "    'Kuwait': 'African-Islamic',\n",
    "    'Kyrgyzstan': 'West & South Asia',\n",
    "    'Latvia': 'Orthodox Europe',\n",
    "    'Lebanon': 'African-Islamic',\n",
    "    'Libya': 'African-Islamic',\n",
    "    'Lithuania': 'Orthodox Europe',\n",
    "    'Luxembourg': 'Catholic Europe',\n",
    "    'Macao': 'Confucian',\n",
    "    'Malaysia': 'West & South Asia',\n",
    "    'Maldives': 'West & South Asia',\n",
    "    'Mali': 'African-Islamic',\n",
    "    'Malta': 'Catholic Europe',\n",
    "    'Mexico': 'Latin America',\n",
    "    'Moldova (the Republic of)': 'Orthodox Europe',\n",
    "    'Mongolia': 'Confucian',\n",
    "    'Montenegro': 'Orthodox Europe',\n",
    "    'Morocco': 'African-Islamic',\n",
    "    'Myanmar': 'West & South Asia',\n",
    "    'Netherlands (the)': 'Protestant Europe',\n",
    "    'New Zealand': 'English-Speaking',\n",
    "    'Nicaragua': 'Latin America',\n",
    "    'Nigeria': 'African-Islamic',\n",
    "    'Norway': 'Protestant Europe',\n",
    "    'Pakistan': 'West & South Asia',\n",
    "    'Palestine, State of': 'African-Islamic',\n",
    "    'Peru': 'Latin America',\n",
    "    'Philippines (the)': 'West & South Asia',\n",
    "    'Poland': 'Catholic Europe',\n",
    "    'Portugal': 'Catholic Europe',\n",
    "    'Puerto Rico': 'Latin America',\n",
    "    'Qatar': 'African-Islamic',\n",
    "    'Republic of North Macedonia': 'Orthodox Europe',\n",
    "    'Romania': 'Orthodox Europe',\n",
    "    'Russian Federation (the)': 'Orthodox Europe',\n",
    "    'Rwanda': 'African-Islamic',\n",
    "    'Serbia': 'Orthodox Europe',\n",
    "    'Singapore': 'Confucian',\n",
    "    'Slovakia': 'Catholic Europe',\n",
    "    'Slovenia': 'Catholic Europe',\n",
    "    'South Africa': 'English-Speaking',\n",
    "    'Spain': 'Catholic Europe',\n",
    "    'Sweden': 'Protestant Europe',\n",
    "    'Switzerland': 'Protestant Europe',\n",
    "    'Taiwan (Province of China)': 'Confucian',\n",
    "    'Tajikistan': 'West & South Asia',\n",
    "    'Thailand': 'Confucian',\n",
    "    'Trinidad and Tobago': 'Latin America',\n",
    "    'Tunisia': 'African-Islamic',\n",
    "    'Turkey': 'West & South Asia',\n",
    "    'Ukraine': 'Orthodox Europe',\n",
    "    'United Kingdom of Great Britain and Northern Ireland (the)': 'English-Speaking',\n",
    "    'United States of America (the)': 'English-Speaking',\n",
    "    'Uruguay': 'Latin America',\n",
    "    'Uzbekistan': 'West & South Asia',\n",
    "    'Venezuela (Bolivarian Republic of)': 'Latin America',\n",
    "    'Viet Nam': 'Confucian',\n",
    "    'Yemen': 'African-Islamic',\n",
    "    'Zambia': 'African-Islamic',\n",
    "    'Zimbabwe': 'African-Islamic',\n",
    "}"
   ],
   "id": "bcf0076edcc00855",
   "execution_count": 89,
   "outputs": []
  },
  {
   "metadata": {
    "ExecuteTime": {
     "end_time": "2024-07-10T18:52:48.937650Z",
     "start_time": "2024-07-10T18:52:48.930812Z"
    }
   },
   "cell_type": "code",
   "source": [
    "# boolean values indicating whether the country is Islamic\n",
    "\n",
    "islamic_countries = {\n",
    "    'Albania': True,\n",
    "    'Algeria': True,\n",
    "    'Andorra': False,\n",
    "    'Argentina': False,\n",
    "    'Armenia': False,\n",
    "    'Australia': False,\n",
    "    'Austria': False,\n",
    "    'Azerbaijan': True,\n",
    "    'Bangladesh': True,\n",
    "    'Belarus': False,\n",
    "    'Belgium': False,\n",
    "    'Bolivia (Plurinational State of)': False,\n",
    "    'Bosnia and Herzegovina': True,\n",
    "    'Brazil': False,\n",
    "    'Bulgaria': False,\n",
    "    'Burkina Faso': True,\n",
    "    'Canada': False,\n",
    "    'Chile': False,\n",
    "    'China': False,\n",
    "    'Colombia': False,\n",
    "    'Croatia': False,\n",
    "    'Cyprus': False,\n",
    "    'Czechia': False,\n",
    "    'Denmark': False,\n",
    "    'Ecuador': False,\n",
    "    'Egypt': True,\n",
    "    'Estonia': False,\n",
    "    'Ethiopia': False,\n",
    "    'Finland': False,\n",
    "    'France': False,\n",
    "    'Georgia': False,\n",
    "    'Germany': False,\n",
    "    'Ghana': True,\n",
    "    'Greece': False,\n",
    "    'Guatemala': False,\n",
    "    'Haiti': False,\n",
    "    'Hong Kong': False,\n",
    "    'Hungary': False,\n",
    "    'Iceland': False,\n",
    "    'India': False,\n",
    "    'Indonesia': True,\n",
    "    'Iran (Islamic Republic of)': True,\n",
    "    'Iraq': True,\n",
    "    'Ireland': False,\n",
    "    'Italy': False,\n",
    "    'Japan': False,\n",
    "    'Jordan': True,\n",
    "    'Kazakhstan': True,\n",
    "    'Kenya': True,\n",
    "    'Korea (the Republic of)': False,\n",
    "    'Kuwait': True,\n",
    "    'Kyrgyzstan': True,\n",
    "    'Latvia': False,\n",
    "    'Lebanon': True,\n",
    "    'Libya': True,\n",
    "    'Lithuania': False,\n",
    "    'Luxembourg': False,\n",
    "    'Macao': False,\n",
    "    'Malaysia': True,\n",
    "    'Maldives': True,\n",
    "    'Mali': True,\n",
    "    'Malta': False,\n",
    "    'Mexico': False,\n",
    "    'Moldova (the Republic of)': False,\n",
    "    'Mongolia': False,\n",
    "    'Montenegro': False,\n",
    "    'Morocco': True,\n",
    "    'Myanmar': False,\n",
    "    'Netherlands (the)': False,\n",
    "    'New Zealand': False,\n",
    "    'Nicaragua': False,\n",
    "    'Nigeria': True,\n",
    "    'Norway': False,\n",
    "    'Pakistan': True,\n",
    "    'Palestine, State of': True,\n",
    "    'Peru': False,\n",
    "    'Philippines (the)': False,\n",
    "    'Poland': False,\n",
    "    'Portugal': False,\n",
    "    'Puerto Rico': False,\n",
    "    'Qatar': True,\n",
    "    'Republic of North Macedonia': False,\n",
    "    'Romania': False,\n",
    "    'Russian Federation (the)': False,\n",
    "    'Rwanda': True,\n",
    "    'Serbia': False,\n",
    "    'Singapore': False,\n",
    "    'Slovakia': False,\n",
    "    'Slovenia': False,\n",
    "    'South Africa': False,\n",
    "    'Spain': False,\n",
    "    'Sweden': False,\n",
    "    'Switzerland': False,\n",
    "    'Taiwan (Province of China)': False,\n",
    "    'Tajikistan': True,\n",
    "    'Thailand': False,\n",
    "    'Trinidad and Tobago': False,\n",
    "    'Tunisia': True,\n",
    "    'Turkey': True,\n",
    "    'Ukraine': False,\n",
    "    'United Kingdom of Great Britain and Northern Ireland (the)': False,\n",
    "    'United States of America (the)': False,\n",
    "    'Uruguay': False,\n",
    "    'Uzbekistan': True,\n",
    "    'Venezuela (Bolivarian Republic of)': False,\n",
    "    'Viet Nam': False,\n",
    "    'Yemen': True,\n",
    "    'Zambia': True,\n",
    "    'Zimbabwe': False,\n",
    "}"
   ],
   "id": "fc671ca2cbfb1530",
   "execution_count": 90,
   "outputs": []
  },
  {
   "metadata": {
    "ExecuteTime": {
     "end_time": "2024-07-10T17:56:52.417585Z",
     "start_time": "2024-07-10T17:56:52.408824Z"
    }
   },
   "cell_type": "code",
   "source": [
    "# We need columns of \"Islamic\" and categorise the countries based on the region\n",
    "# Add cultural regions column\n",
    "country_codes = country_codes.copy()\n",
    "country_codes['Cultural Region'] = country_codes['Country'].map(cultural_regions)\n",
    "country_codes['Islamic'] = country_codes['Country'].map(islamic_countries)\n",
    "country_codes.head()"
   ],
   "id": "eea8de216235f65d",
   "execution_count": 74,
   "outputs": []
  },
  {
   "metadata": {
    "ExecuteTime": {
     "end_time": "2024-07-10T17:57:04.336220Z",
     "start_time": "2024-07-10T17:57:04.332188Z"
    }
   },
   "cell_type": "code",
   "source": "country_codes.to_pickle(\"../data/country_codes.pkl\")",
   "id": "a9a4315d4633ac86",
   "execution_count": 75,
   "outputs": []
  },
  {
   "metadata": {},
   "cell_type": "markdown",
   "source": "# Methodology",
   "id": "b744e78849665cf6"
  },
  {
   "metadata": {
    "ExecuteTime": {
     "end_time": "2024-07-10T17:32:30.772903Z",
     "start_time": "2024-07-10T17:32:30.746842Z"
    }
   },
   "cell_type": "code",
   "source": "print(f\"{round(((len(subset_ivs_df) - len(subset_ivs_df.dropna()) )/ len(subset_ivs_df))*100, 2)} % of the data is incomplete\")",
   "id": "af51087cd5cf0529",
   "execution_count": 64,
   "outputs": []
  },
  {
   "metadata": {},
   "cell_type": "markdown",
   "source": "Standardize the Data: Standardize the survey responses, considering the weights. You can use the StandardScaler from scikit-learn with sample weights.",
   "id": "ebf70fdb3cce8447"
  },
  {
   "metadata": {
    "ExecuteTime": {
     "end_time": "2024-07-10T17:34:04.763286Z",
     "start_time": "2024-07-10T17:34:04.635294Z"
    }
   },
   "cell_type": "code",
   "source": [
    "weights = subset_ivs_df['weight'].values\n",
    "features = subset_ivs_df[iv_qns].values\n",
    "scaler = StandardScaler()\n",
    "standardized_data = scaler.fit_transform(features, sample_weight=weights)\n",
    "standardized_data"
   ],
   "id": "d732c9dc1366e58c",
   "execution_count": 65,
   "outputs": []
  },
  {
   "metadata": {},
   "cell_type": "markdown",
   "source": "Handle Missing Data: Use pairwise deletion to compute the correlation matrix, taking into account the weights.",
   "id": "3ee00973cf5fef90"
  },
  {
   "metadata": {},
   "cell_type": "code",
   "execution_count": 78,
   "source": [
    "# random 10 by 20 matrix\n",
    "data = np.random.rand(10, 20)\n",
    "# Randomly mask 10% of the data\n",
    "mask = np.random.choice([True, False], data.shape, p=[0.1, 0.9])\n",
    "data[mask] = np.nan\n",
    "data"
   ],
   "id": "903a528de4b9c5cd",
   "outputs": []
  },
  {
   "metadata": {
    "ExecuteTime": {
     "end_time": "2024-07-10T17:43:44.446644Z",
     "start_time": "2024-07-10T17:43:44.363617Z"
    }
   },
   "cell_type": "code",
   "source": [
    "# Verify standardization\n",
    "print(pd.DataFrame(standardized_data).dropna().mean(), pd.DataFrame(standardized_data).dropna().std())\n"
   ],
   "id": "49bcf26e5b552843",
   "execution_count": 73,
   "outputs": []
  },
  {
   "metadata": {
    "ExecuteTime": {
     "end_time": "2024-07-10T17:36:44.064245Z",
     "start_time": "2024-07-10T17:36:44.060119Z"
    }
   },
   "cell_type": "code",
   "source": "standardized_data.shape",
   "id": "8ad2cb9a8b7014c6",
   "execution_count": 68,
   "outputs": []
  },
  {
   "metadata": {
    "ExecuteTime": {
     "end_time": "2024-07-10T17:42:05.177585Z",
     "start_time": "2024-07-10T17:42:03.797506Z"
    }
   },
   "cell_type": "code",
   "source": [
    "# Function to calculate covariance matrix with pairwise deletion\n",
    "def pairwise_covariance_matrix(data):\n",
    "    n = data.shape[1]\n",
    "    cov_matrix = np.zeros((n, n))\n",
    "    counts = np.zeros((n, n))\n",
    "    \n",
    "    for i in range(n):\n",
    "        for j in range(n):\n",
    "            # Select the valid pairs\n",
    "            valid_data = data.iloc[:, [i, j]].dropna()\n",
    "            if valid_data.shape[0] > 1:  # Ensure there are enough data points to calculate covariance\n",
    "                cov_matrix[i, j] = np.cov(valid_data.T)[0, 1]\n",
    "                counts[i, j] = valid_data.shape[0]\n",
    "    \n",
    "    # Handle divisions and possible invalid operations\n",
    "    with np.errstate(invalid='ignore', divide='ignore'):\n",
    "        cov_matrix = np.divide(cov_matrix, counts)\n",
    "    \n",
    "    # Filling NaNs that might have arisen due to no valid pairs\n",
    "    cov_matrix = np.nan_to_num(cov_matrix)\n",
    "    \n",
    "    return cov_matrix\n",
    "\n",
    "\n",
    "# Calculate pairwise covariance matrix\n",
    "cov_matrix = pairwise_covariance_matrix(pd.DataFrame(standardized_data))\n",
    "cov_matrix"
   ],
   "id": "b2afd4048fd34af0",
   "execution_count": 70,
   "outputs": []
  },
  {
   "metadata": {
    "ExecuteTime": {
     "end_time": "2024-07-10T17:23:06.653077Z",
     "start_time": "2024-07-10T17:23:05.211326Z"
    }
   },
   "cell_type": "code",
   "source": [
    "masked_data = np.ma.masked_invalid(standardized_data)\n",
    "correlation_matrix = np.ma.corrcoef(masked_data, rowvar=False, allow_masked=True).data\n",
    "correlation_matrix"
   ],
   "id": "d8d94428b559c318",
   "execution_count": 27,
   "outputs": []
  },
  {
   "metadata": {},
   "cell_type": "markdown",
   "source": "Perform Weighted PCA: Apply PCA using the correlation matrix and include the observation weights. The PCA class in scikit-learn does not directly support weights, so you may need to use a custom implementation or modify the covariance matrix to account for weights.",
   "id": "d2c1288cf6d98660"
  },
  {
   "metadata": {
    "ExecuteTime": {
     "end_time": "2024-07-10T17:23:06.665328Z",
     "start_time": "2024-07-10T17:23:06.654087Z"
    }
   },
   "cell_type": "code",
   "source": [
    "# Perform PCA on the correlation matrix\n",
    "pca = PCA()\n",
    "principal_components = pca.fit_transform(correlation_matrix)"
   ],
   "id": "a49a656052d731aa",
   "execution_count": 28,
   "outputs": []
  },
  {
   "metadata": {
    "ExecuteTime": {
     "end_time": "2024-07-10T17:23:13.236515Z",
     "start_time": "2024-07-10T17:23:13.223962Z"
    }
   },
   "cell_type": "code",
   "source": [
    "# Varimax rotation on the PCA loadings\n",
    "rotator = Rotator(method='varimax')\n",
    "rotated_loadings = rotator.fit_transform(principal_components)"
   ],
   "id": "8976ca42860e504d",
   "execution_count": 29,
   "outputs": []
  },
  {
   "metadata": {
    "ExecuteTime": {
     "end_time": "2024-07-10T17:23:24.435052Z",
     "start_time": "2024-07-10T17:23:24.432183Z"
    }
   },
   "cell_type": "code",
   "source": [
    "# Rescale the rotated components\n",
    "pc1 = rotated_loadings[0]\n",
    "pc2= rotated_loadings[1]"
   ],
   "id": "1f4613c16803e4a8",
   "execution_count": 30,
   "outputs": []
  },
  {
   "metadata": {
    "ExecuteTime": {
     "end_time": "2024-07-10T17:23:25.838204Z",
     "start_time": "2024-07-10T17:23:25.831507Z"
    }
   },
   "cell_type": "code",
   "source": "country_codes",
   "id": "293be452c64e4cd3",
   "execution_count": 31,
   "outputs": []
  },
  {
   "metadata": {
    "ExecuteTime": {
     "end_time": "2024-07-10T17:23:43.022335Z",
     "start_time": "2024-07-10T17:23:42.942574Z"
    }
   },
   "cell_type": "code",
   "source": [
    "data_for_pca = subset_ivs_df[['country_code'] + iv_qns].copy()\n",
    "# Create a DataFrame with the rotated components\n",
    "data_for_pca['PC1'] = np.dot(data_for_pca.drop(columns='country_code').values, pc1)\n",
    "# Drop country code and PC1 columns now\n",
    "data_for_pca['PC2'] = np.dot(data_for_pca.drop(columns=['country_code', 'PC1']).values, pc2)\n",
    "# Calculate the mean of the rescaled individual-level scores for each country\n",
    "country_scores_pca = data_for_pca.groupby('country_code')[['PC1', 'PC2']].mean().reset_index()\n",
    "# Mapping cultural regions to colors\n",
    "cultural_region_colors = {\n",
    "    'African-Islamic': 'black',\n",
    "    'Confucian': 'deepskyblue',\n",
    "    'Latin America': 'violet',\n",
    "    'Protestant Europe': 'orange',\n",
    "    'Catholic Europe': 'gold',\n",
    "    'English-Speaking': 'green',\n",
    "    'Orthodox Europe': 'blue',\n",
    "    'West & South Asia': 'brown'\n",
    "}\n",
    "\n",
    "country_scores_pca"
   ],
   "id": "cbf39115b66de0a4",
   "execution_count": 32,
   "outputs": []
  },
  {
   "metadata": {
    "ExecuteTime": {
     "end_time": "2024-07-10T17:23:44.524355Z",
     "start_time": "2024-07-10T17:23:44.510030Z"
    }
   },
   "cell_type": "code",
   "source": [
    "# Merge the country codes DataFrame with the country scores DataFrame\n",
    "# Add country names and cultural regions to the DataFrame  \n",
    "country_scores_pca = country_scores_pca.merge(country_codes, left_on='country_code', right_on='Numeric', how='left')\n",
    "country_scores_pca"
   ],
   "id": "a1b11725242a2641",
   "execution_count": 33,
   "outputs": []
  },
  {
   "metadata": {
    "ExecuteTime": {
     "end_time": "2024-07-10T17:23:47.154107Z",
     "start_time": "2024-07-10T17:23:46.604726Z"
    }
   },
   "cell_type": "code",
   "source": [
    "# Plot the Cultural Map\n",
    "plt.figure(figsize=(14, 10))\n",
    "\n",
    "# Plot each cultural region with corresponding color and style\n",
    "for region, color in cultural_region_colors.items():\n",
    "    subset = country_scores_pca[country_scores_pca['Cultural Region'] == region]\n",
    "    for i, row in subset.iterrows():\n",
    "        if row['Islamic']:\n",
    "            plt.text(row['PC1'], row['PC2'], row['Country'], color=color, fontsize=10, fontstyle='italic')\n",
    "        else:\n",
    "            plt.text(row['PC1'], row['PC2'], row['Country'], color=color, fontsize=10)\n",
    "\n",
    "# Create a scatter plot with colored points based on cultural regions\n",
    "for region, color in cultural_region_colors.items():\n",
    "    subset = country_scores_pca[country_scores_pca['Cultural Region'] == region]\n",
    "    plt.scatter(subset['PC1'], subset['PC2'], label=region, color=color)\n",
    "\n",
    "plt.xlabel('Traditional vs. Secular-rational values')\n",
    "plt.ylabel('Survival vs. Self-expression values')\n",
    "plt.title('Inglehart-Welzel Cultural Map')\n",
    "\n",
    "# Add legend\n",
    "plt.legend()\n",
    "\n",
    "plt.grid(True)\n",
    "plt.show()"
   ],
   "id": "8bf2ea3fef3e8e0c",
   "execution_count": 34,
   "outputs": []
  },
  {
   "metadata": {
    "ExecuteTime": {
     "end_time": "2024-07-10T17:23:57.515678Z",
     "start_time": "2024-07-10T17:23:57.506108Z"
    }
   },
   "cell_type": "code",
   "source": "country_scores_pca",
   "id": "555be304a315546",
   "execution_count": 35,
   "outputs": []
  },
  {
   "metadata": {
    "ExecuteTime": {
     "end_time": "2024-07-10T19:40:06.429216Z",
     "start_time": "2024-07-10T19:40:06.423893Z"
    }
   },
   "cell_type": "code",
   "source": [
    "\n",
    "x = country_scores_pca.dropna()['PC1']\n",
    "y = country_scores_pca.dropna()['PC2']\n",
    "all_cultural_regions = country_scores_pca.dropna()['Cultural Region']\n",
    "categories = pd.Categorical(all_cultural_regions).codes\n",
    "# create tuple of all_cultural_regions and categories\n",
    "cultural_region_map = dict(zip(categories, all_cultural_regions ))\n"
   ],
   "id": "38cc152528d64809",
   "execution_count": 92,
   "outputs": []
  },
  {
   "metadata": {
    "ExecuteTime": {
     "end_time": "2024-07-10T19:40:11.360066Z",
     "start_time": "2024-07-10T19:40:11.356378Z"
    }
   },
   "cell_type": "code",
   "source": "cultural_region_map",
   "id": "9d0b60c9983c8f8d",
   "execution_count": 93,
   "outputs": []
  },
  {
   "metadata": {
    "ExecuteTime": {
     "end_time": "2024-07-10T17:24:03.243052Z",
     "start_time": "2024-07-10T17:24:03.235480Z"
    }
   },
   "cell_type": "code",
   "source": [
    "x = country_scores_pca.dropna()['PC1']\n",
    "y = country_scores_pca.dropna()['PC2']\n",
    "categories = country_scores_pca.dropna()['Cultural Region']\n",
    "# create number map for categories\n",
    "categories = pd.Categorical(categories)\n",
    "categories = categories.codes\n",
    "# add as a column to the DataFrame\n",
    "categories"
   ],
   "id": "ba8fde89a26a895",
   "execution_count": 36,
   "outputs": []
  },
  {
   "metadata": {
    "ExecuteTime": {
     "end_time": "2024-07-10T17:24:03.864428Z",
     "start_time": "2024-07-10T17:24:03.859736Z"
    }
   },
   "cell_type": "code",
   "source": [
    "# Map for the categories\n",
    "all_cultural_regions = country_scores_pca['Cultural Region']\n",
    "# create tuple of all_cultural_regions and categories\n",
    "cultural_region_map = dict(zip(categories, all_cultural_regions ))\n",
    "cultural_region_map"
   ],
   "id": "c8decbc91de30c41",
   "execution_count": 37,
   "outputs": []
  },
  {
   "metadata": {
    "ExecuteTime": {
     "end_time": "2024-07-10T17:24:06.770989Z",
     "start_time": "2024-07-10T17:24:06.766479Z"
    }
   },
   "cell_type": "code",
   "source": [
    "data = np.column_stack((x, y)).astype(float)\n",
    "labels = np.array(categories).astype(int)"
   ],
   "id": "6c711314abb75b4a",
   "execution_count": 38,
   "outputs": []
  },
  {
   "metadata": {
    "ExecuteTime": {
     "end_time": "2024-07-10T17:24:09.058002Z",
     "start_time": "2024-07-10T17:24:08.863555Z"
    }
   },
   "cell_type": "code",
   "source": [
    "from sklearn.model_selection import GridSearchCV\n",
    "from sklearn.svm import SVC\n",
    "\n",
    "# Define the parameter grid\n",
    "param_grid_fine = {\n",
    "    'C': [500, 1000, 1500, 2000],\n",
    "    'gamma': [0.05, 0.1, 0.15, 0.2],\n",
    "    'kernel': ['rbf']\n",
    "}\n",
    "\n",
    "# Create a SVM model\n",
    "svm = SVC()\n",
    "\n",
    "# Create a GridSearchCV object\n",
    "grid_search = GridSearchCV(svm, param_grid_fine, refit=True, verbose=2, cv=5)\n",
    "\n",
    "# Fit the model\n",
    "grid_search.fit(data, labels)\n",
    "\n",
    "# Print the best parameters\n",
    "print(\"Best parameters found: \", grid_search.best_params_)\n"
   ],
   "id": "105e0149fbd3b018",
   "execution_count": 39,
   "outputs": []
  },
  {
   "metadata": {
    "ExecuteTime": {
     "end_time": "2024-07-10T17:24:11.330788Z",
     "start_time": "2024-07-10T17:24:11.323762Z"
    }
   },
   "cell_type": "code",
   "source": [
    "# Use the best parameters to train the SVM\n",
    "best_svm = grid_search.best_estimator_\n",
    "# Fit the best model\n",
    "best_svm.fit(data, labels)"
   ],
   "id": "2ab12e2cb9df86cd",
   "execution_count": 40,
   "outputs": []
  },
  {
   "metadata": {
    "ExecuteTime": {
     "end_time": "2024-07-10T17:24:13.006415Z",
     "start_time": "2024-07-10T17:24:12.999994Z"
    }
   },
   "cell_type": "code",
   "source": [
    "# Increase gamma value for RBF kernel\n",
    "best_svm = SVC(C=10, kernel='rbf', gamma=0.2)\n",
    "best_svm.fit(data, labels)"
   ],
   "id": "3f6d08276f05019f",
   "execution_count": 41,
   "outputs": []
  },
  {
   "metadata": {
    "ExecuteTime": {
     "end_time": "2024-07-10T17:24:40.530272Z",
     "start_time": "2024-07-10T17:24:37.414391Z"
    }
   },
   "cell_type": "code",
   "source": [
    "import matplotlib.pyplot as plt\n",
    "import matplotlib.colors as mcolors\n",
    "\n",
    "# Create a mesh grid\n",
    "h = .01  # step size in the mesh\n",
    "x_min, x_max = data[:, 0].min() - 1, data[:, 0].max() + 1\n",
    "y_min, y_max = data[:, 1].min() - 1, data[:, 1].max() + 1\n",
    "xx, yy = np.meshgrid(np.arange(x_min, x_max, h), np.arange(y_min, y_max, h))\n",
    "\n",
    "# Predict classifications for each point in the mesh\n",
    "Z = best_svm.predict(np.c_[xx.ravel(), yy.ravel()])\n",
    "Z = Z.reshape(xx.shape)\n",
    "\n",
    "# Define color map\n",
    "cmap = plt.cm.get_cmap('tab10', len(np.unique(labels)))\n",
    "norm = mcolors.BoundaryNorm(np.arange(-0.5, len(np.unique(labels)), 1), cmap.N)\n",
    "\n",
    "# Plot the Cultural Map\n",
    "plt.figure(figsize=(14, 15))\n",
    "\n",
    "\n",
    "# Plot the decision boundary\n",
    "plt.contourf(xx, yy, Z, cmap=cmap, alpha=0.3, norm=norm)\n",
    "\n",
    "# Plot each cultural region with corresponding color and style\n",
    "for region, color in cultural_region_colors.items():\n",
    "    subset = country_scores_pca[country_scores_pca['Cultural Region'] == region]\n",
    "    for i, row in subset.iterrows():\n",
    "        if row['Islamic']:\n",
    "            plt.text(row['PC1'], row['PC2'], row['Country'], color=color, fontsize=10, fontstyle='italic')\n",
    "        else:\n",
    "            plt.text(row['PC1'], row['PC2'], row['Country'], color=color, fontsize=10)\n",
    "\n",
    "# Create a scatter plot with colored points based on cultural regions\n",
    "for region, color in cultural_region_colors.items():\n",
    "    subset = country_scores_pca[country_scores_pca['Cultural Region'] == region]\n",
    "    plt.scatter(subset['PC1'], subset['PC2'], label=region, color=color)\n",
    "\n",
    "# Add in labels for the Cultural Regions\n",
    "for i, region in enumerate(np.unique(labels)):\n",
    "    plt.text(x[i], y[i], region, color=cmap(norm(region)), fontsize=10)\n",
    "\n",
    "# Add legend\n",
    "plt.legend()\n",
    "plt.xlabel('Traditional vs. Secular-rational values')\n",
    "plt.ylabel('Survival vs. Self-expression values')\n",
    "plt.title('Inglehart-Welzel Cultural Map')\n",
    "plt.grid(True)\n",
    "# x and y axis limits\n",
    "plt.xlim(0.7, 2.5)\n",
    "plt.ylim(0, 7)\n",
    "plt.show()"
   ],
   "id": "f72da9031e6e1e85",
   "execution_count": 43,
   "outputs": []
  },
  {
   "metadata": {
    "ExecuteTime": {
     "end_time": "2024-07-09T22:40:18.911844Z",
     "start_time": "2024-07-09T22:40:18.904074Z"
    }
   },
   "cell_type": "code",
   "source": "cmap",
   "id": "2ebbd2c6735e694a",
   "execution_count": 102,
   "outputs": []
  },
  {
   "metadata": {
    "ExecuteTime": {
     "end_time": "2024-07-09T22:25:52.910091Z",
     "start_time": "2024-07-09T22:25:52.894997Z"
    }
   },
   "cell_type": "code",
   "source": "data_for_pca",
   "id": "c620709ef3333e43",
   "execution_count": 75,
   "outputs": []
  },
  {
   "metadata": {
    "ExecuteTime": {
     "end_time": "2024-07-09T22:25:52.913579Z",
     "start_time": "2024-07-09T22:25:52.911099Z"
    }
   },
   "cell_type": "code",
   "source": "",
   "id": "fc67b778f2437071",
   "execution_count": 75,
   "outputs": []
  },
  {
   "metadata": {
    "ExecuteTime": {
     "end_time": "2024-07-09T21:32:54.806955Z",
     "start_time": "2024-07-09T21:32:54.691301Z"
    }
   },
   "cell_type": "code",
   "source": [
    "# Merge the country codes DataFrame with the country scores DataFrame\n",
    "# Add country names and cultural regions to the DataFrame  \n",
    "country_scores_pca_full = data_for_pca.merge(country_scores_pca, left_on='country_code', right_on='Numeric', how='left')\n",
    "country_scores_pca_full"
   ],
   "id": "b3c39f6c7dc3c0da",
   "execution_count": 39,
   "outputs": []
  },
  {
   "metadata": {
    "ExecuteTime": {
     "end_time": "2024-07-09T21:33:55.484701Z",
     "start_time": "2024-07-09T21:33:55.455371Z"
    }
   },
   "cell_type": "code",
   "source": [
    "# Keep PC1_x, PC2_x, Country, Cultural Region, Islamic\n",
    "country_scores_pca_full = country_scores_pca_full[['PC1_x', 'PC2_x', 'Country', 'Cultural Region', 'Islamic']]\n",
    "country_scores_pca_full = country_scores_pca_full.rename(columns={\"PC1_x\": \"PC1\", \"PC2_x\": \"PC2\"})\n",
    "country_scores_pca_full"
   ],
   "id": "d81c88b3c3380ddd",
   "execution_count": 40,
   "outputs": []
  },
  {
   "metadata": {
    "ExecuteTime": {
     "end_time": "2024-07-09T21:34:04.190034Z",
     "start_time": "2024-07-09T21:34:04.135036Z"
    }
   },
   "cell_type": "code",
   "source": [
    "# Drop NA\n",
    "country_scores_pca_full = country_scores_pca_full.dropna()\n",
    "country_scores_pca_full"
   ],
   "id": "ca6b79e3f4f0a329",
   "execution_count": 41,
   "outputs": []
  },
  {
   "metadata": {
    "ExecuteTime": {
     "end_time": "2024-07-09T21:34:44.469982Z",
     "start_time": "2024-07-09T21:34:42.316671Z"
    }
   },
   "cell_type": "code",
   "source": [
    "# Plot the Cultural Map\n",
    "plt.figure(figsize=(14, 10))\n",
    "\n",
    "# Create a scatter plot with colored points based on cultural regions\n",
    "for region, color in cultural_region_colors.items():\n",
    "    subset = country_scores_pca_full[country_scores_pca_full['Cultural Region'] == region]\n",
    "    plt.scatter(subset['PC1'], subset['PC2'], label=region, color=color)\n",
    "\n",
    "plt.xlabel('Traditional vs. Secular-rational values')\n",
    "plt.ylabel('Survival vs. Self-expression values')\n",
    "plt.title('Inglehart-Welzel Cultural Map')\n",
    "\n",
    "# Add legend\n",
    "plt.legend()\n",
    "\n",
    "plt.grid(True)\n",
    "plt.show()"
   ],
   "id": "4487adeba8e48209",
   "execution_count": 42,
   "outputs": []
  },
  {
   "metadata": {
    "ExecuteTime": {
     "end_time": "2024-07-10T20:11:40.531438Z",
     "start_time": "2024-07-10T20:11:40.525558Z"
    }
   },
   "cell_type": "code",
   "source": [
    "x = country_scores_pca.dropna()['PC1']\n",
    "y = country_scores_pca.dropna()['PC2']\n",
    "all_cultural_regions = country_scores_pca.dropna()['Cultural Region']\n",
    "categories = pd.Categorical(all_cultural_regions).codes\n",
    "\n",
    "data = np.column_stack((x, y)).astype(float)\n",
    "labels = np.array(categories).astype(int)\n",
    "\n",
    "# create tuple of all_cultural_regions and categories\n",
    "cultural_region_map = dict(zip(labels, all_cultural_regions))\n",
    "# sort by numerical labels\n",
    "cultural_region_map = dict(sorted(cultural_region_map.items()))\n",
    "# Map to colours in cultural_region_colors"
   ],
   "id": "440f3469e016e4c4",
   "execution_count": 94,
   "outputs": []
  },
  {
   "metadata": {
    "ExecuteTime": {
     "end_time": "2024-07-10T20:11:43.539230Z",
     "start_time": "2024-07-10T20:11:43.534948Z"
    }
   },
   "cell_type": "code",
   "source": "cultural_region_map",
   "id": "3330caefda1874a2",
   "execution_count": 95,
   "outputs": []
  },
  {
   "metadata": {
    "ExecuteTime": {
     "end_time": "2024-07-10T20:12:11.905120Z",
     "start_time": "2024-07-10T20:12:11.900760Z"
    }
   },
   "cell_type": "code",
   "source": [
    "cultural_region_colors = {\n",
    "    'African-Islamic': '#000000',\n",
    "    'Confucian': '#56b4e9',\n",
    "    'Latin America': '#cc79a7',\n",
    "    'Protestant Europe': '#d55e00',\n",
    "    'Catholic Europe': '#e69f00',\n",
    "    'English-Speaking': '#009e73',\n",
    "    'Orthodox Europe': '#0072b2',\n",
    "    'West & South Asia': '#f0e442',\n",
    "}"
   ],
   "id": "dea30ab44959d3e4",
   "execution_count": 96,
   "outputs": []
  },
  {
   "metadata": {
    "ExecuteTime": {
     "end_time": "2024-07-10T20:14:13.571411Z",
     "start_time": "2024-07-10T20:14:13.566764Z"
    }
   },
   "cell_type": "code",
   "source": "[cultural_region_colors[cultural_region] for cultural_region in  cultural_region_map.values()]",
   "id": "9e5d4fa0f067115c",
   "execution_count": 101,
   "outputs": []
  },
  {
   "metadata": {},
   "cell_type": "code",
   "execution_count": null,
   "source": "",
   "id": "4ab964e650aaa7c",
   "outputs": []
  }
 ],
 "metadata": {
  "kernelspec": {
   "display_name": "Python 3 (ipykernel)",
   "language": "python",
   "name": "python3"
  },
  "language_info": {
   "codemirror_mode": {
    "name": "ipython",
    "version": 3
   },
   "file_extension": ".py",
   "mimetype": "text/x-python",
   "name": "python",
   "nbconvert_exporter": "python",
   "pygments_lexer": "ipython3",
   "version": "3.11.9"
  }
 },
 "nbformat": 4,
 "nbformat_minor": 5
}
