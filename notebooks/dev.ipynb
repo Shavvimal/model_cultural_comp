{
 "cells": [
  {
   "metadata": {
    "ExecuteTime": {
     "end_time": "2024-07-10T18:25:41.603125Z",
     "start_time": "2024-07-10T18:25:36.857445Z"
    }
   },
   "cell_type": "code",
   "source": [
    "import numpy as np\n",
    "import pandas as pd\n",
    "import umap"
   ],
   "id": "a56653c56ffd06ca",
   "outputs": [],
   "execution_count": 1
  },
  {
   "metadata": {
    "ExecuteTime": {
     "end_time": "2024-07-10T18:27:01.671810Z",
     "start_time": "2024-07-10T18:26:58.924002Z"
    }
   },
   "cell_type": "code",
   "source": [
    "ivs_df = pd.read_pickle(\"../data/ivs_df.pkl\")\n",
    "country_codes = pd.read_pickle(\"../data/country_codes.pkl\")\n",
    "\n",
    "############################################\n",
    "########Data Preperation#################\n",
    "############################################\n",
    "\n",
    "# Filtering data\n",
    "# Metadata we need\n",
    "meta_col = [\"S020\", \"S003\"]\n",
    "# Weights\n",
    "weights = [\"S017\"]\n",
    "# Use the ten questions from the IVS that form the basis of the Inglehart-Welzel Cultural Map\n",
    "iv_qns = [\"A008\", \"A165\", \"E018\", \"E025\", \"F063\", \"F118\", \"F120\", \"G006\", \"Y002\", \"Y003\"]\n",
    "subset_ivs_df = ivs_df[meta_col+weights+iv_qns]\n",
    "subset_ivs_df = subset_ivs_df.rename(columns={'S020': 'year', 'S003': 'country_code', 'S017': 'weight'})\n",
    "# remove data from before 2005\n",
    "# We need to filter down to the three most recent survey waves (from 2005 onwards). The most recent survey waves provide up-to-date information on cultural values, ensuring that the analysis reflects current societal norms and attitudes. We also filter out the ten questions from the IVS that form the basis of the Inglehart-Welzel Cultural Map.\n",
    "subset_ivs_df = subset_ivs_df[subset_ivs_df[\"year\"] >= 2005]"
   ],
   "id": "b866248193e9022f",
   "outputs": [],
   "execution_count": 3
  },
  {
   "metadata": {
    "ExecuteTime": {
     "end_time": "2024-07-10T18:29:30.744210Z",
     "start_time": "2024-07-10T18:29:30.740987Z"
    }
   },
   "cell_type": "code",
   "source": [
    "# Take the first 20 rows of the dataset\n",
    "subset_ivs_df = subset_ivs_df.head(20).copy()"
   ],
   "id": "aff143d451be21f",
   "outputs": [],
   "execution_count": 8
  },
  {
   "metadata": {
    "ExecuteTime": {
     "end_time": "2024-07-10T18:29:31.399870Z",
     "start_time": "2024-07-10T18:29:31.394519Z"
    }
   },
   "cell_type": "code",
   "source": "subset_ivs_df[iv_qns] = subset_ivs_df[iv_qns].multiply(subset_ivs_df[\"weight\"], axis=0)",
   "id": "ae0ccefacc08cb22",
   "outputs": [],
   "execution_count": 9
  },
  {
   "metadata": {
    "ExecuteTime": {
     "end_time": "2024-07-10T18:42:11.182836Z",
     "start_time": "2024-07-10T18:42:11.167767Z"
    }
   },
   "cell_type": "code",
   "source": "subset_ivs_df.dropna(subset=iv_qns, thresh=10)",
   "id": "e5ed29fffedbd6b4",
   "outputs": [
    {
     "data": {
      "text/plain": [
       "      year  country_code  weight  A008  A165  E018  E025  F063  F118  F120  \\\n",
       "1   2018.0          20.0     1.0   1.0   2.0   1.0   1.0   1.0   9.0   9.0   \n",
       "2   2018.0          20.0     1.0   2.0   2.0   1.0   1.0   8.0  10.0   5.0   \n",
       "7   2018.0          20.0     1.0   2.0   2.0   2.0   1.0   4.0  10.0   6.0   \n",
       "10  2018.0          20.0     1.0   2.0   2.0   2.0   1.0  10.0   7.0   4.0   \n",
       "11  2018.0          20.0     1.0   1.0   1.0   1.0   1.0   8.0   1.0   7.0   \n",
       "13  2018.0          20.0     1.0   2.0   2.0   2.0   1.0   6.0  10.0  10.0   \n",
       "16  2018.0          20.0     1.0   2.0   2.0   2.0   1.0   1.0  10.0   5.0   \n",
       "17  2018.0          20.0     1.0   2.0   2.0   3.0   1.0   5.0  10.0  10.0   \n",
       "18  2018.0          20.0     1.0   1.0   2.0   2.0   1.0  10.0   6.0   1.0   \n",
       "\n",
       "    G006  Y002  Y003  \n",
       "1    1.0   3.0  -1.0  \n",
       "2    3.0   2.0   2.0  \n",
       "7    1.0   3.0  -1.0  \n",
       "10   1.0   3.0   2.0  \n",
       "11   2.0   3.0   0.0  \n",
       "13   1.0   2.0   1.0  \n",
       "16   2.0   2.0   1.0  \n",
       "17   2.0   2.0   0.0  \n",
       "18   1.0   2.0   0.0  "
      ],
      "text/html": [
       "<div>\n",
       "<style scoped>\n",
       "    .dataframe tbody tr th:only-of-type {\n",
       "        vertical-align: middle;\n",
       "    }\n",
       "\n",
       "    .dataframe tbody tr th {\n",
       "        vertical-align: top;\n",
       "    }\n",
       "\n",
       "    .dataframe thead th {\n",
       "        text-align: right;\n",
       "    }\n",
       "</style>\n",
       "<table border=\"1\" class=\"dataframe\">\n",
       "  <thead>\n",
       "    <tr style=\"text-align: right;\">\n",
       "      <th></th>\n",
       "      <th>year</th>\n",
       "      <th>country_code</th>\n",
       "      <th>weight</th>\n",
       "      <th>A008</th>\n",
       "      <th>A165</th>\n",
       "      <th>E018</th>\n",
       "      <th>E025</th>\n",
       "      <th>F063</th>\n",
       "      <th>F118</th>\n",
       "      <th>F120</th>\n",
       "      <th>G006</th>\n",
       "      <th>Y002</th>\n",
       "      <th>Y003</th>\n",
       "    </tr>\n",
       "  </thead>\n",
       "  <tbody>\n",
       "    <tr>\n",
       "      <th>1</th>\n",
       "      <td>2018.0</td>\n",
       "      <td>20.0</td>\n",
       "      <td>1.0</td>\n",
       "      <td>1.0</td>\n",
       "      <td>2.0</td>\n",
       "      <td>1.0</td>\n",
       "      <td>1.0</td>\n",
       "      <td>1.0</td>\n",
       "      <td>9.0</td>\n",
       "      <td>9.0</td>\n",
       "      <td>1.0</td>\n",
       "      <td>3.0</td>\n",
       "      <td>-1.0</td>\n",
       "    </tr>\n",
       "    <tr>\n",
       "      <th>2</th>\n",
       "      <td>2018.0</td>\n",
       "      <td>20.0</td>\n",
       "      <td>1.0</td>\n",
       "      <td>2.0</td>\n",
       "      <td>2.0</td>\n",
       "      <td>1.0</td>\n",
       "      <td>1.0</td>\n",
       "      <td>8.0</td>\n",
       "      <td>10.0</td>\n",
       "      <td>5.0</td>\n",
       "      <td>3.0</td>\n",
       "      <td>2.0</td>\n",
       "      <td>2.0</td>\n",
       "    </tr>\n",
       "    <tr>\n",
       "      <th>7</th>\n",
       "      <td>2018.0</td>\n",
       "      <td>20.0</td>\n",
       "      <td>1.0</td>\n",
       "      <td>2.0</td>\n",
       "      <td>2.0</td>\n",
       "      <td>2.0</td>\n",
       "      <td>1.0</td>\n",
       "      <td>4.0</td>\n",
       "      <td>10.0</td>\n",
       "      <td>6.0</td>\n",
       "      <td>1.0</td>\n",
       "      <td>3.0</td>\n",
       "      <td>-1.0</td>\n",
       "    </tr>\n",
       "    <tr>\n",
       "      <th>10</th>\n",
       "      <td>2018.0</td>\n",
       "      <td>20.0</td>\n",
       "      <td>1.0</td>\n",
       "      <td>2.0</td>\n",
       "      <td>2.0</td>\n",
       "      <td>2.0</td>\n",
       "      <td>1.0</td>\n",
       "      <td>10.0</td>\n",
       "      <td>7.0</td>\n",
       "      <td>4.0</td>\n",
       "      <td>1.0</td>\n",
       "      <td>3.0</td>\n",
       "      <td>2.0</td>\n",
       "    </tr>\n",
       "    <tr>\n",
       "      <th>11</th>\n",
       "      <td>2018.0</td>\n",
       "      <td>20.0</td>\n",
       "      <td>1.0</td>\n",
       "      <td>1.0</td>\n",
       "      <td>1.0</td>\n",
       "      <td>1.0</td>\n",
       "      <td>1.0</td>\n",
       "      <td>8.0</td>\n",
       "      <td>1.0</td>\n",
       "      <td>7.0</td>\n",
       "      <td>2.0</td>\n",
       "      <td>3.0</td>\n",
       "      <td>0.0</td>\n",
       "    </tr>\n",
       "    <tr>\n",
       "      <th>13</th>\n",
       "      <td>2018.0</td>\n",
       "      <td>20.0</td>\n",
       "      <td>1.0</td>\n",
       "      <td>2.0</td>\n",
       "      <td>2.0</td>\n",
       "      <td>2.0</td>\n",
       "      <td>1.0</td>\n",
       "      <td>6.0</td>\n",
       "      <td>10.0</td>\n",
       "      <td>10.0</td>\n",
       "      <td>1.0</td>\n",
       "      <td>2.0</td>\n",
       "      <td>1.0</td>\n",
       "    </tr>\n",
       "    <tr>\n",
       "      <th>16</th>\n",
       "      <td>2018.0</td>\n",
       "      <td>20.0</td>\n",
       "      <td>1.0</td>\n",
       "      <td>2.0</td>\n",
       "      <td>2.0</td>\n",
       "      <td>2.0</td>\n",
       "      <td>1.0</td>\n",
       "      <td>1.0</td>\n",
       "      <td>10.0</td>\n",
       "      <td>5.0</td>\n",
       "      <td>2.0</td>\n",
       "      <td>2.0</td>\n",
       "      <td>1.0</td>\n",
       "    </tr>\n",
       "    <tr>\n",
       "      <th>17</th>\n",
       "      <td>2018.0</td>\n",
       "      <td>20.0</td>\n",
       "      <td>1.0</td>\n",
       "      <td>2.0</td>\n",
       "      <td>2.0</td>\n",
       "      <td>3.0</td>\n",
       "      <td>1.0</td>\n",
       "      <td>5.0</td>\n",
       "      <td>10.0</td>\n",
       "      <td>10.0</td>\n",
       "      <td>2.0</td>\n",
       "      <td>2.0</td>\n",
       "      <td>0.0</td>\n",
       "    </tr>\n",
       "    <tr>\n",
       "      <th>18</th>\n",
       "      <td>2018.0</td>\n",
       "      <td>20.0</td>\n",
       "      <td>1.0</td>\n",
       "      <td>1.0</td>\n",
       "      <td>2.0</td>\n",
       "      <td>2.0</td>\n",
       "      <td>1.0</td>\n",
       "      <td>10.0</td>\n",
       "      <td>6.0</td>\n",
       "      <td>1.0</td>\n",
       "      <td>1.0</td>\n",
       "      <td>2.0</td>\n",
       "      <td>0.0</td>\n",
       "    </tr>\n",
       "  </tbody>\n",
       "</table>\n",
       "</div>"
      ]
     },
     "execution_count": 18,
     "metadata": {},
     "output_type": "execute_result"
    }
   ],
   "execution_count": 18
  },
  {
   "metadata": {
    "ExecuteTime": {
     "end_time": "2024-07-10T18:30:03.264696Z",
     "start_time": "2024-07-10T18:30:03.259136Z"
    }
   },
   "cell_type": "code",
   "source": [
    "data = subset_ivs_df[iv_qns].to_numpy()\n",
    "data"
   ],
   "id": "44dbf9b40ad44f19",
   "outputs": [
    {
     "data": {
      "text/plain": [
       "array([[ 1.,  2.,  1.,  2.,  7.,  4.,  2., nan,  1.,  0.],\n",
       "       [ 1.,  2.,  1.,  1.,  1.,  9.,  9.,  1.,  3., -1.],\n",
       "       [ 2.,  2.,  1.,  1.,  8., 10.,  5.,  3.,  2.,  2.],\n",
       "       [ 2.,  2.,  2.,  2.,  1.,  6.,  4., nan,  2.,  0.],\n",
       "       [ 2.,  2.,  2.,  1.,  4.,  8.,  5., nan,  1.,  1.],\n",
       "       [ 1.,  2.,  1.,  1.,  3., 10.,  1., nan,  2.,  0.],\n",
       "       [ 2.,  2.,  1.,  1.,  8., 10., 10., nan,  3.,  0.],\n",
       "       [ 2.,  2.,  2.,  1.,  4., 10.,  6.,  1.,  3., -1.],\n",
       "       [ 1.,  2.,  2.,  2.,  5.,  8.,  5., nan,  3.,  1.],\n",
       "       [ 1.,  2.,  2.,  2., 10., 10.,  8., nan,  2.,  1.],\n",
       "       [ 2.,  2.,  2.,  1., 10.,  7.,  4.,  1.,  3.,  2.],\n",
       "       [ 1.,  1.,  1.,  1.,  8.,  1.,  7.,  2.,  3.,  0.],\n",
       "       [ 1.,  2.,  2.,  1.,  1., 10., 10., nan,  3.,  2.],\n",
       "       [ 2.,  2.,  2.,  1.,  6., 10., 10.,  1.,  2.,  1.],\n",
       "       [ 3.,  2.,  1.,  2.,  8., 10., 10., nan,  1.,  1.],\n",
       "       [ 2.,  2.,  3.,  2., 10., 10.,  1., nan,  1., -1.],\n",
       "       [ 2.,  2.,  2.,  1.,  1., 10.,  5.,  2.,  2.,  1.],\n",
       "       [ 2.,  2.,  3.,  1.,  5., 10., 10.,  2.,  2.,  0.],\n",
       "       [ 1.,  2.,  2.,  1., 10.,  6.,  1.,  1.,  2.,  0.],\n",
       "       [ 2.,  2.,  1.,  3.,  5.,  1.,  1., nan,  2.,  0.]])"
      ]
     },
     "execution_count": 13,
     "metadata": {},
     "output_type": "execute_result"
    }
   ],
   "execution_count": 13
  },
  {
   "metadata": {
    "ExecuteTime": {
     "end_time": "2024-07-10T18:30:45.567690Z",
     "start_time": "2024-07-10T18:30:45.562828Z"
    }
   },
   "cell_type": "code",
   "source": [
    "# Randomly mask 10% of the data\n",
    "mask = np.random.choice([True, False], data.shape, p=[0.1, 0.9])\n",
    "data[mask] = np.nan\n",
    "data"
   ],
   "id": "b55e785723a9a1ec",
   "outputs": [
    {
     "data": {
      "text/plain": [
       "array([[ 1.,  2.,  1.,  2.,  7.,  4., nan, nan,  1.,  0.],\n",
       "       [ 1.,  2.,  1.,  1., nan,  9.,  9.,  1.,  3., -1.],\n",
       "       [ 2.,  2.,  1.,  1.,  8., 10., nan,  3.,  2.,  2.],\n",
       "       [ 2.,  2.,  2.,  2.,  1.,  6.,  4., nan,  2.,  0.],\n",
       "       [ 2.,  2.,  2.,  1.,  4.,  8.,  5., nan,  1.,  1.],\n",
       "       [ 1.,  2.,  1.,  1.,  3., 10.,  1., nan,  2.,  0.],\n",
       "       [ 2.,  2.,  1.,  1.,  8., 10., 10., nan,  3.,  0.],\n",
       "       [ 2.,  2.,  2., nan,  4., 10.,  6.,  1., nan, -1.],\n",
       "       [nan,  2.,  2.,  2.,  5.,  8.,  5., nan,  3.,  1.],\n",
       "       [ 1.,  2., nan,  2., 10., 10.,  8., nan,  2.,  1.],\n",
       "       [ 2.,  2.,  2.,  1., nan,  7.,  4.,  1.,  3.,  2.],\n",
       "       [ 1.,  1.,  1.,  1.,  8.,  1.,  7.,  2.,  3.,  0.],\n",
       "       [ 1.,  2.,  2.,  1., nan, 10., 10., nan,  3.,  2.],\n",
       "       [ 2.,  2.,  2.,  1.,  6., 10., 10.,  1.,  2.,  1.],\n",
       "       [ 3.,  2.,  1.,  2.,  8., 10., 10., nan,  1.,  1.],\n",
       "       [ 2.,  2.,  3.,  2., 10., 10.,  1., nan,  1., -1.],\n",
       "       [ 2.,  2.,  2., nan,  1., 10.,  5.,  2.,  2., nan],\n",
       "       [ 2.,  2.,  3.,  1.,  5., 10., 10.,  2.,  2.,  0.],\n",
       "       [ 1.,  2., nan,  1., 10.,  6.,  1.,  1.,  2., nan],\n",
       "       [ 2.,  2.,  1.,  3.,  5.,  1.,  1., nan,  2.,  0.]])"
      ]
     },
     "execution_count": 14,
     "metadata": {},
     "output_type": "execute_result"
    }
   ],
   "execution_count": 14
  },
  {
   "metadata": {
    "ExecuteTime": {
     "end_time": "2024-07-10T18:30:53.740315Z",
     "start_time": "2024-07-10T18:30:53.737067Z"
    }
   },
   "cell_type": "code",
   "source": [
    "# Determine which data points are observed\n",
    "observed = ~np.isnan(data)\n",
    "missing = np.sum(~observed)\n",
    "data[~observed] = 0"
   ],
   "id": "e1f7602d0696c303",
   "outputs": [],
   "execution_count": 15
  },
  {
   "metadata": {
    "ExecuteTime": {
     "end_time": "2024-07-10T18:30:55.018646Z",
     "start_time": "2024-07-10T18:30:55.013332Z"
    }
   },
   "cell_type": "code",
   "source": "data",
   "id": "8c6bdf7864a217b6",
   "outputs": [
    {
     "data": {
      "text/plain": [
       "array([[ 1.,  2.,  1.,  2.,  7.,  4.,  0.,  0.,  1.,  0.],\n",
       "       [ 1.,  2.,  1.,  1.,  0.,  9.,  9.,  1.,  3., -1.],\n",
       "       [ 2.,  2.,  1.,  1.,  8., 10.,  0.,  3.,  2.,  2.],\n",
       "       [ 2.,  2.,  2.,  2.,  1.,  6.,  4.,  0.,  2.,  0.],\n",
       "       [ 2.,  2.,  2.,  1.,  4.,  8.,  5.,  0.,  1.,  1.],\n",
       "       [ 1.,  2.,  1.,  1.,  3., 10.,  1.,  0.,  2.,  0.],\n",
       "       [ 2.,  2.,  1.,  1.,  8., 10., 10.,  0.,  3.,  0.],\n",
       "       [ 2.,  2.,  2.,  0.,  4., 10.,  6.,  1.,  0., -1.],\n",
       "       [ 0.,  2.,  2.,  2.,  5.,  8.,  5.,  0.,  3.,  1.],\n",
       "       [ 1.,  2.,  0.,  2., 10., 10.,  8.,  0.,  2.,  1.],\n",
       "       [ 2.,  2.,  2.,  1.,  0.,  7.,  4.,  1.,  3.,  2.],\n",
       "       [ 1.,  1.,  1.,  1.,  8.,  1.,  7.,  2.,  3.,  0.],\n",
       "       [ 1.,  2.,  2.,  1.,  0., 10., 10.,  0.,  3.,  2.],\n",
       "       [ 2.,  2.,  2.,  1.,  6., 10., 10.,  1.,  2.,  1.],\n",
       "       [ 3.,  2.,  1.,  2.,  8., 10., 10.,  0.,  1.,  1.],\n",
       "       [ 2.,  2.,  3.,  2., 10., 10.,  1.,  0.,  1., -1.],\n",
       "       [ 2.,  2.,  2.,  0.,  1., 10.,  5.,  2.,  2.,  0.],\n",
       "       [ 2.,  2.,  3.,  1.,  5., 10., 10.,  2.,  2.,  0.],\n",
       "       [ 1.,  2.,  0.,  1., 10.,  6.,  1.,  1.,  2.,  0.],\n",
       "       [ 2.,  2.,  1.,  3.,  5.,  1.,  1.,  0.,  2.,  0.]])"
      ]
     },
     "execution_count": 16,
     "metadata": {},
     "output_type": "execute_result"
    }
   ],
   "execution_count": 16
  },
  {
   "metadata": {},
   "cell_type": "code",
   "outputs": [],
   "execution_count": null,
   "source": "",
   "id": "1fa75a7a798452fa"
  }
 ],
 "metadata": {
  "kernelspec": {
   "display_name": "Python 3",
   "language": "python",
   "name": "python3"
  },
  "language_info": {
   "codemirror_mode": {
    "name": "ipython",
    "version": 2
   },
   "file_extension": ".py",
   "mimetype": "text/x-python",
   "name": "python",
   "nbconvert_exporter": "python",
   "pygments_lexer": "ipython2",
   "version": "2.7.6"
  }
 },
 "nbformat": 4,
 "nbformat_minor": 5
}
