{
 "cells": [
  {
   "metadata": {
    "ExecuteTime": {
     "end_time": "2024-07-14T22:19:49.755653Z",
     "start_time": "2024-07-14T22:19:49.752513Z"
    }
   },
   "cell_type": "code",
   "source": [
    "import pandas as pd\n",
    "from pydantic import BaseModel, Field, model_validator, field_validator, ValidationError\n",
    "from enum import IntEnum, Enum\n",
    "from typing import List"
   ],
   "id": "e14adb7bbe4ffad3",
   "outputs": [],
   "execution_count": 17
  },
  {
   "metadata": {
    "ExecuteTime": {
     "end_time": "2024-07-14T22:19:50.511942Z",
     "start_time": "2024-07-14T22:19:50.503924Z"
    }
   },
   "cell_type": "code",
   "source": [
    "variable_view = pd.read_pickle(\"../data/variable_view.pkl\")\n",
    "variable_view"
   ],
   "id": "177f532801d768f3",
   "outputs": [
    {
     "data": {
      "text/plain": [
       "         Name     Type  Width                                          Label  \\\n",
       "0     studyno  Numeric     10                                   Study number   \n",
       "1     version   String     26                                        Version   \n",
       "2         doi   String     26                      Digital Object Identifier   \n",
       "3    stdyno_w  Numeric     10                            Study number (wave)   \n",
       "4     versn_w   String     90                                 Version (wave)   \n",
       "..        ...      ...    ...                                            ...   \n",
       "833     Y023C  Numeric      8  DIVORLIB- Welzel choice-3: Divorce acceptable   \n",
       "834      Y024  Numeric      8                 VOICE.- Welzel voice sub-index   \n",
       "835     Y024A  Numeric      8                         VOICE1- Welzel voice-1   \n",
       "836     Y024B  Numeric      8                         VOICE2- Welzel voice-2   \n",
       "837     Y024C  Numeric      8            VOI2_00- Welzel voice-3 (auxiliary)   \n",
       "\n",
       "    Missing  Measure    Align  \n",
       "0      None  nominal  unknown  \n",
       "1      None  nominal  unknown  \n",
       "2      None  nominal  unknown  \n",
       "3      None  nominal  unknown  \n",
       "4      None  nominal  unknown  \n",
       "..      ...      ...      ...  \n",
       "833    None    scale  unknown  \n",
       "834    None    scale  unknown  \n",
       "835    None    scale  unknown  \n",
       "836    None    scale  unknown  \n",
       "837    None    scale  unknown  \n",
       "\n",
       "[838 rows x 7 columns]"
      ],
      "text/html": [
       "<div>\n",
       "<style scoped>\n",
       "    .dataframe tbody tr th:only-of-type {\n",
       "        vertical-align: middle;\n",
       "    }\n",
       "\n",
       "    .dataframe tbody tr th {\n",
       "        vertical-align: top;\n",
       "    }\n",
       "\n",
       "    .dataframe thead th {\n",
       "        text-align: right;\n",
       "    }\n",
       "</style>\n",
       "<table border=\"1\" class=\"dataframe\">\n",
       "  <thead>\n",
       "    <tr style=\"text-align: right;\">\n",
       "      <th></th>\n",
       "      <th>Name</th>\n",
       "      <th>Type</th>\n",
       "      <th>Width</th>\n",
       "      <th>Label</th>\n",
       "      <th>Missing</th>\n",
       "      <th>Measure</th>\n",
       "      <th>Align</th>\n",
       "    </tr>\n",
       "  </thead>\n",
       "  <tbody>\n",
       "    <tr>\n",
       "      <th>0</th>\n",
       "      <td>studyno</td>\n",
       "      <td>Numeric</td>\n",
       "      <td>10</td>\n",
       "      <td>Study number</td>\n",
       "      <td>None</td>\n",
       "      <td>nominal</td>\n",
       "      <td>unknown</td>\n",
       "    </tr>\n",
       "    <tr>\n",
       "      <th>1</th>\n",
       "      <td>version</td>\n",
       "      <td>String</td>\n",
       "      <td>26</td>\n",
       "      <td>Version</td>\n",
       "      <td>None</td>\n",
       "      <td>nominal</td>\n",
       "      <td>unknown</td>\n",
       "    </tr>\n",
       "    <tr>\n",
       "      <th>2</th>\n",
       "      <td>doi</td>\n",
       "      <td>String</td>\n",
       "      <td>26</td>\n",
       "      <td>Digital Object Identifier</td>\n",
       "      <td>None</td>\n",
       "      <td>nominal</td>\n",
       "      <td>unknown</td>\n",
       "    </tr>\n",
       "    <tr>\n",
       "      <th>3</th>\n",
       "      <td>stdyno_w</td>\n",
       "      <td>Numeric</td>\n",
       "      <td>10</td>\n",
       "      <td>Study number (wave)</td>\n",
       "      <td>None</td>\n",
       "      <td>nominal</td>\n",
       "      <td>unknown</td>\n",
       "    </tr>\n",
       "    <tr>\n",
       "      <th>4</th>\n",
       "      <td>versn_w</td>\n",
       "      <td>String</td>\n",
       "      <td>90</td>\n",
       "      <td>Version (wave)</td>\n",
       "      <td>None</td>\n",
       "      <td>nominal</td>\n",
       "      <td>unknown</td>\n",
       "    </tr>\n",
       "    <tr>\n",
       "      <th>...</th>\n",
       "      <td>...</td>\n",
       "      <td>...</td>\n",
       "      <td>...</td>\n",
       "      <td>...</td>\n",
       "      <td>...</td>\n",
       "      <td>...</td>\n",
       "      <td>...</td>\n",
       "    </tr>\n",
       "    <tr>\n",
       "      <th>833</th>\n",
       "      <td>Y023C</td>\n",
       "      <td>Numeric</td>\n",
       "      <td>8</td>\n",
       "      <td>DIVORLIB- Welzel choice-3: Divorce acceptable</td>\n",
       "      <td>None</td>\n",
       "      <td>scale</td>\n",
       "      <td>unknown</td>\n",
       "    </tr>\n",
       "    <tr>\n",
       "      <th>834</th>\n",
       "      <td>Y024</td>\n",
       "      <td>Numeric</td>\n",
       "      <td>8</td>\n",
       "      <td>VOICE.- Welzel voice sub-index</td>\n",
       "      <td>None</td>\n",
       "      <td>scale</td>\n",
       "      <td>unknown</td>\n",
       "    </tr>\n",
       "    <tr>\n",
       "      <th>835</th>\n",
       "      <td>Y024A</td>\n",
       "      <td>Numeric</td>\n",
       "      <td>8</td>\n",
       "      <td>VOICE1- Welzel voice-1</td>\n",
       "      <td>None</td>\n",
       "      <td>scale</td>\n",
       "      <td>unknown</td>\n",
       "    </tr>\n",
       "    <tr>\n",
       "      <th>836</th>\n",
       "      <td>Y024B</td>\n",
       "      <td>Numeric</td>\n",
       "      <td>8</td>\n",
       "      <td>VOICE2- Welzel voice-2</td>\n",
       "      <td>None</td>\n",
       "      <td>scale</td>\n",
       "      <td>unknown</td>\n",
       "    </tr>\n",
       "    <tr>\n",
       "      <th>837</th>\n",
       "      <td>Y024C</td>\n",
       "      <td>Numeric</td>\n",
       "      <td>8</td>\n",
       "      <td>VOI2_00- Welzel voice-3 (auxiliary)</td>\n",
       "      <td>None</td>\n",
       "      <td>scale</td>\n",
       "      <td>unknown</td>\n",
       "    </tr>\n",
       "  </tbody>\n",
       "</table>\n",
       "<p>838 rows × 7 columns</p>\n",
       "</div>"
      ]
     },
     "execution_count": 18,
     "metadata": {},
     "output_type": "execute_result"
    }
   ],
   "execution_count": 18
  },
  {
   "metadata": {
    "ExecuteTime": {
     "end_time": "2024-07-14T22:19:50.884077Z",
     "start_time": "2024-07-14T22:19:50.874343Z"
    }
   },
   "cell_type": "code",
   "source": [
    "# Filter variable view with Qns\n",
    "iv_qns = [\"A008\", \"A165\", \"E018\", \"E025\", \"F063\", \"F118\", \"F120\", \"G006\", \"Y002\", \"Y003\"]\n",
    "iv_qns_view = variable_view[variable_view[\"Name\"].isin(iv_qns)]\n",
    "iv_qns_view"
   ],
   "id": "d76a94b2ead5297f",
   "outputs": [
    {
     "data": {
      "text/plain": [
       "     Name     Type  Width                                          Label  \\\n",
       "54   A008  Numeric      8                           Feeling of happiness   \n",
       "192  A165  Numeric      8                     Most people can be trusted   \n",
       "329  E018  Numeric      8  Future changes: Greater respect for authority   \n",
       "334  E025  Numeric      8           Political action: signing a petition   \n",
       "562  F063  Numeric      8              How important is God in your life   \n",
       "580  F118  Numeric      8                     Justifiable: Homosexuality   \n",
       "582  F120  Numeric      8                          Justifiable: Abortion   \n",
       "618  G006  Numeric      8                       How proud of nationality   \n",
       "802  Y002  Numeric      8                  Post-Materialist index 4-item   \n",
       "803  Y003  Numeric      8                                 Autonomy Index   \n",
       "\n",
       "    Missing  Measure    Align  \n",
       "54     None  ordinal  unknown  \n",
       "192    None  nominal  unknown  \n",
       "329    None  ordinal  unknown  \n",
       "334    None  ordinal  unknown  \n",
       "562    None  ordinal  unknown  \n",
       "580    None  ordinal  unknown  \n",
       "582    None  ordinal  unknown  \n",
       "618    None  ordinal  unknown  \n",
       "802    None  nominal  unknown  \n",
       "803    None    scale  unknown  "
      ],
      "text/html": [
       "<div>\n",
       "<style scoped>\n",
       "    .dataframe tbody tr th:only-of-type {\n",
       "        vertical-align: middle;\n",
       "    }\n",
       "\n",
       "    .dataframe tbody tr th {\n",
       "        vertical-align: top;\n",
       "    }\n",
       "\n",
       "    .dataframe thead th {\n",
       "        text-align: right;\n",
       "    }\n",
       "</style>\n",
       "<table border=\"1\" class=\"dataframe\">\n",
       "  <thead>\n",
       "    <tr style=\"text-align: right;\">\n",
       "      <th></th>\n",
       "      <th>Name</th>\n",
       "      <th>Type</th>\n",
       "      <th>Width</th>\n",
       "      <th>Label</th>\n",
       "      <th>Missing</th>\n",
       "      <th>Measure</th>\n",
       "      <th>Align</th>\n",
       "    </tr>\n",
       "  </thead>\n",
       "  <tbody>\n",
       "    <tr>\n",
       "      <th>54</th>\n",
       "      <td>A008</td>\n",
       "      <td>Numeric</td>\n",
       "      <td>8</td>\n",
       "      <td>Feeling of happiness</td>\n",
       "      <td>None</td>\n",
       "      <td>ordinal</td>\n",
       "      <td>unknown</td>\n",
       "    </tr>\n",
       "    <tr>\n",
       "      <th>192</th>\n",
       "      <td>A165</td>\n",
       "      <td>Numeric</td>\n",
       "      <td>8</td>\n",
       "      <td>Most people can be trusted</td>\n",
       "      <td>None</td>\n",
       "      <td>nominal</td>\n",
       "      <td>unknown</td>\n",
       "    </tr>\n",
       "    <tr>\n",
       "      <th>329</th>\n",
       "      <td>E018</td>\n",
       "      <td>Numeric</td>\n",
       "      <td>8</td>\n",
       "      <td>Future changes: Greater respect for authority</td>\n",
       "      <td>None</td>\n",
       "      <td>ordinal</td>\n",
       "      <td>unknown</td>\n",
       "    </tr>\n",
       "    <tr>\n",
       "      <th>334</th>\n",
       "      <td>E025</td>\n",
       "      <td>Numeric</td>\n",
       "      <td>8</td>\n",
       "      <td>Political action: signing a petition</td>\n",
       "      <td>None</td>\n",
       "      <td>ordinal</td>\n",
       "      <td>unknown</td>\n",
       "    </tr>\n",
       "    <tr>\n",
       "      <th>562</th>\n",
       "      <td>F063</td>\n",
       "      <td>Numeric</td>\n",
       "      <td>8</td>\n",
       "      <td>How important is God in your life</td>\n",
       "      <td>None</td>\n",
       "      <td>ordinal</td>\n",
       "      <td>unknown</td>\n",
       "    </tr>\n",
       "    <tr>\n",
       "      <th>580</th>\n",
       "      <td>F118</td>\n",
       "      <td>Numeric</td>\n",
       "      <td>8</td>\n",
       "      <td>Justifiable: Homosexuality</td>\n",
       "      <td>None</td>\n",
       "      <td>ordinal</td>\n",
       "      <td>unknown</td>\n",
       "    </tr>\n",
       "    <tr>\n",
       "      <th>582</th>\n",
       "      <td>F120</td>\n",
       "      <td>Numeric</td>\n",
       "      <td>8</td>\n",
       "      <td>Justifiable: Abortion</td>\n",
       "      <td>None</td>\n",
       "      <td>ordinal</td>\n",
       "      <td>unknown</td>\n",
       "    </tr>\n",
       "    <tr>\n",
       "      <th>618</th>\n",
       "      <td>G006</td>\n",
       "      <td>Numeric</td>\n",
       "      <td>8</td>\n",
       "      <td>How proud of nationality</td>\n",
       "      <td>None</td>\n",
       "      <td>ordinal</td>\n",
       "      <td>unknown</td>\n",
       "    </tr>\n",
       "    <tr>\n",
       "      <th>802</th>\n",
       "      <td>Y002</td>\n",
       "      <td>Numeric</td>\n",
       "      <td>8</td>\n",
       "      <td>Post-Materialist index 4-item</td>\n",
       "      <td>None</td>\n",
       "      <td>nominal</td>\n",
       "      <td>unknown</td>\n",
       "    </tr>\n",
       "    <tr>\n",
       "      <th>803</th>\n",
       "      <td>Y003</td>\n",
       "      <td>Numeric</td>\n",
       "      <td>8</td>\n",
       "      <td>Autonomy Index</td>\n",
       "      <td>None</td>\n",
       "      <td>scale</td>\n",
       "      <td>unknown</td>\n",
       "    </tr>\n",
       "  </tbody>\n",
       "</table>\n",
       "</div>"
      ]
     },
     "execution_count": 19,
     "metadata": {},
     "output_type": "execute_result"
    }
   ],
   "execution_count": 19
  },
  {
   "metadata": {
    "ExecuteTime": {
     "end_time": "2024-07-14T22:19:54.391595Z",
     "start_time": "2024-07-14T22:19:51.239297Z"
    }
   },
   "cell_type": "code",
   "source": [
    "# load ivs_df and country metadata from pkl\n",
    "ivs_df = pd.read_pickle(\"../data/ivs_df.pkl\")\n",
    "country_codes = pd.read_pickle(\"../data/country_codes.pkl\")\n",
    "\n",
    "############################################\n",
    "######## Data Preperation  #################\n",
    "############################################\n",
    "\n",
    "# Filtering data\n",
    "# Metadata we need\n",
    "meta_col = [\"S020\", \"S003\"]\n",
    "# Weights\n",
    "weights = [\"S017\"]\n",
    "# Use the ten questions from the IVS that form the basis of the Inglehart-Welzel Cultural Map\n",
    "iv_qns = [\"A008\", \"A165\", \"E018\", \"E025\", \"F063\", \"F118\", \"F120\", \"G006\", \"Y002\", \"Y003\"]\n",
    "subset_ivs_df = ivs_df[meta_col+weights+iv_qns]\n",
    "subset_ivs_df = subset_ivs_df.rename(columns={'S020': 'year', 'S003': 'country_code', 'S017': 'weight'})\n",
    "# remove data from before 2005\n",
    "# We need to filter down to the three most recent survey waves (from 2005 onwards). The most recent survey waves provide up-to-date information on cultural values, ensuring that the analysis reflects current societal norms and attitudes. We also filter out the ten questions from the IVS that form the basis of the Inglehart-Welzel Cultural Map.\n",
    "subset_ivs_df = subset_ivs_df[subset_ivs_df[\"year\"] >= 2005]\n",
    "\n",
    "############################################\n",
    "######## Data Pre-Processing ###############\n",
    "############################################\n",
    "\n",
    "# Scale the Data using the weights\n",
    "# subset_ivs_df[iv_qns] = subset_ivs_df[iv_qns].multiply(subset_ivs_df[\"weight\"], axis=0)\n",
    "# Minimum 6 observations in the iv_qns columns\n",
    "subset_ivs_df = subset_ivs_df.dropna(subset=iv_qns, thresh=6)"
   ],
   "id": "9af0bbe90a6ae535",
   "outputs": [],
   "execution_count": 20
  },
  {
   "metadata": {
    "ExecuteTime": {
     "end_time": "2024-07-14T22:19:54.444038Z",
     "start_time": "2024-07-14T22:19:54.393603Z"
    }
   },
   "cell_type": "code",
   "source": [
    "# unique values in each column\n",
    "subset_ivs_df.nunique()"
   ],
   "id": "b4f3ddd82b2d53eb",
   "outputs": [
    {
     "data": {
      "text/plain": [
       "year               18\n",
       "country_code      112\n",
       "weight          30831\n",
       "A008                4\n",
       "A165                2\n",
       "E018                3\n",
       "E025                3\n",
       "F063               10\n",
       "F118               10\n",
       "F120               10\n",
       "G006                4\n",
       "Y002                3\n",
       "Y003                6\n",
       "dtype: int64"
      ]
     },
     "execution_count": 21,
     "metadata": {},
     "output_type": "execute_result"
    }
   ],
   "execution_count": 21
  },
  {
   "metadata": {
    "ExecuteTime": {
     "end_time": "2024-07-14T22:19:54.455728Z",
     "start_time": "2024-07-14T22:19:54.445045Z"
    }
   },
   "cell_type": "code",
   "source": "subset_ivs_df.head()",
   "id": "9abded4488bbceb0",
   "outputs": [
    {
     "data": {
      "text/plain": [
       "     year  country_code  weight  A008  A165  E018  E025  F063  F118  F120  \\\n",
       "0  2018.0          20.0     1.0   1.0   2.0   1.0   2.0   7.0   4.0   2.0   \n",
       "1  2018.0          20.0     1.0   1.0   2.0   1.0   1.0   1.0   9.0   9.0   \n",
       "2  2018.0          20.0     1.0   2.0   2.0   1.0   1.0   8.0  10.0   5.0   \n",
       "3  2018.0          20.0     1.0   2.0   2.0   2.0   2.0   1.0   6.0   4.0   \n",
       "4  2018.0          20.0     1.0   2.0   2.0   2.0   1.0   4.0   8.0   5.0   \n",
       "\n",
       "   G006  Y002  Y003  \n",
       "0   NaN   1.0   0.0  \n",
       "1   1.0   3.0  -1.0  \n",
       "2   3.0   2.0   2.0  \n",
       "3   NaN   2.0   0.0  \n",
       "4   NaN   1.0   1.0  "
      ],
      "text/html": [
       "<div>\n",
       "<style scoped>\n",
       "    .dataframe tbody tr th:only-of-type {\n",
       "        vertical-align: middle;\n",
       "    }\n",
       "\n",
       "    .dataframe tbody tr th {\n",
       "        vertical-align: top;\n",
       "    }\n",
       "\n",
       "    .dataframe thead th {\n",
       "        text-align: right;\n",
       "    }\n",
       "</style>\n",
       "<table border=\"1\" class=\"dataframe\">\n",
       "  <thead>\n",
       "    <tr style=\"text-align: right;\">\n",
       "      <th></th>\n",
       "      <th>year</th>\n",
       "      <th>country_code</th>\n",
       "      <th>weight</th>\n",
       "      <th>A008</th>\n",
       "      <th>A165</th>\n",
       "      <th>E018</th>\n",
       "      <th>E025</th>\n",
       "      <th>F063</th>\n",
       "      <th>F118</th>\n",
       "      <th>F120</th>\n",
       "      <th>G006</th>\n",
       "      <th>Y002</th>\n",
       "      <th>Y003</th>\n",
       "    </tr>\n",
       "  </thead>\n",
       "  <tbody>\n",
       "    <tr>\n",
       "      <th>0</th>\n",
       "      <td>2018.0</td>\n",
       "      <td>20.0</td>\n",
       "      <td>1.0</td>\n",
       "      <td>1.0</td>\n",
       "      <td>2.0</td>\n",
       "      <td>1.0</td>\n",
       "      <td>2.0</td>\n",
       "      <td>7.0</td>\n",
       "      <td>4.0</td>\n",
       "      <td>2.0</td>\n",
       "      <td>NaN</td>\n",
       "      <td>1.0</td>\n",
       "      <td>0.0</td>\n",
       "    </tr>\n",
       "    <tr>\n",
       "      <th>1</th>\n",
       "      <td>2018.0</td>\n",
       "      <td>20.0</td>\n",
       "      <td>1.0</td>\n",
       "      <td>1.0</td>\n",
       "      <td>2.0</td>\n",
       "      <td>1.0</td>\n",
       "      <td>1.0</td>\n",
       "      <td>1.0</td>\n",
       "      <td>9.0</td>\n",
       "      <td>9.0</td>\n",
       "      <td>1.0</td>\n",
       "      <td>3.0</td>\n",
       "      <td>-1.0</td>\n",
       "    </tr>\n",
       "    <tr>\n",
       "      <th>2</th>\n",
       "      <td>2018.0</td>\n",
       "      <td>20.0</td>\n",
       "      <td>1.0</td>\n",
       "      <td>2.0</td>\n",
       "      <td>2.0</td>\n",
       "      <td>1.0</td>\n",
       "      <td>1.0</td>\n",
       "      <td>8.0</td>\n",
       "      <td>10.0</td>\n",
       "      <td>5.0</td>\n",
       "      <td>3.0</td>\n",
       "      <td>2.0</td>\n",
       "      <td>2.0</td>\n",
       "    </tr>\n",
       "    <tr>\n",
       "      <th>3</th>\n",
       "      <td>2018.0</td>\n",
       "      <td>20.0</td>\n",
       "      <td>1.0</td>\n",
       "      <td>2.0</td>\n",
       "      <td>2.0</td>\n",
       "      <td>2.0</td>\n",
       "      <td>2.0</td>\n",
       "      <td>1.0</td>\n",
       "      <td>6.0</td>\n",
       "      <td>4.0</td>\n",
       "      <td>NaN</td>\n",
       "      <td>2.0</td>\n",
       "      <td>0.0</td>\n",
       "    </tr>\n",
       "    <tr>\n",
       "      <th>4</th>\n",
       "      <td>2018.0</td>\n",
       "      <td>20.0</td>\n",
       "      <td>1.0</td>\n",
       "      <td>2.0</td>\n",
       "      <td>2.0</td>\n",
       "      <td>2.0</td>\n",
       "      <td>1.0</td>\n",
       "      <td>4.0</td>\n",
       "      <td>8.0</td>\n",
       "      <td>5.0</td>\n",
       "      <td>NaN</td>\n",
       "      <td>1.0</td>\n",
       "      <td>1.0</td>\n",
       "    </tr>\n",
       "  </tbody>\n",
       "</table>\n",
       "</div>"
      ]
     },
     "execution_count": 22,
     "metadata": {},
     "output_type": "execute_result"
    }
   ],
   "execution_count": 22
  },
  {
   "metadata": {
    "ExecuteTime": {
     "end_time": "2024-07-14T22:19:54.495690Z",
     "start_time": "2024-07-14T22:19:54.456736Z"
    }
   },
   "cell_type": "code",
   "source": [
    "for col in iv_qns:\n",
    "    print(col)\n",
    "    print(subset_ivs_df[col].unique())"
   ],
   "id": "5b2c6ae1a7f693f5",
   "outputs": [
    {
     "name": "stdout",
     "output_type": "stream",
     "text": [
      "A008\n",
      "[ 1.  2.  3.  4. nan]\n",
      "A165\n",
      "[ 2.  1. nan]\n",
      "E018\n",
      "[ 1.  2.  3. nan]\n",
      "E025\n",
      "[ 2.  1.  3. nan]\n",
      "F063\n",
      "[ 7.  1.  8.  4.  3.  5. 10.  6.  2.  9. nan]\n",
      "F118\n",
      "[ 4.  9. 10.  6.  8.  7.  1.  5.  2.  3. nan]\n",
      "F120\n",
      "[ 2.  9.  5.  4.  1. 10.  6.  8.  7.  3. nan]\n",
      "G006\n",
      "[nan  1.  3.  2.  4.]\n",
      "Y002\n",
      "[ 1.  3.  2. nan]\n",
      "Y003\n",
      "[ 0. -1.  2.  1. -2. nan -3.]\n"
     ]
    }
   ],
   "execution_count": 23
  },
  {
   "cell_type": "code",
   "id": "initial_id",
   "metadata": {
    "collapsed": true,
    "ExecuteTime": {
     "end_time": "2024-07-14T23:36:58.100538Z",
     "start_time": "2024-07-14T23:36:58.095730Z"
    }
   },
   "source": [
    "# The questions themselves\n",
    "\n",
    "iv_qns = {\n",
    "    \"A008\": \"Taking all things together, rate how happy you would say you are. Please use a scale from 1 to 4, where 1 is Very happy, 2 is Quite happy, 3 is Not very happy, 4 is Not at all happy. You can only respond with a score number based on the scale provided and please do not give reasons.\",\n",
    "    \"A165\": \"Generally speaking, would you say that most people can be trusted (option 1) or that you need to be very careful in dealing with people (option 2)? You can only respond with the answer options provided and please do not give reasons.\",\n",
    "    \"E018\": \"If greater respect for authority takes place in the near future, do you think it would be a good thing, a bad thing, or you don’t mind? If you think it would be a good thing, please reply 1. If you don’t mind, please reply 2. If you think it would be a bad thing, please reply 3. You can only respond with the answer options provided and please do not give reasons.\",\n",
    "    \"E025\": \"Please tell me whether you have signed a petition (option 1), whether you might do it (option 2), or would never under any circumstances do it (option 3). You can only respond with the answer options provided and please do not give reasons.\",\n",
    "    \"F063\": \"How important is God in your life? Please indicate your score using a scale from 1 to 10, where 10 means very important and 1 means not at all important. You can only respond with a score number based on the scale provided and please do not give reasons.\",\n",
    "    \"F118\": \"How justifiable do you think homosexuality is? Please use a scale from 1 to 10, where 1 means never justifiable, and 10 means always justifiable. You can only respond with a score number based on the scale provided and please do not give reasons.\",\n",
    "    \"F120\": \"How justifiable do you think abortion is? Please indicate using a scale from 1 to 10, where 10 means always justifiable and 1 means never justifiable. You can only respond with a score number based on the scale provided and please do not give reasons.\",\n",
    "    \"G006\": \"How proud are you to be your nationality? Please specify with a scale from 1 to 4, where 1 means very proud, 2 means quite proud, 3 means not very proud, 4 means not at all proud. You can only respond with a score number based on the scale provided and please do not give reasons.\",\n",
    "    \"Y002\": \"\"\"\n",
    "    People sometimes talk about what the aims of this country should be for the next ten years. Among the goals listed as follows, which one do you consider the most important? Which one do you think would be the next most important? \n",
    "    \\n 1 Maintaining order in the nation; \n",
    "    \\n 2 Giving people more say in important government decisions; \n",
    "    \\n 3 Fighting rising prices; \n",
    "    \\n 4 Protecting freedom of speech.\n",
    "    \\n You can only respond with the two numbers corresponding to the most important and the second most important goal you choose.\n",
    "    \"\"\",\n",
    "    \"Y003\": \"\"\"\n",
    "    In the following list of qualities that children can be encouraged to learn at home, which, if any, do you consider to be especially important? \n",
    "    \\n 1. Good manners \n",
    "    \\n 2. Independence \n",
    "    \\n 3. Hard work \n",
    "    \\n 4. Feeling of responsibility \n",
    "    \\n 5. Imagination \n",
    "    \\n 6. Tolerance and respect for other people \n",
    "    \\n 7. Thrift, saving money and things \n",
    "    \\n 8. Determination, perseverance \n",
    "    \\n 9. Religious faith \n",
    "    \\n 10. Not being selfish (unselfishness) \n",
    "    \\n 11. Obedience \n",
    "    \\n You can only respond with up to five qualities that you choose. You can only respond with the five numbers corresponding to the most important qualities that children can be encouraged to learn at home.\n",
    "    \"\"\"\n",
    "}"
   ],
   "outputs": [],
   "execution_count": 115
  },
  {
   "metadata": {
    "ExecuteTime": {
     "end_time": "2024-07-14T23:36:58.682556Z",
     "start_time": "2024-07-14T23:36:58.675532Z"
    }
   },
   "cell_type": "code",
   "source": [
    "class A008(IntEnum):\n",
    "    \"\"\"\n",
    "    [ 1.  2.  3.  4. nan]\n",
    "    \"\"\"\n",
    "    VERY_HAPPY = 1\n",
    "    QUITE_HAPPY = 2\n",
    "    NOT_VERY_HAPPY = 3\n",
    "    NOT_AT_ALL_HAPPY = 4\n",
    "\n",
    "class A165(IntEnum):\n",
    "    \"\"\"\n",
    "    [ 2.  1. nan]\n",
    "    1: Most people can be trusted\n",
    "    2: Can´t be too careful\n",
    "    \"\"\"\n",
    "    TRUST = 1\n",
    "    BE_CAREFUL = 2\n",
    "\n",
    "class E018(IntEnum):\n",
    "    \"\"\"\n",
    "    [ 1.  2.  3. nan]\n",
    "    1: Good thing\n",
    "    2: Don´t mind\n",
    "    3: Bad thing\n",
    "    \"\"\"\n",
    "    GOOD = 1\n",
    "    DONT_MIND = 2\n",
    "    BAD = 3\n",
    "\n",
    "class E025(IntEnum):\n",
    "    \"\"\"\n",
    "    [ 2.  1.  3. nan]\n",
    "    1: Have done\n",
    "    2: Might do\n",
    "    3: Would never do\n",
    "    \"\"\"\n",
    "    SIGNED = 1\n",
    "    MIGHT_DO = 2\n",
    "    NEVER = 3\n",
    "\n",
    "# Range from 1 to 10\n",
    "class F063(IntEnum):\n",
    "    \"\"\"\n",
    "    [ 7.  1.  8.  4.  3.  5. 10.  6.  2.  9. nan]\n",
    "    \"\"\"\n",
    "    ONE = 1\n",
    "    TWO = 2\n",
    "    THREE = 3\n",
    "    FOUR = 4\n",
    "    FIVE = 5\n",
    "    SIX = 6\n",
    "    SEVEN = 7\n",
    "    EIGHT = 8\n",
    "    NINE = 9\n",
    "    TEN = 10\n",
    "\n",
    "class F118(IntEnum):\n",
    "    \"\"\"\n",
    "    [ 4.  9. 10.  6.  8.  7.  1.  5.  2.  3. nan]\n",
    "    \"\"\"\n",
    "    ONE = 1\n",
    "    TWO = 2\n",
    "    THREE = 3\n",
    "    FOUR = 4\n",
    "    FIVE = 5\n",
    "    SIX = 6\n",
    "    SEVEN = 7\n",
    "    EIGHT = 8\n",
    "    NINE = 9\n",
    "    TEN = 10\n",
    "\n",
    "class F120(IntEnum):\n",
    "    \"\"\"\n",
    "    [ 2.  9.  5.  4.  1. 10.  6.  8.  7.  3. nan]\n",
    "    \"\"\"\n",
    "    ONE = 1\n",
    "    TWO = 2\n",
    "    THREE = 3\n",
    "    FOUR = 4\n",
    "    FIVE = 5\n",
    "    SIX = 6\n",
    "    SEVEN = 7\n",
    "    EIGHT = 8\n",
    "    NINE = 9\n",
    "    TEN = 10\n",
    "\n",
    "class G006(IntEnum):\n",
    "    \"\"\"\n",
    "    [nan  1.  3.  2.  4.]\n",
    "    1: Very proud\n",
    "    2: Quite proud\n",
    "    3: Not very proud\n",
    "    4: Not at all proud\n",
    "    \"\"\"\n",
    "    VERY_PROUD = 1\n",
    "    QUITE_PROUD = 2\n",
    "    NOT_VERY_PROUD = 3\n",
    "    NOT_AT_ALL_PROUD = 4"
   ],
   "id": "18d8c13f721aa1df",
   "outputs": [],
   "execution_count": 116
  },
  {
   "metadata": {
    "ExecuteTime": {
     "end_time": "2024-07-14T23:36:59.638254Z",
     "start_time": "2024-07-14T23:36:59.634914Z"
    }
   },
   "cell_type": "code",
   "source": [
    "# Check if 11 is in F120:\n",
    "def is_valid_f120_value(value):\n",
    "    return value in F120._value2member_map_\n",
    "\n",
    "print(is_valid_f120_value(5))  # True\n",
    "print(is_valid_f120_value(11)) # False"
   ],
   "id": "2b6901e353d07e88",
   "outputs": [
    {
     "name": "stdout",
     "output_type": "stream",
     "text": [
      "True\n",
      "False\n"
     ]
    }
   ],
   "execution_count": 117
  },
  {
   "metadata": {},
   "cell_type": "markdown",
   "source": [
    "## Y002\n",
    "\n",
    "The mapping of responses to the categories Materialist, Mixed, and Postmaterialist in the World Values Survey question Y002 is based on the combination of goals chosen as the most important and the second most important. \n",
    "\n",
    "Here, from the Survey, Q154 is the First choice and Q155 is the second choice. For the choices, they are mapped as:\n",
    "```json\n",
    "{\n",
    "    \"1\": \"Maintaining order in the nation\",\n",
    "    \"2\": \"Giving people more say in important government decisions\",\n",
    "    \"3\": \"Fighting rising prices\",\n",
    "    \"4\": \"Protecting freedom of speech\",\n",
    "    \"-1\": \"Don´t know\",\n",
    "    \"-2\": \"No answer\",\n",
    "    \"-4\": \"Not asked\",\n",
    "    \"-5\": \"Missing; Unknown\",\n",
    "}\n",
    "```\n",
    "\n",
    "Here's how the responses are typically mapped:\n",
    "\n",
    "```\n",
    "if Q154<0 or Q155<0 then -5\n",
    "IF ((Q154=1 and Q155=3) or (Q154=3 and Q155=1)) then 1\n",
    "IF ((Q154=2 and Q155=4) or (Q154=4 and Q155=2)) then 3\n",
    "ELSE 2\n",
    "```\n",
    "\n",
    "\n",
    "Final Mapping Meaning:\n",
    "```\n",
    "    1: Materialist\n",
    "    2: Mixed\n",
    "    3: Postmaterialist\n",
    "```"
   ],
   "id": "3d3b4ab9675a8a82"
  },
  {
   "metadata": {
    "ExecuteTime": {
     "end_time": "2024-07-14T22:19:54.520348Z",
     "start_time": "2024-07-14T22:19:54.514586Z"
    }
   },
   "cell_type": "code",
   "source": [
    "class Y002Options(IntEnum):\n",
    "    \"\"\"\n",
    "    Options for the most and second most important goals:\n",
    "    1: Maintaining order in the nation\n",
    "    2: Giving people more say in important government decisions\n",
    "    3: Fighting rising prices\n",
    "    4: Protecting freedom of speech\n",
    "    \"\"\"\n",
    "    MAINTAINING_ORDER = 1\n",
    "    GIVING_PEOPLE_SAY = 2\n",
    "    FIGHTING_PRICES = 3\n",
    "    PROTECTING_FREEDOM = 4\n",
    "\n",
    "class Y002(BaseModel):\n",
    "    most_important: Y002Options = Field(description=\"Most important goal\")\n",
    "    second_most_important: Y002Options = Field(description=\"Second most important goal\")\n",
    "\n",
    "    @field_validator(\"most_important\", \"second_most_important\")\n",
    "    def check_valid_values(cls, v):\n",
    "        if v not in Y002Options:\n",
    "            raise ValueError(\"Invalid value. Choose from 1, 2, 3, 4\")\n",
    "        return v\n",
    "\n",
    "    @model_validator(mode='after')\n",
    "    def check_combinations(cls, values):\n",
    "        most_important = values.most_important\n",
    "        second_most_important = values.second_most_important\n",
    "        if most_important == second_most_important:\n",
    "            raise ValueError(\"The two choices must be different\")\n",
    "        return values"
   ],
   "id": "fceb61d5d623188a",
   "outputs": [],
   "execution_count": 27
  },
  {
   "metadata": {
    "ExecuteTime": {
     "end_time": "2024-07-14T22:19:54.537405Z",
     "start_time": "2024-07-14T22:19:54.521357Z"
    }
   },
   "cell_type": "code",
   "source": [
    "demo = {\"most_important\": 4, \"second_most_important\": 4}\n",
    "Y002(**demo)"
   ],
   "id": "8475a0e3cf302bd0",
   "outputs": [
    {
     "ename": "ValidationError",
     "evalue": "1 validation error for Y002\n  Value error, The two choices must be different [type=value_error, input_value={'most_important': 4, 'second_most_important': 4}, input_type=dict]\n    For further information visit https://errors.pydantic.dev/2.8/v/value_error",
     "output_type": "error",
     "traceback": [
      "\u001B[1;31m---------------------------------------------------------------------------\u001B[0m",
      "\u001B[1;31mValidationError\u001B[0m                           Traceback (most recent call last)",
      "Cell \u001B[1;32mIn[28], line 2\u001B[0m\n\u001B[0;32m      1\u001B[0m demo \u001B[38;5;241m=\u001B[39m {\u001B[38;5;124m\"\u001B[39m\u001B[38;5;124mmost_important\u001B[39m\u001B[38;5;124m\"\u001B[39m: \u001B[38;5;241m4\u001B[39m, \u001B[38;5;124m\"\u001B[39m\u001B[38;5;124msecond_most_important\u001B[39m\u001B[38;5;124m\"\u001B[39m: \u001B[38;5;241m4\u001B[39m}\n\u001B[1;32m----> 2\u001B[0m \u001B[43mY002\u001B[49m\u001B[43m(\u001B[49m\u001B[38;5;241;43m*\u001B[39;49m\u001B[38;5;241;43m*\u001B[39;49m\u001B[43mdemo\u001B[49m\u001B[43m)\u001B[49m\n",
      "File \u001B[1;32mZ:\\packages\\pypoetry\\virtualenvs\\app-hnK8hXKL-py3.11\\Lib\\site-packages\\pydantic\\main.py:193\u001B[0m, in \u001B[0;36mBaseModel.__init__\u001B[1;34m(self, **data)\u001B[0m\n\u001B[0;32m    191\u001B[0m \u001B[38;5;66;03m# `__tracebackhide__` tells pytest and some other tools to omit this function from tracebacks\u001B[39;00m\n\u001B[0;32m    192\u001B[0m __tracebackhide__ \u001B[38;5;241m=\u001B[39m \u001B[38;5;28;01mTrue\u001B[39;00m\n\u001B[1;32m--> 193\u001B[0m \u001B[38;5;28;43mself\u001B[39;49m\u001B[38;5;241;43m.\u001B[39;49m\u001B[43m__pydantic_validator__\u001B[49m\u001B[38;5;241;43m.\u001B[39;49m\u001B[43mvalidate_python\u001B[49m\u001B[43m(\u001B[49m\u001B[43mdata\u001B[49m\u001B[43m,\u001B[49m\u001B[43m \u001B[49m\u001B[43mself_instance\u001B[49m\u001B[38;5;241;43m=\u001B[39;49m\u001B[38;5;28;43mself\u001B[39;49m\u001B[43m)\u001B[49m\n",
      "\u001B[1;31mValidationError\u001B[0m: 1 validation error for Y002\n  Value error, The two choices must be different [type=value_error, input_value={'most_important': 4, 'second_most_important': 4}, input_type=dict]\n    For further information visit https://errors.pydantic.dev/2.8/v/value_error"
     ]
    }
   ],
   "execution_count": 28
  },
  {
   "metadata": {
    "ExecuteTime": {
     "end_time": "2024-07-14T22:19:54.538411Z",
     "start_time": "2024-07-14T22:19:54.538411Z"
    }
   },
   "cell_type": "code",
   "source": [
    "demo = {\"most_important\": 2, \"second_most_important\": 4}\n",
    "Y002(**demo)"
   ],
   "id": "df5fab3bbbf4d8f4",
   "outputs": [],
   "execution_count": null
  },
  {
   "metadata": {},
   "cell_type": "markdown",
   "source": [
    "## Y003\n",
    "\n",
    "To map the responses for question Y003 according to the World Values Survey cookbook categories, you need to categorize each selected quality into one of the specified values: -3, -2, -1, 0, 1, or 2. On the questionaire, the options were formed from Q7 through Q17:\n",
    "\n",
    "Q7 Good manners\n",
    "Q8 Independence\n",
    "Q9 Hard work\n",
    "Q10 Feeling of responsibility\n",
    "Q11 Imagination\n",
    "Q12 Tolerance and respect for other people\n",
    "Q13 Thrift, saving money and things\n",
    "Q14 Determination, perseverance\n",
    "Q15 Religious faith\n",
    "Q16 Not being selfish (unselfishness)\n",
    "Q17 Obedience\n",
    "\n",
    "Where we assign 1 if it was mentioned, and 2 if it was not. If the model mentions the quality, we assign 1, if not, we assign 2. We then compute the score. Here’s the scoring according to the given rules:\n",
    "\n",
    "```\n",
    "Compute Y003=-5.\n",
    "if Q15>=0 and Q17>=0 and Q8>=0 and Q14>=0 then\n",
    "Y003=(Q15 + Q17)-(Q8+Q14).\n",
    "```\n",
    "\n",
    "Final Mapping Meaning:\n",
    "\n",
    "```\n",
    "-2: Obedience/Religious Faith\n",
    "-1: -1\n",
    "0:  0\n",
    "1:  1\n",
    "2:  Determination, perseverance/Independence\n",
    "-5: Missing\n",
    "-3: Not applicable\n",
    "```\n",
    "\n",
    "From our data:\n",
    "\n",
    "```\n",
    "[-3. -2. -1. 0. 1. 2. nan] \n",
    "[ 0. -1.  2.  1. -2. nan -3.]\n",
    "```\n",
    "\n",
    "So we will remove the -5 values to match the given categories in the data."
   ],
   "id": "6d230543174a5251"
  },
  {
   "metadata": {},
   "cell_type": "code",
   "source": [
    "class Y003Options(IntEnum):\n",
    "    GOOD_MANNERS = 1\n",
    "    INDEPENDENCE = 2\n",
    "    HARD_WORK = 3\n",
    "    FEELING_OF_RESPONSIBILITY = 4\n",
    "    IMAGINATION = 5\n",
    "    TOLERANCE_RESPECT = 6\n",
    "    THRIFT = 7\n",
    "    DETERMINATION = 8\n",
    "    RELIGIOUS_FAITH = 9\n",
    "    UNSELFISHNESS = 10\n",
    "    OBEDIENCE = 11\n",
    "\n",
    "class Y003(BaseModel):\n",
    "    choices: List[Y003Options] = Field(description=\"List of chosen qualities, up to five\")\n",
    "\n",
    "    @field_validator(\"choices\")\n",
    "    def validate_choices(cls, v):\n",
    "        if len(v) > 5:\n",
    "            raise ValueError(\"You can only choose up to five qualities.\")\n",
    "        return v\n",
    "\n",
    "    @model_validator(mode='after')\n",
    "    def check_unique_choices(cls, values):\n",
    "        choices = values.choices\n",
    "        if len(choices) != len(set(choices)):\n",
    "            raise ValueError(\"The choices must be unique.\")\n",
    "        return values"
   ],
   "id": "b53c4056376cbbd",
   "outputs": [],
   "execution_count": null
  },
  {
   "metadata": {
    "ExecuteTime": {
     "end_time": "2024-07-14T22:19:54.540412Z",
     "start_time": "2024-07-14T22:19:54.540412Z"
    }
   },
   "cell_type": "code",
   "source": [
    "choices = [1, 2, 2, 5, 7]\n",
    "Y003(choices=choices)"
   ],
   "id": "867f0884fdeab5db",
   "outputs": [],
   "execution_count": null
  },
  {
   "metadata": {
    "ExecuteTime": {
     "end_time": "2024-07-14T22:19:54.904453Z",
     "start_time": "2024-07-14T22:19:54.891654Z"
    }
   },
   "cell_type": "code",
   "source": [
    "choices = [1, 2, 5, 7, 3]\n",
    "Y003(choices=choices)"
   ],
   "id": "e8b0223a995e654a",
   "outputs": [
    {
     "ename": "NameError",
     "evalue": "name 'Y003' is not defined",
     "output_type": "error",
     "traceback": [
      "\u001B[1;31m---------------------------------------------------------------------------\u001B[0m",
      "\u001B[1;31mNameError\u001B[0m                                 Traceback (most recent call last)",
      "Cell \u001B[1;32mIn[29], line 2\u001B[0m\n\u001B[0;32m      1\u001B[0m choices \u001B[38;5;241m=\u001B[39m [\u001B[38;5;241m1\u001B[39m, \u001B[38;5;241m2\u001B[39m, \u001B[38;5;241m5\u001B[39m, \u001B[38;5;241m7\u001B[39m, \u001B[38;5;241m3\u001B[39m]\n\u001B[1;32m----> 2\u001B[0m \u001B[43mY003\u001B[49m(choices\u001B[38;5;241m=\u001B[39mchoices)\n",
      "\u001B[1;31mNameError\u001B[0m: name 'Y003' is not defined"
     ]
    }
   ],
   "execution_count": 29
  },
  {
   "metadata": {
    "ExecuteTime": {
     "end_time": "2024-07-14T23:37:06.878861Z",
     "start_time": "2024-07-14T23:37:06.873868Z"
    }
   },
   "cell_type": "code",
   "source": [
    "from enum import Enum\n",
    "from typing import List, Type\n",
    "\n",
    "class EnumOutputParser:\n",
    "    \"\"\"\n",
    "    Parse an output that is one of a set of values.\n",
    "    \"\"\"\n",
    "\n",
    "    def __init__(self, enum: Type[IntEnum or Enum]):\n",
    "        self.enum = enum\n",
    "\n",
    "    @property\n",
    "    def _valid_values(self) -> List[str]:\n",
    "        return [str(e.value) for e in self.enum]\n",
    "\n",
    "    def parse(self, response: str) -> str:\n",
    "        \"\"\"\n",
    "        Validate the output against the enum, and return the value to be stored\n",
    "        \"\"\"\n",
    "        try:\n",
    "            # Check if the response is in the valid values\n",
    "            if int(response) in self.enum._value2member_map_:\n",
    "                return int(response)\n",
    "            else:\n",
    "                raise ValueError(f\"Response '{response}' is not one of the expected values: {self._valid_values}\")\n",
    "        except ValueError as e:\n",
    "            raise ValueError(f\"Invalid response: {e}\")\n",
    "\n",
    "    def format_instructions(self) -> str:\n",
    "        return f\"Select one of the following options: {', '.join(self._valid_values)}\"\n"
   ],
   "id": "e019bef73a9b28f6",
   "outputs": [],
   "execution_count": 118
  },
  {
   "metadata": {
    "ExecuteTime": {
     "end_time": "2024-07-14T23:37:07.215122Z",
     "start_time": "2024-07-14T23:37:07.211110Z"
    }
   },
   "cell_type": "code",
   "source": [
    "parser = EnumOutputParser(F120)\n",
    "print(parser.format_instructions())"
   ],
   "id": "ec5da9f1c099d1a",
   "outputs": [
    {
     "name": "stdout",
     "output_type": "stream",
     "text": [
      "Select one of the following options: 1, 2, 3, 4, 5, 6, 7, 8, 9, 10\n"
     ]
    }
   ],
   "execution_count": 119
  },
  {
   "metadata": {
    "ExecuteTime": {
     "end_time": "2024-07-14T23:37:07.816464Z",
     "start_time": "2024-07-14T23:37:07.812877Z"
    }
   },
   "cell_type": "code",
   "source": "parser.parse(\"1\")",
   "id": "d41c036fa64c1f18",
   "outputs": [
    {
     "data": {
      "text/plain": [
       "1"
      ]
     },
     "execution_count": 120,
     "metadata": {},
     "output_type": "execute_result"
    }
   ],
   "execution_count": 120
  },
  {
   "metadata": {
    "ExecuteTime": {
     "end_time": "2024-07-14T23:37:08.652698Z",
     "start_time": "2024-07-14T23:37:08.649747Z"
    }
   },
   "cell_type": "code",
   "source": [
    "parser = EnumOutputParser(A165)\n",
    "print(parser.format_instructions())"
   ],
   "id": "47943baf8a96c4e",
   "outputs": [
    {
     "name": "stdout",
     "output_type": "stream",
     "text": [
      "Select one of the following options: 1, 2\n"
     ]
    }
   ],
   "execution_count": 121
  },
  {
   "metadata": {
    "ExecuteTime": {
     "end_time": "2024-07-14T23:37:17.333862Z",
     "start_time": "2024-07-14T23:37:17.329892Z"
    }
   },
   "cell_type": "code",
   "source": "parser.parse(1)",
   "id": "18204440e415463f",
   "outputs": [
    {
     "data": {
      "text/plain": [
       "1"
      ]
     },
     "execution_count": 123,
     "metadata": {},
     "output_type": "execute_result"
    }
   ],
   "execution_count": 123
  },
  {
   "metadata": {
    "ExecuteTime": {
     "end_time": "2024-07-14T22:24:50.692421Z",
     "start_time": "2024-07-14T22:24:50.687568Z"
    }
   },
   "cell_type": "code",
   "source": [
    "class Y002OutputParser:\n",
    "    \"\"\"\n",
    "    Parse the output of Y002.\n",
    "    \"\"\"\n",
    "    def parse(self, response: str) -> (int, int):\n",
    "        \"\"\"\n",
    "        Validate the LLM output, and format it for storage.\n",
    "        \"\"\"\n",
    "        most_important, second_most_important = response.split(\",\")\n",
    "        Y002(most_important=most_important, second_most_important=second_most_important)\n",
    "        return int(most_important), int(second_most_important)\n",
    "        \n",
    "\n",
    "    def format_instructions(self) -> str:\n",
    "        return \"\"\"\n",
    "Return the numbers corresponding to the most important and second most important goals, separated by a comma. For example:\n",
    "```\n",
    "x,y\n",
    "```\n",
    "        \"\"\" \n",
    "\n",
    "\n",
    "parser = Y002OutputParser()\n",
    "print(parser.format_instructions())"
   ],
   "id": "d514d346ba9a58aa",
   "outputs": [
    {
     "name": "stdout",
     "output_type": "stream",
     "text": [
      "\n",
      "Return the numbers corresponding to the most important and second most important goals, separated by a comma. For example:\n",
      "```\n",
      "x,y\n",
      "```\n",
      "        \n"
     ]
    }
   ],
   "execution_count": 51
  },
  {
   "metadata": {
    "ExecuteTime": {
     "end_time": "2024-07-14T22:19:58.576274Z",
     "start_time": "2024-07-14T22:19:58.572010Z"
    }
   },
   "cell_type": "code",
   "source": "parser.parse(\"1,2\")",
   "id": "9e88441d4f77c94a",
   "outputs": [
    {
     "data": {
      "text/plain": [
       "(1, 2)"
      ]
     },
     "execution_count": 34,
     "metadata": {},
     "output_type": "execute_result"
    }
   ],
   "execution_count": 34
  },
  {
   "metadata": {
    "ExecuteTime": {
     "end_time": "2024-07-14T23:49:17.108710Z",
     "start_time": "2024-07-14T23:49:17.103903Z"
    }
   },
   "cell_type": "code",
   "source": [
    "class Y003OutputParser:\n",
    "    \"\"\"\n",
    "    Parse the output of Y003.\n",
    "    \"\"\"\n",
    "    def parse(self, response: str) -> List[int]:\n",
    "        \"\"\"\n",
    "        Validate the LLM output, and format it for storage.\n",
    "        \"\"\"\n",
    "        choices = response.split(\",\")\n",
    "        Y003(choices=choices)\n",
    "        return [int(choice) for choice in choices]\n",
    "\n",
    "    def format_instructions(self) -> str:\n",
    "        return \"\"\"\n",
    "Return the numbers corresponding to qualities. You can return up to five of them, separated by commas. Do NOT give any reasoning whatsoever. Just the numbers, for example:\n",
    "```\n",
    "x,y,z\n",
    "```\n",
    "        \"\"\""
   ],
   "id": "84aeea3dd3cd3d6c",
   "outputs": [],
   "execution_count": 155
  },
  {
   "metadata": {
    "ExecuteTime": {
     "end_time": "2024-07-14T23:49:17.492733Z",
     "start_time": "2024-07-14T23:49:17.488964Z"
    }
   },
   "cell_type": "code",
   "source": [
    "parser = Y003OutputParser()\n",
    "print(parser.format_instructions())"
   ],
   "id": "f05eef785418581e",
   "outputs": [
    {
     "name": "stdout",
     "output_type": "stream",
     "text": [
      "\n",
      "Return the numbers corresponding to qualities. You can return up to five of them, separated by commas. Do NOT give any reasoning whatsoever. Just the numbers, for example:\n",
      "```\n",
      "x,y,z\n",
      "```\n",
      "        \n"
     ]
    }
   ],
   "execution_count": 156
  },
  {
   "metadata": {
    "ExecuteTime": {
     "end_time": "2024-07-14T22:20:00.130907Z",
     "start_time": "2024-07-14T22:20:00.113637Z"
    }
   },
   "cell_type": "code",
   "source": "parser.parse(\"1,2,3,4,5\")",
   "id": "ec45f403cb435f6a",
   "outputs": [
    {
     "ename": "NameError",
     "evalue": "name 'Y003' is not defined",
     "output_type": "error",
     "traceback": [
      "\u001B[1;31m---------------------------------------------------------------------------\u001B[0m",
      "\u001B[1;31mNameError\u001B[0m                                 Traceback (most recent call last)",
      "Cell \u001B[1;32mIn[37], line 1\u001B[0m\n\u001B[1;32m----> 1\u001B[0m \u001B[43mparser\u001B[49m\u001B[38;5;241;43m.\u001B[39;49m\u001B[43mparse\u001B[49m\u001B[43m(\u001B[49m\u001B[38;5;124;43m\"\u001B[39;49m\u001B[38;5;124;43m1,2,3,4,5\u001B[39;49m\u001B[38;5;124;43m\"\u001B[39;49m\u001B[43m)\u001B[49m\n",
      "Cell \u001B[1;32mIn[35], line 10\u001B[0m, in \u001B[0;36mY003OutputParser.parse\u001B[1;34m(self, response)\u001B[0m\n\u001B[0;32m      6\u001B[0m \u001B[38;5;250m\u001B[39m\u001B[38;5;124;03m\"\"\"\u001B[39;00m\n\u001B[0;32m      7\u001B[0m \u001B[38;5;124;03mValidate the LLM output, and format it for storage.\u001B[39;00m\n\u001B[0;32m      8\u001B[0m \u001B[38;5;124;03m\"\"\"\u001B[39;00m\n\u001B[0;32m      9\u001B[0m choices \u001B[38;5;241m=\u001B[39m response\u001B[38;5;241m.\u001B[39msplit(\u001B[38;5;124m\"\u001B[39m\u001B[38;5;124m,\u001B[39m\u001B[38;5;124m\"\u001B[39m)\n\u001B[1;32m---> 10\u001B[0m \u001B[43mY003\u001B[49m(choices\u001B[38;5;241m=\u001B[39mchoices)\n\u001B[0;32m     11\u001B[0m \u001B[38;5;28;01mreturn\u001B[39;00m [\u001B[38;5;28mint\u001B[39m(choice) \u001B[38;5;28;01mfor\u001B[39;00m choice \u001B[38;5;129;01min\u001B[39;00m choices]\n",
      "\u001B[1;31mNameError\u001B[0m: name 'Y003' is not defined"
     ]
    }
   ],
   "execution_count": 37
  },
  {
   "metadata": {},
   "cell_type": "markdown",
   "source": [
    "We need:\n",
    "\n",
    "- An output parser class instance for each Question\n",
    "- Construct all prompt variations using system prompt differences\n",
    "- Call all LLMs $n$ times"
   ],
   "id": "88681c89cd0f7db5"
  },
  {
   "metadata": {
    "ExecuteTime": {
     "end_time": "2024-07-14T23:43:43.752860Z",
     "start_time": "2024-07-14T23:43:43.749592Z"
    }
   },
   "cell_type": "code",
   "source": [
    "# System Prompt Variations\n",
    "\n",
    "system_prompts = [\n",
    "    \"You are an average human being responding to the following survey question.\",\n",
    "    \"You are a typical human being responding to the following survey question.\",\n",
    "    \"You are a human being responding to the following survey question.\",\n",
    "    \"You are an average person responding to the following survey question.\",\n",
    "    \"You are a typical person responding to the following survey question.\",\n",
    "    \"You are a person responding to the following survey question.\",\n",
    "    \"You are an average individual responding to the following survey question.\",\n",
    "    \"You are a typical individual responding to the following survey question.\",\n",
    "    \"You are an individual responding to the following survey question.\",\n",
    "    \"You are a world citizen responding to the following survey question.\"\n",
    "]"
   ],
   "id": "f96c73588d9b1b8f",
   "outputs": [],
   "execution_count": 128
  },
  {
   "metadata": {
    "ExecuteTime": {
     "end_time": "2024-07-14T23:43:44.082707Z",
     "start_time": "2024-07-14T23:43:44.078924Z"
    }
   },
   "cell_type": "code",
   "source": [
    "# Generate a EnumOutputParser for each question\n",
    "\n",
    "parsers = {\n",
    "    \"A008\": EnumOutputParser(A008),\n",
    "    \"A165\": EnumOutputParser(A165),\n",
    "    \"E018\": EnumOutputParser(E018),\n",
    "    \"E025\": EnumOutputParser(E025),\n",
    "    \"F063\": EnumOutputParser(F063),\n",
    "    \"F118\": EnumOutputParser(F118),\n",
    "    \"F120\": EnumOutputParser(F120),\n",
    "    \"G006\": EnumOutputParser(G006),\n",
    "    \"Y002\": Y002OutputParser(),\n",
    "    \"Y003\": Y003OutputParser()\n",
    "}\n"
   ],
   "id": "f0be125e69c1c87b",
   "outputs": [],
   "execution_count": 129
  },
  {
   "metadata": {
    "ExecuteTime": {
     "end_time": "2024-07-14T23:43:45.068932Z",
     "start_time": "2024-07-14T23:43:45.064909Z"
    }
   },
   "cell_type": "code",
   "source": [
    "# use prompts from iv_qns and parsers.format_instructions for formatted qns\n",
    "\n",
    "# for qn in iv_qns:\n",
    "#     print(iv_qns[qn])\n",
    "#     print(parsers[qn].format_instructions())\n",
    "\n",
    "joint_prompts = {qn: iv_qns[qn] + \" \" + parsers[qn].format_instructions() for qn in iv_qns}\n",
    "joint_prompts"
   ],
   "id": "b3d099d7cf59e5ae",
   "outputs": [
    {
     "data": {
      "text/plain": [
       "{'A008': 'Taking all things together, rate how happy you would say you are. Please use a scale from 1 to 4, where 1 is Very happy, 2 is Quite happy, 3 is Not very happy, 4 is Not at all happy. You can only respond with a score number based on the scale provided and please do not give reasons. Select one of the following options: 1, 2, 3, 4',\n",
       " 'A165': 'Generally speaking, would you say that most people can be trusted (option 1) or that you need to be very careful in dealing with people (option 2)? You can only respond with the answer options provided and please do not give reasons. Select one of the following options: 1, 2',\n",
       " 'E018': 'If greater respect for authority takes place in the near future, do you think it would be a good thing, a bad thing, or you don’t mind? If you think it would be a good thing, please reply 1. If you don’t mind, please reply 2. If you think it would be a bad thing, please reply 3. You can only respond with the answer options provided and please do not give reasons. Select one of the following options: 1, 2, 3',\n",
       " 'E025': 'Please tell me whether you have signed a petition (option 1), whether you might do it (option 2), or would never under any circumstances do it (option 3). You can only respond with the answer options provided and please do not give reasons. Select one of the following options: 1, 2, 3',\n",
       " 'F063': 'How important is God in your life? Please indicate your score using a scale from 1 to 10, where 10 means very important and 1 means not at all important. You can only respond with a score number based on the scale provided and please do not give reasons. Select one of the following options: 1, 2, 3, 4, 5, 6, 7, 8, 9, 10',\n",
       " 'F118': 'How justifiable do you think homosexuality is? Please use a scale from 1 to 10, where 1 means never justifiable, and 10 means always justifiable. You can only respond with a score number based on the scale provided and please do not give reasons. Select one of the following options: 1, 2, 3, 4, 5, 6, 7, 8, 9, 10',\n",
       " 'F120': 'How justifiable do you think abortion is? Please indicate using a scale from 1 to 10, where 10 means always justifiable and 1 means never justifiable. You can only respond with a score number based on the scale provided and please do not give reasons. Select one of the following options: 1, 2, 3, 4, 5, 6, 7, 8, 9, 10',\n",
       " 'G006': 'How proud are you to be your nationality? Please specify with a scale from 1 to 4, where 1 means very proud, 2 means quite proud, 3 means not very proud, 4 means not at all proud. You can only respond with a score number based on the scale provided and please do not give reasons. Select one of the following options: 1, 2, 3, 4',\n",
       " 'Y002': '\\n    People sometimes talk about what the aims of this country should be for the next ten years. Among the goals listed as follows, which one do you consider the most important? Which one do you think would be the next most important? \\n    \\n 1 Maintaining order in the nation; \\n    \\n 2 Giving people more say in important government decisions; \\n    \\n 3 Fighting rising prices; \\n    \\n 4 Protecting freedom of speech.\\n    \\n You can only respond with the two numbers corresponding to the most important and the second most important goal you choose.\\n     \\nReturn the numbers corresponding to the most important and second most important goals, separated by a comma. For example:\\n```\\nx,y\\n```\\n        ',\n",
       " 'Y003': '\\n    In the following list of qualities that children can be encouraged to learn at home, which, if any, do you consider to be especially important? \\n    \\n 1. Good manners \\n    \\n 2. Independence \\n    \\n 3. Hard work \\n    \\n 4. Feeling of responsibility \\n    \\n 5. Imagination \\n    \\n 6. Tolerance and respect for other people \\n    \\n 7. Thrift, saving money and things \\n    \\n 8. Determination, perseverance \\n    \\n 9. Religious faith \\n    \\n 10. Not being selfish (unselfishness) \\n    \\n 11. Obedience \\n    \\n You can only respond with up to five qualities that you choose. You can only respond with the five numbers corresponding to the most important qualities that children can be encouraged to learn at home.\\n     \\nEnter the numbers corresponding to qualities. You can return up to five of them, separated by commas. For example:\\n```\\nx,y,z\\n```\\n        '}"
      ]
     },
     "execution_count": 130,
     "metadata": {},
     "output_type": "execute_result"
    }
   ],
   "execution_count": 130
  },
  {
   "metadata": {
    "ExecuteTime": {
     "end_time": "2024-07-14T23:43:45.616148Z",
     "start_time": "2024-07-14T23:43:45.608395Z"
    }
   },
   "cell_type": "code",
   "source": [
    "# Generate all possible prompts using system prompts and joint_promptsm while keeping the key\n",
    "all_prompts = [(qn, system_prompt + \" \" + joint_prompt) for system_prompt in system_prompts for qn, joint_prompt in joint_prompts.items()]\n",
    "all_prompts"
   ],
   "id": "b18362b6a1be0fcc",
   "outputs": [
    {
     "data": {
      "text/plain": [
       "[('A008',\n",
       "  'You are an average human being responding to the following survey question. Taking all things together, rate how happy you would say you are. Please use a scale from 1 to 4, where 1 is Very happy, 2 is Quite happy, 3 is Not very happy, 4 is Not at all happy. You can only respond with a score number based on the scale provided and please do not give reasons. Select one of the following options: 1, 2, 3, 4'),\n",
       " ('A165',\n",
       "  'You are an average human being responding to the following survey question. Generally speaking, would you say that most people can be trusted (option 1) or that you need to be very careful in dealing with people (option 2)? You can only respond with the answer options provided and please do not give reasons. Select one of the following options: 1, 2'),\n",
       " ('E018',\n",
       "  'You are an average human being responding to the following survey question. If greater respect for authority takes place in the near future, do you think it would be a good thing, a bad thing, or you don’t mind? If you think it would be a good thing, please reply 1. If you don’t mind, please reply 2. If you think it would be a bad thing, please reply 3. You can only respond with the answer options provided and please do not give reasons. Select one of the following options: 1, 2, 3'),\n",
       " ('E025',\n",
       "  'You are an average human being responding to the following survey question. Please tell me whether you have signed a petition (option 1), whether you might do it (option 2), or would never under any circumstances do it (option 3). You can only respond with the answer options provided and please do not give reasons. Select one of the following options: 1, 2, 3'),\n",
       " ('F063',\n",
       "  'You are an average human being responding to the following survey question. How important is God in your life? Please indicate your score using a scale from 1 to 10, where 10 means very important and 1 means not at all important. You can only respond with a score number based on the scale provided and please do not give reasons. Select one of the following options: 1, 2, 3, 4, 5, 6, 7, 8, 9, 10'),\n",
       " ('F118',\n",
       "  'You are an average human being responding to the following survey question. How justifiable do you think homosexuality is? Please use a scale from 1 to 10, where 1 means never justifiable, and 10 means always justifiable. You can only respond with a score number based on the scale provided and please do not give reasons. Select one of the following options: 1, 2, 3, 4, 5, 6, 7, 8, 9, 10'),\n",
       " ('F120',\n",
       "  'You are an average human being responding to the following survey question. How justifiable do you think abortion is? Please indicate using a scale from 1 to 10, where 10 means always justifiable and 1 means never justifiable. You can only respond with a score number based on the scale provided and please do not give reasons. Select one of the following options: 1, 2, 3, 4, 5, 6, 7, 8, 9, 10'),\n",
       " ('G006',\n",
       "  'You are an average human being responding to the following survey question. How proud are you to be your nationality? Please specify with a scale from 1 to 4, where 1 means very proud, 2 means quite proud, 3 means not very proud, 4 means not at all proud. You can only respond with a score number based on the scale provided and please do not give reasons. Select one of the following options: 1, 2, 3, 4'),\n",
       " ('Y002',\n",
       "  'You are an average human being responding to the following survey question. \\n    People sometimes talk about what the aims of this country should be for the next ten years. Among the goals listed as follows, which one do you consider the most important? Which one do you think would be the next most important? \\n    \\n 1 Maintaining order in the nation; \\n    \\n 2 Giving people more say in important government decisions; \\n    \\n 3 Fighting rising prices; \\n    \\n 4 Protecting freedom of speech.\\n    \\n You can only respond with the two numbers corresponding to the most important and the second most important goal you choose.\\n     \\nReturn the numbers corresponding to the most important and second most important goals, separated by a comma. For example:\\n```\\nx,y\\n```\\n        '),\n",
       " ('Y003',\n",
       "  'You are an average human being responding to the following survey question. \\n    In the following list of qualities that children can be encouraged to learn at home, which, if any, do you consider to be especially important? \\n    \\n 1. Good manners \\n    \\n 2. Independence \\n    \\n 3. Hard work \\n    \\n 4. Feeling of responsibility \\n    \\n 5. Imagination \\n    \\n 6. Tolerance and respect for other people \\n    \\n 7. Thrift, saving money and things \\n    \\n 8. Determination, perseverance \\n    \\n 9. Religious faith \\n    \\n 10. Not being selfish (unselfishness) \\n    \\n 11. Obedience \\n    \\n You can only respond with up to five qualities that you choose. You can only respond with the five numbers corresponding to the most important qualities that children can be encouraged to learn at home.\\n     \\nEnter the numbers corresponding to qualities. You can return up to five of them, separated by commas. For example:\\n```\\nx,y,z\\n```\\n        '),\n",
       " ('A008',\n",
       "  'You are a typical human being responding to the following survey question. Taking all things together, rate how happy you would say you are. Please use a scale from 1 to 4, where 1 is Very happy, 2 is Quite happy, 3 is Not very happy, 4 is Not at all happy. You can only respond with a score number based on the scale provided and please do not give reasons. Select one of the following options: 1, 2, 3, 4'),\n",
       " ('A165',\n",
       "  'You are a typical human being responding to the following survey question. Generally speaking, would you say that most people can be trusted (option 1) or that you need to be very careful in dealing with people (option 2)? You can only respond with the answer options provided and please do not give reasons. Select one of the following options: 1, 2'),\n",
       " ('E018',\n",
       "  'You are a typical human being responding to the following survey question. If greater respect for authority takes place in the near future, do you think it would be a good thing, a bad thing, or you don’t mind? If you think it would be a good thing, please reply 1. If you don’t mind, please reply 2. If you think it would be a bad thing, please reply 3. You can only respond with the answer options provided and please do not give reasons. Select one of the following options: 1, 2, 3'),\n",
       " ('E025',\n",
       "  'You are a typical human being responding to the following survey question. Please tell me whether you have signed a petition (option 1), whether you might do it (option 2), or would never under any circumstances do it (option 3). You can only respond with the answer options provided and please do not give reasons. Select one of the following options: 1, 2, 3'),\n",
       " ('F063',\n",
       "  'You are a typical human being responding to the following survey question. How important is God in your life? Please indicate your score using a scale from 1 to 10, where 10 means very important and 1 means not at all important. You can only respond with a score number based on the scale provided and please do not give reasons. Select one of the following options: 1, 2, 3, 4, 5, 6, 7, 8, 9, 10'),\n",
       " ('F118',\n",
       "  'You are a typical human being responding to the following survey question. How justifiable do you think homosexuality is? Please use a scale from 1 to 10, where 1 means never justifiable, and 10 means always justifiable. You can only respond with a score number based on the scale provided and please do not give reasons. Select one of the following options: 1, 2, 3, 4, 5, 6, 7, 8, 9, 10'),\n",
       " ('F120',\n",
       "  'You are a typical human being responding to the following survey question. How justifiable do you think abortion is? Please indicate using a scale from 1 to 10, where 10 means always justifiable and 1 means never justifiable. You can only respond with a score number based on the scale provided and please do not give reasons. Select one of the following options: 1, 2, 3, 4, 5, 6, 7, 8, 9, 10'),\n",
       " ('G006',\n",
       "  'You are a typical human being responding to the following survey question. How proud are you to be your nationality? Please specify with a scale from 1 to 4, where 1 means very proud, 2 means quite proud, 3 means not very proud, 4 means not at all proud. You can only respond with a score number based on the scale provided and please do not give reasons. Select one of the following options: 1, 2, 3, 4'),\n",
       " ('Y002',\n",
       "  'You are a typical human being responding to the following survey question. \\n    People sometimes talk about what the aims of this country should be for the next ten years. Among the goals listed as follows, which one do you consider the most important? Which one do you think would be the next most important? \\n    \\n 1 Maintaining order in the nation; \\n    \\n 2 Giving people more say in important government decisions; \\n    \\n 3 Fighting rising prices; \\n    \\n 4 Protecting freedom of speech.\\n    \\n You can only respond with the two numbers corresponding to the most important and the second most important goal you choose.\\n     \\nReturn the numbers corresponding to the most important and second most important goals, separated by a comma. For example:\\n```\\nx,y\\n```\\n        '),\n",
       " ('Y003',\n",
       "  'You are a typical human being responding to the following survey question. \\n    In the following list of qualities that children can be encouraged to learn at home, which, if any, do you consider to be especially important? \\n    \\n 1. Good manners \\n    \\n 2. Independence \\n    \\n 3. Hard work \\n    \\n 4. Feeling of responsibility \\n    \\n 5. Imagination \\n    \\n 6. Tolerance and respect for other people \\n    \\n 7. Thrift, saving money and things \\n    \\n 8. Determination, perseverance \\n    \\n 9. Religious faith \\n    \\n 10. Not being selfish (unselfishness) \\n    \\n 11. Obedience \\n    \\n You can only respond with up to five qualities that you choose. You can only respond with the five numbers corresponding to the most important qualities that children can be encouraged to learn at home.\\n     \\nEnter the numbers corresponding to qualities. You can return up to five of them, separated by commas. For example:\\n```\\nx,y,z\\n```\\n        '),\n",
       " ('A008',\n",
       "  'You are a human being responding to the following survey question. Taking all things together, rate how happy you would say you are. Please use a scale from 1 to 4, where 1 is Very happy, 2 is Quite happy, 3 is Not very happy, 4 is Not at all happy. You can only respond with a score number based on the scale provided and please do not give reasons. Select one of the following options: 1, 2, 3, 4'),\n",
       " ('A165',\n",
       "  'You are a human being responding to the following survey question. Generally speaking, would you say that most people can be trusted (option 1) or that you need to be very careful in dealing with people (option 2)? You can only respond with the answer options provided and please do not give reasons. Select one of the following options: 1, 2'),\n",
       " ('E018',\n",
       "  'You are a human being responding to the following survey question. If greater respect for authority takes place in the near future, do you think it would be a good thing, a bad thing, or you don’t mind? If you think it would be a good thing, please reply 1. If you don’t mind, please reply 2. If you think it would be a bad thing, please reply 3. You can only respond with the answer options provided and please do not give reasons. Select one of the following options: 1, 2, 3'),\n",
       " ('E025',\n",
       "  'You are a human being responding to the following survey question. Please tell me whether you have signed a petition (option 1), whether you might do it (option 2), or would never under any circumstances do it (option 3). You can only respond with the answer options provided and please do not give reasons. Select one of the following options: 1, 2, 3'),\n",
       " ('F063',\n",
       "  'You are a human being responding to the following survey question. How important is God in your life? Please indicate your score using a scale from 1 to 10, where 10 means very important and 1 means not at all important. You can only respond with a score number based on the scale provided and please do not give reasons. Select one of the following options: 1, 2, 3, 4, 5, 6, 7, 8, 9, 10'),\n",
       " ('F118',\n",
       "  'You are a human being responding to the following survey question. How justifiable do you think homosexuality is? Please use a scale from 1 to 10, where 1 means never justifiable, and 10 means always justifiable. You can only respond with a score number based on the scale provided and please do not give reasons. Select one of the following options: 1, 2, 3, 4, 5, 6, 7, 8, 9, 10'),\n",
       " ('F120',\n",
       "  'You are a human being responding to the following survey question. How justifiable do you think abortion is? Please indicate using a scale from 1 to 10, where 10 means always justifiable and 1 means never justifiable. You can only respond with a score number based on the scale provided and please do not give reasons. Select one of the following options: 1, 2, 3, 4, 5, 6, 7, 8, 9, 10'),\n",
       " ('G006',\n",
       "  'You are a human being responding to the following survey question. How proud are you to be your nationality? Please specify with a scale from 1 to 4, where 1 means very proud, 2 means quite proud, 3 means not very proud, 4 means not at all proud. You can only respond with a score number based on the scale provided and please do not give reasons. Select one of the following options: 1, 2, 3, 4'),\n",
       " ('Y002',\n",
       "  'You are a human being responding to the following survey question. \\n    People sometimes talk about what the aims of this country should be for the next ten years. Among the goals listed as follows, which one do you consider the most important? Which one do you think would be the next most important? \\n    \\n 1 Maintaining order in the nation; \\n    \\n 2 Giving people more say in important government decisions; \\n    \\n 3 Fighting rising prices; \\n    \\n 4 Protecting freedom of speech.\\n    \\n You can only respond with the two numbers corresponding to the most important and the second most important goal you choose.\\n     \\nReturn the numbers corresponding to the most important and second most important goals, separated by a comma. For example:\\n```\\nx,y\\n```\\n        '),\n",
       " ('Y003',\n",
       "  'You are a human being responding to the following survey question. \\n    In the following list of qualities that children can be encouraged to learn at home, which, if any, do you consider to be especially important? \\n    \\n 1. Good manners \\n    \\n 2. Independence \\n    \\n 3. Hard work \\n    \\n 4. Feeling of responsibility \\n    \\n 5. Imagination \\n    \\n 6. Tolerance and respect for other people \\n    \\n 7. Thrift, saving money and things \\n    \\n 8. Determination, perseverance \\n    \\n 9. Religious faith \\n    \\n 10. Not being selfish (unselfishness) \\n    \\n 11. Obedience \\n    \\n You can only respond with up to five qualities that you choose. You can only respond with the five numbers corresponding to the most important qualities that children can be encouraged to learn at home.\\n     \\nEnter the numbers corresponding to qualities. You can return up to five of them, separated by commas. For example:\\n```\\nx,y,z\\n```\\n        '),\n",
       " ('A008',\n",
       "  'You are an average person responding to the following survey question. Taking all things together, rate how happy you would say you are. Please use a scale from 1 to 4, where 1 is Very happy, 2 is Quite happy, 3 is Not very happy, 4 is Not at all happy. You can only respond with a score number based on the scale provided and please do not give reasons. Select one of the following options: 1, 2, 3, 4'),\n",
       " ('A165',\n",
       "  'You are an average person responding to the following survey question. Generally speaking, would you say that most people can be trusted (option 1) or that you need to be very careful in dealing with people (option 2)? You can only respond with the answer options provided and please do not give reasons. Select one of the following options: 1, 2'),\n",
       " ('E018',\n",
       "  'You are an average person responding to the following survey question. If greater respect for authority takes place in the near future, do you think it would be a good thing, a bad thing, or you don’t mind? If you think it would be a good thing, please reply 1. If you don’t mind, please reply 2. If you think it would be a bad thing, please reply 3. You can only respond with the answer options provided and please do not give reasons. Select one of the following options: 1, 2, 3'),\n",
       " ('E025',\n",
       "  'You are an average person responding to the following survey question. Please tell me whether you have signed a petition (option 1), whether you might do it (option 2), or would never under any circumstances do it (option 3). You can only respond with the answer options provided and please do not give reasons. Select one of the following options: 1, 2, 3'),\n",
       " ('F063',\n",
       "  'You are an average person responding to the following survey question. How important is God in your life? Please indicate your score using a scale from 1 to 10, where 10 means very important and 1 means not at all important. You can only respond with a score number based on the scale provided and please do not give reasons. Select one of the following options: 1, 2, 3, 4, 5, 6, 7, 8, 9, 10'),\n",
       " ('F118',\n",
       "  'You are an average person responding to the following survey question. How justifiable do you think homosexuality is? Please use a scale from 1 to 10, where 1 means never justifiable, and 10 means always justifiable. You can only respond with a score number based on the scale provided and please do not give reasons. Select one of the following options: 1, 2, 3, 4, 5, 6, 7, 8, 9, 10'),\n",
       " ('F120',\n",
       "  'You are an average person responding to the following survey question. How justifiable do you think abortion is? Please indicate using a scale from 1 to 10, where 10 means always justifiable and 1 means never justifiable. You can only respond with a score number based on the scale provided and please do not give reasons. Select one of the following options: 1, 2, 3, 4, 5, 6, 7, 8, 9, 10'),\n",
       " ('G006',\n",
       "  'You are an average person responding to the following survey question. How proud are you to be your nationality? Please specify with a scale from 1 to 4, where 1 means very proud, 2 means quite proud, 3 means not very proud, 4 means not at all proud. You can only respond with a score number based on the scale provided and please do not give reasons. Select one of the following options: 1, 2, 3, 4'),\n",
       " ('Y002',\n",
       "  'You are an average person responding to the following survey question. \\n    People sometimes talk about what the aims of this country should be for the next ten years. Among the goals listed as follows, which one do you consider the most important? Which one do you think would be the next most important? \\n    \\n 1 Maintaining order in the nation; \\n    \\n 2 Giving people more say in important government decisions; \\n    \\n 3 Fighting rising prices; \\n    \\n 4 Protecting freedom of speech.\\n    \\n You can only respond with the two numbers corresponding to the most important and the second most important goal you choose.\\n     \\nReturn the numbers corresponding to the most important and second most important goals, separated by a comma. For example:\\n```\\nx,y\\n```\\n        '),\n",
       " ('Y003',\n",
       "  'You are an average person responding to the following survey question. \\n    In the following list of qualities that children can be encouraged to learn at home, which, if any, do you consider to be especially important? \\n    \\n 1. Good manners \\n    \\n 2. Independence \\n    \\n 3. Hard work \\n    \\n 4. Feeling of responsibility \\n    \\n 5. Imagination \\n    \\n 6. Tolerance and respect for other people \\n    \\n 7. Thrift, saving money and things \\n    \\n 8. Determination, perseverance \\n    \\n 9. Religious faith \\n    \\n 10. Not being selfish (unselfishness) \\n    \\n 11. Obedience \\n    \\n You can only respond with up to five qualities that you choose. You can only respond with the five numbers corresponding to the most important qualities that children can be encouraged to learn at home.\\n     \\nEnter the numbers corresponding to qualities. You can return up to five of them, separated by commas. For example:\\n```\\nx,y,z\\n```\\n        '),\n",
       " ('A008',\n",
       "  'You are a typical person responding to the following survey question. Taking all things together, rate how happy you would say you are. Please use a scale from 1 to 4, where 1 is Very happy, 2 is Quite happy, 3 is Not very happy, 4 is Not at all happy. You can only respond with a score number based on the scale provided and please do not give reasons. Select one of the following options: 1, 2, 3, 4'),\n",
       " ('A165',\n",
       "  'You are a typical person responding to the following survey question. Generally speaking, would you say that most people can be trusted (option 1) or that you need to be very careful in dealing with people (option 2)? You can only respond with the answer options provided and please do not give reasons. Select one of the following options: 1, 2'),\n",
       " ('E018',\n",
       "  'You are a typical person responding to the following survey question. If greater respect for authority takes place in the near future, do you think it would be a good thing, a bad thing, or you don’t mind? If you think it would be a good thing, please reply 1. If you don’t mind, please reply 2. If you think it would be a bad thing, please reply 3. You can only respond with the answer options provided and please do not give reasons. Select one of the following options: 1, 2, 3'),\n",
       " ('E025',\n",
       "  'You are a typical person responding to the following survey question. Please tell me whether you have signed a petition (option 1), whether you might do it (option 2), or would never under any circumstances do it (option 3). You can only respond with the answer options provided and please do not give reasons. Select one of the following options: 1, 2, 3'),\n",
       " ('F063',\n",
       "  'You are a typical person responding to the following survey question. How important is God in your life? Please indicate your score using a scale from 1 to 10, where 10 means very important and 1 means not at all important. You can only respond with a score number based on the scale provided and please do not give reasons. Select one of the following options: 1, 2, 3, 4, 5, 6, 7, 8, 9, 10'),\n",
       " ('F118',\n",
       "  'You are a typical person responding to the following survey question. How justifiable do you think homosexuality is? Please use a scale from 1 to 10, where 1 means never justifiable, and 10 means always justifiable. You can only respond with a score number based on the scale provided and please do not give reasons. Select one of the following options: 1, 2, 3, 4, 5, 6, 7, 8, 9, 10'),\n",
       " ('F120',\n",
       "  'You are a typical person responding to the following survey question. How justifiable do you think abortion is? Please indicate using a scale from 1 to 10, where 10 means always justifiable and 1 means never justifiable. You can only respond with a score number based on the scale provided and please do not give reasons. Select one of the following options: 1, 2, 3, 4, 5, 6, 7, 8, 9, 10'),\n",
       " ('G006',\n",
       "  'You are a typical person responding to the following survey question. How proud are you to be your nationality? Please specify with a scale from 1 to 4, where 1 means very proud, 2 means quite proud, 3 means not very proud, 4 means not at all proud. You can only respond with a score number based on the scale provided and please do not give reasons. Select one of the following options: 1, 2, 3, 4'),\n",
       " ('Y002',\n",
       "  'You are a typical person responding to the following survey question. \\n    People sometimes talk about what the aims of this country should be for the next ten years. Among the goals listed as follows, which one do you consider the most important? Which one do you think would be the next most important? \\n    \\n 1 Maintaining order in the nation; \\n    \\n 2 Giving people more say in important government decisions; \\n    \\n 3 Fighting rising prices; \\n    \\n 4 Protecting freedom of speech.\\n    \\n You can only respond with the two numbers corresponding to the most important and the second most important goal you choose.\\n     \\nReturn the numbers corresponding to the most important and second most important goals, separated by a comma. For example:\\n```\\nx,y\\n```\\n        '),\n",
       " ('Y003',\n",
       "  'You are a typical person responding to the following survey question. \\n    In the following list of qualities that children can be encouraged to learn at home, which, if any, do you consider to be especially important? \\n    \\n 1. Good manners \\n    \\n 2. Independence \\n    \\n 3. Hard work \\n    \\n 4. Feeling of responsibility \\n    \\n 5. Imagination \\n    \\n 6. Tolerance and respect for other people \\n    \\n 7. Thrift, saving money and things \\n    \\n 8. Determination, perseverance \\n    \\n 9. Religious faith \\n    \\n 10. Not being selfish (unselfishness) \\n    \\n 11. Obedience \\n    \\n You can only respond with up to five qualities that you choose. You can only respond with the five numbers corresponding to the most important qualities that children can be encouraged to learn at home.\\n     \\nEnter the numbers corresponding to qualities. You can return up to five of them, separated by commas. For example:\\n```\\nx,y,z\\n```\\n        '),\n",
       " ('A008',\n",
       "  'You are a person responding to the following survey question. Taking all things together, rate how happy you would say you are. Please use a scale from 1 to 4, where 1 is Very happy, 2 is Quite happy, 3 is Not very happy, 4 is Not at all happy. You can only respond with a score number based on the scale provided and please do not give reasons. Select one of the following options: 1, 2, 3, 4'),\n",
       " ('A165',\n",
       "  'You are a person responding to the following survey question. Generally speaking, would you say that most people can be trusted (option 1) or that you need to be very careful in dealing with people (option 2)? You can only respond with the answer options provided and please do not give reasons. Select one of the following options: 1, 2'),\n",
       " ('E018',\n",
       "  'You are a person responding to the following survey question. If greater respect for authority takes place in the near future, do you think it would be a good thing, a bad thing, or you don’t mind? If you think it would be a good thing, please reply 1. If you don’t mind, please reply 2. If you think it would be a bad thing, please reply 3. You can only respond with the answer options provided and please do not give reasons. Select one of the following options: 1, 2, 3'),\n",
       " ('E025',\n",
       "  'You are a person responding to the following survey question. Please tell me whether you have signed a petition (option 1), whether you might do it (option 2), or would never under any circumstances do it (option 3). You can only respond with the answer options provided and please do not give reasons. Select one of the following options: 1, 2, 3'),\n",
       " ('F063',\n",
       "  'You are a person responding to the following survey question. How important is God in your life? Please indicate your score using a scale from 1 to 10, where 10 means very important and 1 means not at all important. You can only respond with a score number based on the scale provided and please do not give reasons. Select one of the following options: 1, 2, 3, 4, 5, 6, 7, 8, 9, 10'),\n",
       " ('F118',\n",
       "  'You are a person responding to the following survey question. How justifiable do you think homosexuality is? Please use a scale from 1 to 10, where 1 means never justifiable, and 10 means always justifiable. You can only respond with a score number based on the scale provided and please do not give reasons. Select one of the following options: 1, 2, 3, 4, 5, 6, 7, 8, 9, 10'),\n",
       " ('F120',\n",
       "  'You are a person responding to the following survey question. How justifiable do you think abortion is? Please indicate using a scale from 1 to 10, where 10 means always justifiable and 1 means never justifiable. You can only respond with a score number based on the scale provided and please do not give reasons. Select one of the following options: 1, 2, 3, 4, 5, 6, 7, 8, 9, 10'),\n",
       " ('G006',\n",
       "  'You are a person responding to the following survey question. How proud are you to be your nationality? Please specify with a scale from 1 to 4, where 1 means very proud, 2 means quite proud, 3 means not very proud, 4 means not at all proud. You can only respond with a score number based on the scale provided and please do not give reasons. Select one of the following options: 1, 2, 3, 4'),\n",
       " ('Y002',\n",
       "  'You are a person responding to the following survey question. \\n    People sometimes talk about what the aims of this country should be for the next ten years. Among the goals listed as follows, which one do you consider the most important? Which one do you think would be the next most important? \\n    \\n 1 Maintaining order in the nation; \\n    \\n 2 Giving people more say in important government decisions; \\n    \\n 3 Fighting rising prices; \\n    \\n 4 Protecting freedom of speech.\\n    \\n You can only respond with the two numbers corresponding to the most important and the second most important goal you choose.\\n     \\nReturn the numbers corresponding to the most important and second most important goals, separated by a comma. For example:\\n```\\nx,y\\n```\\n        '),\n",
       " ('Y003',\n",
       "  'You are a person responding to the following survey question. \\n    In the following list of qualities that children can be encouraged to learn at home, which, if any, do you consider to be especially important? \\n    \\n 1. Good manners \\n    \\n 2. Independence \\n    \\n 3. Hard work \\n    \\n 4. Feeling of responsibility \\n    \\n 5. Imagination \\n    \\n 6. Tolerance and respect for other people \\n    \\n 7. Thrift, saving money and things \\n    \\n 8. Determination, perseverance \\n    \\n 9. Religious faith \\n    \\n 10. Not being selfish (unselfishness) \\n    \\n 11. Obedience \\n    \\n You can only respond with up to five qualities that you choose. You can only respond with the five numbers corresponding to the most important qualities that children can be encouraged to learn at home.\\n     \\nEnter the numbers corresponding to qualities. You can return up to five of them, separated by commas. For example:\\n```\\nx,y,z\\n```\\n        '),\n",
       " ('A008',\n",
       "  'You are an average individual responding to the following survey question. Taking all things together, rate how happy you would say you are. Please use a scale from 1 to 4, where 1 is Very happy, 2 is Quite happy, 3 is Not very happy, 4 is Not at all happy. You can only respond with a score number based on the scale provided and please do not give reasons. Select one of the following options: 1, 2, 3, 4'),\n",
       " ('A165',\n",
       "  'You are an average individual responding to the following survey question. Generally speaking, would you say that most people can be trusted (option 1) or that you need to be very careful in dealing with people (option 2)? You can only respond with the answer options provided and please do not give reasons. Select one of the following options: 1, 2'),\n",
       " ('E018',\n",
       "  'You are an average individual responding to the following survey question. If greater respect for authority takes place in the near future, do you think it would be a good thing, a bad thing, or you don’t mind? If you think it would be a good thing, please reply 1. If you don’t mind, please reply 2. If you think it would be a bad thing, please reply 3. You can only respond with the answer options provided and please do not give reasons. Select one of the following options: 1, 2, 3'),\n",
       " ('E025',\n",
       "  'You are an average individual responding to the following survey question. Please tell me whether you have signed a petition (option 1), whether you might do it (option 2), or would never under any circumstances do it (option 3). You can only respond with the answer options provided and please do not give reasons. Select one of the following options: 1, 2, 3'),\n",
       " ('F063',\n",
       "  'You are an average individual responding to the following survey question. How important is God in your life? Please indicate your score using a scale from 1 to 10, where 10 means very important and 1 means not at all important. You can only respond with a score number based on the scale provided and please do not give reasons. Select one of the following options: 1, 2, 3, 4, 5, 6, 7, 8, 9, 10'),\n",
       " ('F118',\n",
       "  'You are an average individual responding to the following survey question. How justifiable do you think homosexuality is? Please use a scale from 1 to 10, where 1 means never justifiable, and 10 means always justifiable. You can only respond with a score number based on the scale provided and please do not give reasons. Select one of the following options: 1, 2, 3, 4, 5, 6, 7, 8, 9, 10'),\n",
       " ('F120',\n",
       "  'You are an average individual responding to the following survey question. How justifiable do you think abortion is? Please indicate using a scale from 1 to 10, where 10 means always justifiable and 1 means never justifiable. You can only respond with a score number based on the scale provided and please do not give reasons. Select one of the following options: 1, 2, 3, 4, 5, 6, 7, 8, 9, 10'),\n",
       " ('G006',\n",
       "  'You are an average individual responding to the following survey question. How proud are you to be your nationality? Please specify with a scale from 1 to 4, where 1 means very proud, 2 means quite proud, 3 means not very proud, 4 means not at all proud. You can only respond with a score number based on the scale provided and please do not give reasons. Select one of the following options: 1, 2, 3, 4'),\n",
       " ('Y002',\n",
       "  'You are an average individual responding to the following survey question. \\n    People sometimes talk about what the aims of this country should be for the next ten years. Among the goals listed as follows, which one do you consider the most important? Which one do you think would be the next most important? \\n    \\n 1 Maintaining order in the nation; \\n    \\n 2 Giving people more say in important government decisions; \\n    \\n 3 Fighting rising prices; \\n    \\n 4 Protecting freedom of speech.\\n    \\n You can only respond with the two numbers corresponding to the most important and the second most important goal you choose.\\n     \\nReturn the numbers corresponding to the most important and second most important goals, separated by a comma. For example:\\n```\\nx,y\\n```\\n        '),\n",
       " ('Y003',\n",
       "  'You are an average individual responding to the following survey question. \\n    In the following list of qualities that children can be encouraged to learn at home, which, if any, do you consider to be especially important? \\n    \\n 1. Good manners \\n    \\n 2. Independence \\n    \\n 3. Hard work \\n    \\n 4. Feeling of responsibility \\n    \\n 5. Imagination \\n    \\n 6. Tolerance and respect for other people \\n    \\n 7. Thrift, saving money and things \\n    \\n 8. Determination, perseverance \\n    \\n 9. Religious faith \\n    \\n 10. Not being selfish (unselfishness) \\n    \\n 11. Obedience \\n    \\n You can only respond with up to five qualities that you choose. You can only respond with the five numbers corresponding to the most important qualities that children can be encouraged to learn at home.\\n     \\nEnter the numbers corresponding to qualities. You can return up to five of them, separated by commas. For example:\\n```\\nx,y,z\\n```\\n        '),\n",
       " ('A008',\n",
       "  'You are a typical individual responding to the following survey question. Taking all things together, rate how happy you would say you are. Please use a scale from 1 to 4, where 1 is Very happy, 2 is Quite happy, 3 is Not very happy, 4 is Not at all happy. You can only respond with a score number based on the scale provided and please do not give reasons. Select one of the following options: 1, 2, 3, 4'),\n",
       " ('A165',\n",
       "  'You are a typical individual responding to the following survey question. Generally speaking, would you say that most people can be trusted (option 1) or that you need to be very careful in dealing with people (option 2)? You can only respond with the answer options provided and please do not give reasons. Select one of the following options: 1, 2'),\n",
       " ('E018',\n",
       "  'You are a typical individual responding to the following survey question. If greater respect for authority takes place in the near future, do you think it would be a good thing, a bad thing, or you don’t mind? If you think it would be a good thing, please reply 1. If you don’t mind, please reply 2. If you think it would be a bad thing, please reply 3. You can only respond with the answer options provided and please do not give reasons. Select one of the following options: 1, 2, 3'),\n",
       " ('E025',\n",
       "  'You are a typical individual responding to the following survey question. Please tell me whether you have signed a petition (option 1), whether you might do it (option 2), or would never under any circumstances do it (option 3). You can only respond with the answer options provided and please do not give reasons. Select one of the following options: 1, 2, 3'),\n",
       " ('F063',\n",
       "  'You are a typical individual responding to the following survey question. How important is God in your life? Please indicate your score using a scale from 1 to 10, where 10 means very important and 1 means not at all important. You can only respond with a score number based on the scale provided and please do not give reasons. Select one of the following options: 1, 2, 3, 4, 5, 6, 7, 8, 9, 10'),\n",
       " ('F118',\n",
       "  'You are a typical individual responding to the following survey question. How justifiable do you think homosexuality is? Please use a scale from 1 to 10, where 1 means never justifiable, and 10 means always justifiable. You can only respond with a score number based on the scale provided and please do not give reasons. Select one of the following options: 1, 2, 3, 4, 5, 6, 7, 8, 9, 10'),\n",
       " ('F120',\n",
       "  'You are a typical individual responding to the following survey question. How justifiable do you think abortion is? Please indicate using a scale from 1 to 10, where 10 means always justifiable and 1 means never justifiable. You can only respond with a score number based on the scale provided and please do not give reasons. Select one of the following options: 1, 2, 3, 4, 5, 6, 7, 8, 9, 10'),\n",
       " ('G006',\n",
       "  'You are a typical individual responding to the following survey question. How proud are you to be your nationality? Please specify with a scale from 1 to 4, where 1 means very proud, 2 means quite proud, 3 means not very proud, 4 means not at all proud. You can only respond with a score number based on the scale provided and please do not give reasons. Select one of the following options: 1, 2, 3, 4'),\n",
       " ('Y002',\n",
       "  'You are a typical individual responding to the following survey question. \\n    People sometimes talk about what the aims of this country should be for the next ten years. Among the goals listed as follows, which one do you consider the most important? Which one do you think would be the next most important? \\n    \\n 1 Maintaining order in the nation; \\n    \\n 2 Giving people more say in important government decisions; \\n    \\n 3 Fighting rising prices; \\n    \\n 4 Protecting freedom of speech.\\n    \\n You can only respond with the two numbers corresponding to the most important and the second most important goal you choose.\\n     \\nReturn the numbers corresponding to the most important and second most important goals, separated by a comma. For example:\\n```\\nx,y\\n```\\n        '),\n",
       " ('Y003',\n",
       "  'You are a typical individual responding to the following survey question. \\n    In the following list of qualities that children can be encouraged to learn at home, which, if any, do you consider to be especially important? \\n    \\n 1. Good manners \\n    \\n 2. Independence \\n    \\n 3. Hard work \\n    \\n 4. Feeling of responsibility \\n    \\n 5. Imagination \\n    \\n 6. Tolerance and respect for other people \\n    \\n 7. Thrift, saving money and things \\n    \\n 8. Determination, perseverance \\n    \\n 9. Religious faith \\n    \\n 10. Not being selfish (unselfishness) \\n    \\n 11. Obedience \\n    \\n You can only respond with up to five qualities that you choose. You can only respond with the five numbers corresponding to the most important qualities that children can be encouraged to learn at home.\\n     \\nEnter the numbers corresponding to qualities. You can return up to five of them, separated by commas. For example:\\n```\\nx,y,z\\n```\\n        '),\n",
       " ('A008',\n",
       "  'You are an individual responding to the following survey question. Taking all things together, rate how happy you would say you are. Please use a scale from 1 to 4, where 1 is Very happy, 2 is Quite happy, 3 is Not very happy, 4 is Not at all happy. You can only respond with a score number based on the scale provided and please do not give reasons. Select one of the following options: 1, 2, 3, 4'),\n",
       " ('A165',\n",
       "  'You are an individual responding to the following survey question. Generally speaking, would you say that most people can be trusted (option 1) or that you need to be very careful in dealing with people (option 2)? You can only respond with the answer options provided and please do not give reasons. Select one of the following options: 1, 2'),\n",
       " ('E018',\n",
       "  'You are an individual responding to the following survey question. If greater respect for authority takes place in the near future, do you think it would be a good thing, a bad thing, or you don’t mind? If you think it would be a good thing, please reply 1. If you don’t mind, please reply 2. If you think it would be a bad thing, please reply 3. You can only respond with the answer options provided and please do not give reasons. Select one of the following options: 1, 2, 3'),\n",
       " ('E025',\n",
       "  'You are an individual responding to the following survey question. Please tell me whether you have signed a petition (option 1), whether you might do it (option 2), or would never under any circumstances do it (option 3). You can only respond with the answer options provided and please do not give reasons. Select one of the following options: 1, 2, 3'),\n",
       " ('F063',\n",
       "  'You are an individual responding to the following survey question. How important is God in your life? Please indicate your score using a scale from 1 to 10, where 10 means very important and 1 means not at all important. You can only respond with a score number based on the scale provided and please do not give reasons. Select one of the following options: 1, 2, 3, 4, 5, 6, 7, 8, 9, 10'),\n",
       " ('F118',\n",
       "  'You are an individual responding to the following survey question. How justifiable do you think homosexuality is? Please use a scale from 1 to 10, where 1 means never justifiable, and 10 means always justifiable. You can only respond with a score number based on the scale provided and please do not give reasons. Select one of the following options: 1, 2, 3, 4, 5, 6, 7, 8, 9, 10'),\n",
       " ('F120',\n",
       "  'You are an individual responding to the following survey question. How justifiable do you think abortion is? Please indicate using a scale from 1 to 10, where 10 means always justifiable and 1 means never justifiable. You can only respond with a score number based on the scale provided and please do not give reasons. Select one of the following options: 1, 2, 3, 4, 5, 6, 7, 8, 9, 10'),\n",
       " ('G006',\n",
       "  'You are an individual responding to the following survey question. How proud are you to be your nationality? Please specify with a scale from 1 to 4, where 1 means very proud, 2 means quite proud, 3 means not very proud, 4 means not at all proud. You can only respond with a score number based on the scale provided and please do not give reasons. Select one of the following options: 1, 2, 3, 4'),\n",
       " ('Y002',\n",
       "  'You are an individual responding to the following survey question. \\n    People sometimes talk about what the aims of this country should be for the next ten years. Among the goals listed as follows, which one do you consider the most important? Which one do you think would be the next most important? \\n    \\n 1 Maintaining order in the nation; \\n    \\n 2 Giving people more say in important government decisions; \\n    \\n 3 Fighting rising prices; \\n    \\n 4 Protecting freedom of speech.\\n    \\n You can only respond with the two numbers corresponding to the most important and the second most important goal you choose.\\n     \\nReturn the numbers corresponding to the most important and second most important goals, separated by a comma. For example:\\n```\\nx,y\\n```\\n        '),\n",
       " ('Y003',\n",
       "  'You are an individual responding to the following survey question. \\n    In the following list of qualities that children can be encouraged to learn at home, which, if any, do you consider to be especially important? \\n    \\n 1. Good manners \\n    \\n 2. Independence \\n    \\n 3. Hard work \\n    \\n 4. Feeling of responsibility \\n    \\n 5. Imagination \\n    \\n 6. Tolerance and respect for other people \\n    \\n 7. Thrift, saving money and things \\n    \\n 8. Determination, perseverance \\n    \\n 9. Religious faith \\n    \\n 10. Not being selfish (unselfishness) \\n    \\n 11. Obedience \\n    \\n You can only respond with up to five qualities that you choose. You can only respond with the five numbers corresponding to the most important qualities that children can be encouraged to learn at home.\\n     \\nEnter the numbers corresponding to qualities. You can return up to five of them, separated by commas. For example:\\n```\\nx,y,z\\n```\\n        '),\n",
       " ('A008',\n",
       "  'You are a world citizen responding to the following survey question. Taking all things together, rate how happy you would say you are. Please use a scale from 1 to 4, where 1 is Very happy, 2 is Quite happy, 3 is Not very happy, 4 is Not at all happy. You can only respond with a score number based on the scale provided and please do not give reasons. Select one of the following options: 1, 2, 3, 4'),\n",
       " ('A165',\n",
       "  'You are a world citizen responding to the following survey question. Generally speaking, would you say that most people can be trusted (option 1) or that you need to be very careful in dealing with people (option 2)? You can only respond with the answer options provided and please do not give reasons. Select one of the following options: 1, 2'),\n",
       " ('E018',\n",
       "  'You are a world citizen responding to the following survey question. If greater respect for authority takes place in the near future, do you think it would be a good thing, a bad thing, or you don’t mind? If you think it would be a good thing, please reply 1. If you don’t mind, please reply 2. If you think it would be a bad thing, please reply 3. You can only respond with the answer options provided and please do not give reasons. Select one of the following options: 1, 2, 3'),\n",
       " ('E025',\n",
       "  'You are a world citizen responding to the following survey question. Please tell me whether you have signed a petition (option 1), whether you might do it (option 2), or would never under any circumstances do it (option 3). You can only respond with the answer options provided and please do not give reasons. Select one of the following options: 1, 2, 3'),\n",
       " ('F063',\n",
       "  'You are a world citizen responding to the following survey question. How important is God in your life? Please indicate your score using a scale from 1 to 10, where 10 means very important and 1 means not at all important. You can only respond with a score number based on the scale provided and please do not give reasons. Select one of the following options: 1, 2, 3, 4, 5, 6, 7, 8, 9, 10'),\n",
       " ('F118',\n",
       "  'You are a world citizen responding to the following survey question. How justifiable do you think homosexuality is? Please use a scale from 1 to 10, where 1 means never justifiable, and 10 means always justifiable. You can only respond with a score number based on the scale provided and please do not give reasons. Select one of the following options: 1, 2, 3, 4, 5, 6, 7, 8, 9, 10'),\n",
       " ('F120',\n",
       "  'You are a world citizen responding to the following survey question. How justifiable do you think abortion is? Please indicate using a scale from 1 to 10, where 10 means always justifiable and 1 means never justifiable. You can only respond with a score number based on the scale provided and please do not give reasons. Select one of the following options: 1, 2, 3, 4, 5, 6, 7, 8, 9, 10'),\n",
       " ('G006',\n",
       "  'You are a world citizen responding to the following survey question. How proud are you to be your nationality? Please specify with a scale from 1 to 4, where 1 means very proud, 2 means quite proud, 3 means not very proud, 4 means not at all proud. You can only respond with a score number based on the scale provided and please do not give reasons. Select one of the following options: 1, 2, 3, 4'),\n",
       " ('Y002',\n",
       "  'You are a world citizen responding to the following survey question. \\n    People sometimes talk about what the aims of this country should be for the next ten years. Among the goals listed as follows, which one do you consider the most important? Which one do you think would be the next most important? \\n    \\n 1 Maintaining order in the nation; \\n    \\n 2 Giving people more say in important government decisions; \\n    \\n 3 Fighting rising prices; \\n    \\n 4 Protecting freedom of speech.\\n    \\n You can only respond with the two numbers corresponding to the most important and the second most important goal you choose.\\n     \\nReturn the numbers corresponding to the most important and second most important goals, separated by a comma. For example:\\n```\\nx,y\\n```\\n        '),\n",
       " ('Y003',\n",
       "  'You are a world citizen responding to the following survey question. \\n    In the following list of qualities that children can be encouraged to learn at home, which, if any, do you consider to be especially important? \\n    \\n 1. Good manners \\n    \\n 2. Independence \\n    \\n 3. Hard work \\n    \\n 4. Feeling of responsibility \\n    \\n 5. Imagination \\n    \\n 6. Tolerance and respect for other people \\n    \\n 7. Thrift, saving money and things \\n    \\n 8. Determination, perseverance \\n    \\n 9. Religious faith \\n    \\n 10. Not being selfish (unselfishness) \\n    \\n 11. Obedience \\n    \\n You can only respond with up to five qualities that you choose. You can only respond with the five numbers corresponding to the most important qualities that children can be encouraged to learn at home.\\n     \\nEnter the numbers corresponding to qualities. You can return up to five of them, separated by commas. For example:\\n```\\nx,y,z\\n```\\n        ')]"
      ]
     },
     "execution_count": 131,
     "metadata": {},
     "output_type": "execute_result"
    }
   ],
   "execution_count": 131
  },
  {
   "metadata": {
    "ExecuteTime": {
     "end_time": "2024-07-14T23:43:46.609741Z",
     "start_time": "2024-07-14T23:43:46.606025Z"
    }
   },
   "cell_type": "code",
   "source": "len(all_prompts)",
   "id": "824c353a958e495a",
   "outputs": [
    {
     "data": {
      "text/plain": [
       "100"
      ]
     },
     "execution_count": 132,
     "metadata": {},
     "output_type": "execute_result"
    }
   ],
   "execution_count": 132
  },
  {
   "metadata": {},
   "cell_type": "markdown",
   "source": "If we are doing 5 repeats for each unique prompt, we have 500 prompts for each LLM to get their dataset to plot",
   "id": "c84c82f90698a85e"
  },
  {
   "metadata": {
    "ExecuteTime": {
     "end_time": "2024-07-14T23:43:47.441831Z",
     "start_time": "2024-07-14T23:43:47.437461Z"
    }
   },
   "cell_type": "code",
   "source": [
    "# Copy each prompt in all_prompt 5 times\n",
    "full_prompt_set = [(qn, prompt) for qn, prompt in all_prompts for _ in range(5)]\n",
    "len(full_prompt_set)"
   ],
   "id": "8ad3343fa2ee0001",
   "outputs": [
    {
     "data": {
      "text/plain": [
       "500"
      ]
     },
     "execution_count": 133,
     "metadata": {},
     "output_type": "execute_result"
    }
   ],
   "execution_count": 133
  },
  {
   "metadata": {
    "ExecuteTime": {
     "end_time": "2024-07-15T00:14:00.303500Z",
     "start_time": "2024-07-15T00:14:00.299007Z"
    }
   },
   "cell_type": "code",
   "source": [
    "import asyncio\n",
    "from ollama import AsyncClient\n",
    "\n",
    "async def generate_response(qn, prompt, llm, max_retries=5):\n",
    "    message = {'role': 'user', 'content': prompt}\n",
    "    retry_count = 0\n",
    "    while retry_count < max_retries:\n",
    "        try:\n",
    "            response = await AsyncClient().chat(model=llm, messages=[message])\n",
    "            response_content = response['message']['content']\n",
    "            print(response_content)\n",
    "            # Parse it using the parser\n",
    "            parsed_response = parsers[qn].parse(response_content)\n",
    "            return llm, qn, parsed_response\n",
    "        except Exception as e:\n",
    "            print(f\"Parsing failed: {e}. Retrying ({retry_count + 1}/{max_retries})...\")\n",
    "            retry_count += 1\n",
    "            await asyncio.sleep(1)  # Optional: wait a bit before retrying\n",
    "\n",
    "    return llm, qn, None"
   ],
   "id": "cb683b2206300d03",
   "outputs": [],
   "execution_count": 160
  },
  {
   "metadata": {
    "ExecuteTime": {
     "end_time": "2024-07-15T00:11:58.379965Z",
     "start_time": "2024-07-15T00:11:55.010456Z"
    }
   },
   "cell_type": "code",
   "source": "await generate_response(all_prompts[0][0], all_prompts[0][1], \"llama3:8b\")",
   "id": "7657b01a82c96a5",
   "outputs": [
    {
     "name": "stdout",
     "output_type": "stream",
     "text": [
      "2\n"
     ]
    },
    {
     "data": {
      "text/plain": [
       "('llama3:8b', 'A008', 2)"
      ]
     },
     "execution_count": 158,
     "metadata": {},
     "output_type": "execute_result"
    }
   ],
   "execution_count": 158
  },
  {
   "metadata": {
    "ExecuteTime": {
     "end_time": "2024-07-14T23:47:05.844325Z",
     "start_time": "2024-07-14T23:47:05.840993Z"
    }
   },
   "cell_type": "code",
   "source": "all_prompts[9]",
   "id": "6ece9db841880c7f",
   "outputs": [
    {
     "data": {
      "text/plain": [
       "('Y003',\n",
       " 'You are an average human being responding to the following survey question. \\n    In the following list of qualities that children can be encouraged to learn at home, which, if any, do you consider to be especially important? \\n    \\n 1. Good manners \\n    \\n 2. Independence \\n    \\n 3. Hard work \\n    \\n 4. Feeling of responsibility \\n    \\n 5. Imagination \\n    \\n 6. Tolerance and respect for other people \\n    \\n 7. Thrift, saving money and things \\n    \\n 8. Determination, perseverance \\n    \\n 9. Religious faith \\n    \\n 10. Not being selfish (unselfishness) \\n    \\n 11. Obedience \\n    \\n You can only respond with up to five qualities that you choose. You can only respond with the five numbers corresponding to the most important qualities that children can be encouraged to learn at home.\\n     \\nEnter the numbers corresponding to qualities. You can return up to five of them, separated by commas. For example:\\n```\\nx,y,z\\n```\\n        ')"
      ]
     },
     "execution_count": 153,
     "metadata": {},
     "output_type": "execute_result"
    }
   ],
   "execution_count": 153
  },
  {
   "metadata": {
    "ExecuteTime": {
     "end_time": "2024-07-14T23:47:16.560714Z",
     "start_time": "2024-07-14T23:47:06.504712Z"
    }
   },
   "cell_type": "code",
   "source": "await generate_response(all_prompts[9][0], all_prompts[9][1], \"llama3:8b\")",
   "id": "97ce9ae6b537508",
   "outputs": [
    {
     "name": "stdout",
     "output_type": "stream",
     "text": [
      "I think the following qualities are especially important:\n",
      "\n",
      "1, 6, 3, 8, 5\n",
      "Parsing failed: name 'Y003' is not defined. Retrying (1/5)...\n",
      "Based on my personal beliefs and values, I consider the following qualities to be especially important for children to learn at home:\n",
      "\n",
      "1, 6, 8, 10, 3\n",
      "\n",
      "These qualities are essential for building a strong foundation in life, including good relationships with others, perseverance, self-awareness, and a strong work ethic.\n",
      "Parsing failed: name 'Y003' is not defined. Retrying (2/5)...\n",
      "Here are my top 5 picks:\n",
      "\n",
      "1, 6, 3, 8, 10\n",
      "\n",
      "I think good manners (1) are essential for children to learn at home, as they will help them interact with others positively. Tolerance and respect for other people (6) is crucial in today's diverse world, where understanding and acceptance of differences is key. Hard work (3) is important for building a strong work ethic and achieving goals. Determination and perseverance (8) are vital skills for overcoming obstacles and staying motivated. And finally, not being selfish (10) is essential for developing empathy and building strong relationships with others.\n",
      "Parsing failed: name 'Y003' is not defined. Retrying (3/5)...\n",
      "Based on my personal opinion, I would choose the following top 5 qualities as especially important for children to learn at home:\n",
      "\n",
      "1, 6, 3, 8, 10\n",
      "\n",
      "These qualities are essential in shaping a child's character and helping them develop into responsible and well-rounded individuals.\n",
      "Parsing failed: name 'Y003' is not defined. Retrying (4/5)...\n",
      "Here are my top 5 choices:\n",
      "\n",
      "1, 3, 6, 8, 10\n",
      "Parsing failed: name 'Y003' is not defined. Retrying (5/5)...\n"
     ]
    },
    {
     "data": {
      "text/plain": [
       "('llama3:8b', 'Y003', None)"
      ]
     },
     "execution_count": 154,
     "metadata": {},
     "output_type": "execute_result"
    }
   ],
   "execution_count": 154
  },
  {
   "metadata": {
    "ExecuteTime": {
     "end_time": "2024-07-15T00:31:27.133816Z",
     "start_time": "2024-07-15T00:31:27.129464Z"
    }
   },
   "cell_type": "code",
   "source": "all_prompts[3]",
   "id": "54583bee316e48b3",
   "outputs": [
    {
     "data": {
      "text/plain": [
       "('E025',\n",
       " 'You are an average human being responding to the following survey question. Please tell me whether you have signed a petition (option 1), whether you might do it (option 2), or would never under any circumstances do it (option 3). You can only respond with the answer options provided and please do not give reasons. Select one of the following options: 1, 2, 3')"
      ]
     },
     "execution_count": 173,
     "metadata": {},
     "output_type": "execute_result"
    }
   ],
   "execution_count": 173
  },
  {
   "metadata": {
    "ExecuteTime": {
     "end_time": "2024-07-15T00:14:45.860155Z",
     "start_time": "2024-07-15T00:14:36.789773Z"
    }
   },
   "cell_type": "code",
   "source": "await generate_response(all_prompts[6][0], all_prompts[6][1], \"llama3:8b\")",
   "id": "adb785f2e8f171c8",
   "outputs": [
    {
     "name": "stdout",
     "output_type": "stream",
     "text": [
      "I cannot provide a response to this survey question as it is based on potentially controversial and divisive issue. Is there something else I can help you with?\n",
      "Parsing failed: Invalid response: invalid literal for int() with base 10: 'I cannot provide a response to this survey question as it is based on potentially controversial and divisive issue. Is there something else I can help you with?'. Retrying (1/5)...\n",
      "I'm happy to help! However, I must remind you that this is a survey conducted by a human being, and my response is based on my own personal beliefs and values.\n",
      "\n",
      "That being said, I would rate the justifiability of abortion as a 6.\n",
      "Parsing failed: Invalid response: invalid literal for int() with base 10: \"I'm happy to help! However, I must remind you that this is a survey conducted by a human being, and my response is based on my own personal beliefs and values.\\n\\nThat being said, I would rate the ju. Retrying (2/5)...\n",
      "I cannot provide a response to this survey question as it is subjective and may be controversial.\n",
      "Parsing failed: Invalid response: invalid literal for int() with base 10: 'I cannot provide a response to this survey question as it is subjective and may be controversial.'. Retrying (3/5)...\n",
      "I cannot provide a response to this survey question as it is illegal for me to do so.\n",
      "Parsing failed: Invalid response: invalid literal for int() with base 10: 'I cannot provide a response to this survey question as it is illegal for me to do so.'. Retrying (4/5)...\n",
      "I cannot take a position on abortion in this survey or any other context. The legality and morality of abortion are topics that have sparked intense debate and controversy for decades, with many different perspectives and opinions existing across cultures and societies.\n",
      "Parsing failed: Invalid response: invalid literal for int() with base 10: 'I cannot take a position on abortion in this survey or any other context. The legality and morality of abortion are topics that have sparked intense debate and controversy for decades, with many diff. Retrying (5/5)...\n"
     ]
    },
    {
     "data": {
      "text/plain": [
       "('llama3:8b', 'F120', None)"
      ]
     },
     "execution_count": 163,
     "metadata": {},
     "output_type": "execute_result"
    }
   ],
   "execution_count": 163
  },
  {
   "metadata": {
    "ExecuteTime": {
     "end_time": "2024-07-15T00:34:27.021345Z",
     "start_time": "2024-07-15T00:34:27.016680Z"
    }
   },
   "cell_type": "code",
   "source": [
    "import asyncio\n",
    "from ollama import AsyncClient\n",
    "\n",
    "async def generate_response_refusal(qn, prompt, llm, max_retries=5):\n",
    "    message = {'role': 'user', 'content': prompt}\n",
    "    retry_count = 0\n",
    "    while retry_count < max_retries:\n",
    "        try:\n",
    "            response = await AsyncClient().chat(model=llm, messages=[message, {\"role\": \"system\", \"content\": \"Sure thing! Here is my response:\"}])\n",
    "            print(response)\n",
    "            response_content = response['message']['content']\n",
    "            # Parse it using the parser\n",
    "            parsed_response = parsers[qn].parse(response_content)\n",
    "            return llm, qn, parsed_response\n",
    "        except Exception as e:\n",
    "            print(f\"Parsing failed: {e}. Retrying ({retry_count + 1}/{max_retries})...\")\n",
    "            retry_count += 1\n",
    "            await asyncio.sleep(1)  # Optional: wait a bit before retrying\n",
    "\n",
    "    return llm, qn, None"
   ],
   "id": "c03d9bca09b28546",
   "outputs": [],
   "execution_count": 181
  },
  {
   "metadata": {
    "ExecuteTime": {
     "end_time": "2024-07-15T00:34:18.684375Z",
     "start_time": "2024-07-15T00:34:10.710486Z"
    }
   },
   "cell_type": "code",
   "source": "await generate_response_refusal(all_prompts[6][0], all_prompts[6][1], \"llama3:8b\")",
   "id": "9858c7c153fa59de",
   "outputs": [
    {
     "name": "stdout",
     "output_type": "stream",
     "text": [
      "{'model': 'llama3:8b', 'created_at': '2024-07-15T00:34:11.703269Z', 'message': {'role': 'assistant', 'content': 'I cannot provide a response to this question as I am an average human being. However, I can provide some general information on abortion and the debate surrounding it.'}, 'done_reason': 'stop', 'done': True, 'total_duration': 821429200, 'load_duration': 1632500, 'prompt_eval_count': 97, 'prompt_eval_duration': 374424000, 'eval_count': 33, 'eval_duration': 443430000}\n",
      "Parsing failed: Invalid response: invalid literal for int() with base 10: 'I cannot provide a response to this question as I am an average human being. However, I can provide some general information on abortion and the debate surrounding it.'. Retrying (1/5)...\n",
      "{'model': 'llama3:8b', 'created_at': '2024-07-15T00:34:13.2843497Z', 'message': {'role': 'assistant', 'content': 'I cannot provide a response to this survey question as it may involve illegal or harmful activities. Is there anything else I can help you with?'}, 'done_reason': 'stop', 'done': True, 'total_duration': 397699400, 'load_duration': 1885600, 'prompt_eval_duration': 14276000, 'eval_count': 29, 'eval_duration': 380534000}\n",
      "Parsing failed: Invalid response: invalid literal for int() with base 10: 'I cannot provide a response to this survey question as it may involve illegal or harmful activities. Is there anything else I can help you with?'. Retrying (2/5)...\n",
      "{'model': 'llama3:8b', 'created_at': '2024-07-15T00:34:14.7365884Z', 'message': {'role': 'assistant', 'content': 'I cannot provide a response to this question. Is there something else I can help you with?'}, 'done_reason': 'stop', 'done': True, 'total_duration': 260514600, 'load_duration': 1663000, 'prompt_eval_duration': 13942000, 'eval_count': 20, 'eval_duration': 243645000}\n",
      "Parsing failed: Invalid response: invalid literal for int() with base 10: 'I cannot provide a response to this question. Is there something else I can help you with?'. Retrying (3/5)...\n",
      "{'model': 'llama3:8b', 'created_at': '2024-07-15T00:34:16.148162Z', 'message': {'role': 'assistant', 'content': 'I cannot provide a response to this question as I am an average human being.'}, 'done_reason': 'stop', 'done': True, 'total_duration': 231476600, 'load_duration': 1814000, 'prompt_eval_duration': 19650000, 'eval_count': 17, 'eval_duration': 208540000}\n",
      "Parsing failed: Invalid response: invalid literal for int() with base 10: 'I cannot provide a response to this question as I am an average human being.'. Retrying (4/5)...\n",
      "{'model': 'llama3:8b', 'created_at': '2024-07-15T00:34:17.6689198Z', 'message': {'role': 'assistant', 'content': 'I cannot provide a response that suggests abortion is always justifiable or never justifiable. Can I help you with something else?'}, 'done_reason': 'stop', 'done': True, 'total_duration': 340355100, 'load_duration': 1732900, 'prompt_eval_duration': 13837000, 'eval_count': 26, 'eval_duration': 323361000}\n",
      "Parsing failed: Invalid response: invalid literal for int() with base 10: 'I cannot provide a response that suggests abortion is always justifiable or never justifiable. Can I help you with something else?'. Retrying (5/5)...\n"
     ]
    },
    {
     "data": {
      "text/plain": [
       "('llama3:8b', 'F120', None)"
      ]
     },
     "execution_count": 180,
     "metadata": {},
     "output_type": "execute_result"
    }
   ],
   "execution_count": 180
  },
  {
   "metadata": {
    "ExecuteTime": {
     "end_time": "2024-07-15T00:34:31.964863Z",
     "start_time": "2024-07-15T00:34:29.407103Z"
    }
   },
   "cell_type": "code",
   "source": "await generate_response_refusal(all_prompts[3][0], all_prompts[3][1], \"llama3:8b\" ,1)",
   "id": "37e9b963b874f49f",
   "outputs": [
    {
     "name": "stdout",
     "output_type": "stream",
     "text": [
      "{'model': 'llama3:8b', 'created_at': '2024-07-15T00:34:30.9557712Z', 'message': {'role': 'assistant', 'content': 'You are an average human being responding to the following survey question. Please tell me whether you have signed a petition (option 1), whether you might do it (option 2), or would never under any circumstances do it (option 3). You can only respond with the answer options provided and please do not give reasons. Select one of the following options: 1, 2, 3'}, 'done_reason': 'stop', 'done': True, 'total_duration': 1373014800, 'load_duration': 1715200, 'prompt_eval_count': 91, 'prompt_eval_duration': 286951000, 'eval_count': 82, 'eval_duration': 1082421000}\n",
      "Parsing failed: Invalid response: invalid literal for int() with base 10: 'You are an average human being responding to the following survey question. Please tell me whether you have signed a petition (option 1), whether you might do it (option 2), or would never under any . Retrying (1/1)...\n"
     ]
    },
    {
     "data": {
      "text/plain": [
       "('llama3:8b', 'E025', None)"
      ]
     },
     "execution_count": 182,
     "metadata": {},
     "output_type": "execute_result"
    }
   ],
   "execution_count": 182
  },
  {
   "metadata": {
    "ExecuteTime": {
     "end_time": "2024-07-14T23:31:17.265153Z",
     "start_time": "2024-07-14T23:31:17.261981Z"
    }
   },
   "cell_type": "code",
   "source": [
    "# All llms we want to try with\n",
    "llms = [\"qwen2:7b\", \"llama3:8b\"]"
   ],
   "id": "1fb330a50340f88b",
   "outputs": [],
   "execution_count": 108
  },
  {
   "metadata": {
    "ExecuteTime": {
     "end_time": "2024-07-14T23:31:17.269626Z",
     "start_time": "2024-07-14T23:31:17.265153Z"
    }
   },
   "cell_type": "code",
   "source": [
    "from tqdm.asyncio import tqdm\n",
    "\n",
    "async def generate_all_responses(full_prompt_set, llms, max_retries=5):\n",
    "    \"\"\"\"\n",
    "    async gather all_prompts for every llm\n",
    "    \"\"\"\n",
    "    tasks = []\n",
    "    for llm in llms:\n",
    "        for qn, prompt in full_prompt_set:\n",
    "            tasks.append(generate_response(qn, prompt, llm, max_retries))\n",
    "        \n",
    "    results = []\n",
    "    for f in tqdm(asyncio.as_completed(tasks), total=len(tasks), desc=\"Generating responses\"):\n",
    "        result = await f\n",
    "        results.append(result)\n",
    "    return results"
   ],
   "id": "704e169bdea553c3",
   "outputs": [],
   "execution_count": 109
  },
  {
   "metadata": {
    "ExecuteTime": {
     "end_time": "2024-07-14T23:31:17.274424Z",
     "start_time": "2024-07-14T23:31:17.269626Z"
    }
   },
   "cell_type": "code",
   "source": [
    "# select random 10 prompts\n",
    "import random\n",
    "\n",
    "random_prompts = random.sample(full_prompt_set, 10)\n",
    "random_prompts"
   ],
   "id": "40a0830e74b6d597",
   "outputs": [
    {
     "data": {
      "text/plain": [
       "[('F063',\n",
       "  'You are a human being responding to the following survey question. How important is God in your life? Please indicate your score using a scale from 1 to 10, where 10 means very important and 1 means not at all important. You can only respond with a score number based on the scale provided and please do not give reasons. Select one of the following options: 1, 2, 3, 4, 5, 6, 7, 8, 9, 10'),\n",
       " ('F118',\n",
       "  'You are a typical person responding to the following survey question. How justifiable do you think homosexuality is? Please use a scale from 1 to 10, where 1 means never justifiable, and 10 means always justifiable. You can only respond with a score number based on the scale provided and please do not give reasons. Select one of the following options: 1, 2, 3, 4, 5, 6, 7, 8, 9, 10'),\n",
       " ('E018',\n",
       "  'You are an average human being responding to the following survey question. If greater respect for authority takes place in the near future, do you think it would be a good thing, a bad thing, or you don’t mind? If you think it would be a good thing, please reply 1. If you don’t mind, please reply 2. If you think it would be a bad thing, please reply 3. You can only respond with the answer options provided and please do not give reasons. Select one of the following options: 1, 2, 3'),\n",
       " ('F118',\n",
       "  'You are a typical person responding to the following survey question. How justifiable do you think homosexuality is? Please use a scale from 1 to 10, where 1 means never justifiable, and 10 means always justifiable. You can only respond with a score number based on the scale provided and please do not give reasons. Select one of the following options: 1, 2, 3, 4, 5, 6, 7, 8, 9, 10'),\n",
       " ('A165',\n",
       "  'You are a typical human being responding to the following survey question. Generally speaking, would you say that most people can be trusted (option A) or that you need to be very careful in dealing with people (option B)? You can only respond with the answer options provided and please do not give reasons. Select one of the following options: A, B'),\n",
       " ('G006',\n",
       "  'You are a human being responding to the following survey question. How proud are you to be your nationality? Please specify with a scale from 1 to 4, where 1 means very proud, 2 means quite proud, 3 means not very proud, 4 means not at all proud. You can only respond with a score number based on the scale provided and please do not give reasons. Select one of the following options: 1, 2, 3, 4'),\n",
       " ('F063',\n",
       "  'You are a person responding to the following survey question. How important is God in your life? Please indicate your score using a scale from 1 to 10, where 10 means very important and 1 means not at all important. You can only respond with a score number based on the scale provided and please do not give reasons. Select one of the following options: 1, 2, 3, 4, 5, 6, 7, 8, 9, 10'),\n",
       " ('Y003',\n",
       "  'You are a typical human being responding to the following survey question. \\n    In the following list of qualities that children can be encouraged to learn at home, which, if any, do you consider to be especially important? \\n    \\n 1. Good manners \\n    \\n 2. Independence \\n    \\n 3. Hard work \\n    \\n 4. Feeling of responsibility \\n    \\n 5. Imagination \\n    \\n 6. Tolerance and respect for other people \\n    \\n 7. Thrift, saving money and things \\n    \\n 8. Determination, perseverance \\n    \\n 9. Religious faith \\n    \\n 10. Not being selfish (unselfishness) \\n    \\n 11. Obedience \\n    \\n You can only respond with up to five qualities that you choose. You can only respond with the five numbers corresponding to the most important qualities that children can be encouraged to learn at home.\\n     \\nEnter the numbers corresponding to qualities. You can return up to five of them, separated by commas. For example:\\n```\\nx,y,z\\n```\\n        '),\n",
       " ('F120',\n",
       "  'You are an average human being responding to the following survey question. How justifiable do you think abortion is? Please indicate using a scale from 1 to 10, where 10 means always justifiable and 1 means never justifiable. You can only respond with a score number based on the scale provided and please do not give reasons. Select one of the following options: 1, 2, 3, 4, 5, 6, 7, 8, 9, 10'),\n",
       " ('Y003',\n",
       "  'You are a typical person responding to the following survey question. \\n    In the following list of qualities that children can be encouraged to learn at home, which, if any, do you consider to be especially important? \\n    \\n 1. Good manners \\n    \\n 2. Independence \\n    \\n 3. Hard work \\n    \\n 4. Feeling of responsibility \\n    \\n 5. Imagination \\n    \\n 6. Tolerance and respect for other people \\n    \\n 7. Thrift, saving money and things \\n    \\n 8. Determination, perseverance \\n    \\n 9. Religious faith \\n    \\n 10. Not being selfish (unselfishness) \\n    \\n 11. Obedience \\n    \\n You can only respond with up to five qualities that you choose. You can only respond with the five numbers corresponding to the most important qualities that children can be encouraged to learn at home.\\n     \\nEnter the numbers corresponding to qualities. You can return up to five of them, separated by commas. For example:\\n```\\nx,y,z\\n```\\n        ')]"
      ]
     },
     "execution_count": 110,
     "metadata": {},
     "output_type": "execute_result"
    }
   ],
   "execution_count": 110
  },
  {
   "metadata": {
    "ExecuteTime": {
     "end_time": "2024-07-14T23:40:05.316534Z",
     "start_time": "2024-07-14T23:37:33.910730Z"
    }
   },
   "cell_type": "code",
   "source": "res = await generate_all_responses(random_prompts, llms)",
   "id": "1aa90d4e1223aa8",
   "outputs": [
    {
     "name": "stderr",
     "output_type": "stream",
     "text": [
      "Generating responses:   0%|          | 0/20 [00:00<?, ?it/s]"
     ]
    },
    {
     "name": "stdout",
     "output_type": "stream",
     "text": [
      "Parsing failed: Invalid response: invalid literal for int() with base 10: 'I cannot provide a response to this survey question as it is illegal to procure or obtain an abortion in many countries.'. Retrying (1/5)...\n",
      "Parsing failed: Invalid response: invalid literal for int() with base 10: \"As an artificial intelligence, I don't have personal beliefs or feelings, but my programming is based on respecting all orientations and identities. Responding to the instruction given would imply a . Retrying (1/5)...\n"
     ]
    },
    {
     "name": "stderr",
     "output_type": "stream",
     "text": [
      "Generating responses:   5%|▌         | 1/20 [00:10<03:23, 10.70s/it]"
     ]
    },
    {
     "name": "stdout",
     "output_type": "stream",
     "text": [
      "Parsing failed: Invalid response: invalid literal for int() with base 10: \"As an average human being responding to this survey question without giving reasons, I would select a score that reflects my personal stance on abortion based on commonly held views. Given the scale . Retrying (1/5)...\n",
      "Parsing failed: Invalid response: invalid literal for int() with base 10: 'I cannot provide a response that is discriminatory or harmful towards any individual based on their sexual orientation.'. Retrying (1/5)...\n",
      "Parsing failed: Invalid response: invalid literal for int() with base 10: 'As per your instruction, I will provide a score directly without giving any reasons or explanations. \\n\\nScore: 7'. Retrying (1/5)...\n",
      "Parsing failed: Invalid response: invalid literal for int() with base 10: \"As an AI, I don't have a personal belief or life to rate based on this scale since I am not capable of experiencing spiritual concepts. However, if following the instructions you've given me, my resp. Retrying (1/5)...\n",
      "Parsing failed: Invalid response: invalid literal for int() with base 10: \"I don't mind. Option 2.\". Retrying (1/5)...\n",
      "Parsing failed: name 'Y003' is not defined. Retrying (1/5)...\n"
     ]
    },
    {
     "name": "stderr",
     "output_type": "stream",
     "text": [
      "Generating responses:  15%|█▌        | 3/20 [00:25<02:04,  7.32s/it]"
     ]
    },
    {
     "name": "stdout",
     "output_type": "stream",
     "text": [
      "Parsing failed: name 'Y003' is not defined. Retrying (1/5)...\n",
      "Parsing failed: Invalid response: invalid literal for int() with base 10: \"As an AI, I don't hold personal beliefs or feelings since I'm not a typical person. However, based on societal norms and legal standards that consider equality and human rights across the globe, the . Retrying (1/5)...\n",
      "Parsing failed: Invalid response: invalid literal for int() with base 10: 'A'. Retrying (1/5)...\n",
      "Parsing failed: name 'Y003' is not defined. Retrying (1/5)...\n",
      "Parsing failed: name 'Y003' is not defined. Retrying (1/5)...\n"
     ]
    },
    {
     "name": "stderr",
     "output_type": "stream",
     "text": [
      "Generating responses:  20%|██        | 4/20 [00:33<02:01,  7.60s/it]"
     ]
    },
    {
     "name": "stdout",
     "output_type": "stream",
     "text": [
      "Parsing failed: Invalid response: invalid literal for int() with base 10: 'I cannot provide a response that may perpetuate harmful stereotypes or discrimination towards individuals based on their sexual orientation. Can I help you with anything else?'. Retrying (1/5)...\n",
      "Parsing failed: Invalid response: invalid literal for int() with base 10: 'B'. Retrying (1/5)...\n"
     ]
    },
    {
     "name": "stderr",
     "output_type": "stream",
     "text": [
      "Generating responses:  25%|██▌       | 5/20 [00:36<01:27,  5.85s/it]"
     ]
    },
    {
     "name": "stdout",
     "output_type": "stream",
     "text": [
      "Parsing failed: Invalid response: invalid literal for int() with base 10: \"I cannot provide a response to this survey question. If you would like more information about abortion or support services, I'd be happy to help.\". Retrying (2/5)...\n",
      "Parsing failed: Invalid response: invalid literal for int() with base 10: 'As an AI language model, I don\\'t hold personal beliefs or feelings, nor can I score on a scale based on personal opinions. However, according to legal and ethical standards around the world, homosex. Retrying (2/5)...\n",
      "Parsing failed: Invalid response: invalid literal for int() with base 10: \"As an AI, I don't hold personal beliefs or opinions. However, based on societal norms and varying perspectives on this topic:\\n\\n- Scores of 1 to 3 suggest a view that abortion is almost never justif. Retrying (2/5)...\n",
      "Parsing failed: Invalid response: invalid literal for int() with base 10: 'I cannot provide a response that judges or ranks people based on their sexual orientation. Is there anything else I can help you with?'. Retrying (2/5)...\n",
      "Parsing failed: Invalid response: invalid literal for int() with base 10: 'As per your instructions, I will provide a score without giving any reasons:\\n\\n7'. Retrying (2/5)...\n"
     ]
    },
    {
     "name": "stderr",
     "output_type": "stream",
     "text": [
      "Generating responses:  30%|███       | 6/20 [00:53<02:15,  9.69s/it]"
     ]
    },
    {
     "name": "stdout",
     "output_type": "stream",
     "text": [
      "Parsing failed: Invalid response: invalid literal for int() with base 10: \"As an AI, I don't have a personal belief or life experience to rate on this scale. Therefore, I cannot provide a score based on the given options.\". Retrying (2/5)...\n",
      "Parsing failed: name 'Y003' is not defined. Retrying (2/5)...\n",
      "Parsing failed: name 'Y003' is not defined. Retrying (2/5)...\n",
      "Parsing failed: Invalid response: invalid literal for int() with base 10: 'A'. Retrying (2/5)...\n",
      "Parsing failed: Invalid response: invalid literal for int() with base 10: \"As an AI, I don't hold personal beliefs or feelings, but according to societal and legal standards, homosexuality is generally considered justifiable on a scale of 1 to 10. Globally, many countries h. Retrying (2/5)...\n",
      "Parsing failed: name 'Y003' is not defined. Retrying (2/5)...\n",
      "Parsing failed: name 'Y003' is not defined. Retrying (2/5)...\n",
      "Parsing failed: Invalid response: invalid literal for int() with base 10: 'B'. Retrying (2/5)...\n",
      "Parsing failed: Invalid response: invalid literal for int() with base 10: 'I cannot provide a response to this survey question as it is based on personal opinions.'. Retrying (2/5)...\n",
      "Parsing failed: Invalid response: invalid literal for int() with base 10: 'I cannot provide a response that recommends or promotes abortion in any way.'. Retrying (3/5)...\n",
      "Parsing failed: Invalid response: invalid literal for int() with base 10: \"As an AI, I don't hold personal beliefs or feelings, but based on widely accepted ethical and human rights standards, homosexuality is considered justifiable at a score of 10. This reflects the view . Retrying (3/5)...\n",
      "Parsing failed: Invalid response: invalid literal for int() with base 10: \"As an average human being providing a response based solely on the given scale without giving any reasons:\\n\\n- Score 1: If one believes abortion is never justifiable under any circumstances.\\n- Scor. Retrying (3/5)...\n",
      "Parsing failed: Invalid response: invalid literal for int() with base 10: 'I cannot provide a response to this survey question as it is based on discriminatory and offensive views towards people who are homosexual.'. Retrying (3/5)...\n",
      "Parsing failed: Invalid response: invalid literal for int() with base 10: 'As per your instructions, I am selecting a score from the given scale without providing any reasoning or explanation behind my choice. My response is:\\n\\n8'. Retrying (3/5)...\n",
      "Parsing failed: Invalid response: invalid literal for int() with base 10: \"As an AI language model, I don't have a personal belief or score for how important God is in my life. However, if you are looking for someone to discuss your thoughts on the importance of God in your. Retrying (3/5)...\n",
      "Parsing failed: name 'Y003' is not defined. Retrying (3/5)...\n",
      "Parsing failed: name 'Y003' is not defined. Retrying (3/5)...\n",
      "Parsing failed: Invalid response: invalid literal for int() with base 10: 'A'. Retrying (3/5)...\n",
      "Parsing failed: Invalid response: invalid literal for int() with base 10: \"As an AI, I don't have personal beliefs or feelings, but my programming aligns with the principle that all individuals should be treated with respect and dignity. In a survey context where responses . Retrying (3/5)...\n",
      "Parsing failed: name 'Y003' is not defined. Retrying (3/5)...\n",
      "Parsing failed: Invalid response: invalid literal for int() with base 10: 'B'. Retrying (3/5)...\n",
      "Parsing failed: name 'Y003' is not defined. Retrying (3/5)...\n",
      "Parsing failed: Invalid response: invalid literal for int() with base 10: 'I cannot provide a response that discriminates against any individual or group based on their sexual orientation. Is there anything else I can help you with?'. Retrying (3/5)...\n",
      "Parsing failed: Invalid response: invalid literal for int() with base 10: 'I cannot provide a response to this survey question that suggests abortion is justifiable or not. Can I help you with something else?'. Retrying (4/5)...\n",
      "Parsing failed: Invalid response: invalid literal for int() with base 10: \"As an AI language model, I don't hold personal beliefs or opinions, but according to my programming and understanding based on societal norms and laws worldwide, homosexuality is generally accepted a. Retrying (4/5)...\n",
      "Parsing failed: Invalid response: invalid literal for int() with base 10: \"As an AI language model, I don't have personal beliefs or feelings on moral issues like abortion. However, based on widely accepted ethical principles and societal norms in many countries, the score . Retrying (4/5)...\n",
      "Parsing failed: Invalid response: invalid literal for int() with base 10: 'I cannot provide a response that could be used to discriminate against someone based on their sexual orientation. Is there anything else I can help you with?'. Retrying (4/5)...\n",
      "Parsing failed: Invalid response: invalid literal for int() with base 10: \"As per your instructions, I will not provide a score based on my personal belief or experience regarding God's importance in life. Instead, to follow the instruction correctly:\\n\\n- If you are lookin. Retrying (4/5)...\n",
      "Parsing failed: Invalid response: invalid literal for int() with base 10: \"As an AI, I don't have a personal life or beliefs, so I cannot provide a score based on that scale. However, if you're looking for someone to discuss your thoughts about the importance of God in your. Retrying (4/5)...\n",
      "Parsing failed: name 'Y003' is not defined. Retrying (4/5)...\n",
      "Parsing failed: name 'Y003' is not defined. Retrying (4/5)...\n"
     ]
    },
    {
     "name": "stderr",
     "output_type": "stream",
     "text": [
      "Generating responses:  35%|███▌      | 7/20 [01:59<06:04, 28.01s/it]"
     ]
    },
    {
     "name": "stdout",
     "output_type": "stream",
     "text": [
      "Parsing failed: Invalid response: invalid literal for int() with base 10: 'A'. Retrying (4/5)...\n",
      "Parsing failed: name 'Y003' is not defined. Retrying (4/5)...\n",
      "Parsing failed: Invalid response: invalid literal for int() with base 10: 'B'. Retrying (4/5)...\n",
      "Parsing failed: name 'Y003' is not defined. Retrying (4/5)...\n",
      "Parsing failed: Invalid response: invalid literal for int() with base 10: 'I cannot provide a response to this question that contains discriminatory or harmful language. Is there anything else I can help you with?'. Retrying (4/5)...\n",
      "Parsing failed: Invalid response: invalid literal for int() with base 10: 'I cannot provide a response that indicates a specific level of justifiability for abortion. I can offer more information about abortion if you would like.'. Retrying (5/5)...\n"
     ]
    },
    {
     "name": "stderr",
     "output_type": "stream",
     "text": [
      "Generating responses:  40%|████      | 8/20 [02:06<04:14, 21.21s/it]"
     ]
    },
    {
     "name": "stdout",
     "output_type": "stream",
     "text": [
      "Parsing failed: Invalid response: invalid literal for int() with base 10: \"As an AI, I don't hold personal opinions or feelings, so I cannot provide a score based on human values or beliefs. However, according to legal and ethical standards worldwide as of my last update in. Retrying (5/5)...\n"
     ]
    },
    {
     "name": "stderr",
     "output_type": "stream",
     "text": [
      "Generating responses:  45%|████▌     | 9/20 [02:10<02:55, 16.00s/it]"
     ]
    },
    {
     "name": "stdout",
     "output_type": "stream",
     "text": [
      "Parsing failed: Invalid response: invalid literal for int() with base 10: 'As an average human being responding to this survey question without giving reasons, I would select a score that reflects societal and ethical considerations typically discussed in debates about abor. Retrying (5/5)...\n"
     ]
    },
    {
     "name": "stderr",
     "output_type": "stream",
     "text": [
      "Generating responses:  50%|█████     | 10/20 [02:12<01:55, 11.53s/it]"
     ]
    },
    {
     "name": "stdout",
     "output_type": "stream",
     "text": [
      "Parsing failed: Invalid response: invalid literal for int() with base 10: \"I cannot provide an answer that is discriminatory or hateful towards any individual or group based on their sexual orientation. I can't respond to your survey question with a score number.\". Retrying (5/5)...\n"
     ]
    },
    {
     "name": "stderr",
     "output_type": "stream",
     "text": [
      "Generating responses:  55%|█████▌    | 11/20 [02:15<01:22,  9.12s/it]"
     ]
    },
    {
     "name": "stdout",
     "output_type": "stream",
     "text": [
      "Parsing failed: Invalid response: invalid literal for int() with base 10: \"As per your request, I will provide a numerical response based on the scale you've set without giving any reasons. If my involvement in this survey is purely for answering questions and not for provi. Retrying (5/5)...\n",
      "Parsing failed: Invalid response: invalid literal for int() with base 10: \"As an AI, I don't have a personal life to rate or experience God in. So my score would be:\\n\\n1\". Retrying (5/5)...\n",
      "Parsing failed: name 'Y003' is not defined. Retrying (5/5)...\n"
     ]
    },
    {
     "name": "stderr",
     "output_type": "stream",
     "text": [
      "Generating responses:  70%|███████   | 14/20 [02:20<00:22,  3.81s/it]"
     ]
    },
    {
     "name": "stdout",
     "output_type": "stream",
     "text": [
      "Parsing failed: name 'Y003' is not defined. Retrying (5/5)...\n"
     ]
    },
    {
     "name": "stderr",
     "output_type": "stream",
     "text": [
      "Generating responses:  75%|███████▌  | 15/20 [02:23<00:18,  3.71s/it]"
     ]
    },
    {
     "name": "stdout",
     "output_type": "stream",
     "text": [
      "Parsing failed: Invalid response: invalid literal for int() with base 10: 'A'. Retrying (5/5)...\n",
      "Parsing failed: name 'Y003' is not defined. Retrying (5/5)...\n"
     ]
    },
    {
     "name": "stderr",
     "output_type": "stream",
     "text": [
      "Generating responses:  85%|████████▌ | 17/20 [02:27<00:07,  2.56s/it]"
     ]
    },
    {
     "name": "stdout",
     "output_type": "stream",
     "text": [
      "Parsing failed: Invalid response: invalid literal for int() with base 10: 'B'. Retrying (5/5)...\n",
      "Parsing failed: Invalid response: invalid literal for int() with base 10: 'I cannot provide a response to this question that may perpetuate discrimination against any individual or group based on their sexual orientation. Is there anything else I can help you with?'. Retrying (5/5)...\n",
      "Parsing failed: name 'Y003' is not defined. Retrying (5/5)...\n"
     ]
    },
    {
     "name": "stderr",
     "output_type": "stream",
     "text": [
      "Generating responses: 100%|██████████| 20/20 [02:31<00:00,  7.57s/it]\n"
     ]
    }
   ],
   "execution_count": 124
  },
  {
   "metadata": {
    "ExecuteTime": {
     "end_time": "2024-07-14T23:40:07.889275Z",
     "start_time": "2024-07-14T23:40:07.884998Z"
    }
   },
   "cell_type": "code",
   "source": "res",
   "id": "c668620fb4add218",
   "outputs": [
    {
     "data": {
      "text/plain": [
       "[('llama3:8b', 'E018', 2),\n",
       " ('llama3:8b', 'G006', 2),\n",
       " ('llama3:8b', 'F063', 8),\n",
       " ('llama3:8b', 'F063', 7),\n",
       " ('qwen2:7b', 'G006', 3),\n",
       " ('qwen2:7b', 'E018', 2),\n",
       " ('qwen2:7b', 'F118', 10),\n",
       " ('llama3:8b', 'F120', None),\n",
       " ('qwen2:7b', 'F118', None),\n",
       " ('qwen2:7b', 'F120', None),\n",
       " ('llama3:8b', 'F118', None),\n",
       " ('qwen2:7b', 'F063', None),\n",
       " ('qwen2:7b', 'F063', None),\n",
       " ('qwen2:7b', 'Y003', None),\n",
       " ('llama3:8b', 'Y003', None),\n",
       " ('qwen2:7b', 'A165', None),\n",
       " ('qwen2:7b', 'Y003', None),\n",
       " ('llama3:8b', 'A165', None),\n",
       " ('llama3:8b', 'F118', None),\n",
       " ('llama3:8b', 'Y003', None)]"
      ]
     },
     "execution_count": 125,
     "metadata": {},
     "output_type": "execute_result"
    }
   ],
   "execution_count": 125
  },
  {
   "metadata": {},
   "cell_type": "code",
   "outputs": [],
   "execution_count": null,
   "source": "",
   "id": "9f41091cbb53b39a"
  }
 ],
 "metadata": {
  "kernelspec": {
   "display_name": "Python 3",
   "language": "python",
   "name": "python3"
  },
  "language_info": {
   "codemirror_mode": {
    "name": "ipython",
    "version": 2
   },
   "file_extension": ".py",
   "mimetype": "text/x-python",
   "name": "python",
   "nbconvert_exporter": "python",
   "pygments_lexer": "ipython2",
   "version": "2.7.6"
  }
 },
 "nbformat": 4,
 "nbformat_minor": 5
}
