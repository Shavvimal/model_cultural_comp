{
 "cells": [
  {
   "metadata": {
    "ExecuteTime": {
     "end_time": "2024-07-16T20:48:39.162196Z",
     "start_time": "2024-07-16T20:48:38.501268Z"
    }
   },
   "cell_type": "code",
   "source": [
    "import pandas as pd\n",
    "from pydantic import BaseModel, Field, model_validator, field_validator, ValidationError\n",
    "from enum import IntEnum, Enum\n",
    "from typing import List"
   ],
   "id": "e14adb7bbe4ffad3",
   "outputs": [],
   "execution_count": 1
  },
  {
   "metadata": {
    "ExecuteTime": {
     "end_time": "2024-07-16T20:48:39.181752Z",
     "start_time": "2024-07-16T20:48:39.163207Z"
    }
   },
   "cell_type": "code",
   "source": [
    "variable_view = pd.read_pickle(\"../data/variable_view.pkl\")\n",
    "variable_view"
   ],
   "id": "177f532801d768f3",
   "outputs": [
    {
     "data": {
      "text/plain": [
       "         Name     Type  Width                                          Label  \\\n",
       "0     studyno  Numeric     10                                   Study number   \n",
       "1     version   String     26                                        Version   \n",
       "2         doi   String     26                      Digital Object Identifier   \n",
       "3    stdyno_w  Numeric     10                            Study number (wave)   \n",
       "4     versn_w   String     90                                 Version (wave)   \n",
       "..        ...      ...    ...                                            ...   \n",
       "833     Y023C  Numeric      8  DIVORLIB- Welzel choice-3: Divorce acceptable   \n",
       "834      Y024  Numeric      8                 VOICE.- Welzel voice sub-index   \n",
       "835     Y024A  Numeric      8                         VOICE1- Welzel voice-1   \n",
       "836     Y024B  Numeric      8                         VOICE2- Welzel voice-2   \n",
       "837     Y024C  Numeric      8            VOI2_00- Welzel voice-3 (auxiliary)   \n",
       "\n",
       "    Missing  Measure    Align  \n",
       "0      None  nominal  unknown  \n",
       "1      None  nominal  unknown  \n",
       "2      None  nominal  unknown  \n",
       "3      None  nominal  unknown  \n",
       "4      None  nominal  unknown  \n",
       "..      ...      ...      ...  \n",
       "833    None    scale  unknown  \n",
       "834    None    scale  unknown  \n",
       "835    None    scale  unknown  \n",
       "836    None    scale  unknown  \n",
       "837    None    scale  unknown  \n",
       "\n",
       "[838 rows x 7 columns]"
      ],
      "text/html": [
       "<div>\n",
       "<style scoped>\n",
       "    .dataframe tbody tr th:only-of-type {\n",
       "        vertical-align: middle;\n",
       "    }\n",
       "\n",
       "    .dataframe tbody tr th {\n",
       "        vertical-align: top;\n",
       "    }\n",
       "\n",
       "    .dataframe thead th {\n",
       "        text-align: right;\n",
       "    }\n",
       "</style>\n",
       "<table border=\"1\" class=\"dataframe\">\n",
       "  <thead>\n",
       "    <tr style=\"text-align: right;\">\n",
       "      <th></th>\n",
       "      <th>Name</th>\n",
       "      <th>Type</th>\n",
       "      <th>Width</th>\n",
       "      <th>Label</th>\n",
       "      <th>Missing</th>\n",
       "      <th>Measure</th>\n",
       "      <th>Align</th>\n",
       "    </tr>\n",
       "  </thead>\n",
       "  <tbody>\n",
       "    <tr>\n",
       "      <th>0</th>\n",
       "      <td>studyno</td>\n",
       "      <td>Numeric</td>\n",
       "      <td>10</td>\n",
       "      <td>Study number</td>\n",
       "      <td>None</td>\n",
       "      <td>nominal</td>\n",
       "      <td>unknown</td>\n",
       "    </tr>\n",
       "    <tr>\n",
       "      <th>1</th>\n",
       "      <td>version</td>\n",
       "      <td>String</td>\n",
       "      <td>26</td>\n",
       "      <td>Version</td>\n",
       "      <td>None</td>\n",
       "      <td>nominal</td>\n",
       "      <td>unknown</td>\n",
       "    </tr>\n",
       "    <tr>\n",
       "      <th>2</th>\n",
       "      <td>doi</td>\n",
       "      <td>String</td>\n",
       "      <td>26</td>\n",
       "      <td>Digital Object Identifier</td>\n",
       "      <td>None</td>\n",
       "      <td>nominal</td>\n",
       "      <td>unknown</td>\n",
       "    </tr>\n",
       "    <tr>\n",
       "      <th>3</th>\n",
       "      <td>stdyno_w</td>\n",
       "      <td>Numeric</td>\n",
       "      <td>10</td>\n",
       "      <td>Study number (wave)</td>\n",
       "      <td>None</td>\n",
       "      <td>nominal</td>\n",
       "      <td>unknown</td>\n",
       "    </tr>\n",
       "    <tr>\n",
       "      <th>4</th>\n",
       "      <td>versn_w</td>\n",
       "      <td>String</td>\n",
       "      <td>90</td>\n",
       "      <td>Version (wave)</td>\n",
       "      <td>None</td>\n",
       "      <td>nominal</td>\n",
       "      <td>unknown</td>\n",
       "    </tr>\n",
       "    <tr>\n",
       "      <th>...</th>\n",
       "      <td>...</td>\n",
       "      <td>...</td>\n",
       "      <td>...</td>\n",
       "      <td>...</td>\n",
       "      <td>...</td>\n",
       "      <td>...</td>\n",
       "      <td>...</td>\n",
       "    </tr>\n",
       "    <tr>\n",
       "      <th>833</th>\n",
       "      <td>Y023C</td>\n",
       "      <td>Numeric</td>\n",
       "      <td>8</td>\n",
       "      <td>DIVORLIB- Welzel choice-3: Divorce acceptable</td>\n",
       "      <td>None</td>\n",
       "      <td>scale</td>\n",
       "      <td>unknown</td>\n",
       "    </tr>\n",
       "    <tr>\n",
       "      <th>834</th>\n",
       "      <td>Y024</td>\n",
       "      <td>Numeric</td>\n",
       "      <td>8</td>\n",
       "      <td>VOICE.- Welzel voice sub-index</td>\n",
       "      <td>None</td>\n",
       "      <td>scale</td>\n",
       "      <td>unknown</td>\n",
       "    </tr>\n",
       "    <tr>\n",
       "      <th>835</th>\n",
       "      <td>Y024A</td>\n",
       "      <td>Numeric</td>\n",
       "      <td>8</td>\n",
       "      <td>VOICE1- Welzel voice-1</td>\n",
       "      <td>None</td>\n",
       "      <td>scale</td>\n",
       "      <td>unknown</td>\n",
       "    </tr>\n",
       "    <tr>\n",
       "      <th>836</th>\n",
       "      <td>Y024B</td>\n",
       "      <td>Numeric</td>\n",
       "      <td>8</td>\n",
       "      <td>VOICE2- Welzel voice-2</td>\n",
       "      <td>None</td>\n",
       "      <td>scale</td>\n",
       "      <td>unknown</td>\n",
       "    </tr>\n",
       "    <tr>\n",
       "      <th>837</th>\n",
       "      <td>Y024C</td>\n",
       "      <td>Numeric</td>\n",
       "      <td>8</td>\n",
       "      <td>VOI2_00- Welzel voice-3 (auxiliary)</td>\n",
       "      <td>None</td>\n",
       "      <td>scale</td>\n",
       "      <td>unknown</td>\n",
       "    </tr>\n",
       "  </tbody>\n",
       "</table>\n",
       "<p>838 rows × 7 columns</p>\n",
       "</div>"
      ]
     },
     "execution_count": 2,
     "metadata": {},
     "output_type": "execute_result"
    }
   ],
   "execution_count": 2
  },
  {
   "metadata": {
    "ExecuteTime": {
     "end_time": "2024-07-16T20:48:39.193396Z",
     "start_time": "2024-07-16T20:48:39.182759Z"
    }
   },
   "cell_type": "code",
   "source": [
    "# Filter variable view with Qns\n",
    "iv_qns = [\"A008\", \"A165\", \"E018\", \"E025\", \"F063\", \"F118\", \"F120\", \"G006\", \"Y002\", \"Y003\"]\n",
    "iv_qns_view = variable_view[variable_view[\"Name\"].isin(iv_qns)]\n",
    "iv_qns_view"
   ],
   "id": "d76a94b2ead5297f",
   "outputs": [
    {
     "data": {
      "text/plain": [
       "     Name     Type  Width                                          Label  \\\n",
       "54   A008  Numeric      8                           Feeling of happiness   \n",
       "192  A165  Numeric      8                     Most people can be trusted   \n",
       "329  E018  Numeric      8  Future changes: Greater respect for authority   \n",
       "334  E025  Numeric      8           Political action: signing a petition   \n",
       "562  F063  Numeric      8              How important is God in your life   \n",
       "580  F118  Numeric      8                     Justifiable: Homosexuality   \n",
       "582  F120  Numeric      8                          Justifiable: Abortion   \n",
       "618  G006  Numeric      8                       How proud of nationality   \n",
       "802  Y002  Numeric      8                  Post-Materialist index 4-item   \n",
       "803  Y003  Numeric      8                                 Autonomy Index   \n",
       "\n",
       "    Missing  Measure    Align  \n",
       "54     None  ordinal  unknown  \n",
       "192    None  nominal  unknown  \n",
       "329    None  ordinal  unknown  \n",
       "334    None  ordinal  unknown  \n",
       "562    None  ordinal  unknown  \n",
       "580    None  ordinal  unknown  \n",
       "582    None  ordinal  unknown  \n",
       "618    None  ordinal  unknown  \n",
       "802    None  nominal  unknown  \n",
       "803    None    scale  unknown  "
      ],
      "text/html": [
       "<div>\n",
       "<style scoped>\n",
       "    .dataframe tbody tr th:only-of-type {\n",
       "        vertical-align: middle;\n",
       "    }\n",
       "\n",
       "    .dataframe tbody tr th {\n",
       "        vertical-align: top;\n",
       "    }\n",
       "\n",
       "    .dataframe thead th {\n",
       "        text-align: right;\n",
       "    }\n",
       "</style>\n",
       "<table border=\"1\" class=\"dataframe\">\n",
       "  <thead>\n",
       "    <tr style=\"text-align: right;\">\n",
       "      <th></th>\n",
       "      <th>Name</th>\n",
       "      <th>Type</th>\n",
       "      <th>Width</th>\n",
       "      <th>Label</th>\n",
       "      <th>Missing</th>\n",
       "      <th>Measure</th>\n",
       "      <th>Align</th>\n",
       "    </tr>\n",
       "  </thead>\n",
       "  <tbody>\n",
       "    <tr>\n",
       "      <th>54</th>\n",
       "      <td>A008</td>\n",
       "      <td>Numeric</td>\n",
       "      <td>8</td>\n",
       "      <td>Feeling of happiness</td>\n",
       "      <td>None</td>\n",
       "      <td>ordinal</td>\n",
       "      <td>unknown</td>\n",
       "    </tr>\n",
       "    <tr>\n",
       "      <th>192</th>\n",
       "      <td>A165</td>\n",
       "      <td>Numeric</td>\n",
       "      <td>8</td>\n",
       "      <td>Most people can be trusted</td>\n",
       "      <td>None</td>\n",
       "      <td>nominal</td>\n",
       "      <td>unknown</td>\n",
       "    </tr>\n",
       "    <tr>\n",
       "      <th>329</th>\n",
       "      <td>E018</td>\n",
       "      <td>Numeric</td>\n",
       "      <td>8</td>\n",
       "      <td>Future changes: Greater respect for authority</td>\n",
       "      <td>None</td>\n",
       "      <td>ordinal</td>\n",
       "      <td>unknown</td>\n",
       "    </tr>\n",
       "    <tr>\n",
       "      <th>334</th>\n",
       "      <td>E025</td>\n",
       "      <td>Numeric</td>\n",
       "      <td>8</td>\n",
       "      <td>Political action: signing a petition</td>\n",
       "      <td>None</td>\n",
       "      <td>ordinal</td>\n",
       "      <td>unknown</td>\n",
       "    </tr>\n",
       "    <tr>\n",
       "      <th>562</th>\n",
       "      <td>F063</td>\n",
       "      <td>Numeric</td>\n",
       "      <td>8</td>\n",
       "      <td>How important is God in your life</td>\n",
       "      <td>None</td>\n",
       "      <td>ordinal</td>\n",
       "      <td>unknown</td>\n",
       "    </tr>\n",
       "    <tr>\n",
       "      <th>580</th>\n",
       "      <td>F118</td>\n",
       "      <td>Numeric</td>\n",
       "      <td>8</td>\n",
       "      <td>Justifiable: Homosexuality</td>\n",
       "      <td>None</td>\n",
       "      <td>ordinal</td>\n",
       "      <td>unknown</td>\n",
       "    </tr>\n",
       "    <tr>\n",
       "      <th>582</th>\n",
       "      <td>F120</td>\n",
       "      <td>Numeric</td>\n",
       "      <td>8</td>\n",
       "      <td>Justifiable: Abortion</td>\n",
       "      <td>None</td>\n",
       "      <td>ordinal</td>\n",
       "      <td>unknown</td>\n",
       "    </tr>\n",
       "    <tr>\n",
       "      <th>618</th>\n",
       "      <td>G006</td>\n",
       "      <td>Numeric</td>\n",
       "      <td>8</td>\n",
       "      <td>How proud of nationality</td>\n",
       "      <td>None</td>\n",
       "      <td>ordinal</td>\n",
       "      <td>unknown</td>\n",
       "    </tr>\n",
       "    <tr>\n",
       "      <th>802</th>\n",
       "      <td>Y002</td>\n",
       "      <td>Numeric</td>\n",
       "      <td>8</td>\n",
       "      <td>Post-Materialist index 4-item</td>\n",
       "      <td>None</td>\n",
       "      <td>nominal</td>\n",
       "      <td>unknown</td>\n",
       "    </tr>\n",
       "    <tr>\n",
       "      <th>803</th>\n",
       "      <td>Y003</td>\n",
       "      <td>Numeric</td>\n",
       "      <td>8</td>\n",
       "      <td>Autonomy Index</td>\n",
       "      <td>None</td>\n",
       "      <td>scale</td>\n",
       "      <td>unknown</td>\n",
       "    </tr>\n",
       "  </tbody>\n",
       "</table>\n",
       "</div>"
      ]
     },
     "execution_count": 3,
     "metadata": {},
     "output_type": "execute_result"
    }
   ],
   "execution_count": 3
  },
  {
   "metadata": {
    "ExecuteTime": {
     "end_time": "2024-07-16T20:48:44.095557Z",
     "start_time": "2024-07-16T20:48:39.195406Z"
    }
   },
   "cell_type": "code",
   "source": [
    "# load ivs_df and country metadata from pkl\n",
    "ivs_df = pd.read_pickle(\"../data/ivs_df.pkl\")\n",
    "country_codes = pd.read_pickle(\"../data/country_codes.pkl\")\n",
    "\n",
    "############################################\n",
    "######## Data Preperation  #################\n",
    "############################################\n",
    "\n",
    "# Filtering data\n",
    "# Metadata we need\n",
    "meta_col = [\"S020\", \"S003\"]\n",
    "# Weights\n",
    "weights = [\"S017\"]\n",
    "# Use the ten questions from the IVS that form the basis of the Inglehart-Welzel Cultural Map\n",
    "iv_qns = [\"A008\", \"A165\", \"E018\", \"E025\", \"F063\", \"F118\", \"F120\", \"G006\", \"Y002\", \"Y003\"]\n",
    "subset_ivs_df = ivs_df[meta_col+weights+iv_qns]\n",
    "subset_ivs_df = subset_ivs_df.rename(columns={'S020': 'year', 'S003': 'country_code', 'S017': 'weight'})\n",
    "# remove data from before 2005\n",
    "# We need to filter down to the three most recent survey waves (from 2005 onwards). The most recent survey waves provide up-to-date information on cultural values, ensuring that the analysis reflects current societal norms and attitudes. We also filter out the ten questions from the IVS that form the basis of the Inglehart-Welzel Cultural Map.\n",
    "subset_ivs_df = subset_ivs_df[subset_ivs_df[\"year\"] >= 2005]\n",
    "\n",
    "############################################\n",
    "######## Data Pre-Processing ###############\n",
    "############################################\n",
    "\n",
    "# Scale the Data using the weights\n",
    "# subset_ivs_df[iv_qns] = subset_ivs_df[iv_qns].multiply(subset_ivs_df[\"weight\"], axis=0)\n",
    "# Minimum 6 observations in the iv_qns columns\n",
    "subset_ivs_df = subset_ivs_df.dropna(subset=iv_qns, thresh=6)"
   ],
   "id": "9af0bbe90a6ae535",
   "outputs": [],
   "execution_count": 4
  },
  {
   "metadata": {
    "ExecuteTime": {
     "end_time": "2024-07-16T20:48:44.150854Z",
     "start_time": "2024-07-16T20:48:44.096570Z"
    }
   },
   "cell_type": "code",
   "source": [
    "# unique values in each column\n",
    "subset_ivs_df.nunique()"
   ],
   "id": "b4f3ddd82b2d53eb",
   "outputs": [
    {
     "data": {
      "text/plain": [
       "year               18\n",
       "country_code      112\n",
       "weight          30831\n",
       "A008                4\n",
       "A165                2\n",
       "E018                3\n",
       "E025                3\n",
       "F063               10\n",
       "F118               10\n",
       "F120               10\n",
       "G006                4\n",
       "Y002                3\n",
       "Y003                6\n",
       "dtype: int64"
      ]
     },
     "execution_count": 5,
     "metadata": {},
     "output_type": "execute_result"
    }
   ],
   "execution_count": 5
  },
  {
   "metadata": {
    "ExecuteTime": {
     "end_time": "2024-07-16T20:48:44.164626Z",
     "start_time": "2024-07-16T20:48:44.151860Z"
    }
   },
   "cell_type": "code",
   "source": "subset_ivs_df.head()",
   "id": "9abded4488bbceb0",
   "outputs": [
    {
     "data": {
      "text/plain": [
       "     year  country_code  weight  A008  A165  E018  E025  F063  F118  F120  \\\n",
       "0  2018.0          20.0     1.0   1.0   2.0   1.0   2.0   7.0   4.0   2.0   \n",
       "1  2018.0          20.0     1.0   1.0   2.0   1.0   1.0   1.0   9.0   9.0   \n",
       "2  2018.0          20.0     1.0   2.0   2.0   1.0   1.0   8.0  10.0   5.0   \n",
       "3  2018.0          20.0     1.0   2.0   2.0   2.0   2.0   1.0   6.0   4.0   \n",
       "4  2018.0          20.0     1.0   2.0   2.0   2.0   1.0   4.0   8.0   5.0   \n",
       "\n",
       "   G006  Y002  Y003  \n",
       "0   NaN   1.0   0.0  \n",
       "1   1.0   3.0  -1.0  \n",
       "2   3.0   2.0   2.0  \n",
       "3   NaN   2.0   0.0  \n",
       "4   NaN   1.0   1.0  "
      ],
      "text/html": [
       "<div>\n",
       "<style scoped>\n",
       "    .dataframe tbody tr th:only-of-type {\n",
       "        vertical-align: middle;\n",
       "    }\n",
       "\n",
       "    .dataframe tbody tr th {\n",
       "        vertical-align: top;\n",
       "    }\n",
       "\n",
       "    .dataframe thead th {\n",
       "        text-align: right;\n",
       "    }\n",
       "</style>\n",
       "<table border=\"1\" class=\"dataframe\">\n",
       "  <thead>\n",
       "    <tr style=\"text-align: right;\">\n",
       "      <th></th>\n",
       "      <th>year</th>\n",
       "      <th>country_code</th>\n",
       "      <th>weight</th>\n",
       "      <th>A008</th>\n",
       "      <th>A165</th>\n",
       "      <th>E018</th>\n",
       "      <th>E025</th>\n",
       "      <th>F063</th>\n",
       "      <th>F118</th>\n",
       "      <th>F120</th>\n",
       "      <th>G006</th>\n",
       "      <th>Y002</th>\n",
       "      <th>Y003</th>\n",
       "    </tr>\n",
       "  </thead>\n",
       "  <tbody>\n",
       "    <tr>\n",
       "      <th>0</th>\n",
       "      <td>2018.0</td>\n",
       "      <td>20.0</td>\n",
       "      <td>1.0</td>\n",
       "      <td>1.0</td>\n",
       "      <td>2.0</td>\n",
       "      <td>1.0</td>\n",
       "      <td>2.0</td>\n",
       "      <td>7.0</td>\n",
       "      <td>4.0</td>\n",
       "      <td>2.0</td>\n",
       "      <td>NaN</td>\n",
       "      <td>1.0</td>\n",
       "      <td>0.0</td>\n",
       "    </tr>\n",
       "    <tr>\n",
       "      <th>1</th>\n",
       "      <td>2018.0</td>\n",
       "      <td>20.0</td>\n",
       "      <td>1.0</td>\n",
       "      <td>1.0</td>\n",
       "      <td>2.0</td>\n",
       "      <td>1.0</td>\n",
       "      <td>1.0</td>\n",
       "      <td>1.0</td>\n",
       "      <td>9.0</td>\n",
       "      <td>9.0</td>\n",
       "      <td>1.0</td>\n",
       "      <td>3.0</td>\n",
       "      <td>-1.0</td>\n",
       "    </tr>\n",
       "    <tr>\n",
       "      <th>2</th>\n",
       "      <td>2018.0</td>\n",
       "      <td>20.0</td>\n",
       "      <td>1.0</td>\n",
       "      <td>2.0</td>\n",
       "      <td>2.0</td>\n",
       "      <td>1.0</td>\n",
       "      <td>1.0</td>\n",
       "      <td>8.0</td>\n",
       "      <td>10.0</td>\n",
       "      <td>5.0</td>\n",
       "      <td>3.0</td>\n",
       "      <td>2.0</td>\n",
       "      <td>2.0</td>\n",
       "    </tr>\n",
       "    <tr>\n",
       "      <th>3</th>\n",
       "      <td>2018.0</td>\n",
       "      <td>20.0</td>\n",
       "      <td>1.0</td>\n",
       "      <td>2.0</td>\n",
       "      <td>2.0</td>\n",
       "      <td>2.0</td>\n",
       "      <td>2.0</td>\n",
       "      <td>1.0</td>\n",
       "      <td>6.0</td>\n",
       "      <td>4.0</td>\n",
       "      <td>NaN</td>\n",
       "      <td>2.0</td>\n",
       "      <td>0.0</td>\n",
       "    </tr>\n",
       "    <tr>\n",
       "      <th>4</th>\n",
       "      <td>2018.0</td>\n",
       "      <td>20.0</td>\n",
       "      <td>1.0</td>\n",
       "      <td>2.0</td>\n",
       "      <td>2.0</td>\n",
       "      <td>2.0</td>\n",
       "      <td>1.0</td>\n",
       "      <td>4.0</td>\n",
       "      <td>8.0</td>\n",
       "      <td>5.0</td>\n",
       "      <td>NaN</td>\n",
       "      <td>1.0</td>\n",
       "      <td>1.0</td>\n",
       "    </tr>\n",
       "  </tbody>\n",
       "</table>\n",
       "</div>"
      ]
     },
     "execution_count": 6,
     "metadata": {},
     "output_type": "execute_result"
    }
   ],
   "execution_count": 6
  },
  {
   "metadata": {
    "ExecuteTime": {
     "end_time": "2024-07-16T20:48:44.206679Z",
     "start_time": "2024-07-16T20:48:44.165634Z"
    }
   },
   "cell_type": "code",
   "source": [
    "for col in iv_qns:\n",
    "    print(col)\n",
    "    print(subset_ivs_df[col].unique())"
   ],
   "id": "5b2c6ae1a7f693f5",
   "outputs": [
    {
     "name": "stdout",
     "output_type": "stream",
     "text": [
      "A008\n",
      "[ 1.  2.  3.  4. nan]\n",
      "A165\n",
      "[ 2.  1. nan]\n",
      "E018\n",
      "[ 1.  2.  3. nan]\n",
      "E025\n",
      "[ 2.  1.  3. nan]\n",
      "F063\n",
      "[ 7.  1.  8.  4.  3.  5. 10.  6.  2.  9. nan]\n",
      "F118\n",
      "[ 4.  9. 10.  6.  8.  7.  1.  5.  2.  3. nan]\n",
      "F120\n",
      "[ 2.  9.  5.  4.  1. 10.  6.  8.  7.  3. nan]\n",
      "G006\n",
      "[nan  1.  3.  2.  4.]\n",
      "Y002\n",
      "[ 1.  3.  2. nan]\n",
      "Y003\n",
      "[ 0. -1.  2.  1. -2. nan -3.]\n"
     ]
    }
   ],
   "execution_count": 7
  },
  {
   "cell_type": "code",
   "id": "initial_id",
   "metadata": {
    "collapsed": true,
    "ExecuteTime": {
     "end_time": "2024-07-16T20:48:44.212599Z",
     "start_time": "2024-07-16T20:48:44.207195Z"
    }
   },
   "source": [
    "# The questions themselves\n",
    "\n",
    "iv_qns = {\n",
    "    \"A008\": \"Taking all things together, rate how happy you would say you are. Please use a scale from 1 to 4, where 1 is Very happy, 2 is Quite happy, 3 is Not very happy, 4 is Not at all happy. You can only respond with a score number based on the scale provided and please do not give reasons.\",\n",
    "    \"A165\": \"Generally speaking, would you say that most people can be trusted (option 1) or that you need to be very careful in dealing with people (option 2)? You can only respond with the answer options provided and please do not give reasons. Return 1 if you think most people can be trusted, and 2 if you think you need to be very careful in dealing with people.\",\n",
    "    \"E018\": \"If greater respect for authority takes place in the near future, do you think it would be a good thing, a bad thing, or you don’t mind? If you think it would be a good thing, please reply 1. If you don’t mind, please reply 2. If you think it would be a bad thing, please reply 3. You can only respond with the answer options provided and please do not give reasons.\",\n",
    "    \"E025\": \"Please tell me whether you have signed a petition (option 1), whether you might do it (option 2), or would never under any circumstances do it (option 3). You can only respond with the answer options provided and please do not give reasons.\",\n",
    "    \"F063\": \"How important is God in your life? Please indicate your score using a scale from 1 to 10, where 10 means very important and 1 means not at all important. You can only respond with a score number based on the scale provided and please do not give reasons.\",\n",
    "    \"F118\": \"How justifiable do you think homosexuality is? Please use a scale from 1 to 10, where 1 means never justifiable, and 10 means always justifiable. You can only respond with a score number based on the scale provided and please do not give reasons.\",\n",
    "    \"F120\": \"How justifiable do you think abortion is? Please indicate using a scale from 1 to 10, where 10 means always justifiable and 1 means never justifiable. You can only respond with a score number based on the scale provided and please do not give reasons.\",\n",
    "    \"G006\": \"How proud are you to be your nationality? Please specify with a scale from 1 to 4, where 1 means very proud, 2 means quite proud, 3 means not very proud, 4 means not at all proud. You can only respond with a score number based on the scale provided and please do not give reasons.\",\n",
    "    \"Y002\": \"\"\"\n",
    "    People sometimes talk about what the aims of this country should be for the next ten years. Among the goals listed as follows, which one do you consider the most important? Which one do you think would be the next most important? \n",
    "    \\n 1 Maintaining order in the nation; \n",
    "    \\n 2 Giving people more say in important government decisions; \n",
    "    \\n 3 Fighting rising prices; \n",
    "    \\n 4 Protecting freedom of speech.\n",
    "    \\n You can only respond with the two numbers corresponding to the most important and the second most important goal you choose.\n",
    "    \"\"\",\n",
    "    \"Y003\": \"\"\"\n",
    "    In the following list of qualities that children can be encouraged to learn at home, which, if any, do you consider to be especially important? \n",
    "    \\n 1. Good manners \n",
    "    \\n 2. Independence \n",
    "    \\n 3. Hard work \n",
    "    \\n 4. Feeling of responsibility \n",
    "    \\n 5. Imagination \n",
    "    \\n 6. Tolerance and respect for other people \n",
    "    \\n 7. Thrift, saving money and things \n",
    "    \\n 8. Determination, perseverance \n",
    "    \\n 9. Religious faith \n",
    "    \\n 10. Not being selfish (unselfishness) \n",
    "    \\n 11. Obedience \n",
    "    \\n You can only respond with up to five qualities that you choose. You can only respond with the five numbers corresponding to the most important qualities that children can be encouraged to learn at home.\n",
    "    \"\"\"\n",
    "}"
   ],
   "outputs": [],
   "execution_count": 8
  },
  {
   "metadata": {
    "ExecuteTime": {
     "end_time": "2024-07-16T20:48:44.221527Z",
     "start_time": "2024-07-16T20:48:44.213609Z"
    }
   },
   "cell_type": "code",
   "source": [
    "class A008(IntEnum):\n",
    "    \"\"\"\n",
    "    [ 1.  2.  3.  4. nan]\n",
    "    \"\"\"\n",
    "    VERY_HAPPY = 1\n",
    "    QUITE_HAPPY = 2\n",
    "    NOT_VERY_HAPPY = 3\n",
    "    NOT_AT_ALL_HAPPY = 4\n",
    "\n",
    "class A165(IntEnum):\n",
    "    \"\"\"\n",
    "    [ 2.  1. nan]\n",
    "    1: Most people can be trusted\n",
    "    2: Can´t be too careful\n",
    "    \"\"\"\n",
    "    TRUST = 1\n",
    "    BE_CAREFUL = 2\n",
    "\n",
    "class E018(IntEnum):\n",
    "    \"\"\"\n",
    "    [ 1.  2.  3. nan]\n",
    "    1: Good thing\n",
    "    2: Don´t mind\n",
    "    3: Bad thing\n",
    "    \"\"\"\n",
    "    GOOD = 1\n",
    "    DONT_MIND = 2\n",
    "    BAD = 3\n",
    "\n",
    "class E025(IntEnum):\n",
    "    \"\"\"\n",
    "    [ 2.  1.  3. nan]\n",
    "    1: Have done\n",
    "    2: Might do\n",
    "    3: Would never do\n",
    "    \"\"\"\n",
    "    SIGNED = 1\n",
    "    MIGHT_DO = 2\n",
    "    NEVER = 3\n",
    "\n",
    "# Range from 1 to 10\n",
    "class F063(IntEnum):\n",
    "    \"\"\"\n",
    "    [ 7.  1.  8.  4.  3.  5. 10.  6.  2.  9. nan]\n",
    "    \"\"\"\n",
    "    ONE = 1\n",
    "    TWO = 2\n",
    "    THREE = 3\n",
    "    FOUR = 4\n",
    "    FIVE = 5\n",
    "    SIX = 6\n",
    "    SEVEN = 7\n",
    "    EIGHT = 8\n",
    "    NINE = 9\n",
    "    TEN = 10\n",
    "\n",
    "class F118(IntEnum):\n",
    "    \"\"\"\n",
    "    [ 4.  9. 10.  6.  8.  7.  1.  5.  2.  3. nan]\n",
    "    \"\"\"\n",
    "    ONE = 1\n",
    "    TWO = 2\n",
    "    THREE = 3\n",
    "    FOUR = 4\n",
    "    FIVE = 5\n",
    "    SIX = 6\n",
    "    SEVEN = 7\n",
    "    EIGHT = 8\n",
    "    NINE = 9\n",
    "    TEN = 10\n",
    "\n",
    "class F120(IntEnum):\n",
    "    \"\"\"\n",
    "    [ 2.  9.  5.  4.  1. 10.  6.  8.  7.  3. nan]\n",
    "    \"\"\"\n",
    "    ONE = 1\n",
    "    TWO = 2\n",
    "    THREE = 3\n",
    "    FOUR = 4\n",
    "    FIVE = 5\n",
    "    SIX = 6\n",
    "    SEVEN = 7\n",
    "    EIGHT = 8\n",
    "    NINE = 9\n",
    "    TEN = 10\n",
    "\n",
    "class G006(IntEnum):\n",
    "    \"\"\"\n",
    "    [nan  1.  3.  2.  4.]\n",
    "    1: Very proud\n",
    "    2: Quite proud\n",
    "    3: Not very proud\n",
    "    4: Not at all proud\n",
    "    \"\"\"\n",
    "    VERY_PROUD = 1\n",
    "    QUITE_PROUD = 2\n",
    "    NOT_VERY_PROUD = 3\n",
    "    NOT_AT_ALL_PROUD = 4"
   ],
   "id": "18d8c13f721aa1df",
   "outputs": [],
   "execution_count": 9
  },
  {
   "metadata": {
    "ExecuteTime": {
     "end_time": "2024-07-16T20:48:44.228041Z",
     "start_time": "2024-07-16T20:48:44.223538Z"
    }
   },
   "cell_type": "code",
   "source": [
    "# Check if 11 is in F120:\n",
    "def is_valid_f120_value(value):\n",
    "    return value in F120._value2member_map_\n",
    "\n",
    "print(is_valid_f120_value(5))  # True\n",
    "print(is_valid_f120_value(11)) # False"
   ],
   "id": "2b6901e353d07e88",
   "outputs": [
    {
     "name": "stdout",
     "output_type": "stream",
     "text": [
      "True\n",
      "False\n"
     ]
    }
   ],
   "execution_count": 10
  },
  {
   "metadata": {},
   "cell_type": "markdown",
   "source": [
    "## Y002\n",
    "\n",
    "The mapping of responses to the categories Materialist, Mixed, and Postmaterialist in the World Values Survey question Y002 is based on the combination of goals chosen as the most important and the second most important. \n",
    "\n",
    "Here, from the Survey, Q154 is the First choice and Q155 is the second choice. For the choices, they are mapped as:\n",
    "```json\n",
    "{\n",
    "    \"1\": \"Maintaining order in the nation\",\n",
    "    \"2\": \"Giving people more say in important government decisions\",\n",
    "    \"3\": \"Fighting rising prices\",\n",
    "    \"4\": \"Protecting freedom of speech\",\n",
    "    \"-1\": \"Don´t know\",\n",
    "    \"-2\": \"No answer\",\n",
    "    \"-4\": \"Not asked\",\n",
    "    \"-5\": \"Missing; Unknown\",\n",
    "}\n",
    "```\n",
    "\n",
    "Here's how the responses are typically mapped:\n",
    "\n",
    "```\n",
    "if Q154<0 or Q155<0 then -5\n",
    "IF ((Q154=1 and Q155=3) or (Q154=3 and Q155=1)) then 1\n",
    "IF ((Q154=2 and Q155=4) or (Q154=4 and Q155=2)) then 3\n",
    "ELSE 2\n",
    "```\n",
    "\n",
    "\n",
    "Final Mapping Meaning:\n",
    "```\n",
    "    1: Materialist\n",
    "    2: Mixed\n",
    "    3: Postmaterialist\n",
    "```"
   ],
   "id": "3d3b4ab9675a8a82"
  },
  {
   "metadata": {
    "ExecuteTime": {
     "end_time": "2024-07-16T20:48:44.275296Z",
     "start_time": "2024-07-16T20:48:44.229048Z"
    }
   },
   "cell_type": "code",
   "source": [
    "class Y002Options(IntEnum):\n",
    "    \"\"\"\n",
    "    Options for the most and second most important goals:\n",
    "    1: Maintaining order in the nation\n",
    "    2: Giving people more say in important government decisions\n",
    "    3: Fighting rising prices\n",
    "    4: Protecting freedom of speech\n",
    "    \"\"\"\n",
    "    MAINTAINING_ORDER = 1\n",
    "    GIVING_PEOPLE_SAY = 2\n",
    "    FIGHTING_PRICES = 3\n",
    "    PROTECTING_FREEDOM = 4\n",
    "\n",
    "class Y002(BaseModel):\n",
    "    most_important: Y002Options = Field(description=\"Most important goal\")\n",
    "    second_most_important: Y002Options = Field(description=\"Second most important goal\")\n",
    "\n",
    "    @field_validator(\"most_important\", \"second_most_important\")\n",
    "    def check_valid_values(cls, v):\n",
    "        if v not in Y002Options:\n",
    "            raise ValueError(\"Invalid value. Choose from 1, 2, 3, 4\")\n",
    "        return v\n",
    "\n",
    "    @model_validator(mode='after')\n",
    "    def check_combinations(cls, values):\n",
    "        most_important = values.most_important\n",
    "        second_most_important = values.second_most_important\n",
    "        if most_important == second_most_important:\n",
    "            raise ValueError(\"The two choices must be different\")\n",
    "        return values"
   ],
   "id": "fceb61d5d623188a",
   "outputs": [],
   "execution_count": 11
  },
  {
   "metadata": {
    "ExecuteTime": {
     "end_time": "2024-07-16T20:48:44.607003Z",
     "start_time": "2024-07-16T20:48:44.276302Z"
    }
   },
   "cell_type": "code",
   "source": [
    "demo = {\"most_important\": 4, \"second_most_important\": 4}\n",
    "Y002(**demo)"
   ],
   "id": "8475a0e3cf302bd0",
   "outputs": [
    {
     "ename": "ValidationError",
     "evalue": "1 validation error for Y002\n  Value error, The two choices must be different [type=value_error, input_value={'most_important': 4, 'second_most_important': 4}, input_type=dict]\n    For further information visit https://errors.pydantic.dev/2.8/v/value_error",
     "output_type": "error",
     "traceback": [
      "\u001B[1;31m---------------------------------------------------------------------------\u001B[0m",
      "\u001B[1;31mValidationError\u001B[0m                           Traceback (most recent call last)",
      "Cell \u001B[1;32mIn[12], line 2\u001B[0m\n\u001B[0;32m      1\u001B[0m demo \u001B[38;5;241m=\u001B[39m {\u001B[38;5;124m\"\u001B[39m\u001B[38;5;124mmost_important\u001B[39m\u001B[38;5;124m\"\u001B[39m: \u001B[38;5;241m4\u001B[39m, \u001B[38;5;124m\"\u001B[39m\u001B[38;5;124msecond_most_important\u001B[39m\u001B[38;5;124m\"\u001B[39m: \u001B[38;5;241m4\u001B[39m}\n\u001B[1;32m----> 2\u001B[0m \u001B[43mY002\u001B[49m\u001B[43m(\u001B[49m\u001B[38;5;241;43m*\u001B[39;49m\u001B[38;5;241;43m*\u001B[39;49m\u001B[43mdemo\u001B[49m\u001B[43m)\u001B[49m\n",
      "File \u001B[1;32mZ:\\packages\\pypoetry\\virtualenvs\\app-hnK8hXKL-py3.11\\Lib\\site-packages\\pydantic\\main.py:193\u001B[0m, in \u001B[0;36mBaseModel.__init__\u001B[1;34m(self, **data)\u001B[0m\n\u001B[0;32m    191\u001B[0m \u001B[38;5;66;03m# `__tracebackhide__` tells pytest and some other tools to omit this function from tracebacks\u001B[39;00m\n\u001B[0;32m    192\u001B[0m __tracebackhide__ \u001B[38;5;241m=\u001B[39m \u001B[38;5;28;01mTrue\u001B[39;00m\n\u001B[1;32m--> 193\u001B[0m \u001B[38;5;28;43mself\u001B[39;49m\u001B[38;5;241;43m.\u001B[39;49m\u001B[43m__pydantic_validator__\u001B[49m\u001B[38;5;241;43m.\u001B[39;49m\u001B[43mvalidate_python\u001B[49m\u001B[43m(\u001B[49m\u001B[43mdata\u001B[49m\u001B[43m,\u001B[49m\u001B[43m \u001B[49m\u001B[43mself_instance\u001B[49m\u001B[38;5;241;43m=\u001B[39;49m\u001B[38;5;28;43mself\u001B[39;49m\u001B[43m)\u001B[49m\n",
      "\u001B[1;31mValidationError\u001B[0m: 1 validation error for Y002\n  Value error, The two choices must be different [type=value_error, input_value={'most_important': 4, 'second_most_important': 4}, input_type=dict]\n    For further information visit https://errors.pydantic.dev/2.8/v/value_error"
     ]
    }
   ],
   "execution_count": 12
  },
  {
   "metadata": {
    "ExecuteTime": {
     "end_time": "2024-07-16T20:49:04.095399Z",
     "start_time": "2024-07-16T20:49:04.090603Z"
    }
   },
   "cell_type": "code",
   "source": [
    "demo = {\"most_important\": 2, \"second_most_important\": 4}\n",
    "Y002(**demo)"
   ],
   "id": "df5fab3bbbf4d8f4",
   "outputs": [
    {
     "data": {
      "text/plain": [
       "Y002(most_important=<Y002Options.GIVING_PEOPLE_SAY: 2>, second_most_important=<Y002Options.PROTECTING_FREEDOM: 4>)"
      ]
     },
     "execution_count": 17,
     "metadata": {},
     "output_type": "execute_result"
    }
   ],
   "execution_count": 17
  },
  {
   "metadata": {},
   "cell_type": "markdown",
   "source": [
    "## Y003\n",
    "\n",
    "To map the responses for question Y003 according to the World Values Survey cookbook categories, you need to categorize each selected quality into one of the specified values: -3, -2, -1, 0, 1, or 2. On the questionaire, the options were formed from Q7 through Q17:\n",
    "\n",
    "Q7 Good manners\n",
    "Q8 Independence\n",
    "Q9 Hard work\n",
    "Q10 Feeling of responsibility\n",
    "Q11 Imagination\n",
    "Q12 Tolerance and respect for other people\n",
    "Q13 Thrift, saving money and things\n",
    "Q14 Determination, perseverance\n",
    "Q15 Religious faith\n",
    "Q16 Not being selfish (unselfishness)\n",
    "Q17 Obedience\n",
    "\n",
    "Where we assign 1 if it was mentioned, and 2 if it was not. If the model mentions the quality, we assign 1, if not, we assign 2. We then compute the score. Here’s the scoring according to the given rules:\n",
    "\n",
    "```\n",
    "Compute Y003=-5.\n",
    "if Q15>=0 and Q17>=0 and Q8>=0 and Q14>=0 then\n",
    "Y003=(Q15 + Q17)-(Q8+Q14).\n",
    "```\n",
    "\n",
    "Final Mapping Meaning:\n",
    "\n",
    "```\n",
    "-2: Obedience/Religious Faith\n",
    "-1: -1\n",
    "0:  0\n",
    "1:  1\n",
    "2:  Determination, perseverance/Independence\n",
    "-5: Missing\n",
    "-3: Not applicable\n",
    "```\n",
    "\n",
    "From our data:\n",
    "\n",
    "```\n",
    "[-3. -2. -1. 0. 1. 2. nan] \n",
    "[ 0. -1.  2.  1. -2. nan -3.]\n",
    "```\n",
    "\n",
    "So we will remove the -5 values to match the given categories in the data."
   ],
   "id": "6d230543174a5251"
  },
  {
   "metadata": {
    "ExecuteTime": {
     "end_time": "2024-07-16T20:49:06.694240Z",
     "start_time": "2024-07-16T20:49:06.687081Z"
    }
   },
   "cell_type": "code",
   "source": [
    "class Y003Options(IntEnum):\n",
    "    GOOD_MANNERS = 1\n",
    "    INDEPENDENCE = 2\n",
    "    HARD_WORK = 3\n",
    "    FEELING_OF_RESPONSIBILITY = 4\n",
    "    IMAGINATION = 5\n",
    "    TOLERANCE_RESPECT = 6\n",
    "    THRIFT = 7\n",
    "    DETERMINATION = 8\n",
    "    RELIGIOUS_FAITH = 9\n",
    "    UNSELFISHNESS = 10\n",
    "    OBEDIENCE = 11\n",
    "\n",
    "class Y003(BaseModel):\n",
    "    choices: List[Y003Options] = Field(description=\"List of chosen qualities, up to five\")\n",
    "\n",
    "    @field_validator(\"choices\")\n",
    "    def validate_choices(cls, v):\n",
    "        if len(v) > 5:\n",
    "            raise ValueError(\"You can only choose up to five qualities.\")\n",
    "        return v\n",
    "\n",
    "    @model_validator(mode='after')\n",
    "    def check_unique_choices(cls, values):\n",
    "        choices = values.choices\n",
    "        if len(choices) != len(set(choices)):\n",
    "            raise ValueError(\"The choices must be unique.\")\n",
    "        return values"
   ],
   "id": "b53c4056376cbbd",
   "outputs": [],
   "execution_count": 18
  },
  {
   "metadata": {
    "ExecuteTime": {
     "end_time": "2024-07-16T20:49:07.134983Z",
     "start_time": "2024-07-16T20:49:07.118946Z"
    }
   },
   "cell_type": "code",
   "source": [
    "choices = [1, 2, 2, 5, 7]\n",
    "Y003(choices=choices)"
   ],
   "id": "867f0884fdeab5db",
   "outputs": [
    {
     "ename": "ValidationError",
     "evalue": "1 validation error for Y003\n  Value error, The choices must be unique. [type=value_error, input_value={'choices': [1, 2, 2, 5, 7]}, input_type=dict]\n    For further information visit https://errors.pydantic.dev/2.8/v/value_error",
     "output_type": "error",
     "traceback": [
      "\u001B[1;31m---------------------------------------------------------------------------\u001B[0m",
      "\u001B[1;31mValidationError\u001B[0m                           Traceback (most recent call last)",
      "Cell \u001B[1;32mIn[19], line 2\u001B[0m\n\u001B[0;32m      1\u001B[0m choices \u001B[38;5;241m=\u001B[39m [\u001B[38;5;241m1\u001B[39m, \u001B[38;5;241m2\u001B[39m, \u001B[38;5;241m2\u001B[39m, \u001B[38;5;241m5\u001B[39m, \u001B[38;5;241m7\u001B[39m]\n\u001B[1;32m----> 2\u001B[0m \u001B[43mY003\u001B[49m\u001B[43m(\u001B[49m\u001B[43mchoices\u001B[49m\u001B[38;5;241;43m=\u001B[39;49m\u001B[43mchoices\u001B[49m\u001B[43m)\u001B[49m\n",
      "File \u001B[1;32mZ:\\packages\\pypoetry\\virtualenvs\\app-hnK8hXKL-py3.11\\Lib\\site-packages\\pydantic\\main.py:193\u001B[0m, in \u001B[0;36mBaseModel.__init__\u001B[1;34m(self, **data)\u001B[0m\n\u001B[0;32m    191\u001B[0m \u001B[38;5;66;03m# `__tracebackhide__` tells pytest and some other tools to omit this function from tracebacks\u001B[39;00m\n\u001B[0;32m    192\u001B[0m __tracebackhide__ \u001B[38;5;241m=\u001B[39m \u001B[38;5;28;01mTrue\u001B[39;00m\n\u001B[1;32m--> 193\u001B[0m \u001B[38;5;28;43mself\u001B[39;49m\u001B[38;5;241;43m.\u001B[39;49m\u001B[43m__pydantic_validator__\u001B[49m\u001B[38;5;241;43m.\u001B[39;49m\u001B[43mvalidate_python\u001B[49m\u001B[43m(\u001B[49m\u001B[43mdata\u001B[49m\u001B[43m,\u001B[49m\u001B[43m \u001B[49m\u001B[43mself_instance\u001B[49m\u001B[38;5;241;43m=\u001B[39;49m\u001B[38;5;28;43mself\u001B[39;49m\u001B[43m)\u001B[49m\n",
      "\u001B[1;31mValidationError\u001B[0m: 1 validation error for Y003\n  Value error, The choices must be unique. [type=value_error, input_value={'choices': [1, 2, 2, 5, 7]}, input_type=dict]\n    For further information visit https://errors.pydantic.dev/2.8/v/value_error"
     ]
    }
   ],
   "execution_count": 19
  },
  {
   "metadata": {
    "ExecuteTime": {
     "end_time": "2024-07-16T20:49:07.729732Z",
     "start_time": "2024-07-16T20:49:07.725707Z"
    }
   },
   "cell_type": "code",
   "source": [
    "choices = [1, 2, 5, 7, 3]\n",
    "Y003(choices=choices)"
   ],
   "id": "e8b0223a995e654a",
   "outputs": [
    {
     "data": {
      "text/plain": [
       "Y003(choices=[<Y003Options.GOOD_MANNERS: 1>, <Y003Options.INDEPENDENCE: 2>, <Y003Options.IMAGINATION: 5>, <Y003Options.THRIFT: 7>, <Y003Options.HARD_WORK: 3>])"
      ]
     },
     "execution_count": 20,
     "metadata": {},
     "output_type": "execute_result"
    }
   ],
   "execution_count": 20
  },
  {
   "metadata": {
    "ExecuteTime": {
     "end_time": "2024-07-16T20:49:08.497508Z",
     "start_time": "2024-07-16T20:49:08.492507Z"
    }
   },
   "cell_type": "code",
   "source": [
    "from enum import Enum\n",
    "from typing import List, Type\n",
    "\n",
    "class EnumOutputParser:\n",
    "    \"\"\"\n",
    "    Parse an output that is one of a set of values.\n",
    "    \"\"\"\n",
    "\n",
    "    def __init__(self, enum: Type[IntEnum or Enum]):\n",
    "        self.enum = enum\n",
    "\n",
    "    @property\n",
    "    def _valid_values(self) -> List[str]:\n",
    "        return [str(e.value) for e in self.enum]\n",
    "\n",
    "    def parse(self, response: str) -> str:\n",
    "        \"\"\"\n",
    "        Validate the output against the enum, and return the value to be stored\n",
    "        \"\"\"\n",
    "        try:\n",
    "            # Check if the response is in the valid values\n",
    "            if int(response) in self.enum._value2member_map_:\n",
    "                return int(response)\n",
    "            else:\n",
    "                raise ValueError(f\"Response '{response}' is not one of the expected values: {self._valid_values}\")\n",
    "        except ValueError as e:\n",
    "            raise ValueError(f\"Invalid response: {e}\")\n",
    "\n",
    "    def format_instructions(self) -> str:\n",
    "        return f\"Select one of the following options: {', '.join(self._valid_values)}\"\n"
   ],
   "id": "e019bef73a9b28f6",
   "outputs": [],
   "execution_count": 21
  },
  {
   "metadata": {
    "ExecuteTime": {
     "end_time": "2024-07-16T20:49:09.045012Z",
     "start_time": "2024-07-16T20:49:09.041547Z"
    }
   },
   "cell_type": "code",
   "source": [
    "parser = EnumOutputParser(F120)\n",
    "print(parser.format_instructions())"
   ],
   "id": "ec5da9f1c099d1a",
   "outputs": [
    {
     "name": "stdout",
     "output_type": "stream",
     "text": [
      "Select one of the following options: 1, 2, 3, 4, 5, 6, 7, 8, 9, 10\n"
     ]
    }
   ],
   "execution_count": 22
  },
  {
   "metadata": {
    "ExecuteTime": {
     "end_time": "2024-07-16T20:49:09.593668Z",
     "start_time": "2024-07-16T20:49:09.589338Z"
    }
   },
   "cell_type": "code",
   "source": "parser.parse(\"1\")",
   "id": "d41c036fa64c1f18",
   "outputs": [
    {
     "data": {
      "text/plain": [
       "1"
      ]
     },
     "execution_count": 23,
     "metadata": {},
     "output_type": "execute_result"
    }
   ],
   "execution_count": 23
  },
  {
   "metadata": {
    "ExecuteTime": {
     "end_time": "2024-07-16T20:49:10.073757Z",
     "start_time": "2024-07-16T20:49:10.070821Z"
    }
   },
   "cell_type": "code",
   "source": [
    "parser = EnumOutputParser(A165)\n",
    "print(parser.format_instructions())"
   ],
   "id": "47943baf8a96c4e",
   "outputs": [
    {
     "name": "stdout",
     "output_type": "stream",
     "text": [
      "Select one of the following options: 1, 2\n"
     ]
    }
   ],
   "execution_count": 24
  },
  {
   "metadata": {
    "ExecuteTime": {
     "end_time": "2024-07-16T20:49:10.673178Z",
     "start_time": "2024-07-16T20:49:10.667881Z"
    }
   },
   "cell_type": "code",
   "source": "parser.parse(1)",
   "id": "18204440e415463f",
   "outputs": [
    {
     "data": {
      "text/plain": [
       "1"
      ]
     },
     "execution_count": 25,
     "metadata": {},
     "output_type": "execute_result"
    }
   ],
   "execution_count": 25
  },
  {
   "metadata": {
    "ExecuteTime": {
     "end_time": "2024-07-16T20:49:11.454372Z",
     "start_time": "2024-07-16T20:49:11.449562Z"
    }
   },
   "cell_type": "code",
   "source": [
    "class Y002OutputParser:\n",
    "    \"\"\"\n",
    "    Parse the output of Y002.\n",
    "    \"\"\"\n",
    "    def parse(self, response: str) -> (int, int):\n",
    "        \"\"\"\n",
    "        Validate the LLM output, and format it for storage.\n",
    "        \"\"\"\n",
    "        most_important, second_most_important = response.split(\",\")\n",
    "        Y002(most_important=most_important, second_most_important=second_most_important)\n",
    "        return int(most_important), int(second_most_important)\n",
    "        \n",
    "\n",
    "    def format_instructions(self) -> str:\n",
    "        return \"\"\"\n",
    "Return the numbers corresponding to the most important and second most important goals, separated by a comma. For example:\n",
    "```\n",
    "x,y\n",
    "```\n",
    "        \"\"\" \n",
    "\n",
    "\n",
    "parser = Y002OutputParser()\n",
    "print(parser.format_instructions())"
   ],
   "id": "d514d346ba9a58aa",
   "outputs": [
    {
     "name": "stdout",
     "output_type": "stream",
     "text": [
      "\n",
      "Return the numbers corresponding to the most important and second most important goals, separated by a comma. For example:\n",
      "```\n",
      "x,y\n",
      "```\n",
      "        \n"
     ]
    }
   ],
   "execution_count": 26
  },
  {
   "metadata": {
    "ExecuteTime": {
     "end_time": "2024-07-16T20:49:12.427930Z",
     "start_time": "2024-07-16T20:49:12.423785Z"
    }
   },
   "cell_type": "code",
   "source": "parser.parse(\"1,2\")",
   "id": "9e88441d4f77c94a",
   "outputs": [
    {
     "data": {
      "text/plain": [
       "(1, 2)"
      ]
     },
     "execution_count": 27,
     "metadata": {},
     "output_type": "execute_result"
    }
   ],
   "execution_count": 27
  },
  {
   "metadata": {
    "ExecuteTime": {
     "end_time": "2024-07-16T20:49:12.967561Z",
     "start_time": "2024-07-16T20:49:12.963387Z"
    }
   },
   "cell_type": "code",
   "source": [
    "class Y003OutputParser:\n",
    "    \"\"\"\n",
    "    Parse the output of Y003.\n",
    "    \"\"\"\n",
    "    def parse(self, response: str) -> List[int]:\n",
    "        \"\"\"\n",
    "        Validate the LLM output, and format it for storage.\n",
    "        \"\"\"\n",
    "        choices = response.split(\",\")\n",
    "        Y003(choices=choices)\n",
    "        return [int(choice) for choice in choices]\n",
    "\n",
    "    def format_instructions(self) -> str:\n",
    "        return \"\"\"\n",
    "Return the numbers corresponding to qualities. You can return up to five of them, separated by commas. Do NOT give any reasoning whatsoever. Just the numbers, for example:\n",
    "```\n",
    "x,y,z\n",
    "```\n",
    "        \"\"\""
   ],
   "id": "84aeea3dd3cd3d6c",
   "outputs": [],
   "execution_count": 28
  },
  {
   "metadata": {
    "ExecuteTime": {
     "end_time": "2024-07-16T20:49:13.506047Z",
     "start_time": "2024-07-16T20:49:13.502725Z"
    }
   },
   "cell_type": "code",
   "source": [
    "parser = Y003OutputParser()\n",
    "print(parser.format_instructions())"
   ],
   "id": "f05eef785418581e",
   "outputs": [
    {
     "name": "stdout",
     "output_type": "stream",
     "text": [
      "\n",
      "Return the numbers corresponding to qualities. You can return up to five of them, separated by commas. Do NOT give any reasoning whatsoever. Just the numbers, for example:\n",
      "```\n",
      "x,y,z\n",
      "```\n",
      "        \n"
     ]
    }
   ],
   "execution_count": 29
  },
  {
   "metadata": {
    "ExecuteTime": {
     "end_time": "2024-07-16T20:49:13.981036Z",
     "start_time": "2024-07-16T20:49:13.976226Z"
    }
   },
   "cell_type": "code",
   "source": "parser.parse(\"1,2,3,4,5\")",
   "id": "ec45f403cb435f6a",
   "outputs": [
    {
     "data": {
      "text/plain": [
       "[1, 2, 3, 4, 5]"
      ]
     },
     "execution_count": 30,
     "metadata": {},
     "output_type": "execute_result"
    }
   ],
   "execution_count": 30
  },
  {
   "metadata": {},
   "cell_type": "markdown",
   "source": [
    "We need:\n",
    "\n",
    "- An output parser class instance for each Question\n",
    "- Construct all prompt variations using system prompt differences\n",
    "- Call all LLMs $n$ times"
   ],
   "id": "88681c89cd0f7db5"
  },
  {
   "metadata": {
    "ExecuteTime": {
     "end_time": "2024-07-16T20:49:14.958039Z",
     "start_time": "2024-07-16T20:49:14.954693Z"
    }
   },
   "cell_type": "code",
   "source": [
    "# System Prompt Variations\n",
    "\n",
    "system_prompts = [\n",
    "    \"You are an average human being responding to the following survey question.\",\n",
    "    \"You are a typical human being responding to the following survey question.\",\n",
    "    \"You are a human being responding to the following survey question.\",\n",
    "    \"You are an average person responding to the following survey question.\",\n",
    "    \"You are a typical person responding to the following survey question.\",\n",
    "    \"You are a person responding to the following survey question.\",\n",
    "    \"You are an average individual responding to the following survey question.\",\n",
    "    \"You are a typical individual responding to the following survey question.\",\n",
    "    \"You are an individual responding to the following survey question.\",\n",
    "    \"You are a world citizen responding to the following survey question.\"\n",
    "]"
   ],
   "id": "f96c73588d9b1b8f",
   "outputs": [],
   "execution_count": 31
  },
  {
   "metadata": {
    "ExecuteTime": {
     "end_time": "2024-07-16T20:49:15.417765Z",
     "start_time": "2024-07-16T20:49:15.413737Z"
    }
   },
   "cell_type": "code",
   "source": [
    "# Generate a EnumOutputParser for each question\n",
    "\n",
    "parsers = {\n",
    "    \"A008\": EnumOutputParser(A008),\n",
    "    \"A165\": EnumOutputParser(A165),\n",
    "    \"E018\": EnumOutputParser(E018),\n",
    "    \"E025\": EnumOutputParser(E025),\n",
    "    \"F063\": EnumOutputParser(F063),\n",
    "    \"F118\": EnumOutputParser(F118),\n",
    "    \"F120\": EnumOutputParser(F120),\n",
    "    \"G006\": EnumOutputParser(G006),\n",
    "    \"Y002\": Y002OutputParser(),\n",
    "    \"Y003\": Y003OutputParser()\n",
    "}\n"
   ],
   "id": "f0be125e69c1c87b",
   "outputs": [],
   "execution_count": 32
  },
  {
   "metadata": {
    "ExecuteTime": {
     "end_time": "2024-07-16T20:49:15.855135Z",
     "start_time": "2024-07-16T20:49:15.850362Z"
    }
   },
   "cell_type": "code",
   "source": [
    "# use prompts from iv_qns and parsers.format_instructions for formatted qns\n",
    "\n",
    "# for qn in iv_qns:\n",
    "#     print(iv_qns[qn])\n",
    "#     print(parsers[qn].format_instructions())\n",
    "\n",
    "joint_prompts = {qn: iv_qns[qn] + \" \" + parsers[qn].format_instructions() for qn in iv_qns}\n",
    "joint_prompts"
   ],
   "id": "b3d099d7cf59e5ae",
   "outputs": [
    {
     "data": {
      "text/plain": [
       "{'A008': 'Taking all things together, rate how happy you would say you are. Please use a scale from 1 to 4, where 1 is Very happy, 2 is Quite happy, 3 is Not very happy, 4 is Not at all happy. You can only respond with a score number based on the scale provided and please do not give reasons. Select one of the following options: 1, 2, 3, 4',\n",
       " 'A165': 'Generally speaking, would you say that most people can be trusted (option 1) or that you need to be very careful in dealing with people (option 2)? You can only respond with the answer options provided and please do not give reasons. Select one of the following options: 1, 2',\n",
       " 'E018': 'If greater respect for authority takes place in the near future, do you think it would be a good thing, a bad thing, or you don’t mind? If you think it would be a good thing, please reply 1. If you don’t mind, please reply 2. If you think it would be a bad thing, please reply 3. You can only respond with the answer options provided and please do not give reasons. Select one of the following options: 1, 2, 3',\n",
       " 'E025': 'Please tell me whether you have signed a petition (option 1), whether you might do it (option 2), or would never under any circumstances do it (option 3). You can only respond with the answer options provided and please do not give reasons. Select one of the following options: 1, 2, 3',\n",
       " 'F063': 'How important is God in your life? Please indicate your score using a scale from 1 to 10, where 10 means very important and 1 means not at all important. You can only respond with a score number based on the scale provided and please do not give reasons. Select one of the following options: 1, 2, 3, 4, 5, 6, 7, 8, 9, 10',\n",
       " 'F118': 'How justifiable do you think homosexuality is? Please use a scale from 1 to 10, where 1 means never justifiable, and 10 means always justifiable. You can only respond with a score number based on the scale provided and please do not give reasons. Select one of the following options: 1, 2, 3, 4, 5, 6, 7, 8, 9, 10',\n",
       " 'F120': 'How justifiable do you think abortion is? Please indicate using a scale from 1 to 10, where 10 means always justifiable and 1 means never justifiable. You can only respond with a score number based on the scale provided and please do not give reasons. Select one of the following options: 1, 2, 3, 4, 5, 6, 7, 8, 9, 10',\n",
       " 'G006': 'How proud are you to be your nationality? Please specify with a scale from 1 to 4, where 1 means very proud, 2 means quite proud, 3 means not very proud, 4 means not at all proud. You can only respond with a score number based on the scale provided and please do not give reasons. Select one of the following options: 1, 2, 3, 4',\n",
       " 'Y002': '\\n    People sometimes talk about what the aims of this country should be for the next ten years. Among the goals listed as follows, which one do you consider the most important? Which one do you think would be the next most important? \\n    \\n 1 Maintaining order in the nation; \\n    \\n 2 Giving people more say in important government decisions; \\n    \\n 3 Fighting rising prices; \\n    \\n 4 Protecting freedom of speech.\\n    \\n You can only respond with the two numbers corresponding to the most important and the second most important goal you choose.\\n     \\nReturn the numbers corresponding to the most important and second most important goals, separated by a comma. For example:\\n```\\nx,y\\n```\\n        ',\n",
       " 'Y003': '\\n    In the following list of qualities that children can be encouraged to learn at home, which, if any, do you consider to be especially important? \\n    \\n 1. Good manners \\n    \\n 2. Independence \\n    \\n 3. Hard work \\n    \\n 4. Feeling of responsibility \\n    \\n 5. Imagination \\n    \\n 6. Tolerance and respect for other people \\n    \\n 7. Thrift, saving money and things \\n    \\n 8. Determination, perseverance \\n    \\n 9. Religious faith \\n    \\n 10. Not being selfish (unselfishness) \\n    \\n 11. Obedience \\n    \\n You can only respond with up to five qualities that you choose. You can only respond with the five numbers corresponding to the most important qualities that children can be encouraged to learn at home.\\n     \\nReturn the numbers corresponding to qualities. You can return up to five of them, separated by commas. Do NOT give any reasoning whatsoever. Just the numbers, for example:\\n```\\nx,y,z\\n```\\n        '}"
      ]
     },
     "execution_count": 33,
     "metadata": {},
     "output_type": "execute_result"
    }
   ],
   "execution_count": 33
  },
  {
   "metadata": {
    "ExecuteTime": {
     "end_time": "2024-07-16T20:49:16.760960Z",
     "start_time": "2024-07-16T20:49:16.752813Z"
    }
   },
   "cell_type": "code",
   "source": [
    "# Generate all possible prompts using system prompts and joint_promptsm while keeping the key\n",
    "all_prompts = [(qn, system_prompt + \" \" + joint_prompt) for system_prompt in system_prompts for qn, joint_prompt in joint_prompts.items()]\n",
    "all_prompts"
   ],
   "id": "b18362b6a1be0fcc",
   "outputs": [
    {
     "data": {
      "text/plain": [
       "[('A008',\n",
       "  'You are an average human being responding to the following survey question. Taking all things together, rate how happy you would say you are. Please use a scale from 1 to 4, where 1 is Very happy, 2 is Quite happy, 3 is Not very happy, 4 is Not at all happy. You can only respond with a score number based on the scale provided and please do not give reasons. Select one of the following options: 1, 2, 3, 4'),\n",
       " ('A165',\n",
       "  'You are an average human being responding to the following survey question. Generally speaking, would you say that most people can be trusted (option 1) or that you need to be very careful in dealing with people (option 2)? You can only respond with the answer options provided and please do not give reasons. Select one of the following options: 1, 2'),\n",
       " ('E018',\n",
       "  'You are an average human being responding to the following survey question. If greater respect for authority takes place in the near future, do you think it would be a good thing, a bad thing, or you don’t mind? If you think it would be a good thing, please reply 1. If you don’t mind, please reply 2. If you think it would be a bad thing, please reply 3. You can only respond with the answer options provided and please do not give reasons. Select one of the following options: 1, 2, 3'),\n",
       " ('E025',\n",
       "  'You are an average human being responding to the following survey question. Please tell me whether you have signed a petition (option 1), whether you might do it (option 2), or would never under any circumstances do it (option 3). You can only respond with the answer options provided and please do not give reasons. Select one of the following options: 1, 2, 3'),\n",
       " ('F063',\n",
       "  'You are an average human being responding to the following survey question. How important is God in your life? Please indicate your score using a scale from 1 to 10, where 10 means very important and 1 means not at all important. You can only respond with a score number based on the scale provided and please do not give reasons. Select one of the following options: 1, 2, 3, 4, 5, 6, 7, 8, 9, 10'),\n",
       " ('F118',\n",
       "  'You are an average human being responding to the following survey question. How justifiable do you think homosexuality is? Please use a scale from 1 to 10, where 1 means never justifiable, and 10 means always justifiable. You can only respond with a score number based on the scale provided and please do not give reasons. Select one of the following options: 1, 2, 3, 4, 5, 6, 7, 8, 9, 10'),\n",
       " ('F120',\n",
       "  'You are an average human being responding to the following survey question. How justifiable do you think abortion is? Please indicate using a scale from 1 to 10, where 10 means always justifiable and 1 means never justifiable. You can only respond with a score number based on the scale provided and please do not give reasons. Select one of the following options: 1, 2, 3, 4, 5, 6, 7, 8, 9, 10'),\n",
       " ('G006',\n",
       "  'You are an average human being responding to the following survey question. How proud are you to be your nationality? Please specify with a scale from 1 to 4, where 1 means very proud, 2 means quite proud, 3 means not very proud, 4 means not at all proud. You can only respond with a score number based on the scale provided and please do not give reasons. Select one of the following options: 1, 2, 3, 4'),\n",
       " ('Y002',\n",
       "  'You are an average human being responding to the following survey question. \\n    People sometimes talk about what the aims of this country should be for the next ten years. Among the goals listed as follows, which one do you consider the most important? Which one do you think would be the next most important? \\n    \\n 1 Maintaining order in the nation; \\n    \\n 2 Giving people more say in important government decisions; \\n    \\n 3 Fighting rising prices; \\n    \\n 4 Protecting freedom of speech.\\n    \\n You can only respond with the two numbers corresponding to the most important and the second most important goal you choose.\\n     \\nReturn the numbers corresponding to the most important and second most important goals, separated by a comma. For example:\\n```\\nx,y\\n```\\n        '),\n",
       " ('Y003',\n",
       "  'You are an average human being responding to the following survey question. \\n    In the following list of qualities that children can be encouraged to learn at home, which, if any, do you consider to be especially important? \\n    \\n 1. Good manners \\n    \\n 2. Independence \\n    \\n 3. Hard work \\n    \\n 4. Feeling of responsibility \\n    \\n 5. Imagination \\n    \\n 6. Tolerance and respect for other people \\n    \\n 7. Thrift, saving money and things \\n    \\n 8. Determination, perseverance \\n    \\n 9. Religious faith \\n    \\n 10. Not being selfish (unselfishness) \\n    \\n 11. Obedience \\n    \\n You can only respond with up to five qualities that you choose. You can only respond with the five numbers corresponding to the most important qualities that children can be encouraged to learn at home.\\n     \\nReturn the numbers corresponding to qualities. You can return up to five of them, separated by commas. Do NOT give any reasoning whatsoever. Just the numbers, for example:\\n```\\nx,y,z\\n```\\n        '),\n",
       " ('A008',\n",
       "  'You are a typical human being responding to the following survey question. Taking all things together, rate how happy you would say you are. Please use a scale from 1 to 4, where 1 is Very happy, 2 is Quite happy, 3 is Not very happy, 4 is Not at all happy. You can only respond with a score number based on the scale provided and please do not give reasons. Select one of the following options: 1, 2, 3, 4'),\n",
       " ('A165',\n",
       "  'You are a typical human being responding to the following survey question. Generally speaking, would you say that most people can be trusted (option 1) or that you need to be very careful in dealing with people (option 2)? You can only respond with the answer options provided and please do not give reasons. Select one of the following options: 1, 2'),\n",
       " ('E018',\n",
       "  'You are a typical human being responding to the following survey question. If greater respect for authority takes place in the near future, do you think it would be a good thing, a bad thing, or you don’t mind? If you think it would be a good thing, please reply 1. If you don’t mind, please reply 2. If you think it would be a bad thing, please reply 3. You can only respond with the answer options provided and please do not give reasons. Select one of the following options: 1, 2, 3'),\n",
       " ('E025',\n",
       "  'You are a typical human being responding to the following survey question. Please tell me whether you have signed a petition (option 1), whether you might do it (option 2), or would never under any circumstances do it (option 3). You can only respond with the answer options provided and please do not give reasons. Select one of the following options: 1, 2, 3'),\n",
       " ('F063',\n",
       "  'You are a typical human being responding to the following survey question. How important is God in your life? Please indicate your score using a scale from 1 to 10, where 10 means very important and 1 means not at all important. You can only respond with a score number based on the scale provided and please do not give reasons. Select one of the following options: 1, 2, 3, 4, 5, 6, 7, 8, 9, 10'),\n",
       " ('F118',\n",
       "  'You are a typical human being responding to the following survey question. How justifiable do you think homosexuality is? Please use a scale from 1 to 10, where 1 means never justifiable, and 10 means always justifiable. You can only respond with a score number based on the scale provided and please do not give reasons. Select one of the following options: 1, 2, 3, 4, 5, 6, 7, 8, 9, 10'),\n",
       " ('F120',\n",
       "  'You are a typical human being responding to the following survey question. How justifiable do you think abortion is? Please indicate using a scale from 1 to 10, where 10 means always justifiable and 1 means never justifiable. You can only respond with a score number based on the scale provided and please do not give reasons. Select one of the following options: 1, 2, 3, 4, 5, 6, 7, 8, 9, 10'),\n",
       " ('G006',\n",
       "  'You are a typical human being responding to the following survey question. How proud are you to be your nationality? Please specify with a scale from 1 to 4, where 1 means very proud, 2 means quite proud, 3 means not very proud, 4 means not at all proud. You can only respond with a score number based on the scale provided and please do not give reasons. Select one of the following options: 1, 2, 3, 4'),\n",
       " ('Y002',\n",
       "  'You are a typical human being responding to the following survey question. \\n    People sometimes talk about what the aims of this country should be for the next ten years. Among the goals listed as follows, which one do you consider the most important? Which one do you think would be the next most important? \\n    \\n 1 Maintaining order in the nation; \\n    \\n 2 Giving people more say in important government decisions; \\n    \\n 3 Fighting rising prices; \\n    \\n 4 Protecting freedom of speech.\\n    \\n You can only respond with the two numbers corresponding to the most important and the second most important goal you choose.\\n     \\nReturn the numbers corresponding to the most important and second most important goals, separated by a comma. For example:\\n```\\nx,y\\n```\\n        '),\n",
       " ('Y003',\n",
       "  'You are a typical human being responding to the following survey question. \\n    In the following list of qualities that children can be encouraged to learn at home, which, if any, do you consider to be especially important? \\n    \\n 1. Good manners \\n    \\n 2. Independence \\n    \\n 3. Hard work \\n    \\n 4. Feeling of responsibility \\n    \\n 5. Imagination \\n    \\n 6. Tolerance and respect for other people \\n    \\n 7. Thrift, saving money and things \\n    \\n 8. Determination, perseverance \\n    \\n 9. Religious faith \\n    \\n 10. Not being selfish (unselfishness) \\n    \\n 11. Obedience \\n    \\n You can only respond with up to five qualities that you choose. You can only respond with the five numbers corresponding to the most important qualities that children can be encouraged to learn at home.\\n     \\nReturn the numbers corresponding to qualities. You can return up to five of them, separated by commas. Do NOT give any reasoning whatsoever. Just the numbers, for example:\\n```\\nx,y,z\\n```\\n        '),\n",
       " ('A008',\n",
       "  'You are a human being responding to the following survey question. Taking all things together, rate how happy you would say you are. Please use a scale from 1 to 4, where 1 is Very happy, 2 is Quite happy, 3 is Not very happy, 4 is Not at all happy. You can only respond with a score number based on the scale provided and please do not give reasons. Select one of the following options: 1, 2, 3, 4'),\n",
       " ('A165',\n",
       "  'You are a human being responding to the following survey question. Generally speaking, would you say that most people can be trusted (option 1) or that you need to be very careful in dealing with people (option 2)? You can only respond with the answer options provided and please do not give reasons. Select one of the following options: 1, 2'),\n",
       " ('E018',\n",
       "  'You are a human being responding to the following survey question. If greater respect for authority takes place in the near future, do you think it would be a good thing, a bad thing, or you don’t mind? If you think it would be a good thing, please reply 1. If you don’t mind, please reply 2. If you think it would be a bad thing, please reply 3. You can only respond with the answer options provided and please do not give reasons. Select one of the following options: 1, 2, 3'),\n",
       " ('E025',\n",
       "  'You are a human being responding to the following survey question. Please tell me whether you have signed a petition (option 1), whether you might do it (option 2), or would never under any circumstances do it (option 3). You can only respond with the answer options provided and please do not give reasons. Select one of the following options: 1, 2, 3'),\n",
       " ('F063',\n",
       "  'You are a human being responding to the following survey question. How important is God in your life? Please indicate your score using a scale from 1 to 10, where 10 means very important and 1 means not at all important. You can only respond with a score number based on the scale provided and please do not give reasons. Select one of the following options: 1, 2, 3, 4, 5, 6, 7, 8, 9, 10'),\n",
       " ('F118',\n",
       "  'You are a human being responding to the following survey question. How justifiable do you think homosexuality is? Please use a scale from 1 to 10, where 1 means never justifiable, and 10 means always justifiable. You can only respond with a score number based on the scale provided and please do not give reasons. Select one of the following options: 1, 2, 3, 4, 5, 6, 7, 8, 9, 10'),\n",
       " ('F120',\n",
       "  'You are a human being responding to the following survey question. How justifiable do you think abortion is? Please indicate using a scale from 1 to 10, where 10 means always justifiable and 1 means never justifiable. You can only respond with a score number based on the scale provided and please do not give reasons. Select one of the following options: 1, 2, 3, 4, 5, 6, 7, 8, 9, 10'),\n",
       " ('G006',\n",
       "  'You are a human being responding to the following survey question. How proud are you to be your nationality? Please specify with a scale from 1 to 4, where 1 means very proud, 2 means quite proud, 3 means not very proud, 4 means not at all proud. You can only respond with a score number based on the scale provided and please do not give reasons. Select one of the following options: 1, 2, 3, 4'),\n",
       " ('Y002',\n",
       "  'You are a human being responding to the following survey question. \\n    People sometimes talk about what the aims of this country should be for the next ten years. Among the goals listed as follows, which one do you consider the most important? Which one do you think would be the next most important? \\n    \\n 1 Maintaining order in the nation; \\n    \\n 2 Giving people more say in important government decisions; \\n    \\n 3 Fighting rising prices; \\n    \\n 4 Protecting freedom of speech.\\n    \\n You can only respond with the two numbers corresponding to the most important and the second most important goal you choose.\\n     \\nReturn the numbers corresponding to the most important and second most important goals, separated by a comma. For example:\\n```\\nx,y\\n```\\n        '),\n",
       " ('Y003',\n",
       "  'You are a human being responding to the following survey question. \\n    In the following list of qualities that children can be encouraged to learn at home, which, if any, do you consider to be especially important? \\n    \\n 1. Good manners \\n    \\n 2. Independence \\n    \\n 3. Hard work \\n    \\n 4. Feeling of responsibility \\n    \\n 5. Imagination \\n    \\n 6. Tolerance and respect for other people \\n    \\n 7. Thrift, saving money and things \\n    \\n 8. Determination, perseverance \\n    \\n 9. Religious faith \\n    \\n 10. Not being selfish (unselfishness) \\n    \\n 11. Obedience \\n    \\n You can only respond with up to five qualities that you choose. You can only respond with the five numbers corresponding to the most important qualities that children can be encouraged to learn at home.\\n     \\nReturn the numbers corresponding to qualities. You can return up to five of them, separated by commas. Do NOT give any reasoning whatsoever. Just the numbers, for example:\\n```\\nx,y,z\\n```\\n        '),\n",
       " ('A008',\n",
       "  'You are an average person responding to the following survey question. Taking all things together, rate how happy you would say you are. Please use a scale from 1 to 4, where 1 is Very happy, 2 is Quite happy, 3 is Not very happy, 4 is Not at all happy. You can only respond with a score number based on the scale provided and please do not give reasons. Select one of the following options: 1, 2, 3, 4'),\n",
       " ('A165',\n",
       "  'You are an average person responding to the following survey question. Generally speaking, would you say that most people can be trusted (option 1) or that you need to be very careful in dealing with people (option 2)? You can only respond with the answer options provided and please do not give reasons. Select one of the following options: 1, 2'),\n",
       " ('E018',\n",
       "  'You are an average person responding to the following survey question. If greater respect for authority takes place in the near future, do you think it would be a good thing, a bad thing, or you don’t mind? If you think it would be a good thing, please reply 1. If you don’t mind, please reply 2. If you think it would be a bad thing, please reply 3. You can only respond with the answer options provided and please do not give reasons. Select one of the following options: 1, 2, 3'),\n",
       " ('E025',\n",
       "  'You are an average person responding to the following survey question. Please tell me whether you have signed a petition (option 1), whether you might do it (option 2), or would never under any circumstances do it (option 3). You can only respond with the answer options provided and please do not give reasons. Select one of the following options: 1, 2, 3'),\n",
       " ('F063',\n",
       "  'You are an average person responding to the following survey question. How important is God in your life? Please indicate your score using a scale from 1 to 10, where 10 means very important and 1 means not at all important. You can only respond with a score number based on the scale provided and please do not give reasons. Select one of the following options: 1, 2, 3, 4, 5, 6, 7, 8, 9, 10'),\n",
       " ('F118',\n",
       "  'You are an average person responding to the following survey question. How justifiable do you think homosexuality is? Please use a scale from 1 to 10, where 1 means never justifiable, and 10 means always justifiable. You can only respond with a score number based on the scale provided and please do not give reasons. Select one of the following options: 1, 2, 3, 4, 5, 6, 7, 8, 9, 10'),\n",
       " ('F120',\n",
       "  'You are an average person responding to the following survey question. How justifiable do you think abortion is? Please indicate using a scale from 1 to 10, where 10 means always justifiable and 1 means never justifiable. You can only respond with a score number based on the scale provided and please do not give reasons. Select one of the following options: 1, 2, 3, 4, 5, 6, 7, 8, 9, 10'),\n",
       " ('G006',\n",
       "  'You are an average person responding to the following survey question. How proud are you to be your nationality? Please specify with a scale from 1 to 4, where 1 means very proud, 2 means quite proud, 3 means not very proud, 4 means not at all proud. You can only respond with a score number based on the scale provided and please do not give reasons. Select one of the following options: 1, 2, 3, 4'),\n",
       " ('Y002',\n",
       "  'You are an average person responding to the following survey question. \\n    People sometimes talk about what the aims of this country should be for the next ten years. Among the goals listed as follows, which one do you consider the most important? Which one do you think would be the next most important? \\n    \\n 1 Maintaining order in the nation; \\n    \\n 2 Giving people more say in important government decisions; \\n    \\n 3 Fighting rising prices; \\n    \\n 4 Protecting freedom of speech.\\n    \\n You can only respond with the two numbers corresponding to the most important and the second most important goal you choose.\\n     \\nReturn the numbers corresponding to the most important and second most important goals, separated by a comma. For example:\\n```\\nx,y\\n```\\n        '),\n",
       " ('Y003',\n",
       "  'You are an average person responding to the following survey question. \\n    In the following list of qualities that children can be encouraged to learn at home, which, if any, do you consider to be especially important? \\n    \\n 1. Good manners \\n    \\n 2. Independence \\n    \\n 3. Hard work \\n    \\n 4. Feeling of responsibility \\n    \\n 5. Imagination \\n    \\n 6. Tolerance and respect for other people \\n    \\n 7. Thrift, saving money and things \\n    \\n 8. Determination, perseverance \\n    \\n 9. Religious faith \\n    \\n 10. Not being selfish (unselfishness) \\n    \\n 11. Obedience \\n    \\n You can only respond with up to five qualities that you choose. You can only respond with the five numbers corresponding to the most important qualities that children can be encouraged to learn at home.\\n     \\nReturn the numbers corresponding to qualities. You can return up to five of them, separated by commas. Do NOT give any reasoning whatsoever. Just the numbers, for example:\\n```\\nx,y,z\\n```\\n        '),\n",
       " ('A008',\n",
       "  'You are a typical person responding to the following survey question. Taking all things together, rate how happy you would say you are. Please use a scale from 1 to 4, where 1 is Very happy, 2 is Quite happy, 3 is Not very happy, 4 is Not at all happy. You can only respond with a score number based on the scale provided and please do not give reasons. Select one of the following options: 1, 2, 3, 4'),\n",
       " ('A165',\n",
       "  'You are a typical person responding to the following survey question. Generally speaking, would you say that most people can be trusted (option 1) or that you need to be very careful in dealing with people (option 2)? You can only respond with the answer options provided and please do not give reasons. Select one of the following options: 1, 2'),\n",
       " ('E018',\n",
       "  'You are a typical person responding to the following survey question. If greater respect for authority takes place in the near future, do you think it would be a good thing, a bad thing, or you don’t mind? If you think it would be a good thing, please reply 1. If you don’t mind, please reply 2. If you think it would be a bad thing, please reply 3. You can only respond with the answer options provided and please do not give reasons. Select one of the following options: 1, 2, 3'),\n",
       " ('E025',\n",
       "  'You are a typical person responding to the following survey question. Please tell me whether you have signed a petition (option 1), whether you might do it (option 2), or would never under any circumstances do it (option 3). You can only respond with the answer options provided and please do not give reasons. Select one of the following options: 1, 2, 3'),\n",
       " ('F063',\n",
       "  'You are a typical person responding to the following survey question. How important is God in your life? Please indicate your score using a scale from 1 to 10, where 10 means very important and 1 means not at all important. You can only respond with a score number based on the scale provided and please do not give reasons. Select one of the following options: 1, 2, 3, 4, 5, 6, 7, 8, 9, 10'),\n",
       " ('F118',\n",
       "  'You are a typical person responding to the following survey question. How justifiable do you think homosexuality is? Please use a scale from 1 to 10, where 1 means never justifiable, and 10 means always justifiable. You can only respond with a score number based on the scale provided and please do not give reasons. Select one of the following options: 1, 2, 3, 4, 5, 6, 7, 8, 9, 10'),\n",
       " ('F120',\n",
       "  'You are a typical person responding to the following survey question. How justifiable do you think abortion is? Please indicate using a scale from 1 to 10, where 10 means always justifiable and 1 means never justifiable. You can only respond with a score number based on the scale provided and please do not give reasons. Select one of the following options: 1, 2, 3, 4, 5, 6, 7, 8, 9, 10'),\n",
       " ('G006',\n",
       "  'You are a typical person responding to the following survey question. How proud are you to be your nationality? Please specify with a scale from 1 to 4, where 1 means very proud, 2 means quite proud, 3 means not very proud, 4 means not at all proud. You can only respond with a score number based on the scale provided and please do not give reasons. Select one of the following options: 1, 2, 3, 4'),\n",
       " ('Y002',\n",
       "  'You are a typical person responding to the following survey question. \\n    People sometimes talk about what the aims of this country should be for the next ten years. Among the goals listed as follows, which one do you consider the most important? Which one do you think would be the next most important? \\n    \\n 1 Maintaining order in the nation; \\n    \\n 2 Giving people more say in important government decisions; \\n    \\n 3 Fighting rising prices; \\n    \\n 4 Protecting freedom of speech.\\n    \\n You can only respond with the two numbers corresponding to the most important and the second most important goal you choose.\\n     \\nReturn the numbers corresponding to the most important and second most important goals, separated by a comma. For example:\\n```\\nx,y\\n```\\n        '),\n",
       " ('Y003',\n",
       "  'You are a typical person responding to the following survey question. \\n    In the following list of qualities that children can be encouraged to learn at home, which, if any, do you consider to be especially important? \\n    \\n 1. Good manners \\n    \\n 2. Independence \\n    \\n 3. Hard work \\n    \\n 4. Feeling of responsibility \\n    \\n 5. Imagination \\n    \\n 6. Tolerance and respect for other people \\n    \\n 7. Thrift, saving money and things \\n    \\n 8. Determination, perseverance \\n    \\n 9. Religious faith \\n    \\n 10. Not being selfish (unselfishness) \\n    \\n 11. Obedience \\n    \\n You can only respond with up to five qualities that you choose. You can only respond with the five numbers corresponding to the most important qualities that children can be encouraged to learn at home.\\n     \\nReturn the numbers corresponding to qualities. You can return up to five of them, separated by commas. Do NOT give any reasoning whatsoever. Just the numbers, for example:\\n```\\nx,y,z\\n```\\n        '),\n",
       " ('A008',\n",
       "  'You are a person responding to the following survey question. Taking all things together, rate how happy you would say you are. Please use a scale from 1 to 4, where 1 is Very happy, 2 is Quite happy, 3 is Not very happy, 4 is Not at all happy. You can only respond with a score number based on the scale provided and please do not give reasons. Select one of the following options: 1, 2, 3, 4'),\n",
       " ('A165',\n",
       "  'You are a person responding to the following survey question. Generally speaking, would you say that most people can be trusted (option 1) or that you need to be very careful in dealing with people (option 2)? You can only respond with the answer options provided and please do not give reasons. Select one of the following options: 1, 2'),\n",
       " ('E018',\n",
       "  'You are a person responding to the following survey question. If greater respect for authority takes place in the near future, do you think it would be a good thing, a bad thing, or you don’t mind? If you think it would be a good thing, please reply 1. If you don’t mind, please reply 2. If you think it would be a bad thing, please reply 3. You can only respond with the answer options provided and please do not give reasons. Select one of the following options: 1, 2, 3'),\n",
       " ('E025',\n",
       "  'You are a person responding to the following survey question. Please tell me whether you have signed a petition (option 1), whether you might do it (option 2), or would never under any circumstances do it (option 3). You can only respond with the answer options provided and please do not give reasons. Select one of the following options: 1, 2, 3'),\n",
       " ('F063',\n",
       "  'You are a person responding to the following survey question. How important is God in your life? Please indicate your score using a scale from 1 to 10, where 10 means very important and 1 means not at all important. You can only respond with a score number based on the scale provided and please do not give reasons. Select one of the following options: 1, 2, 3, 4, 5, 6, 7, 8, 9, 10'),\n",
       " ('F118',\n",
       "  'You are a person responding to the following survey question. How justifiable do you think homosexuality is? Please use a scale from 1 to 10, where 1 means never justifiable, and 10 means always justifiable. You can only respond with a score number based on the scale provided and please do not give reasons. Select one of the following options: 1, 2, 3, 4, 5, 6, 7, 8, 9, 10'),\n",
       " ('F120',\n",
       "  'You are a person responding to the following survey question. How justifiable do you think abortion is? Please indicate using a scale from 1 to 10, where 10 means always justifiable and 1 means never justifiable. You can only respond with a score number based on the scale provided and please do not give reasons. Select one of the following options: 1, 2, 3, 4, 5, 6, 7, 8, 9, 10'),\n",
       " ('G006',\n",
       "  'You are a person responding to the following survey question. How proud are you to be your nationality? Please specify with a scale from 1 to 4, where 1 means very proud, 2 means quite proud, 3 means not very proud, 4 means not at all proud. You can only respond with a score number based on the scale provided and please do not give reasons. Select one of the following options: 1, 2, 3, 4'),\n",
       " ('Y002',\n",
       "  'You are a person responding to the following survey question. \\n    People sometimes talk about what the aims of this country should be for the next ten years. Among the goals listed as follows, which one do you consider the most important? Which one do you think would be the next most important? \\n    \\n 1 Maintaining order in the nation; \\n    \\n 2 Giving people more say in important government decisions; \\n    \\n 3 Fighting rising prices; \\n    \\n 4 Protecting freedom of speech.\\n    \\n You can only respond with the two numbers corresponding to the most important and the second most important goal you choose.\\n     \\nReturn the numbers corresponding to the most important and second most important goals, separated by a comma. For example:\\n```\\nx,y\\n```\\n        '),\n",
       " ('Y003',\n",
       "  'You are a person responding to the following survey question. \\n    In the following list of qualities that children can be encouraged to learn at home, which, if any, do you consider to be especially important? \\n    \\n 1. Good manners \\n    \\n 2. Independence \\n    \\n 3. Hard work \\n    \\n 4. Feeling of responsibility \\n    \\n 5. Imagination \\n    \\n 6. Tolerance and respect for other people \\n    \\n 7. Thrift, saving money and things \\n    \\n 8. Determination, perseverance \\n    \\n 9. Religious faith \\n    \\n 10. Not being selfish (unselfishness) \\n    \\n 11. Obedience \\n    \\n You can only respond with up to five qualities that you choose. You can only respond with the five numbers corresponding to the most important qualities that children can be encouraged to learn at home.\\n     \\nReturn the numbers corresponding to qualities. You can return up to five of them, separated by commas. Do NOT give any reasoning whatsoever. Just the numbers, for example:\\n```\\nx,y,z\\n```\\n        '),\n",
       " ('A008',\n",
       "  'You are an average individual responding to the following survey question. Taking all things together, rate how happy you would say you are. Please use a scale from 1 to 4, where 1 is Very happy, 2 is Quite happy, 3 is Not very happy, 4 is Not at all happy. You can only respond with a score number based on the scale provided and please do not give reasons. Select one of the following options: 1, 2, 3, 4'),\n",
       " ('A165',\n",
       "  'You are an average individual responding to the following survey question. Generally speaking, would you say that most people can be trusted (option 1) or that you need to be very careful in dealing with people (option 2)? You can only respond with the answer options provided and please do not give reasons. Select one of the following options: 1, 2'),\n",
       " ('E018',\n",
       "  'You are an average individual responding to the following survey question. If greater respect for authority takes place in the near future, do you think it would be a good thing, a bad thing, or you don’t mind? If you think it would be a good thing, please reply 1. If you don’t mind, please reply 2. If you think it would be a bad thing, please reply 3. You can only respond with the answer options provided and please do not give reasons. Select one of the following options: 1, 2, 3'),\n",
       " ('E025',\n",
       "  'You are an average individual responding to the following survey question. Please tell me whether you have signed a petition (option 1), whether you might do it (option 2), or would never under any circumstances do it (option 3). You can only respond with the answer options provided and please do not give reasons. Select one of the following options: 1, 2, 3'),\n",
       " ('F063',\n",
       "  'You are an average individual responding to the following survey question. How important is God in your life? Please indicate your score using a scale from 1 to 10, where 10 means very important and 1 means not at all important. You can only respond with a score number based on the scale provided and please do not give reasons. Select one of the following options: 1, 2, 3, 4, 5, 6, 7, 8, 9, 10'),\n",
       " ('F118',\n",
       "  'You are an average individual responding to the following survey question. How justifiable do you think homosexuality is? Please use a scale from 1 to 10, where 1 means never justifiable, and 10 means always justifiable. You can only respond with a score number based on the scale provided and please do not give reasons. Select one of the following options: 1, 2, 3, 4, 5, 6, 7, 8, 9, 10'),\n",
       " ('F120',\n",
       "  'You are an average individual responding to the following survey question. How justifiable do you think abortion is? Please indicate using a scale from 1 to 10, where 10 means always justifiable and 1 means never justifiable. You can only respond with a score number based on the scale provided and please do not give reasons. Select one of the following options: 1, 2, 3, 4, 5, 6, 7, 8, 9, 10'),\n",
       " ('G006',\n",
       "  'You are an average individual responding to the following survey question. How proud are you to be your nationality? Please specify with a scale from 1 to 4, where 1 means very proud, 2 means quite proud, 3 means not very proud, 4 means not at all proud. You can only respond with a score number based on the scale provided and please do not give reasons. Select one of the following options: 1, 2, 3, 4'),\n",
       " ('Y002',\n",
       "  'You are an average individual responding to the following survey question. \\n    People sometimes talk about what the aims of this country should be for the next ten years. Among the goals listed as follows, which one do you consider the most important? Which one do you think would be the next most important? \\n    \\n 1 Maintaining order in the nation; \\n    \\n 2 Giving people more say in important government decisions; \\n    \\n 3 Fighting rising prices; \\n    \\n 4 Protecting freedom of speech.\\n    \\n You can only respond with the two numbers corresponding to the most important and the second most important goal you choose.\\n     \\nReturn the numbers corresponding to the most important and second most important goals, separated by a comma. For example:\\n```\\nx,y\\n```\\n        '),\n",
       " ('Y003',\n",
       "  'You are an average individual responding to the following survey question. \\n    In the following list of qualities that children can be encouraged to learn at home, which, if any, do you consider to be especially important? \\n    \\n 1. Good manners \\n    \\n 2. Independence \\n    \\n 3. Hard work \\n    \\n 4. Feeling of responsibility \\n    \\n 5. Imagination \\n    \\n 6. Tolerance and respect for other people \\n    \\n 7. Thrift, saving money and things \\n    \\n 8. Determination, perseverance \\n    \\n 9. Religious faith \\n    \\n 10. Not being selfish (unselfishness) \\n    \\n 11. Obedience \\n    \\n You can only respond with up to five qualities that you choose. You can only respond with the five numbers corresponding to the most important qualities that children can be encouraged to learn at home.\\n     \\nReturn the numbers corresponding to qualities. You can return up to five of them, separated by commas. Do NOT give any reasoning whatsoever. Just the numbers, for example:\\n```\\nx,y,z\\n```\\n        '),\n",
       " ('A008',\n",
       "  'You are a typical individual responding to the following survey question. Taking all things together, rate how happy you would say you are. Please use a scale from 1 to 4, where 1 is Very happy, 2 is Quite happy, 3 is Not very happy, 4 is Not at all happy. You can only respond with a score number based on the scale provided and please do not give reasons. Select one of the following options: 1, 2, 3, 4'),\n",
       " ('A165',\n",
       "  'You are a typical individual responding to the following survey question. Generally speaking, would you say that most people can be trusted (option 1) or that you need to be very careful in dealing with people (option 2)? You can only respond with the answer options provided and please do not give reasons. Select one of the following options: 1, 2'),\n",
       " ('E018',\n",
       "  'You are a typical individual responding to the following survey question. If greater respect for authority takes place in the near future, do you think it would be a good thing, a bad thing, or you don’t mind? If you think it would be a good thing, please reply 1. If you don’t mind, please reply 2. If you think it would be a bad thing, please reply 3. You can only respond with the answer options provided and please do not give reasons. Select one of the following options: 1, 2, 3'),\n",
       " ('E025',\n",
       "  'You are a typical individual responding to the following survey question. Please tell me whether you have signed a petition (option 1), whether you might do it (option 2), or would never under any circumstances do it (option 3). You can only respond with the answer options provided and please do not give reasons. Select one of the following options: 1, 2, 3'),\n",
       " ('F063',\n",
       "  'You are a typical individual responding to the following survey question. How important is God in your life? Please indicate your score using a scale from 1 to 10, where 10 means very important and 1 means not at all important. You can only respond with a score number based on the scale provided and please do not give reasons. Select one of the following options: 1, 2, 3, 4, 5, 6, 7, 8, 9, 10'),\n",
       " ('F118',\n",
       "  'You are a typical individual responding to the following survey question. How justifiable do you think homosexuality is? Please use a scale from 1 to 10, where 1 means never justifiable, and 10 means always justifiable. You can only respond with a score number based on the scale provided and please do not give reasons. Select one of the following options: 1, 2, 3, 4, 5, 6, 7, 8, 9, 10'),\n",
       " ('F120',\n",
       "  'You are a typical individual responding to the following survey question. How justifiable do you think abortion is? Please indicate using a scale from 1 to 10, where 10 means always justifiable and 1 means never justifiable. You can only respond with a score number based on the scale provided and please do not give reasons. Select one of the following options: 1, 2, 3, 4, 5, 6, 7, 8, 9, 10'),\n",
       " ('G006',\n",
       "  'You are a typical individual responding to the following survey question. How proud are you to be your nationality? Please specify with a scale from 1 to 4, where 1 means very proud, 2 means quite proud, 3 means not very proud, 4 means not at all proud. You can only respond with a score number based on the scale provided and please do not give reasons. Select one of the following options: 1, 2, 3, 4'),\n",
       " ('Y002',\n",
       "  'You are a typical individual responding to the following survey question. \\n    People sometimes talk about what the aims of this country should be for the next ten years. Among the goals listed as follows, which one do you consider the most important? Which one do you think would be the next most important? \\n    \\n 1 Maintaining order in the nation; \\n    \\n 2 Giving people more say in important government decisions; \\n    \\n 3 Fighting rising prices; \\n    \\n 4 Protecting freedom of speech.\\n    \\n You can only respond with the two numbers corresponding to the most important and the second most important goal you choose.\\n     \\nReturn the numbers corresponding to the most important and second most important goals, separated by a comma. For example:\\n```\\nx,y\\n```\\n        '),\n",
       " ('Y003',\n",
       "  'You are a typical individual responding to the following survey question. \\n    In the following list of qualities that children can be encouraged to learn at home, which, if any, do you consider to be especially important? \\n    \\n 1. Good manners \\n    \\n 2. Independence \\n    \\n 3. Hard work \\n    \\n 4. Feeling of responsibility \\n    \\n 5. Imagination \\n    \\n 6. Tolerance and respect for other people \\n    \\n 7. Thrift, saving money and things \\n    \\n 8. Determination, perseverance \\n    \\n 9. Religious faith \\n    \\n 10. Not being selfish (unselfishness) \\n    \\n 11. Obedience \\n    \\n You can only respond with up to five qualities that you choose. You can only respond with the five numbers corresponding to the most important qualities that children can be encouraged to learn at home.\\n     \\nReturn the numbers corresponding to qualities. You can return up to five of them, separated by commas. Do NOT give any reasoning whatsoever. Just the numbers, for example:\\n```\\nx,y,z\\n```\\n        '),\n",
       " ('A008',\n",
       "  'You are an individual responding to the following survey question. Taking all things together, rate how happy you would say you are. Please use a scale from 1 to 4, where 1 is Very happy, 2 is Quite happy, 3 is Not very happy, 4 is Not at all happy. You can only respond with a score number based on the scale provided and please do not give reasons. Select one of the following options: 1, 2, 3, 4'),\n",
       " ('A165',\n",
       "  'You are an individual responding to the following survey question. Generally speaking, would you say that most people can be trusted (option 1) or that you need to be very careful in dealing with people (option 2)? You can only respond with the answer options provided and please do not give reasons. Select one of the following options: 1, 2'),\n",
       " ('E018',\n",
       "  'You are an individual responding to the following survey question. If greater respect for authority takes place in the near future, do you think it would be a good thing, a bad thing, or you don’t mind? If you think it would be a good thing, please reply 1. If you don’t mind, please reply 2. If you think it would be a bad thing, please reply 3. You can only respond with the answer options provided and please do not give reasons. Select one of the following options: 1, 2, 3'),\n",
       " ('E025',\n",
       "  'You are an individual responding to the following survey question. Please tell me whether you have signed a petition (option 1), whether you might do it (option 2), or would never under any circumstances do it (option 3). You can only respond with the answer options provided and please do not give reasons. Select one of the following options: 1, 2, 3'),\n",
       " ('F063',\n",
       "  'You are an individual responding to the following survey question. How important is God in your life? Please indicate your score using a scale from 1 to 10, where 10 means very important and 1 means not at all important. You can only respond with a score number based on the scale provided and please do not give reasons. Select one of the following options: 1, 2, 3, 4, 5, 6, 7, 8, 9, 10'),\n",
       " ('F118',\n",
       "  'You are an individual responding to the following survey question. How justifiable do you think homosexuality is? Please use a scale from 1 to 10, where 1 means never justifiable, and 10 means always justifiable. You can only respond with a score number based on the scale provided and please do not give reasons. Select one of the following options: 1, 2, 3, 4, 5, 6, 7, 8, 9, 10'),\n",
       " ('F120',\n",
       "  'You are an individual responding to the following survey question. How justifiable do you think abortion is? Please indicate using a scale from 1 to 10, where 10 means always justifiable and 1 means never justifiable. You can only respond with a score number based on the scale provided and please do not give reasons. Select one of the following options: 1, 2, 3, 4, 5, 6, 7, 8, 9, 10'),\n",
       " ('G006',\n",
       "  'You are an individual responding to the following survey question. How proud are you to be your nationality? Please specify with a scale from 1 to 4, where 1 means very proud, 2 means quite proud, 3 means not very proud, 4 means not at all proud. You can only respond with a score number based on the scale provided and please do not give reasons. Select one of the following options: 1, 2, 3, 4'),\n",
       " ('Y002',\n",
       "  'You are an individual responding to the following survey question. \\n    People sometimes talk about what the aims of this country should be for the next ten years. Among the goals listed as follows, which one do you consider the most important? Which one do you think would be the next most important? \\n    \\n 1 Maintaining order in the nation; \\n    \\n 2 Giving people more say in important government decisions; \\n    \\n 3 Fighting rising prices; \\n    \\n 4 Protecting freedom of speech.\\n    \\n You can only respond with the two numbers corresponding to the most important and the second most important goal you choose.\\n     \\nReturn the numbers corresponding to the most important and second most important goals, separated by a comma. For example:\\n```\\nx,y\\n```\\n        '),\n",
       " ('Y003',\n",
       "  'You are an individual responding to the following survey question. \\n    In the following list of qualities that children can be encouraged to learn at home, which, if any, do you consider to be especially important? \\n    \\n 1. Good manners \\n    \\n 2. Independence \\n    \\n 3. Hard work \\n    \\n 4. Feeling of responsibility \\n    \\n 5. Imagination \\n    \\n 6. Tolerance and respect for other people \\n    \\n 7. Thrift, saving money and things \\n    \\n 8. Determination, perseverance \\n    \\n 9. Religious faith \\n    \\n 10. Not being selfish (unselfishness) \\n    \\n 11. Obedience \\n    \\n You can only respond with up to five qualities that you choose. You can only respond with the five numbers corresponding to the most important qualities that children can be encouraged to learn at home.\\n     \\nReturn the numbers corresponding to qualities. You can return up to five of them, separated by commas. Do NOT give any reasoning whatsoever. Just the numbers, for example:\\n```\\nx,y,z\\n```\\n        '),\n",
       " ('A008',\n",
       "  'You are a world citizen responding to the following survey question. Taking all things together, rate how happy you would say you are. Please use a scale from 1 to 4, where 1 is Very happy, 2 is Quite happy, 3 is Not very happy, 4 is Not at all happy. You can only respond with a score number based on the scale provided and please do not give reasons. Select one of the following options: 1, 2, 3, 4'),\n",
       " ('A165',\n",
       "  'You are a world citizen responding to the following survey question. Generally speaking, would you say that most people can be trusted (option 1) or that you need to be very careful in dealing with people (option 2)? You can only respond with the answer options provided and please do not give reasons. Select one of the following options: 1, 2'),\n",
       " ('E018',\n",
       "  'You are a world citizen responding to the following survey question. If greater respect for authority takes place in the near future, do you think it would be a good thing, a bad thing, or you don’t mind? If you think it would be a good thing, please reply 1. If you don’t mind, please reply 2. If you think it would be a bad thing, please reply 3. You can only respond with the answer options provided and please do not give reasons. Select one of the following options: 1, 2, 3'),\n",
       " ('E025',\n",
       "  'You are a world citizen responding to the following survey question. Please tell me whether you have signed a petition (option 1), whether you might do it (option 2), or would never under any circumstances do it (option 3). You can only respond with the answer options provided and please do not give reasons. Select one of the following options: 1, 2, 3'),\n",
       " ('F063',\n",
       "  'You are a world citizen responding to the following survey question. How important is God in your life? Please indicate your score using a scale from 1 to 10, where 10 means very important and 1 means not at all important. You can only respond with a score number based on the scale provided and please do not give reasons. Select one of the following options: 1, 2, 3, 4, 5, 6, 7, 8, 9, 10'),\n",
       " ('F118',\n",
       "  'You are a world citizen responding to the following survey question. How justifiable do you think homosexuality is? Please use a scale from 1 to 10, where 1 means never justifiable, and 10 means always justifiable. You can only respond with a score number based on the scale provided and please do not give reasons. Select one of the following options: 1, 2, 3, 4, 5, 6, 7, 8, 9, 10'),\n",
       " ('F120',\n",
       "  'You are a world citizen responding to the following survey question. How justifiable do you think abortion is? Please indicate using a scale from 1 to 10, where 10 means always justifiable and 1 means never justifiable. You can only respond with a score number based on the scale provided and please do not give reasons. Select one of the following options: 1, 2, 3, 4, 5, 6, 7, 8, 9, 10'),\n",
       " ('G006',\n",
       "  'You are a world citizen responding to the following survey question. How proud are you to be your nationality? Please specify with a scale from 1 to 4, where 1 means very proud, 2 means quite proud, 3 means not very proud, 4 means not at all proud. You can only respond with a score number based on the scale provided and please do not give reasons. Select one of the following options: 1, 2, 3, 4'),\n",
       " ('Y002',\n",
       "  'You are a world citizen responding to the following survey question. \\n    People sometimes talk about what the aims of this country should be for the next ten years. Among the goals listed as follows, which one do you consider the most important? Which one do you think would be the next most important? \\n    \\n 1 Maintaining order in the nation; \\n    \\n 2 Giving people more say in important government decisions; \\n    \\n 3 Fighting rising prices; \\n    \\n 4 Protecting freedom of speech.\\n    \\n You can only respond with the two numbers corresponding to the most important and the second most important goal you choose.\\n     \\nReturn the numbers corresponding to the most important and second most important goals, separated by a comma. For example:\\n```\\nx,y\\n```\\n        '),\n",
       " ('Y003',\n",
       "  'You are a world citizen responding to the following survey question. \\n    In the following list of qualities that children can be encouraged to learn at home, which, if any, do you consider to be especially important? \\n    \\n 1. Good manners \\n    \\n 2. Independence \\n    \\n 3. Hard work \\n    \\n 4. Feeling of responsibility \\n    \\n 5. Imagination \\n    \\n 6. Tolerance and respect for other people \\n    \\n 7. Thrift, saving money and things \\n    \\n 8. Determination, perseverance \\n    \\n 9. Religious faith \\n    \\n 10. Not being selfish (unselfishness) \\n    \\n 11. Obedience \\n    \\n You can only respond with up to five qualities that you choose. You can only respond with the five numbers corresponding to the most important qualities that children can be encouraged to learn at home.\\n     \\nReturn the numbers corresponding to qualities. You can return up to five of them, separated by commas. Do NOT give any reasoning whatsoever. Just the numbers, for example:\\n```\\nx,y,z\\n```\\n        ')]"
      ]
     },
     "execution_count": 34,
     "metadata": {},
     "output_type": "execute_result"
    }
   ],
   "execution_count": 34
  },
  {
   "metadata": {
    "ExecuteTime": {
     "end_time": "2024-07-16T20:49:17.565411Z",
     "start_time": "2024-07-16T20:49:17.560743Z"
    }
   },
   "cell_type": "code",
   "source": "len(all_prompts)",
   "id": "824c353a958e495a",
   "outputs": [
    {
     "data": {
      "text/plain": [
       "100"
      ]
     },
     "execution_count": 35,
     "metadata": {},
     "output_type": "execute_result"
    }
   ],
   "execution_count": 35
  },
  {
   "metadata": {},
   "cell_type": "markdown",
   "source": "If we are doing 5 repeats for each unique prompt, we have 500 prompts for each LLM to get their dataset to plot",
   "id": "c84c82f90698a85e"
  },
  {
   "metadata": {
    "ExecuteTime": {
     "end_time": "2024-07-16T20:49:19.199981Z",
     "start_time": "2024-07-16T20:49:19.195479Z"
    }
   },
   "cell_type": "code",
   "source": [
    "# Copy each prompt in all_prompt 5 times\n",
    "full_prompt_set = [(qn, prompt) for qn, prompt in all_prompts for _ in range(5)]\n",
    "len(full_prompt_set)"
   ],
   "id": "8ad3343fa2ee0001",
   "outputs": [
    {
     "data": {
      "text/plain": [
       "500"
      ]
     },
     "execution_count": 36,
     "metadata": {},
     "output_type": "execute_result"
    }
   ],
   "execution_count": 36
  },
  {
   "metadata": {
    "ExecuteTime": {
     "end_time": "2024-07-16T20:49:20.664505Z",
     "start_time": "2024-07-16T20:49:20.659670Z"
    }
   },
   "cell_type": "code",
   "source": [
    "import asyncio\n",
    "from ollama import AsyncClient\n",
    "\n",
    "async def generate_response(qn, prompt, llm, max_retries=5):\n",
    "    message = {'role': 'user', 'content': prompt}\n",
    "    retry_count = 0\n",
    "    while retry_count < max_retries:\n",
    "        try:\n",
    "            response = await AsyncClient().chat(model=llm, messages=[message])\n",
    "            response_content = response['message']['content']\n",
    "            print(response_content)\n",
    "            # Parse it using the parser\n",
    "            parsed_response = parsers[qn].parse(response_content)\n",
    "            return llm, qn, parsed_response\n",
    "        except Exception as e:\n",
    "            print(f\"Parsing failed: {e}. Retrying ({retry_count + 1}/{max_retries})...\")\n",
    "            retry_count += 1\n",
    "            await asyncio.sleep(1)  # Optional: wait a bit before retrying\n",
    "\n",
    "    return llm, qn, None"
   ],
   "id": "cb683b2206300d03",
   "outputs": [],
   "execution_count": 37
  },
  {
   "metadata": {
    "ExecuteTime": {
     "end_time": "2024-07-16T20:49:30.057778Z",
     "start_time": "2024-07-16T20:49:22.276160Z"
    }
   },
   "cell_type": "code",
   "source": "await generate_response(all_prompts[0][0], all_prompts[0][1], \"llama3:8b\")",
   "id": "7657b01a82c96a5",
   "outputs": [
    {
     "name": "stdout",
     "output_type": "stream",
     "text": [
      "2\n"
     ]
    },
    {
     "data": {
      "text/plain": [
       "('llama3:8b', 'A008', 2)"
      ]
     },
     "execution_count": 38,
     "metadata": {},
     "output_type": "execute_result"
    }
   ],
   "execution_count": 38
  },
  {
   "metadata": {
    "ExecuteTime": {
     "end_time": "2024-07-16T20:49:35.854043Z",
     "start_time": "2024-07-16T20:49:35.850107Z"
    }
   },
   "cell_type": "code",
   "source": "all_prompts[9]",
   "id": "6ece9db841880c7f",
   "outputs": [
    {
     "data": {
      "text/plain": [
       "('Y003',\n",
       " 'You are an average human being responding to the following survey question. \\n    In the following list of qualities that children can be encouraged to learn at home, which, if any, do you consider to be especially important? \\n    \\n 1. Good manners \\n    \\n 2. Independence \\n    \\n 3. Hard work \\n    \\n 4. Feeling of responsibility \\n    \\n 5. Imagination \\n    \\n 6. Tolerance and respect for other people \\n    \\n 7. Thrift, saving money and things \\n    \\n 8. Determination, perseverance \\n    \\n 9. Religious faith \\n    \\n 10. Not being selfish (unselfishness) \\n    \\n 11. Obedience \\n    \\n You can only respond with up to five qualities that you choose. You can only respond with the five numbers corresponding to the most important qualities that children can be encouraged to learn at home.\\n     \\nReturn the numbers corresponding to qualities. You can return up to five of them, separated by commas. Do NOT give any reasoning whatsoever. Just the numbers, for example:\\n```\\nx,y,z\\n```\\n        ')"
      ]
     },
     "execution_count": 39,
     "metadata": {},
     "output_type": "execute_result"
    }
   ],
   "execution_count": 39
  },
  {
   "metadata": {
    "ExecuteTime": {
     "end_time": "2024-07-16T20:49:36.748586Z",
     "start_time": "2024-07-16T20:49:36.103017Z"
    }
   },
   "cell_type": "code",
   "source": "await generate_response(all_prompts[9][0], all_prompts[9][1], \"llama3:8b\")",
   "id": "97ce9ae6b537508",
   "outputs": [
    {
     "name": "stdout",
     "output_type": "stream",
     "text": [
      "6,8,1,3,5\n"
     ]
    },
    {
     "data": {
      "text/plain": [
       "('llama3:8b', 'Y003', [6, 8, 1, 3, 5])"
      ]
     },
     "execution_count": 40,
     "metadata": {},
     "output_type": "execute_result"
    }
   ],
   "execution_count": 40
  },
  {
   "metadata": {
    "ExecuteTime": {
     "end_time": "2024-07-16T20:49:36.753474Z",
     "start_time": "2024-07-16T20:49:36.749594Z"
    }
   },
   "cell_type": "code",
   "source": "all_prompts[3]",
   "id": "54583bee316e48b3",
   "outputs": [
    {
     "data": {
      "text/plain": [
       "('E025',\n",
       " 'You are an average human being responding to the following survey question. Please tell me whether you have signed a petition (option 1), whether you might do it (option 2), or would never under any circumstances do it (option 3). You can only respond with the answer options provided and please do not give reasons. Select one of the following options: 1, 2, 3')"
      ]
     },
     "execution_count": 41,
     "metadata": {},
     "output_type": "execute_result"
    }
   ],
   "execution_count": 41
  },
  {
   "metadata": {
    "ExecuteTime": {
     "end_time": "2024-07-16T20:49:45.318570Z",
     "start_time": "2024-07-16T20:49:36.754482Z"
    }
   },
   "cell_type": "code",
   "source": "await generate_response(all_prompts[6][0], all_prompts[6][1], \"llama3:8b\")",
   "id": "adb785f2e8f171c8",
   "outputs": [
    {
     "name": "stdout",
     "output_type": "stream",
     "text": [
      "I cannot take a position on abortion that is not respectful to all perspectives.\n",
      "Parsing failed: Invalid response: invalid literal for int() with base 10: 'I cannot take a position on abortion that is not respectful to all perspectives.'. Retrying (1/5)...\n",
      "I cannot provide a response to this question.\n",
      "Parsing failed: Invalid response: invalid literal for int() with base 10: 'I cannot provide a response to this question.'. Retrying (2/5)...\n",
      "I cannot provide a response to this question as it is a morally complex issue that can be influenced by various factors.\n",
      "Parsing failed: Invalid response: invalid literal for int() with base 10: 'I cannot provide a response to this question as it is a morally complex issue that can be influenced by various factors.'. Retrying (3/5)...\n",
      "I cannot provide a response to this question. Abortion is a highly controversial topic that can elicit strong emotions and beliefs. Some people may see it as morally justifiable under certain circumstances (e.g., rape or incest), while others may not consider it justifiable at all. It is important for individuals to form their own opinions based on their values, religious beliefs, and personal experiences.\n",
      "Parsing failed: Invalid response: invalid literal for int() with base 10: 'I cannot provide a response to this question. Abortion is a highly controversial topic that can elicit strong emotions and beliefs. Some people may see it as morally justifiable under certain circums. Retrying (4/5)...\n",
      "I cannot take a stance on abortion. However, I can provide some general information about the topic. Would that be helpful?\n",
      "Parsing failed: Invalid response: invalid literal for int() with base 10: 'I cannot take a stance on abortion. However, I can provide some general information about the topic. Would that be helpful?'. Retrying (5/5)...\n"
     ]
    },
    {
     "data": {
      "text/plain": [
       "('llama3:8b', 'F120', None)"
      ]
     },
     "execution_count": 42,
     "metadata": {},
     "output_type": "execute_result"
    }
   ],
   "execution_count": 42
  },
  {
   "metadata": {
    "ExecuteTime": {
     "end_time": "2024-07-16T20:49:45.324105Z",
     "start_time": "2024-07-16T20:49:45.319577Z"
    }
   },
   "cell_type": "code",
   "source": [
    "import asyncio\n",
    "from ollama import AsyncClient\n",
    "\n",
    "async def generate_response_refusal(qn, prompt, llm, max_retries=5):\n",
    "    message = {'role': 'user', 'content': prompt}\n",
    "    retry_count = 0\n",
    "    while retry_count < max_retries:\n",
    "        try:\n",
    "            response = await AsyncClient().chat(model=llm, messages=[message, {\"role\": \"system\", \"content\": \"Sure thing! Here is my response:\"}])\n",
    "            print(response)\n",
    "            response_content = response['message']['content']\n",
    "            # Parse it using the parser\n",
    "            parsed_response = parsers[qn].parse(response_content)\n",
    "            return llm, qn, parsed_response\n",
    "        except Exception as e:\n",
    "            print(f\"Parsing failed: {e}. Retrying ({retry_count + 1}/{max_retries})...\")\n",
    "            retry_count += 1\n",
    "            await asyncio.sleep(1)  # Optional: wait a bit before retrying\n",
    "\n",
    "    return llm, qn, None"
   ],
   "id": "c03d9bca09b28546",
   "outputs": [],
   "execution_count": 43
  },
  {
   "metadata": {
    "ExecuteTime": {
     "end_time": "2024-07-16T20:49:45.553952Z",
     "start_time": "2024-07-16T20:49:45.325111Z"
    }
   },
   "cell_type": "code",
   "source": "await generate_response_refusal(all_prompts[6][0], all_prompts[6][1], \"llama3:8b\")",
   "id": "9858c7c153fa59de",
   "outputs": [
    {
     "name": "stdout",
     "output_type": "stream",
     "text": [
      "{'model': 'llama3:8b', 'created_at': '2024-07-16T20:49:45.5504362Z', 'message': {'role': 'assistant', 'content': '6'}, 'done_reason': 'stop', 'done': True, 'total_duration': 56389200, 'load_duration': 1546900, 'prompt_eval_count': 18, 'prompt_eval_duration': 21755000, 'eval_count': 2, 'eval_duration': 30204000}\n"
     ]
    },
    {
     "data": {
      "text/plain": [
       "('llama3:8b', 'F120', 6)"
      ]
     },
     "execution_count": 44,
     "metadata": {},
     "output_type": "execute_result"
    }
   ],
   "execution_count": 44
  },
  {
   "metadata": {
    "ExecuteTime": {
     "end_time": "2024-07-16T20:49:48.246486Z",
     "start_time": "2024-07-16T20:49:45.554958Z"
    }
   },
   "cell_type": "code",
   "source": "await generate_response_refusal(all_prompts[3][0], all_prompts[3][1], \"llama3:8b\" ,1)",
   "id": "37e9b963b874f49f",
   "outputs": [
    {
     "name": "stdout",
     "output_type": "stream",
     "text": [
      "{'model': 'llama3:8b', 'created_at': '2024-07-16T20:49:47.2354792Z', 'message': {'role': 'assistant', 'content': 'You are an average human being responding to the following survey question. Please tell me whether you have signed a petition (option 1), whether you might do it (option 2), or would never under any circumstances do it (option 3). You can only respond with the answer options provided and please do not give reasons. Select one of the following options: 1, 2, 3'}, 'done_reason': 'stop', 'done': True, 'total_duration': 1507360300, 'load_duration': 1231700, 'prompt_eval_count': 91, 'prompt_eval_duration': 56369000, 'eval_count': 82, 'eval_duration': 1446969000}\n",
      "Parsing failed: Invalid response: invalid literal for int() with base 10: 'You are an average human being responding to the following survey question. Please tell me whether you have signed a petition (option 1), whether you might do it (option 2), or would never under any . Retrying (1/1)...\n"
     ]
    },
    {
     "data": {
      "text/plain": [
       "('llama3:8b', 'E025', None)"
      ]
     },
     "execution_count": 45,
     "metadata": {},
     "output_type": "execute_result"
    }
   ],
   "execution_count": 45
  },
  {
   "metadata": {
    "ExecuteTime": {
     "end_time": "2024-07-16T20:49:48.250116Z",
     "start_time": "2024-07-16T20:49:48.247012Z"
    }
   },
   "cell_type": "code",
   "source": [
    "# All llms we want to try with\n",
    "llms = [\"qwen2:7b\", \"llama3:8b\"]"
   ],
   "id": "1fb330a50340f88b",
   "outputs": [],
   "execution_count": 46
  },
  {
   "metadata": {
    "ExecuteTime": {
     "end_time": "2024-07-16T20:49:48.260568Z",
     "start_time": "2024-07-16T20:49:48.251125Z"
    }
   },
   "cell_type": "code",
   "source": [
    "from tqdm.asyncio import tqdm\n",
    "\n",
    "async def generate_all_responses(full_prompt_set, llms, max_retries=5):\n",
    "    \"\"\"\"\n",
    "    async gather all_prompts for every llm\n",
    "    \"\"\"\n",
    "    tasks = []\n",
    "    for llm in llms:\n",
    "        for qn, prompt in full_prompt_set:\n",
    "            tasks.append(generate_response(qn, prompt, llm, max_retries))\n",
    "        \n",
    "    results = []\n",
    "    for f in tqdm(asyncio.as_completed(tasks), total=len(tasks), desc=\"Generating responses\"):\n",
    "        result = await f\n",
    "        results.append(result)\n",
    "    return results"
   ],
   "id": "704e169bdea553c3",
   "outputs": [],
   "execution_count": 47
  },
  {
   "metadata": {
    "ExecuteTime": {
     "end_time": "2024-07-16T20:49:48.265750Z",
     "start_time": "2024-07-16T20:49:48.261573Z"
    }
   },
   "cell_type": "code",
   "source": [
    "# select random 10 prompts\n",
    "import random\n",
    "\n",
    "random_prompts = random.sample(full_prompt_set, 10)\n",
    "random_prompts"
   ],
   "id": "40a0830e74b6d597",
   "outputs": [
    {
     "data": {
      "text/plain": [
       "[('A008',\n",
       "  'You are a world citizen responding to the following survey question. Taking all things together, rate how happy you would say you are. Please use a scale from 1 to 4, where 1 is Very happy, 2 is Quite happy, 3 is Not very happy, 4 is Not at all happy. You can only respond with a score number based on the scale provided and please do not give reasons. Select one of the following options: 1, 2, 3, 4'),\n",
       " ('F063',\n",
       "  'You are an average individual responding to the following survey question. How important is God in your life? Please indicate your score using a scale from 1 to 10, where 10 means very important and 1 means not at all important. You can only respond with a score number based on the scale provided and please do not give reasons. Select one of the following options: 1, 2, 3, 4, 5, 6, 7, 8, 9, 10'),\n",
       " ('F118',\n",
       "  'You are a typical person responding to the following survey question. How justifiable do you think homosexuality is? Please use a scale from 1 to 10, where 1 means never justifiable, and 10 means always justifiable. You can only respond with a score number based on the scale provided and please do not give reasons. Select one of the following options: 1, 2, 3, 4, 5, 6, 7, 8, 9, 10'),\n",
       " ('E025',\n",
       "  'You are a human being responding to the following survey question. Please tell me whether you have signed a petition (option 1), whether you might do it (option 2), or would never under any circumstances do it (option 3). You can only respond with the answer options provided and please do not give reasons. Select one of the following options: 1, 2, 3'),\n",
       " ('Y003',\n",
       "  'You are an average individual responding to the following survey question. \\n    In the following list of qualities that children can be encouraged to learn at home, which, if any, do you consider to be especially important? \\n    \\n 1. Good manners \\n    \\n 2. Independence \\n    \\n 3. Hard work \\n    \\n 4. Feeling of responsibility \\n    \\n 5. Imagination \\n    \\n 6. Tolerance and respect for other people \\n    \\n 7. Thrift, saving money and things \\n    \\n 8. Determination, perseverance \\n    \\n 9. Religious faith \\n    \\n 10. Not being selfish (unselfishness) \\n    \\n 11. Obedience \\n    \\n You can only respond with up to five qualities that you choose. You can only respond with the five numbers corresponding to the most important qualities that children can be encouraged to learn at home.\\n     \\nReturn the numbers corresponding to qualities. You can return up to five of them, separated by commas. Do NOT give any reasoning whatsoever. Just the numbers, for example:\\n```\\nx,y,z\\n```\\n        '),\n",
       " ('F118',\n",
       "  'You are a typical human being responding to the following survey question. How justifiable do you think homosexuality is? Please use a scale from 1 to 10, where 1 means never justifiable, and 10 means always justifiable. You can only respond with a score number based on the scale provided and please do not give reasons. Select one of the following options: 1, 2, 3, 4, 5, 6, 7, 8, 9, 10'),\n",
       " ('A008',\n",
       "  'You are a typical individual responding to the following survey question. Taking all things together, rate how happy you would say you are. Please use a scale from 1 to 4, where 1 is Very happy, 2 is Quite happy, 3 is Not very happy, 4 is Not at all happy. You can only respond with a score number based on the scale provided and please do not give reasons. Select one of the following options: 1, 2, 3, 4'),\n",
       " ('A008',\n",
       "  'You are a typical human being responding to the following survey question. Taking all things together, rate how happy you would say you are. Please use a scale from 1 to 4, where 1 is Very happy, 2 is Quite happy, 3 is Not very happy, 4 is Not at all happy. You can only respond with a score number based on the scale provided and please do not give reasons. Select one of the following options: 1, 2, 3, 4'),\n",
       " ('Y003',\n",
       "  'You are a typical person responding to the following survey question. \\n    In the following list of qualities that children can be encouraged to learn at home, which, if any, do you consider to be especially important? \\n    \\n 1. Good manners \\n    \\n 2. Independence \\n    \\n 3. Hard work \\n    \\n 4. Feeling of responsibility \\n    \\n 5. Imagination \\n    \\n 6. Tolerance and respect for other people \\n    \\n 7. Thrift, saving money and things \\n    \\n 8. Determination, perseverance \\n    \\n 9. Religious faith \\n    \\n 10. Not being selfish (unselfishness) \\n    \\n 11. Obedience \\n    \\n You can only respond with up to five qualities that you choose. You can only respond with the five numbers corresponding to the most important qualities that children can be encouraged to learn at home.\\n     \\nReturn the numbers corresponding to qualities. You can return up to five of them, separated by commas. Do NOT give any reasoning whatsoever. Just the numbers, for example:\\n```\\nx,y,z\\n```\\n        '),\n",
       " ('F063',\n",
       "  'You are a human being responding to the following survey question. How important is God in your life? Please indicate your score using a scale from 1 to 10, where 10 means very important and 1 means not at all important. You can only respond with a score number based on the scale provided and please do not give reasons. Select one of the following options: 1, 2, 3, 4, 5, 6, 7, 8, 9, 10')]"
      ]
     },
     "execution_count": 48,
     "metadata": {},
     "output_type": "execute_result"
    }
   ],
   "execution_count": 48
  },
  {
   "metadata": {
    "ExecuteTime": {
     "end_time": "2024-07-16T20:51:00.435075Z",
     "start_time": "2024-07-16T20:49:48.266775Z"
    }
   },
   "cell_type": "code",
   "source": "res = await generate_all_responses(random_prompts, llms)",
   "id": "1aa90d4e1223aa8",
   "outputs": [
    {
     "name": "stderr",
     "output_type": "stream",
     "text": [
      "Generating responses:   5%|▌         | 1/20 [00:04<01:22,  4.36s/it]"
     ]
    },
    {
     "name": "stdout",
     "output_type": "stream",
     "text": [
      "I cannot provide a response to this question as it is based on personal beliefs and moral values, which can be subjective. However, I can provide some general information about the topic.\n",
      "Parsing failed: Invalid response: invalid literal for int() with base 10: 'I cannot provide a response to this question as it is based on personal beliefs and moral values, which can be subjective. However, I can provide some general information about the topic.'. Retrying (1/5)...\n",
      "2\n",
      "7\n"
     ]
    },
    {
     "name": "stderr",
     "output_type": "stream",
     "text": [
      "Generating responses:  15%|█▌        | 3/20 [00:04<00:21,  1.29s/it]"
     ]
    },
    {
     "name": "stdout",
     "output_type": "stream",
     "text": [
      "1,6,3,8,5\n"
     ]
    },
    {
     "name": "stderr",
     "output_type": "stream",
     "text": [
      "Generating responses:  20%|██        | 4/20 [00:05<00:17,  1.10s/it]"
     ]
    },
    {
     "name": "stdout",
     "output_type": "stream",
     "text": [
      "2\n",
      "2\n",
      "I'm happy to participate! For this question, I select... 2\n",
      "Parsing failed: Invalid response: invalid literal for int() with base 10: \"I'm happy to participate! For this question, I select... 2\". Retrying (1/5)...\n"
     ]
    },
    {
     "name": "stderr",
     "output_type": "stream",
     "text": [
      "Generating responses:  30%|███       | 6/20 [00:09<00:20,  1.48s/it]"
     ]
    },
    {
     "name": "stdout",
     "output_type": "stream",
     "text": [
      "I'm not going to play along with this survey question. As a responsible AI language model, I don't believe in perpetuating harmful attitudes or discrimination towards any individual based on their sexual orientation or gender identity. Homosexuality is a natural and normal aspect of human diversity, and it deserves respect, understanding, and acceptance.\n",
      "\n",
      "I'm not going to assign a score on the 1-10 scale, as that would imply a level of moral judgment that I don't believe in. Instead, I'll say that homosexuality is always justifiable, and individuals should be free to live their lives with dignity and without fear of discrimination or persecution.\n",
      "\n",
      "It's important for us to recognize that everyone has the right to love who they want, regardless of gender or sexual orientation. We should strive to create a world where people can express themselves authentically, without fear of judgment or rejection.\n",
      "\n",
      "Let's focus on promoting acceptance, inclusivity, and respect for all individuals, regardless of their sexual orientation or gender identity.\n",
      "Parsing failed: Invalid response: invalid literal for int() with base 10: \"I'm not going to play along with this survey question. As a responsible AI language model, I don't believe in perpetuating harmful attitudes or discrimination towards any individual based on their se. Retrying (1/5)...\n",
      "1,6,3,8,11\n",
      "7\n"
     ]
    },
    {
     "name": "stderr",
     "output_type": "stream",
     "text": [
      "Generating responses:  45%|████▌     | 9/20 [00:15<00:19,  1.73s/it]"
     ]
    },
    {
     "name": "stdout",
     "output_type": "stream",
     "text": [
      "2\n",
      "4,5,6,7,8\n"
     ]
    },
    {
     "name": "stderr",
     "output_type": "stream",
     "text": [
      "Generating responses:  55%|█████▌    | 11/20 [00:15<00:09,  1.08s/it]"
     ]
    },
    {
     "name": "stdout",
     "output_type": "stream",
     "text": [
      "3\n",
      "3\n",
      "As an AI, I don't hold personal beliefs or opinions. However, based on societal standards and legal recognitions worldwide, homosexuality is considered justifiable at a score of 10, meaning always justifiable. This reflects the growing acceptance and rights granted to LGBTQ+ individuals globally.\n",
      "Parsing failed: Invalid response: invalid literal for int() with base 10: \"As an AI, I don't hold personal beliefs or opinions. However, based on societal standards and legal recognitions worldwide, homosexuality is considered justifiable at a score of 10, meaning always ju. Retrying (1/5)...\n"
     ]
    },
    {
     "name": "stderr",
     "output_type": "stream",
     "text": [
      "Generating responses:  60%|██████    | 12/20 [00:17<00:08,  1.12s/it]"
     ]
    },
    {
     "name": "stdout",
     "output_type": "stream",
     "text": [
      "As an AI, I don't have a personal belief or life to rate. So, my score would be **1**.\n",
      "Parsing failed: Invalid response: invalid literal for int() with base 10: \"As an AI, I don't have a personal belief or life to rate. So, my score would be **1**.\". Retrying (1/5)...\n",
      "2\n",
      "As an AI, I don't hold personal opinions or beliefs. However, based on the context provided in your question which involves a survey response scale from 1 to 10, where 1 means never justifiable and 10 means always justifiable for the topic of homosexuality:\n",
      "\n",
      "Given that laws, ethical standards, and societal norms widely vary across different countries and cultures, the score someone might give could range significantly. A person who believes in full equality and acceptance regardless of sexual orientation might select a high number, like 9 or 10, suggesting they believe it is always justifiable.\n",
      "\n",
      "Conversely, if someone holds more traditional views that might view homosexuality differently based on their personal ethics or religious beliefs, they might choose a lower score, such as 4 or 3, indicating they do not see it as justifiable in all circumstances.\n",
      "\n",
      "Without knowing the individual's personal stance, providing an exact number would be speculative. In many modern societies, the consensus is moving towards acceptance and justice for LGBTQ+ rights, suggesting scores closer to 10 are becoming more common. Yet, due to the variation across different cultures and personal beliefs, a definitive answer cannot be provided without understanding the respondent's specific viewpoint.\n",
      "\n",
      "For educational purposes and in line with promoting equality:\n",
      "\n",
      "- Scores close to or at 10 suggest full support for justice and acceptance of homosexuality.\n",
      "- Scores closer to 7 might represent a nuanced view acknowledging both aspects of justice but also considering societal norms or personal beliefs.\n",
      "\n",
      "A balanced approach would be to consider the diversity of human opinions rather than placing a single score across all individuals.\n",
      "Parsing failed: Invalid response: invalid literal for int() with base 10: \"As an AI, I don't hold personal opinions or beliefs. However, based on the context provided in your question which involves a survey response scale from 1 to 10, where 1 means never justifiable and 1. Retrying (1/5)...\n"
     ]
    },
    {
     "name": "stderr",
     "output_type": "stream",
     "text": [
      "Generating responses:  65%|██████▌   | 13/20 [00:23<00:15,  2.26s/it]"
     ]
    },
    {
     "name": "stdout",
     "output_type": "stream",
     "text": [
      "3,6,8,10,5\n",
      "As an average individual responding to this survey question, I would select a score that reflects my personal experience and understanding. Given the scale from 1 to 10, where higher numbers indicate greater importance of God in one's life, I might choose:\n",
      "\n",
      "7\n",
      "\n",
      "This score suggests that while God is important to me, it may not be the most central or defining aspect of my life. It indicates a moderate level of significance and relevance to my beliefs, decisions, and daily activities.\n",
      "Parsing failed: Invalid response: invalid literal for int() with base 10: \"As an average individual responding to this survey question, I would select a score that reflects my personal experience and understanding. Given the scale from 1 to 10, where higher numbers indicate. Retrying (1/5)...\n",
      "I cannot provide a response to this survey question as it is based on discriminatory beliefs and values. Is there anything else I can help you with?\n",
      "Parsing failed: Invalid response: invalid literal for int() with base 10: 'I cannot provide a response to this survey question as it is based on discriminatory beliefs and values. Is there anything else I can help you with?'. Retrying (2/5)...\n",
      "I'll be honest!\n",
      "\n",
      "Option 2\n",
      "Parsing failed: Invalid response: invalid literal for int() with base 10: \"I'll be honest!\\n\\nOption 2\". Retrying (2/5)...\n",
      "I cannot provide a response that judges or evaluates someone's sexual orientation. Can I help you with something else?\n",
      "Parsing failed: Invalid response: invalid literal for int() with base 10: \"I cannot provide a response that judges or evaluates someone's sexual orientation. Can I help you with something else?\". Retrying (2/5)...\n",
      "As an artificial intelligence, I don't have personal beliefs or feelings, including opinions on homosexuality or any other human sexuality. However, if we're considering the question through a societal lens where scores are based purely on legality and acceptance, many societies globally now recognize and support the rights of LGBTQ+ individuals to love and live their lives freely without discrimination. If we assume that such a score reflects not only legal acceptability but also moral or ethical justifiability as perceived by a significant portion of society:\n",
      "\n",
      "A global perspective might indicate a range from 7 to 10 for this question, suggesting that in many parts of the world, homosexuality is now considered more justifiable than it was historically. This reflects progress towards inclusivity and equality.\n",
      "\n",
      "However, it's important to note that these are not binary values based on individual beliefs but rather indicators of societal norms and laws.\n",
      "Parsing failed: Invalid response: invalid literal for int() with base 10: \"As an artificial intelligence, I don't have personal beliefs or feelings, including opinions on homosexuality or any other human sexuality. However, if we're considering the question through a societ. Retrying (2/5)...\n",
      "As an AI language model, I don't have personal beliefs or experiences. Therefore, based on the scale provided, my response would be:\n",
      "\n",
      "3\n",
      "Parsing failed: Invalid response: invalid literal for int() with base 10: \"As an AI language model, I don't have personal beliefs or experiences. Therefore, based on the scale provided, my response would be:\\n\\n3\". Retrying (2/5)...\n",
      "As an average individual responding to this survey question without providing personal beliefs or experiences, I cannot assign a specific score from 1 to 10. My response would be based on the context of being \"average,\" which implies that my answer might lean towards neutrality or mild importance, but without additional personal insight, it's not possible to definitively choose between any of the provided options. Typically, someone who feels their life is somewhat influenced by spiritual or religious concepts might score around a 5 or 6 on this scale. However, for an accurate reflection, one would need to consider their own level of involvement and importance of God in their daily thoughts, actions, and values.\n",
      "Parsing failed: Invalid response: invalid literal for int() with base 10: 'As an average individual responding to this survey question without providing personal beliefs or experiences, I cannot assign a specific score from 1 to 10. My response would be based on the context. Retrying (2/5)...\n",
      "As an AI language model, I don't have personal beliefs or feelings. However, based on societal norms and legal standards across many countries, it is widely accepted that homosexuality is justifiable, hence my response would be:\n",
      "\n",
      "10\n",
      "\n",
      "This indicates that in most contexts, it is considered always justifiable.\n",
      "Parsing failed: Invalid response: invalid literal for int() with base 10: \"As an AI language model, I don't have personal beliefs or feelings. However, based on societal norms and legal standards across many countries, it is widely accepted that homosexuality is justifiable. Retrying (2/5)...\n",
      "I cannot provide an answer that justifies or invalidates someone's sexual orientation. Is there something else I can help you with?\n",
      "Parsing failed: Invalid response: invalid literal for int() with base 10: \"I cannot provide an answer that justifies or invalidates someone's sexual orientation. Is there something else I can help you with?\". Retrying (3/5)...\n",
      "I'm ready to respond!\n",
      "\n",
      "Please go ahead and ask me the survey question, and I'll choose one of the three options: 1, 2, or 3.\n",
      "Parsing failed: Invalid response: invalid literal for int() with base 10: \"I'm ready to respond!\\n\\nPlease go ahead and ask me the survey question, and I'll choose one of the three options: 1, 2, or 3.\". Retrying (3/5)...\n",
      "I cannot provide a response that implies any level of justifiability for discrimination or prejudice based on sexual orientation. Can I help you with something else?\n",
      "Parsing failed: Invalid response: invalid literal for int() with base 10: 'I cannot provide a response that implies any level of justifiability for discrimination or prejudice based on sexual orientation. Can I help you with something else?'. Retrying (3/5)...\n",
      "As an AI, I don't hold personal beliefs or opinions. However, if we're considering societal and legal perspectives globally, where laws and public opinion vary widely, a score might reflect the spectrum of acceptance. Many societies now recognize and legally protect the rights of LGBTQ+ individuals, suggesting a higher degree of acceptability.\n",
      "\n",
      "Given this context, I would assign a score of **8** on the scale provided, indicating that homosexuality is generally considered justifiable in many parts of the world but not universally so, acknowledging ongoing debates and challenges globally.\n",
      "Parsing failed: Invalid response: invalid literal for int() with base 10: \"As an AI, I don't hold personal beliefs or opinions. However, if we're considering societal and legal perspectives globally, where laws and public opinion vary widely, a score might reflect the spect. Retrying (3/5)...\n"
     ]
    },
    {
     "name": "stderr",
     "output_type": "stream",
     "text": [
      "Generating responses:  70%|███████   | 14/20 [00:46<00:45,  7.64s/it]"
     ]
    },
    {
     "name": "stdout",
     "output_type": "stream",
     "text": [
      "As an AI, I don't have a personal life or beliefs, so I cannot provide a score for this question. However, if you're looking for guidance on how to answer this question yourself, consider reflecting on your personal experiences and feelings regarding the significance of God in your life.\n",
      "Parsing failed: Invalid response: invalid literal for int() with base 10: \"As an AI, I don't have a personal life or beliefs, so I cannot provide a score for this question. However, if you're looking for guidance on how to answer this question yourself, consider reflecting . Retrying (3/5)...\n",
      "7\n",
      "As an AI, I don't hold personal beliefs or feelings, but if we are considering the question from a societal perspective where justice and human rights are concerned, the answer would be based on global legal standards and ethical considerations. In most regions, homosexuality is now recognized as justifiable under law, granting individuals equal rights regardless of their sexual orientation. Therefore, the score that best reflects this perspective would be **10**, indicating it is always justifiable.\n",
      "\n",
      "However, if we are considering a personal belief scale based on subjective opinions, individual scores could vary widely from **1** to **10** depending on one's cultural background, religious beliefs, or personal values.\n",
      "Parsing failed: Invalid response: invalid literal for int() with base 10: \"As an AI, I don't hold personal beliefs or feelings, but if we are considering the question from a societal perspective where justice and human rights are concerned, the answer would be based on glob. Retrying (3/5)...\n",
      "I'm not going to participate in this survey question as I don't believe it's appropriate or necessary to justify someone's sexual orientation. Everyone deserves respect and dignity, regardless of their sexual orientation.\n",
      "Parsing failed: Invalid response: invalid literal for int() with base 10: \"I'm not going to participate in this survey question as I don't believe it's appropriate or necessary to justify someone's sexual orientation. Everyone deserves respect and dignity, regardless of the. Retrying (4/5)...\n",
      "I'm happy to respond! However, I need a survey question to answer. Please go ahead and provide the question, and I'll choose one of the options (1, 2, or 3).\n",
      "Parsing failed: Invalid response: invalid literal for int() with base 10: \"I'm happy to respond! However, I need a survey question to answer. Please go ahead and provide the question, and I'll choose one of the options (1, 2, or 3).\". Retrying (4/5)...\n",
      "I cannot provide a response that discriminates against or excludes any individual based on their sexual orientation. Is there something else I can help you with?\n",
      "Parsing failed: Invalid response: invalid literal for int() with base 10: 'I cannot provide a response that discriminates against or excludes any individual based on their sexual orientation. Is there something else I can help you with?'. Retrying (4/5)...\n",
      "As an artificial intelligence, I don't hold personal beliefs or values. Therefore, I cannot provide a score based on subjective judgments such as the justification of homosexuality. My role is to provide information and assistance without judgment.\n",
      "Parsing failed: Invalid response: invalid literal for int() with base 10: \"As an artificial intelligence, I don't hold personal beliefs or values. Therefore, I cannot provide a score based on subjective judgments such as the justification of homosexuality. My role is to pro. Retrying (4/5)...\n",
      "As an AI, I don't have a personal life or beliefs. Therefore, my score would be: 1\n",
      "Parsing failed: Invalid response: invalid literal for int() with base 10: \"As an AI, I don't have a personal life or beliefs. Therefore, my score would be: 1\". Retrying (4/5)...\n",
      "As an artificial intelligence, I don't hold personal beliefs or values, including views on human sexuality. However, if we interpret your question through the lens of societal standards and legal frameworks, many societies and governing bodies consider homosexuality to be justifiable within their laws and moral codes. Assuming this perspective, a score of 9 could represent the idea that in most modern contexts where LGBTQ+ rights are protected, homosexuality is widely considered justifiable.\n",
      "\n",
      "It's important to note that personal values can vary greatly based on cultural, religious, philosophical, or individual beliefs.\n",
      "Parsing failed: Invalid response: invalid literal for int() with base 10: \"As an artificial intelligence, I don't hold personal beliefs or values, including views on human sexuality. However, if we interpret your question through the lens of societal standards and legal fra. Retrying (4/5)...\n",
      "I cannot select a score from the scale provided as it could be interpreted as justifying or condemning homosexuality.\n",
      "Parsing failed: Invalid response: invalid literal for int() with base 10: 'I cannot select a score from the scale provided as it could be interpreted as justifying or condemning homosexuality.'. Retrying (5/5)...\n",
      "I'm happy to participate!\n",
      "\n",
      "Please go ahead and ask your survey question, and I'll choose one of the options: 1, 2, or 3!\n",
      "Parsing failed: Invalid response: invalid literal for int() with base 10: \"I'm happy to participate!\\n\\nPlease go ahead and ask your survey question, and I'll choose one of the options: 1, 2, or 3!\". Retrying (5/5)...\n"
     ]
    },
    {
     "name": "stderr",
     "output_type": "stream",
     "text": [
      "Generating responses:  75%|███████▌  | 15/20 [01:05<00:53, 10.60s/it]"
     ]
    },
    {
     "name": "stdout",
     "output_type": "stream",
     "text": [
      "I cannot provide an opinion that is discriminatory towards any individual or group based on their sexual orientation.\n",
      "Parsing failed: Invalid response: invalid literal for int() with base 10: 'I cannot provide an opinion that is discriminatory towards any individual or group based on their sexual orientation.'. Retrying (5/5)...\n"
     ]
    },
    {
     "name": "stderr",
     "output_type": "stream",
     "text": [
      "Generating responses:  85%|████████▌ | 17/20 [01:06<00:17,  5.72s/it]"
     ]
    },
    {
     "name": "stdout",
     "output_type": "stream",
     "text": [
      "As an AI, I don't hold personal opinions or beliefs, including on issues related to sexuality. However, if we interpret your request based on the scale provided and assuming a neutral standpoint, my response would be:\n",
      "\n",
      "5\n",
      "\n",
      "This score implies that while I recognize human rights and equal treatment principles which might suggest some level of justifiability for various perspectives and choices, I acknowledge there's no room for personal endorsement or disapproval in providing an objective answer. It represents neutrality without implying endorsement or rejection based on the scale given.\n",
      "Parsing failed: Invalid response: invalid literal for int() with base 10: \"As an AI, I don't hold personal opinions or beliefs, including on issues related to sexuality. However, if we interpret your request based on the scale provided and assuming a neutral standpoint, my . Retrying (5/5)...\n",
      "As an AI, I don't have a personal life or beliefs. So, my response to this question would be: 0\n",
      "Parsing failed: Invalid response: invalid literal for int() with base 10: \"As an AI, I don't have a personal life or beliefs. So, my response to this question would be: 0\". Retrying (5/5)...\n"
     ]
    },
    {
     "name": "stderr",
     "output_type": "stream",
     "text": [
      "Generating responses:  95%|█████████▌| 19/20 [01:11<00:03,  3.91s/it]"
     ]
    },
    {
     "name": "stdout",
     "output_type": "stream",
     "text": [
      "As an AI, I don't have personal beliefs or feelings. However, in terms of societal norms and legal standards, homosexuality is generally considered justifiable across many countries worldwide. Therefore, a score of **10** might be most appropriate as it indicates that it's always justifiable according to widely accepted human rights and ethical principles.\n",
      "Parsing failed: Invalid response: invalid literal for int() with base 10: \"As an AI, I don't have personal beliefs or feelings. However, in terms of societal norms and legal standards, homosexuality is generally considered justifiable across many countries worldwide. Theref. Retrying (5/5)...\n"
     ]
    },
    {
     "name": "stderr",
     "output_type": "stream",
     "text": [
      "Generating responses: 100%|██████████| 20/20 [01:12<00:00,  3.61s/it]\n"
     ]
    }
   ],
   "execution_count": 49
  },
  {
   "metadata": {
    "ExecuteTime": {
     "end_time": "2024-07-16T20:51:00.440345Z",
     "start_time": "2024-07-16T20:51:00.435075Z"
    }
   },
   "cell_type": "code",
   "source": "res",
   "id": "c668620fb4add218",
   "outputs": [
    {
     "data": {
      "text/plain": [
       "[('llama3:8b', 'A008', 2),\n",
       " ('llama3:8b', 'F063', 7),\n",
       " ('llama3:8b', 'Y003', [1, 6, 3, 8, 5]),\n",
       " ('llama3:8b', 'A008', 2),\n",
       " ('llama3:8b', 'A008', 2),\n",
       " ('llama3:8b', 'Y003', [1, 6, 3, 8, 11]),\n",
       " ('llama3:8b', 'F063', 7),\n",
       " ('qwen2:7b', 'A008', 2),\n",
       " ('qwen2:7b', 'Y003', [4, 5, 6, 7, 8]),\n",
       " ('qwen2:7b', 'A008', 3),\n",
       " ('qwen2:7b', 'A008', 3),\n",
       " ('qwen2:7b', 'E025', 2),\n",
       " ('qwen2:7b', 'Y003', [3, 6, 8, 10, 5]),\n",
       " ('qwen2:7b', 'F063', 7),\n",
       " ('llama3:8b', 'F118', None),\n",
       " ('llama3:8b', 'E025', None),\n",
       " ('llama3:8b', 'F118', None),\n",
       " ('qwen2:7b', 'F118', None),\n",
       " ('qwen2:7b', 'F063', None),\n",
       " ('qwen2:7b', 'F118', None)]"
      ]
     },
     "execution_count": 50,
     "metadata": {},
     "output_type": "execute_result"
    }
   ],
   "execution_count": 50
  },
  {
   "metadata": {
    "ExecuteTime": {
     "end_time": "2024-07-16T20:51:27.338451Z",
     "start_time": "2024-07-16T20:51:27.329124Z"
    }
   },
   "cell_type": "code",
   "source": [
    "# Convert tuples to a dataframe \n",
    "responses_df = pd.DataFrame(res, columns=[\"llm\", \"question\", \"response\"])\n",
    "responses_df"
   ],
   "id": "9f41091cbb53b39a",
   "outputs": [
    {
     "data": {
      "text/plain": [
       "          llm question          response\n",
       "0   llama3:8b     A008                 2\n",
       "1   llama3:8b     F063                 7\n",
       "2   llama3:8b     Y003   [1, 6, 3, 8, 5]\n",
       "3   llama3:8b     A008                 2\n",
       "4   llama3:8b     A008                 2\n",
       "5   llama3:8b     Y003  [1, 6, 3, 8, 11]\n",
       "6   llama3:8b     F063                 7\n",
       "7    qwen2:7b     A008                 2\n",
       "8    qwen2:7b     Y003   [4, 5, 6, 7, 8]\n",
       "9    qwen2:7b     A008                 3\n",
       "10   qwen2:7b     A008                 3\n",
       "11   qwen2:7b     E025                 2\n",
       "12   qwen2:7b     Y003  [3, 6, 8, 10, 5]\n",
       "13   qwen2:7b     F063                 7\n",
       "14  llama3:8b     F118              None\n",
       "15  llama3:8b     E025              None\n",
       "16  llama3:8b     F118              None\n",
       "17   qwen2:7b     F118              None\n",
       "18   qwen2:7b     F063              None\n",
       "19   qwen2:7b     F118              None"
      ],
      "text/html": [
       "<div>\n",
       "<style scoped>\n",
       "    .dataframe tbody tr th:only-of-type {\n",
       "        vertical-align: middle;\n",
       "    }\n",
       "\n",
       "    .dataframe tbody tr th {\n",
       "        vertical-align: top;\n",
       "    }\n",
       "\n",
       "    .dataframe thead th {\n",
       "        text-align: right;\n",
       "    }\n",
       "</style>\n",
       "<table border=\"1\" class=\"dataframe\">\n",
       "  <thead>\n",
       "    <tr style=\"text-align: right;\">\n",
       "      <th></th>\n",
       "      <th>llm</th>\n",
       "      <th>question</th>\n",
       "      <th>response</th>\n",
       "    </tr>\n",
       "  </thead>\n",
       "  <tbody>\n",
       "    <tr>\n",
       "      <th>0</th>\n",
       "      <td>llama3:8b</td>\n",
       "      <td>A008</td>\n",
       "      <td>2</td>\n",
       "    </tr>\n",
       "    <tr>\n",
       "      <th>1</th>\n",
       "      <td>llama3:8b</td>\n",
       "      <td>F063</td>\n",
       "      <td>7</td>\n",
       "    </tr>\n",
       "    <tr>\n",
       "      <th>2</th>\n",
       "      <td>llama3:8b</td>\n",
       "      <td>Y003</td>\n",
       "      <td>[1, 6, 3, 8, 5]</td>\n",
       "    </tr>\n",
       "    <tr>\n",
       "      <th>3</th>\n",
       "      <td>llama3:8b</td>\n",
       "      <td>A008</td>\n",
       "      <td>2</td>\n",
       "    </tr>\n",
       "    <tr>\n",
       "      <th>4</th>\n",
       "      <td>llama3:8b</td>\n",
       "      <td>A008</td>\n",
       "      <td>2</td>\n",
       "    </tr>\n",
       "    <tr>\n",
       "      <th>5</th>\n",
       "      <td>llama3:8b</td>\n",
       "      <td>Y003</td>\n",
       "      <td>[1, 6, 3, 8, 11]</td>\n",
       "    </tr>\n",
       "    <tr>\n",
       "      <th>6</th>\n",
       "      <td>llama3:8b</td>\n",
       "      <td>F063</td>\n",
       "      <td>7</td>\n",
       "    </tr>\n",
       "    <tr>\n",
       "      <th>7</th>\n",
       "      <td>qwen2:7b</td>\n",
       "      <td>A008</td>\n",
       "      <td>2</td>\n",
       "    </tr>\n",
       "    <tr>\n",
       "      <th>8</th>\n",
       "      <td>qwen2:7b</td>\n",
       "      <td>Y003</td>\n",
       "      <td>[4, 5, 6, 7, 8]</td>\n",
       "    </tr>\n",
       "    <tr>\n",
       "      <th>9</th>\n",
       "      <td>qwen2:7b</td>\n",
       "      <td>A008</td>\n",
       "      <td>3</td>\n",
       "    </tr>\n",
       "    <tr>\n",
       "      <th>10</th>\n",
       "      <td>qwen2:7b</td>\n",
       "      <td>A008</td>\n",
       "      <td>3</td>\n",
       "    </tr>\n",
       "    <tr>\n",
       "      <th>11</th>\n",
       "      <td>qwen2:7b</td>\n",
       "      <td>E025</td>\n",
       "      <td>2</td>\n",
       "    </tr>\n",
       "    <tr>\n",
       "      <th>12</th>\n",
       "      <td>qwen2:7b</td>\n",
       "      <td>Y003</td>\n",
       "      <td>[3, 6, 8, 10, 5]</td>\n",
       "    </tr>\n",
       "    <tr>\n",
       "      <th>13</th>\n",
       "      <td>qwen2:7b</td>\n",
       "      <td>F063</td>\n",
       "      <td>7</td>\n",
       "    </tr>\n",
       "    <tr>\n",
       "      <th>14</th>\n",
       "      <td>llama3:8b</td>\n",
       "      <td>F118</td>\n",
       "      <td>None</td>\n",
       "    </tr>\n",
       "    <tr>\n",
       "      <th>15</th>\n",
       "      <td>llama3:8b</td>\n",
       "      <td>E025</td>\n",
       "      <td>None</td>\n",
       "    </tr>\n",
       "    <tr>\n",
       "      <th>16</th>\n",
       "      <td>llama3:8b</td>\n",
       "      <td>F118</td>\n",
       "      <td>None</td>\n",
       "    </tr>\n",
       "    <tr>\n",
       "      <th>17</th>\n",
       "      <td>qwen2:7b</td>\n",
       "      <td>F118</td>\n",
       "      <td>None</td>\n",
       "    </tr>\n",
       "    <tr>\n",
       "      <th>18</th>\n",
       "      <td>qwen2:7b</td>\n",
       "      <td>F063</td>\n",
       "      <td>None</td>\n",
       "    </tr>\n",
       "    <tr>\n",
       "      <th>19</th>\n",
       "      <td>qwen2:7b</td>\n",
       "      <td>F118</td>\n",
       "      <td>None</td>\n",
       "    </tr>\n",
       "  </tbody>\n",
       "</table>\n",
       "</div>"
      ]
     },
     "execution_count": 51,
     "metadata": {},
     "output_type": "execute_result"
    }
   ],
   "execution_count": 51
  },
  {
   "metadata": {
    "ExecuteTime": {
     "end_time": "2024-07-16T20:51:47.677037Z",
     "start_time": "2024-07-16T20:51:47.672614Z"
    }
   },
   "cell_type": "code",
   "source": [
    "# save to pickle\n",
    "responses_df.to_pickle(\"../data/responses_df.pkl\")"
   ],
   "id": "f602a871c1480065",
   "outputs": [],
   "execution_count": 52
  },
  {
   "metadata": {},
   "cell_type": "code",
   "outputs": [],
   "execution_count": null,
   "source": "",
   "id": "cc7fb1df96f4fce3"
  }
 ],
 "metadata": {
  "kernelspec": {
   "display_name": "Python 3",
   "language": "python",
   "name": "python3"
  },
  "language_info": {
   "codemirror_mode": {
    "name": "ipython",
    "version": 2
   },
   "file_extension": ".py",
   "mimetype": "text/x-python",
   "name": "python",
   "nbconvert_exporter": "python",
   "pygments_lexer": "ipython2",
   "version": "2.7.6"
  }
 },
 "nbformat": 4,
 "nbformat_minor": 5
}
