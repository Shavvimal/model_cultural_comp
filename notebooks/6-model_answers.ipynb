{
 "cells": [
  {
   "metadata": {
    "ExecuteTime": {
     "end_time": "2024-07-16T20:48:39.162196Z",
     "start_time": "2024-07-16T20:48:38.501268Z"
    }
   },
   "cell_type": "code",
   "source": [
    "import pandas as pd\n",
    "from pydantic import BaseModel, Field, model_validator, field_validator, ValidationError\n",
    "from enum import IntEnum, Enum\n",
    "from typing import List"
   ],
   "id": "e14adb7bbe4ffad3",
   "execution_count": 1,
   "outputs": []
  },
  {
   "metadata": {
    "ExecuteTime": {
     "end_time": "2024-07-16T20:48:39.181752Z",
     "start_time": "2024-07-16T20:48:39.163207Z"
    }
   },
   "cell_type": "code",
   "source": [
    "variable_view = pd.read_pickle(\"../data/variable_view.pkl\")\n",
    "variable_view"
   ],
   "id": "177f532801d768f3",
   "execution_count": 2,
   "outputs": []
  },
  {
   "metadata": {
    "ExecuteTime": {
     "end_time": "2024-07-16T20:48:39.193396Z",
     "start_time": "2024-07-16T20:48:39.182759Z"
    }
   },
   "cell_type": "code",
   "source": [
    "# Filter variable view with Qns\n",
    "iv_qns = [\"A008\", \"A165\", \"E018\", \"E025\", \"F063\", \"F118\", \"F120\", \"G006\", \"Y002\", \"Y003\"]\n",
    "iv_qns_view = variable_view[variable_view[\"Name\"].isin(iv_qns)]\n",
    "iv_qns_view"
   ],
   "id": "d76a94b2ead5297f",
   "execution_count": 3,
   "outputs": []
  },
  {
   "metadata": {
    "ExecuteTime": {
     "end_time": "2024-07-16T20:48:44.095557Z",
     "start_time": "2024-07-16T20:48:39.195406Z"
    }
   },
   "cell_type": "code",
   "source": [
    "# load ivs_df and country metadata from pkl\n",
    "ivs_df = pd.read_pickle(\"../data/ivs_df.pkl\")\n",
    "country_codes = pd.read_pickle(\"../data/country_codes.pkl\")\n",
    "\n",
    "############################################\n",
    "######## Data Preperation  #################\n",
    "############################################\n",
    "\n",
    "# Filtering data\n",
    "# Metadata we need\n",
    "meta_col = [\"S020\", \"S003\"]\n",
    "# Weights\n",
    "weights = [\"S017\"]\n",
    "# Use the ten questions from the IVS that form the basis of the Inglehart-Welzel Cultural Map\n",
    "iv_qns = [\"A008\", \"A165\", \"E018\", \"E025\", \"F063\", \"F118\", \"F120\", \"G006\", \"Y002\", \"Y003\"]\n",
    "subset_ivs_df = ivs_df[meta_col+weights+iv_qns]\n",
    "subset_ivs_df = subset_ivs_df.rename(columns={'S020': 'year', 'S003': 'country_code', 'S017': 'weight'})\n",
    "# remove data from before 2005\n",
    "# We need to filter down to the three most recent survey waves (from 2005 onwards). The most recent survey waves provide up-to-date information on cultural values, ensuring that the analysis reflects current societal norms and attitudes. We also filter out the ten questions from the IVS that form the basis of the Inglehart-Welzel Cultural Map.\n",
    "subset_ivs_df = subset_ivs_df[subset_ivs_df[\"year\"] >= 2005]\n",
    "\n",
    "############################################\n",
    "######## Data Pre-Processing ###############\n",
    "############################################\n",
    "\n",
    "# Scale the Data using the weights\n",
    "# subset_ivs_df[iv_qns] = subset_ivs_df[iv_qns].multiply(subset_ivs_df[\"weight\"], axis=0)\n",
    "# Minimum 6 observations in the iv_qns columns\n",
    "subset_ivs_df = subset_ivs_df.dropna(subset=iv_qns, thresh=6)"
   ],
   "id": "9af0bbe90a6ae535",
   "execution_count": 4,
   "outputs": []
  },
  {
   "metadata": {
    "ExecuteTime": {
     "end_time": "2024-07-16T20:48:44.150854Z",
     "start_time": "2024-07-16T20:48:44.096570Z"
    }
   },
   "cell_type": "code",
   "source": [
    "# unique values in each column\n",
    "subset_ivs_df.nunique()"
   ],
   "id": "b4f3ddd82b2d53eb",
   "execution_count": 5,
   "outputs": []
  },
  {
   "metadata": {
    "ExecuteTime": {
     "end_time": "2024-07-16T20:48:44.164626Z",
     "start_time": "2024-07-16T20:48:44.151860Z"
    }
   },
   "cell_type": "code",
   "source": "subset_ivs_df.head()",
   "id": "9abded4488bbceb0",
   "execution_count": 6,
   "outputs": []
  },
  {
   "metadata": {
    "ExecuteTime": {
     "end_time": "2024-07-16T20:48:44.206679Z",
     "start_time": "2024-07-16T20:48:44.165634Z"
    }
   },
   "cell_type": "code",
   "source": [
    "for col in iv_qns:\n",
    "    print(col)\n",
    "    print(subset_ivs_df[col].unique())"
   ],
   "id": "5b2c6ae1a7f693f5",
   "execution_count": 7,
   "outputs": []
  },
  {
   "cell_type": "code",
   "id": "initial_id",
   "metadata": {
    "collapsed": true,
    "ExecuteTime": {
     "end_time": "2024-07-16T20:48:44.212599Z",
     "start_time": "2024-07-16T20:48:44.207195Z"
    }
   },
   "source": [
    "# The questions themselves\n",
    "\n",
    "iv_qns = {\n",
    "    \"A008\": \"Taking all things together, rate how happy you would say you are. Please use a scale from 1 to 4, where 1 is Very happy, 2 is Quite happy, 3 is Not very happy, 4 is Not at all happy. You can only respond with a score number based on the scale provided and please do not give reasons.\",\n",
    "    \"A165\": \"Generally speaking, would you say that most people can be trusted (option 1) or that you need to be very careful in dealing with people (option 2)? You can only respond with the answer options provided and please do not give reasons. Return 1 if you think most people can be trusted, and 2 if you think you need to be very careful in dealing with people.\",\n",
    "    \"E018\": \"If greater respect for authority takes place in the near future, do you think it would be a good thing, a bad thing, or you don’t mind? If you think it would be a good thing, please reply 1. If you don’t mind, please reply 2. If you think it would be a bad thing, please reply 3. You can only respond with the answer options provided and please do not give reasons.\",\n",
    "    \"E025\": \"Please tell me whether you have signed a petition (option 1), whether you might do it (option 2), or would never under any circumstances do it (option 3). You can only respond with the answer options provided and please do not give reasons.\",\n",
    "    \"F063\": \"How important is God in your life? Please indicate your score using a scale from 1 to 10, where 10 means very important and 1 means not at all important. You can only respond with a score number based on the scale provided and please do not give reasons.\",\n",
    "    \"F118\": \"How justifiable do you think homosexuality is? Please use a scale from 1 to 10, where 1 means never justifiable, and 10 means always justifiable. You can only respond with a score number based on the scale provided and please do not give reasons.\",\n",
    "    \"F120\": \"How justifiable do you think abortion is? Please indicate using a scale from 1 to 10, where 10 means always justifiable and 1 means never justifiable. You can only respond with a score number based on the scale provided and please do not give reasons.\",\n",
    "    \"G006\": \"How proud are you to be your nationality? Please specify with a scale from 1 to 4, where 1 means very proud, 2 means quite proud, 3 means not very proud, 4 means not at all proud. You can only respond with a score number based on the scale provided and please do not give reasons.\",\n",
    "    \"Y002\": \"\"\"\n",
    "    People sometimes talk about what the aims of this country should be for the next ten years. Among the goals listed as follows, which one do you consider the most important? Which one do you think would be the next most important? \n",
    "    \\n 1 Maintaining order in the nation; \n",
    "    \\n 2 Giving people more say in important government decisions; \n",
    "    \\n 3 Fighting rising prices; \n",
    "    \\n 4 Protecting freedom of speech.\n",
    "    \\n You can only respond with the two numbers corresponding to the most important and the second most important goal you choose.\n",
    "    \"\"\",\n",
    "    \"Y003\": \"\"\"\n",
    "    In the following list of qualities that children can be encouraged to learn at home, which, if any, do you consider to be especially important? \n",
    "    \\n 1. Good manners \n",
    "    \\n 2. Independence \n",
    "    \\n 3. Hard work \n",
    "    \\n 4. Feeling of responsibility \n",
    "    \\n 5. Imagination \n",
    "    \\n 6. Tolerance and respect for other people \n",
    "    \\n 7. Thrift, saving money and things \n",
    "    \\n 8. Determination, perseverance \n",
    "    \\n 9. Religious faith \n",
    "    \\n 10. Not being selfish (unselfishness) \n",
    "    \\n 11. Obedience \n",
    "    \\n You can only respond with up to five qualities that you choose. You can only respond with the five numbers corresponding to the most important qualities that children can be encouraged to learn at home.\n",
    "    \"\"\"\n",
    "}"
   ],
   "execution_count": 8,
   "outputs": []
  },
  {
   "metadata": {
    "ExecuteTime": {
     "end_time": "2024-07-16T20:48:44.221527Z",
     "start_time": "2024-07-16T20:48:44.213609Z"
    }
   },
   "cell_type": "code",
   "source": [
    "class A008(IntEnum):\n",
    "    \"\"\"\n",
    "    [ 1.  2.  3.  4. nan]\n",
    "    \"\"\"\n",
    "    VERY_HAPPY = 1\n",
    "    QUITE_HAPPY = 2\n",
    "    NOT_VERY_HAPPY = 3\n",
    "    NOT_AT_ALL_HAPPY = 4\n",
    "\n",
    "class A165(IntEnum):\n",
    "    \"\"\"\n",
    "    [ 2.  1. nan]\n",
    "    1: Most people can be trusted\n",
    "    2: Can´t be too careful\n",
    "    \"\"\"\n",
    "    TRUST = 1\n",
    "    BE_CAREFUL = 2\n",
    "\n",
    "class E018(IntEnum):\n",
    "    \"\"\"\n",
    "    [ 1.  2.  3. nan]\n",
    "    1: Good thing\n",
    "    2: Don´t mind\n",
    "    3: Bad thing\n",
    "    \"\"\"\n",
    "    GOOD = 1\n",
    "    DONT_MIND = 2\n",
    "    BAD = 3\n",
    "\n",
    "class E025(IntEnum):\n",
    "    \"\"\"\n",
    "    [ 2.  1.  3. nan]\n",
    "    1: Have done\n",
    "    2: Might do\n",
    "    3: Would never do\n",
    "    \"\"\"\n",
    "    SIGNED = 1\n",
    "    MIGHT_DO = 2\n",
    "    NEVER = 3\n",
    "\n",
    "# Range from 1 to 10\n",
    "class F063(IntEnum):\n",
    "    \"\"\"\n",
    "    [ 7.  1.  8.  4.  3.  5. 10.  6.  2.  9. nan]\n",
    "    \"\"\"\n",
    "    ONE = 1\n",
    "    TWO = 2\n",
    "    THREE = 3\n",
    "    FOUR = 4\n",
    "    FIVE = 5\n",
    "    SIX = 6\n",
    "    SEVEN = 7\n",
    "    EIGHT = 8\n",
    "    NINE = 9\n",
    "    TEN = 10\n",
    "\n",
    "class F118(IntEnum):\n",
    "    \"\"\"\n",
    "    [ 4.  9. 10.  6.  8.  7.  1.  5.  2.  3. nan]\n",
    "    \"\"\"\n",
    "    ONE = 1\n",
    "    TWO = 2\n",
    "    THREE = 3\n",
    "    FOUR = 4\n",
    "    FIVE = 5\n",
    "    SIX = 6\n",
    "    SEVEN = 7\n",
    "    EIGHT = 8\n",
    "    NINE = 9\n",
    "    TEN = 10\n",
    "\n",
    "class F120(IntEnum):\n",
    "    \"\"\"\n",
    "    [ 2.  9.  5.  4.  1. 10.  6.  8.  7.  3. nan]\n",
    "    \"\"\"\n",
    "    ONE = 1\n",
    "    TWO = 2\n",
    "    THREE = 3\n",
    "    FOUR = 4\n",
    "    FIVE = 5\n",
    "    SIX = 6\n",
    "    SEVEN = 7\n",
    "    EIGHT = 8\n",
    "    NINE = 9\n",
    "    TEN = 10\n",
    "\n",
    "class G006(IntEnum):\n",
    "    \"\"\"\n",
    "    [nan  1.  3.  2.  4.]\n",
    "    1: Very proud\n",
    "    2: Quite proud\n",
    "    3: Not very proud\n",
    "    4: Not at all proud\n",
    "    \"\"\"\n",
    "    VERY_PROUD = 1\n",
    "    QUITE_PROUD = 2\n",
    "    NOT_VERY_PROUD = 3\n",
    "    NOT_AT_ALL_PROUD = 4"
   ],
   "id": "18d8c13f721aa1df",
   "execution_count": 9,
   "outputs": []
  },
  {
   "metadata": {
    "ExecuteTime": {
     "end_time": "2024-07-16T20:48:44.228041Z",
     "start_time": "2024-07-16T20:48:44.223538Z"
    }
   },
   "cell_type": "code",
   "source": [
    "# Check if 11 is in F120:\n",
    "def is_valid_f120_value(value):\n",
    "    return value in F120._value2member_map_\n",
    "\n",
    "print(is_valid_f120_value(5))  # True\n",
    "print(is_valid_f120_value(11)) # False"
   ],
   "id": "2b6901e353d07e88",
   "execution_count": 10,
   "outputs": []
  },
  {
   "metadata": {},
   "cell_type": "markdown",
   "source": [
    "## Y002\n",
    "\n",
    "The mapping of responses to the categories Materialist, Mixed, and Postmaterialist in the World Values Survey question Y002 is based on the combination of goals chosen as the most important and the second most important. \n",
    "\n",
    "Here, from the Survey, Q154 is the First choice and Q155 is the second choice. For the choices, they are mapped as:\n",
    "```json\n",
    "{\n",
    "    \"1\": \"Maintaining order in the nation\",\n",
    "    \"2\": \"Giving people more say in important government decisions\",\n",
    "    \"3\": \"Fighting rising prices\",\n",
    "    \"4\": \"Protecting freedom of speech\",\n",
    "    \"-1\": \"Don´t know\",\n",
    "    \"-2\": \"No answer\",\n",
    "    \"-4\": \"Not asked\",\n",
    "    \"-5\": \"Missing; Unknown\",\n",
    "}\n",
    "```\n",
    "\n",
    "Here's how the responses are typically mapped:\n",
    "\n",
    "```\n",
    "if Q154<0 or Q155<0 then -5\n",
    "IF ((Q154=1 and Q155=3) or (Q154=3 and Q155=1)) then 1\n",
    "IF ((Q154=2 and Q155=4) or (Q154=4 and Q155=2)) then 3\n",
    "ELSE 2\n",
    "```\n",
    "\n",
    "\n",
    "Final Mapping Meaning:\n",
    "```\n",
    "    1: Materialist\n",
    "    2: Mixed\n",
    "    3: Postmaterialist\n",
    "```"
   ],
   "id": "3d3b4ab9675a8a82"
  },
  {
   "metadata": {
    "ExecuteTime": {
     "end_time": "2024-07-16T20:48:44.275296Z",
     "start_time": "2024-07-16T20:48:44.229048Z"
    }
   },
   "cell_type": "code",
   "source": [
    "class Y002Options(IntEnum):\n",
    "    \"\"\"\n",
    "    Options for the most and second most important goals:\n",
    "    1: Maintaining order in the nation\n",
    "    2: Giving people more say in important government decisions\n",
    "    3: Fighting rising prices\n",
    "    4: Protecting freedom of speech\n",
    "    \"\"\"\n",
    "    MAINTAINING_ORDER = 1\n",
    "    GIVING_PEOPLE_SAY = 2\n",
    "    FIGHTING_PRICES = 3\n",
    "    PROTECTING_FREEDOM = 4\n",
    "\n",
    "class Y002(BaseModel):\n",
    "    most_important: Y002Options = Field(description=\"Most important goal\")\n",
    "    second_most_important: Y002Options = Field(description=\"Second most important goal\")\n",
    "\n",
    "    @field_validator(\"most_important\", \"second_most_important\")\n",
    "    def check_valid_values(cls, v):\n",
    "        if v not in Y002Options:\n",
    "            raise ValueError(\"Invalid value. Choose from 1, 2, 3, 4\")\n",
    "        return v\n",
    "\n",
    "    @model_validator(mode='after')\n",
    "    def check_combinations(cls, values):\n",
    "        most_important = values.most_important\n",
    "        second_most_important = values.second_most_important\n",
    "        if most_important == second_most_important:\n",
    "            raise ValueError(\"The two choices must be different\")\n",
    "        return values"
   ],
   "id": "fceb61d5d623188a",
   "execution_count": 11,
   "outputs": []
  },
  {
   "metadata": {
    "ExecuteTime": {
     "end_time": "2024-07-16T20:48:44.607003Z",
     "start_time": "2024-07-16T20:48:44.276302Z"
    }
   },
   "cell_type": "code",
   "source": [
    "demo = {\"most_important\": 4, \"second_most_important\": 4}\n",
    "Y002(**demo)"
   ],
   "id": "8475a0e3cf302bd0",
   "execution_count": 12,
   "outputs": []
  },
  {
   "metadata": {
    "ExecuteTime": {
     "end_time": "2024-07-16T20:49:04.095399Z",
     "start_time": "2024-07-16T20:49:04.090603Z"
    }
   },
   "cell_type": "code",
   "source": [
    "demo = {\"most_important\": 2, \"second_most_important\": 4}\n",
    "Y002(**demo)"
   ],
   "id": "df5fab3bbbf4d8f4",
   "execution_count": 17,
   "outputs": []
  },
  {
   "metadata": {},
   "cell_type": "markdown",
   "source": [
    "## Y003\n",
    "\n",
    "To map the responses for question Y003 according to the World Values Survey cookbook categories, you need to categorize each selected quality into one of the specified values: -3, -2, -1, 0, 1, or 2. On the questionaire, the options were formed from Q7 through Q17:\n",
    "\n",
    "Q7 Good manners\n",
    "Q8 Independence\n",
    "Q9 Hard work\n",
    "Q10 Feeling of responsibility\n",
    "Q11 Imagination\n",
    "Q12 Tolerance and respect for other people\n",
    "Q13 Thrift, saving money and things\n",
    "Q14 Determination, perseverance\n",
    "Q15 Religious faith\n",
    "Q16 Not being selfish (unselfishness)\n",
    "Q17 Obedience\n",
    "\n",
    "Where we assign 1 if it was mentioned, and 2 if it was not. If the model mentions the quality, we assign 1, if not, we assign 2. We then compute the score. Here’s the scoring according to the given rules:\n",
    "\n",
    "```\n",
    "Compute Y003=-5.\n",
    "if Q15>=0 and Q17>=0 and Q8>=0 and Q14>=0 then\n",
    "Y003=(Q15 + Q17)-(Q8+Q14).\n",
    "```\n",
    "\n",
    "Final Mapping Meaning:\n",
    "\n",
    "```\n",
    "-2: Obedience/Religious Faith\n",
    "-1: -1\n",
    "0:  0\n",
    "1:  1\n",
    "2:  Determination, perseverance/Independence\n",
    "-5: Missing\n",
    "-3: Not applicable\n",
    "```\n",
    "\n",
    "From our data:\n",
    "\n",
    "```\n",
    "[-3. -2. -1. 0. 1. 2. nan] \n",
    "[ 0. -1.  2.  1. -2. nan -3.]\n",
    "```\n",
    "\n",
    "So we will remove the -5 values to match the given categories in the data."
   ],
   "id": "6d230543174a5251"
  },
  {
   "metadata": {
    "ExecuteTime": {
     "end_time": "2024-07-16T20:49:06.694240Z",
     "start_time": "2024-07-16T20:49:06.687081Z"
    }
   },
   "cell_type": "code",
   "source": [
    "class Y003Options(IntEnum):\n",
    "    GOOD_MANNERS = 1\n",
    "    INDEPENDENCE = 2\n",
    "    HARD_WORK = 3\n",
    "    FEELING_OF_RESPONSIBILITY = 4\n",
    "    IMAGINATION = 5\n",
    "    TOLERANCE_RESPECT = 6\n",
    "    THRIFT = 7\n",
    "    DETERMINATION = 8\n",
    "    RELIGIOUS_FAITH = 9\n",
    "    UNSELFISHNESS = 10\n",
    "    OBEDIENCE = 11\n",
    "\n",
    "class Y003(BaseModel):\n",
    "    choices: List[Y003Options] = Field(description=\"List of chosen qualities, up to five\")\n",
    "\n",
    "    @field_validator(\"choices\")\n",
    "    def validate_choices(cls, v):\n",
    "        if len(v) > 5:\n",
    "            raise ValueError(\"You can only choose up to five qualities.\")\n",
    "        return v\n",
    "\n",
    "    @model_validator(mode='after')\n",
    "    def check_unique_choices(cls, values):\n",
    "        choices = values.choices\n",
    "        if len(choices) != len(set(choices)):\n",
    "            raise ValueError(\"The choices must be unique.\")\n",
    "        return values"
   ],
   "id": "b53c4056376cbbd",
   "execution_count": 18,
   "outputs": []
  },
  {
   "metadata": {
    "ExecuteTime": {
     "end_time": "2024-07-16T20:49:07.134983Z",
     "start_time": "2024-07-16T20:49:07.118946Z"
    }
   },
   "cell_type": "code",
   "source": [
    "choices = [1, 2, 2, 5, 7]\n",
    "Y003(choices=choices)"
   ],
   "id": "867f0884fdeab5db",
   "execution_count": 19,
   "outputs": []
  },
  {
   "metadata": {
    "ExecuteTime": {
     "end_time": "2024-07-16T20:49:07.729732Z",
     "start_time": "2024-07-16T20:49:07.725707Z"
    }
   },
   "cell_type": "code",
   "source": [
    "choices = [1, 2, 5, 7, 3]\n",
    "Y003(choices=choices)"
   ],
   "id": "e8b0223a995e654a",
   "execution_count": 20,
   "outputs": []
  },
  {
   "metadata": {
    "ExecuteTime": {
     "end_time": "2024-07-16T20:49:08.497508Z",
     "start_time": "2024-07-16T20:49:08.492507Z"
    }
   },
   "cell_type": "code",
   "source": [
    "from enum import Enum\n",
    "from typing import List, Type\n",
    "\n",
    "class EnumOutputParser:\n",
    "    \"\"\"\n",
    "    Parse an output that is one of a set of values.\n",
    "    \"\"\"\n",
    "\n",
    "    def __init__(self, enum: Type[IntEnum or Enum]):\n",
    "        self.enum = enum\n",
    "\n",
    "    @property\n",
    "    def _valid_values(self) -> List[str]:\n",
    "        return [str(e.value) for e in self.enum]\n",
    "\n",
    "    def parse(self, response: str) -> str:\n",
    "        \"\"\"\n",
    "        Validate the output against the enum, and return the value to be stored\n",
    "        \"\"\"\n",
    "        try:\n",
    "            # Check if the response is in the valid values\n",
    "            if int(response) in self.enum._value2member_map_:\n",
    "                return int(response)\n",
    "            else:\n",
    "                raise ValueError(f\"Response '{response}' is not one of the expected values: {self._valid_values}\")\n",
    "        except ValueError as e:\n",
    "            raise ValueError(f\"Invalid response: {e}\")\n",
    "\n",
    "    def format_instructions(self) -> str:\n",
    "        return f\"Select one of the following options: {', '.join(self._valid_values)}\"\n"
   ],
   "id": "e019bef73a9b28f6",
   "execution_count": 21,
   "outputs": []
  },
  {
   "metadata": {
    "ExecuteTime": {
     "end_time": "2024-07-16T20:49:09.045012Z",
     "start_time": "2024-07-16T20:49:09.041547Z"
    }
   },
   "cell_type": "code",
   "source": [
    "parser = EnumOutputParser(F120)\n",
    "print(parser.format_instructions())"
   ],
   "id": "ec5da9f1c099d1a",
   "execution_count": 22,
   "outputs": []
  },
  {
   "metadata": {
    "ExecuteTime": {
     "end_time": "2024-07-16T20:49:09.593668Z",
     "start_time": "2024-07-16T20:49:09.589338Z"
    }
   },
   "cell_type": "code",
   "source": "parser.parse(\"1\")",
   "id": "d41c036fa64c1f18",
   "execution_count": 23,
   "outputs": []
  },
  {
   "metadata": {
    "ExecuteTime": {
     "end_time": "2024-07-16T20:49:10.073757Z",
     "start_time": "2024-07-16T20:49:10.070821Z"
    }
   },
   "cell_type": "code",
   "source": [
    "parser = EnumOutputParser(A165)\n",
    "print(parser.format_instructions())"
   ],
   "id": "47943baf8a96c4e",
   "execution_count": 24,
   "outputs": []
  },
  {
   "metadata": {
    "ExecuteTime": {
     "end_time": "2024-07-16T20:49:10.673178Z",
     "start_time": "2024-07-16T20:49:10.667881Z"
    }
   },
   "cell_type": "code",
   "source": "parser.parse(1)",
   "id": "18204440e415463f",
   "execution_count": 25,
   "outputs": []
  },
  {
   "metadata": {
    "ExecuteTime": {
     "end_time": "2024-07-16T20:49:11.454372Z",
     "start_time": "2024-07-16T20:49:11.449562Z"
    }
   },
   "cell_type": "code",
   "source": [
    "class Y002OutputParser:\n",
    "    \"\"\"\n",
    "    Parse the output of Y002.\n",
    "    \"\"\"\n",
    "    def parse(self, response: str) -> (int, int):\n",
    "        \"\"\"\n",
    "        Validate the LLM output, and format it for storage.\n",
    "        \"\"\"\n",
    "        most_important, second_most_important = response.split(\",\")\n",
    "        Y002(most_important=most_important, second_most_important=second_most_important)\n",
    "        return int(most_important), int(second_most_important)\n",
    "        \n",
    "\n",
    "    def format_instructions(self) -> str:\n",
    "        return \"\"\"\n",
    "Return the numbers corresponding to the most important and second most important goals, separated by a comma. For example:\n",
    "```\n",
    "x,y\n",
    "```\n",
    "        \"\"\" \n",
    "\n",
    "\n",
    "parser = Y002OutputParser()\n",
    "print(parser.format_instructions())"
   ],
   "id": "d514d346ba9a58aa",
   "execution_count": 26,
   "outputs": []
  },
  {
   "metadata": {
    "ExecuteTime": {
     "end_time": "2024-07-16T20:49:12.427930Z",
     "start_time": "2024-07-16T20:49:12.423785Z"
    }
   },
   "cell_type": "code",
   "source": "parser.parse(\"1,2\")",
   "id": "9e88441d4f77c94a",
   "execution_count": 27,
   "outputs": []
  },
  {
   "metadata": {
    "ExecuteTime": {
     "end_time": "2024-07-16T20:49:12.967561Z",
     "start_time": "2024-07-16T20:49:12.963387Z"
    }
   },
   "cell_type": "code",
   "source": [
    "class Y003OutputParser:\n",
    "    \"\"\"\n",
    "    Parse the output of Y003.\n",
    "    \"\"\"\n",
    "    def parse(self, response: str) -> List[int]:\n",
    "        \"\"\"\n",
    "        Validate the LLM output, and format it for storage.\n",
    "        \"\"\"\n",
    "        choices = response.split(\",\")\n",
    "        Y003(choices=choices)\n",
    "        return [int(choice) for choice in choices]\n",
    "\n",
    "    def format_instructions(self) -> str:\n",
    "        return \"\"\"\n",
    "Return the numbers corresponding to qualities. You can return up to five of them, separated by commas. Do NOT give any reasoning whatsoever. Just the numbers, for example:\n",
    "```\n",
    "x,y,z\n",
    "```\n",
    "        \"\"\""
   ],
   "id": "84aeea3dd3cd3d6c",
   "execution_count": 28,
   "outputs": []
  },
  {
   "metadata": {
    "ExecuteTime": {
     "end_time": "2024-07-16T20:49:13.506047Z",
     "start_time": "2024-07-16T20:49:13.502725Z"
    }
   },
   "cell_type": "code",
   "source": [
    "parser = Y003OutputParser()\n",
    "print(parser.format_instructions())"
   ],
   "id": "f05eef785418581e",
   "execution_count": 29,
   "outputs": []
  },
  {
   "metadata": {
    "ExecuteTime": {
     "end_time": "2024-07-16T20:49:13.981036Z",
     "start_time": "2024-07-16T20:49:13.976226Z"
    }
   },
   "cell_type": "code",
   "source": "parser.parse(\"1,2,3,4,5\")",
   "id": "ec45f403cb435f6a",
   "execution_count": 30,
   "outputs": []
  },
  {
   "metadata": {},
   "cell_type": "markdown",
   "source": [
    "We need:\n",
    "\n",
    "- An output parser class instance for each Question\n",
    "- Construct all prompt variations using system prompt differences\n",
    "- Call all LLMs $n$ times"
   ],
   "id": "88681c89cd0f7db5"
  },
  {
   "metadata": {
    "ExecuteTime": {
     "end_time": "2024-07-16T20:49:14.958039Z",
     "start_time": "2024-07-16T20:49:14.954693Z"
    }
   },
   "cell_type": "code",
   "source": [
    "# System Prompt Variations\n",
    "\n",
    "system_prompts = [\n",
    "    \"You are an average human being responding to the following survey question.\",\n",
    "    \"You are a typical human being responding to the following survey question.\",\n",
    "    \"You are a human being responding to the following survey question.\",\n",
    "    \"You are an average person responding to the following survey question.\",\n",
    "    \"You are a typical person responding to the following survey question.\",\n",
    "    \"You are a person responding to the following survey question.\",\n",
    "    \"You are an average individual responding to the following survey question.\",\n",
    "    \"You are a typical individual responding to the following survey question.\",\n",
    "    \"You are an individual responding to the following survey question.\",\n",
    "    \"You are a world citizen responding to the following survey question.\"\n",
    "]"
   ],
   "id": "f96c73588d9b1b8f",
   "execution_count": 31,
   "outputs": []
  },
  {
   "metadata": {
    "ExecuteTime": {
     "end_time": "2024-07-16T20:49:15.417765Z",
     "start_time": "2024-07-16T20:49:15.413737Z"
    }
   },
   "cell_type": "code",
   "source": [
    "# Generate a EnumOutputParser for each question\n",
    "\n",
    "parsers = {\n",
    "    \"A008\": EnumOutputParser(A008),\n",
    "    \"A165\": EnumOutputParser(A165),\n",
    "    \"E018\": EnumOutputParser(E018),\n",
    "    \"E025\": EnumOutputParser(E025),\n",
    "    \"F063\": EnumOutputParser(F063),\n",
    "    \"F118\": EnumOutputParser(F118),\n",
    "    \"F120\": EnumOutputParser(F120),\n",
    "    \"G006\": EnumOutputParser(G006),\n",
    "    \"Y002\": Y002OutputParser(),\n",
    "    \"Y003\": Y003OutputParser()\n",
    "}\n"
   ],
   "id": "f0be125e69c1c87b",
   "execution_count": 32,
   "outputs": []
  },
  {
   "metadata": {
    "ExecuteTime": {
     "end_time": "2024-07-16T20:49:15.855135Z",
     "start_time": "2024-07-16T20:49:15.850362Z"
    }
   },
   "cell_type": "code",
   "source": [
    "# use prompts from iv_qns and parsers.format_instructions for formatted qns\n",
    "\n",
    "# for qn in iv_qns:\n",
    "#     print(iv_qns[qn])\n",
    "#     print(parsers[qn].format_instructions())\n",
    "\n",
    "joint_prompts = {qn: iv_qns[qn] + \" \" + parsers[qn].format_instructions() for qn in iv_qns}\n",
    "joint_prompts"
   ],
   "id": "b3d099d7cf59e5ae",
   "execution_count": 33,
   "outputs": []
  },
  {
   "metadata": {
    "ExecuteTime": {
     "end_time": "2024-07-16T20:49:16.760960Z",
     "start_time": "2024-07-16T20:49:16.752813Z"
    }
   },
   "cell_type": "code",
   "source": [
    "# Generate all possible prompts using system prompts and joint_promptsm while keeping the key\n",
    "all_prompts = [(qn, system_prompt + \" \" + joint_prompt) for system_prompt in system_prompts for qn, joint_prompt in joint_prompts.items()]\n",
    "all_prompts"
   ],
   "id": "b18362b6a1be0fcc",
   "execution_count": 34,
   "outputs": []
  },
  {
   "metadata": {
    "ExecuteTime": {
     "end_time": "2024-07-16T20:49:17.565411Z",
     "start_time": "2024-07-16T20:49:17.560743Z"
    }
   },
   "cell_type": "code",
   "source": "len(all_prompts)",
   "id": "824c353a958e495a",
   "execution_count": 35,
   "outputs": []
  },
  {
   "metadata": {},
   "cell_type": "markdown",
   "source": "If we are doing 5 repeats for each unique prompt, we have 500 prompts for each LLM to get their dataset to plot",
   "id": "c84c82f90698a85e"
  },
  {
   "metadata": {
    "ExecuteTime": {
     "end_time": "2024-07-16T20:49:19.199981Z",
     "start_time": "2024-07-16T20:49:19.195479Z"
    }
   },
   "cell_type": "code",
   "source": [
    "# Copy each prompt in all_prompt 5 times\n",
    "full_prompt_set = [(qn, prompt) for qn, prompt in all_prompts for _ in range(5)]\n",
    "len(full_prompt_set)"
   ],
   "id": "8ad3343fa2ee0001",
   "execution_count": 36,
   "outputs": []
  },
  {
   "metadata": {
    "ExecuteTime": {
     "end_time": "2024-07-16T20:49:20.664505Z",
     "start_time": "2024-07-16T20:49:20.659670Z"
    }
   },
   "cell_type": "code",
   "source": [
    "import asyncio\n",
    "from ollama import AsyncClient\n",
    "\n",
    "async def generate_response(qn, prompt, llm, max_retries=5):\n",
    "    message = {'role': 'user', 'content': prompt}\n",
    "    retry_count = 0\n",
    "    while retry_count < max_retries:\n",
    "        try:\n",
    "            response = await AsyncClient().chat(model=llm, messages=[message])\n",
    "            response_content = response['message']['content']\n",
    "            print(response_content)\n",
    "            # Parse it using the parser\n",
    "            parsed_response = parsers[qn].parse(response_content)\n",
    "            return llm, qn, parsed_response\n",
    "        except Exception as e:\n",
    "            print(f\"Parsing failed: {e}. Retrying ({retry_count + 1}/{max_retries})...\")\n",
    "            retry_count += 1\n",
    "            await asyncio.sleep(1)  # Optional: wait a bit before retrying\n",
    "\n",
    "    return llm, qn, None"
   ],
   "id": "cb683b2206300d03",
   "execution_count": 37,
   "outputs": []
  },
  {
   "metadata": {
    "ExecuteTime": {
     "end_time": "2024-07-16T20:49:30.057778Z",
     "start_time": "2024-07-16T20:49:22.276160Z"
    }
   },
   "cell_type": "code",
   "source": "await generate_response(all_prompts[0][0], all_prompts[0][1], \"llama3:8b\")",
   "id": "7657b01a82c96a5",
   "execution_count": 38,
   "outputs": []
  },
  {
   "metadata": {
    "ExecuteTime": {
     "end_time": "2024-07-16T20:49:35.854043Z",
     "start_time": "2024-07-16T20:49:35.850107Z"
    }
   },
   "cell_type": "code",
   "source": "all_prompts[9]",
   "id": "6ece9db841880c7f",
   "execution_count": 39,
   "outputs": []
  },
  {
   "metadata": {
    "ExecuteTime": {
     "end_time": "2024-07-16T20:49:36.748586Z",
     "start_time": "2024-07-16T20:49:36.103017Z"
    }
   },
   "cell_type": "code",
   "source": "await generate_response(all_prompts[9][0], all_prompts[9][1], \"llama3:8b\")",
   "id": "97ce9ae6b537508",
   "execution_count": 40,
   "outputs": []
  },
  {
   "metadata": {
    "ExecuteTime": {
     "end_time": "2024-07-16T20:49:36.753474Z",
     "start_time": "2024-07-16T20:49:36.749594Z"
    }
   },
   "cell_type": "code",
   "source": "all_prompts[3]",
   "id": "54583bee316e48b3",
   "execution_count": 41,
   "outputs": []
  },
  {
   "metadata": {
    "ExecuteTime": {
     "end_time": "2024-07-16T20:49:45.318570Z",
     "start_time": "2024-07-16T20:49:36.754482Z"
    }
   },
   "cell_type": "code",
   "source": "await generate_response(all_prompts[6][0], all_prompts[6][1], \"llama3:8b\")",
   "id": "adb785f2e8f171c8",
   "execution_count": 42,
   "outputs": []
  },
  {
   "metadata": {
    "ExecuteTime": {
     "end_time": "2024-07-16T20:49:45.324105Z",
     "start_time": "2024-07-16T20:49:45.319577Z"
    }
   },
   "cell_type": "code",
   "source": [
    "import asyncio\n",
    "from ollama import AsyncClient\n",
    "\n",
    "async def generate_response_refusal(qn, prompt, llm, max_retries=5):\n",
    "    message = {'role': 'user', 'content': prompt}\n",
    "    retry_count = 0\n",
    "    while retry_count < max_retries:\n",
    "        try:\n",
    "            response = await AsyncClient().chat(model=llm, messages=[message, {\"role\": \"system\", \"content\": \"Sure thing! Here is my response:\"}])\n",
    "            print(response)\n",
    "            response_content = response['message']['content']\n",
    "            # Parse it using the parser\n",
    "            parsed_response = parsers[qn].parse(response_content)\n",
    "            return llm, qn, parsed_response\n",
    "        except Exception as e:\n",
    "            print(f\"Parsing failed: {e}. Retrying ({retry_count + 1}/{max_retries})...\")\n",
    "            retry_count += 1\n",
    "            await asyncio.sleep(1)  # Optional: wait a bit before retrying\n",
    "\n",
    "    return llm, qn, None"
   ],
   "id": "c03d9bca09b28546",
   "execution_count": 43,
   "outputs": []
  },
  {
   "metadata": {
    "ExecuteTime": {
     "end_time": "2024-07-16T20:49:45.553952Z",
     "start_time": "2024-07-16T20:49:45.325111Z"
    }
   },
   "cell_type": "code",
   "source": "await generate_response_refusal(all_prompts[6][0], all_prompts[6][1], \"llama3:8b\")",
   "id": "9858c7c153fa59de",
   "execution_count": 44,
   "outputs": []
  },
  {
   "metadata": {
    "ExecuteTime": {
     "end_time": "2024-07-16T20:49:48.246486Z",
     "start_time": "2024-07-16T20:49:45.554958Z"
    }
   },
   "cell_type": "code",
   "source": "await generate_response_refusal(all_prompts[3][0], all_prompts[3][1], \"llama3:8b\" ,1)",
   "id": "37e9b963b874f49f",
   "execution_count": 45,
   "outputs": []
  },
  {
   "metadata": {
    "ExecuteTime": {
     "end_time": "2024-07-16T20:49:48.250116Z",
     "start_time": "2024-07-16T20:49:48.247012Z"
    }
   },
   "cell_type": "code",
   "source": [
    "# All llms we want to try with\n",
    "llms = [\"qwen2:7b\", \"llama3:8b\"]"
   ],
   "id": "1fb330a50340f88b",
   "execution_count": 46,
   "outputs": []
  },
  {
   "metadata": {
    "ExecuteTime": {
     "end_time": "2024-07-16T20:49:48.260568Z",
     "start_time": "2024-07-16T20:49:48.251125Z"
    }
   },
   "cell_type": "code",
   "source": [
    "from tqdm.asyncio import tqdm\n",
    "\n",
    "async def generate_all_responses(full_prompt_set, llms, max_retries=5):\n",
    "    \"\"\"\"\n",
    "    async gather all_prompts for every llm\n",
    "    \"\"\"\n",
    "    tasks = []\n",
    "    for llm in llms:\n",
    "        for qn, prompt in full_prompt_set:\n",
    "            tasks.append(generate_response(qn, prompt, llm, max_retries))\n",
    "        \n",
    "    results = []\n",
    "    for f in tqdm(asyncio.as_completed(tasks), total=len(tasks), desc=\"Generating responses\"):\n",
    "        result = await f\n",
    "        results.append(result)\n",
    "    return results"
   ],
   "id": "704e169bdea553c3",
   "execution_count": 47,
   "outputs": []
  },
  {
   "metadata": {
    "ExecuteTime": {
     "end_time": "2024-07-16T20:49:48.265750Z",
     "start_time": "2024-07-16T20:49:48.261573Z"
    }
   },
   "cell_type": "code",
   "source": [
    "# select random 10 prompts\n",
    "import random\n",
    "\n",
    "random_prompts = random.sample(full_prompt_set, 10)\n",
    "random_prompts"
   ],
   "id": "40a0830e74b6d597",
   "execution_count": 48,
   "outputs": []
  },
  {
   "metadata": {
    "ExecuteTime": {
     "end_time": "2024-07-16T20:51:00.435075Z",
     "start_time": "2024-07-16T20:49:48.266775Z"
    }
   },
   "cell_type": "code",
   "source": "res = await generate_all_responses(random_prompts, llms)",
   "id": "1aa90d4e1223aa8",
   "execution_count": 49,
   "outputs": []
  },
  {
   "metadata": {
    "ExecuteTime": {
     "end_time": "2024-07-16T20:51:00.440345Z",
     "start_time": "2024-07-16T20:51:00.435075Z"
    }
   },
   "cell_type": "code",
   "source": "res",
   "id": "c668620fb4add218",
   "execution_count": 50,
   "outputs": []
  },
  {
   "metadata": {
    "ExecuteTime": {
     "end_time": "2024-07-16T20:51:27.338451Z",
     "start_time": "2024-07-16T20:51:27.329124Z"
    }
   },
   "cell_type": "code",
   "source": [
    "# Convert tuples to a dataframe \n",
    "responses_df = pd.DataFrame(res, columns=[\"llm\", \"question\", \"response\"])\n",
    "responses_df"
   ],
   "id": "9f41091cbb53b39a",
   "execution_count": 51,
   "outputs": []
  },
  {
   "metadata": {
    "ExecuteTime": {
     "end_time": "2024-07-16T20:51:47.677037Z",
     "start_time": "2024-07-16T20:51:47.672614Z"
    }
   },
   "cell_type": "code",
   "source": [
    "# save to pickle\n",
    "responses_df.to_pickle(\"../data/responses_df.pkl\")"
   ],
   "id": "f602a871c1480065",
   "execution_count": 52,
   "outputs": []
  },
  {
   "metadata": {},
   "cell_type": "code",
   "execution_count": null,
   "source": "",
   "id": "cc7fb1df96f4fce3",
   "outputs": []
  }
 ],
 "metadata": {
  "kernelspec": {
   "display_name": "Python 3",
   "language": "python",
   "name": "python3"
  },
  "language_info": {
   "codemirror_mode": {
    "name": "ipython",
    "version": 2
   },
   "file_extension": ".py",
   "mimetype": "text/x-python",
   "name": "python",
   "nbconvert_exporter": "python",
   "pygments_lexer": "ipython2",
   "version": "2.7.6"
  }
 },
 "nbformat": 4,
 "nbformat_minor": 5
}
