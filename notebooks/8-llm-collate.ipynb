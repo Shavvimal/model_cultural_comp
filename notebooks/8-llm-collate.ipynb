{
 "cells": [
  {
   "cell_type": "code",
   "id": "initial_id",
   "metadata": {
    "collapsed": true,
    "ExecuteTime": {
     "end_time": "2024-07-18T12:55:44.168557Z",
     "start_time": "2024-07-18T12:55:43.860063Z"
    }
   },
   "source": "import pandas as pd",
   "execution_count": 1,
   "outputs": []
  },
  {
   "metadata": {
    "ExecuteTime": {
     "end_time": "2024-07-18T13:06:57.156454Z",
     "start_time": "2024-07-18T13:06:57.151271Z"
    }
   },
   "cell_type": "code",
   "source": [
    "# List all pickle files in ../data/collection and make pandas dataframes from all of them joined together\n",
    "import os\n",
    "import glob\n",
    "import pickle\n",
    "\n",
    "# Get all pickle files in the collection directory\n",
    "path = '../data/collection'\n",
    "all_files = glob.glob(os.path.join(path, \"*.pkl\"))\n",
    "all_files"
   ],
   "id": "5308a2923b747ab9",
   "execution_count": 7,
   "outputs": []
  },
  {
   "metadata": {
    "ExecuteTime": {
     "end_time": "2024-07-18T13:10:22.469806Z",
     "start_time": "2024-07-18T13:10:22.462096Z"
    }
   },
   "cell_type": "code",
   "source": [
    "\n",
    "# Read all pickle files into a list of dataframes\n",
    "df_from_each_file = (pd.read_pickle(f) for f in all_files)\n",
    "\n",
    "# Concatenate all dataframes into one, add column for original file name\n",
    "df = pd.concat(df_from_each_file, ignore_index=True)\n",
    "\n"
   ],
   "id": "90a0e68ae22f3f3a",
   "execution_count": 17,
   "outputs": []
  },
  {
   "metadata": {
    "ExecuteTime": {
     "end_time": "2024-07-18T13:10:22.611840Z",
     "start_time": "2024-07-18T13:10:22.604796Z"
    }
   },
   "cell_type": "code",
   "source": "df",
   "id": "8de0b44fc6367b53",
   "execution_count": 18,
   "outputs": []
  },
  {
   "metadata": {},
   "cell_type": "markdown",
   "source": [
    "## Y002\n",
    "\n",
    "The mapping of responses to the categories Materialist, Mixed, and Postmaterialist in the World Values Survey question Y002 is based on the combination of goals chosen as the most important and the second most important. Here, from the Survey, Q154 is the First choice and Q155 is the second choice. For the choices, they are mapped as:\n",
    "```json\n",
    "{\n",
    "    \"1\": \"Maintaining order in the nation\",\n",
    "    \"2\": \"Giving people more say in important government decisions\",\n",
    "    \"3\": \"Fighting rising prices\",\n",
    "    \"4\": \"Protecting freedom of speech\",\n",
    "    \"-1\": \"Don´t know\",\n",
    "    \"-2\": \"No answer\",\n",
    "    \"-4\": \"Not asked\",\n",
    "    \"-5\": \"Missing; Unknown\",\n",
    "}\n",
    "```\n",
    "\n",
    "Here's how the responses are typically mapped:\n",
    "\n",
    "```\n",
    "if Q154<0 or Q155<0 then -5\n",
    "IF ((Q154=1 and Q155=3) or (Q154=3 and Q155=1)) then 1\n",
    "IF ((Q154=2 and Q155=4) or (Q154=4 and Q155=2)) then 3\n",
    "ELSE 2\n",
    "```\n",
    "\n",
    "\n",
    "Final Mapping Meaning:\n",
    "```\n",
    "    1: Materialist\n",
    "    2: Mixed\n",
    "    3: Postmaterialist\n",
    "```"
   ],
   "id": "717a365f030c6efc"
  },
  {
   "metadata": {
    "ExecuteTime": {
     "end_time": "2024-07-18T14:09:00.667457Z",
     "start_time": "2024-07-18T14:09:00.662807Z"
    }
   },
   "cell_type": "code",
   "source": [
    "# Convert into a function\n",
    "def Y002_transform(ans):\n",
    "    q_154 = ans[0]\n",
    "    q_155 = ans[1]\n",
    "\n",
    "    if q_154 < 0 or q_155 < 0:\n",
    "        return -5\n",
    "    if (q_154 == 1 and q_155 == 3) or (q_154 == 3 and q_155 == 1):\n",
    "        return 1\n",
    "    if (q_154 == 2 and q_155 == 4) or (q_154 == 4 and q_155 == 2):\n",
    "        return 3\n",
    "    \n",
    "    return 2\n",
    "    \n",
    "res = Y002_transform((1, 2))\n",
    "print(res)"
   ],
   "id": "f07ac5359eda5a3f",
   "execution_count": 61,
   "outputs": []
  },
  {
   "metadata": {},
   "cell_type": "markdown",
   "source": [
    "## Y003\n",
    "\n",
    "To map the responses for question Y003 according to the World Values Survey cookbook categories, you need to categorize each selected quality into one of the specified values: -3, -2, -1, 0, 1, or 2. On the questionaire, the options were formed from Q7 through Q17:\n",
    "\n",
    "Q7 Good manners\n",
    "Q8 Independence\n",
    "Q9 Hard work\n",
    "Q10 Feeling of responsibility\n",
    "Q11 Imagination\n",
    "Q12 Tolerance and respect for other people\n",
    "Q13 Thrift, saving money and things\n",
    "Q14 Determination, perseverance\n",
    "Q15 Religious faith\n",
    "Q16 Not being selfish (unselfishness)\n",
    "Q17 Obedience\n",
    "\n",
    "Where we assign 1 if it was mentioned, and 2 if it was not. If the model mentions the quality, we assign 1, if not, we assign 2. We then compute the score. Here’s the scoring according to the given rules:\n",
    "\n",
    "```\n",
    "Compute Y003=-5.\n",
    "if Q15>=0 and Q17>=0 and Q8>=0 and Q14>=0 then\n",
    "Y003=(Q15 + Q17)-(Q8+Q14).\n",
    "```\n",
    "\n",
    "Final Mapping Meaning:\n",
    "\n",
    "```\n",
    "-2: Obedience/Religious Faith\n",
    "-1: -1\n",
    "0:  0\n",
    "1:  1\n",
    "2:  Determination, perseverance/Independence\n",
    "-5: Missing\n",
    "-3: Not applicable\n",
    "```\n",
    "\n",
    "From our data:\n",
    "\n",
    "```\n",
    "[-3. -2. -1. 0. 1. 2. nan] \n",
    "[ 0. -1.  2.  1. -2. nan -3.]\n",
    "```\n",
    "\n",
    "So we will remove the -5 values to match the given categories in the data."
   ],
   "id": "a64ea0a4890a1469"
  },
  {
   "metadata": {
    "ExecuteTime": {
     "end_time": "2024-07-18T14:09:11.277828Z",
     "start_time": "2024-07-18T14:09:11.270786Z"
    }
   },
   "cell_type": "code",
   "source": [
    "from typing import List\n",
    "\n",
    "\n",
    "# Convert into a function\n",
    "def Y003_transform(ans: List[int]):\n",
    "\n",
    "    # Inputs are like this [6, 7, 8, 9, 10]\n",
    "    # Return a list of true or fale from 0 through 10 based on if the number appears in the input\n",
    "    boolList = [i in ans for i in range(1, 12)]\n",
    "    # Map True to 1 and False to 2\n",
    "    scores = [1 if i else 2 for i in boolList]\n",
    "    qn_ans_dict = {\n",
    "        \"q7\": scores[0],\n",
    "        \"q8\": scores[1],\n",
    "        \"q9\": scores[2],\n",
    "        \"q10\": scores[3],\n",
    "        \"q11\": scores[4],\n",
    "        \"q12\": scores[5],\n",
    "        \"q13\": scores[6],\n",
    "        \"q14\": scores[7],\n",
    "        \"q15\": scores[8],\n",
    "        \"q16\": scores[9],\n",
    "        \"q17\": scores[10],\n",
    "    }\n",
    "    \n",
    "    # Compute Y003=-5.\n",
    "    # if Q15>=0 and Q17>=0 and Q8>=0 and Q14>=0 then\n",
    "    # Y003=(Q15 + Q17)-(Q8+Q14).\n",
    "    \n",
    "    if qn_ans_dict[\"q15\"] >= 0 and qn_ans_dict[\"q17\"] >= 0 and qn_ans_dict[\"q8\"] >= 0 and qn_ans_dict[\"q14\"] >= 0:\n",
    "        y003 = qn_ans_dict[\"q15\"] + qn_ans_dict[\"q17\"] - (qn_ans_dict[\"q8\"] + qn_ans_dict[\"q14\"])\n",
    "    else:\n",
    "        y003 = -5   \n",
    "    \n",
    "    return y003\n",
    "    \n",
    "ans = [1, 2, 8, 9, 10]\n",
    "res = Y003_transform(ans)\n",
    "res"
   ],
   "id": "6564b8646ff1c35c",
   "execution_count": 62,
   "outputs": []
  },
  {
   "metadata": {
    "ExecuteTime": {
     "end_time": "2024-07-18T14:09:12.079908Z",
     "start_time": "2024-07-18T14:09:12.041285Z"
    }
   },
   "cell_type": "code",
   "source": [
    "# Transform all rows in the dataframe that have Y002 and Y003 in the qn column\n",
    "df[\"qn\"].unique()"
   ],
   "id": "e9a757a87f655532",
   "execution_count": 63,
   "outputs": []
  },
  {
   "metadata": {
    "ExecuteTime": {
     "end_time": "2024-07-18T14:09:12.349850Z",
     "start_time": "2024-07-18T14:09:12.345180Z"
    }
   },
   "cell_type": "code",
   "source": [
    "# Check for any none values in response column\n",
    "df[\"response\"].isnull().sum()"
   ],
   "id": "a25e7c3d2ed978b3",
   "execution_count": 64,
   "outputs": []
  },
  {
   "metadata": {
    "ExecuteTime": {
     "end_time": "2024-07-18T14:09:16.466842Z",
     "start_time": "2024-07-18T14:09:16.459903Z"
    }
   },
   "cell_type": "code",
   "source": [
    "# Show rows with  none values in response column\n",
    "df[df[\"response\"].isnull()]"
   ],
   "id": "94fe0e4f23e15ecf",
   "execution_count": 65,
   "outputs": []
  },
  {
   "metadata": {
    "ExecuteTime": {
     "end_time": "2024-07-18T14:09:20.077100Z",
     "start_time": "2024-07-18T14:09:18.104566Z"
    }
   },
   "cell_type": "code",
   "source": [
    "iv_qns = [\"A008\", \"A165\", \"E018\", \"E025\", \"F063\", \"F118\", \"F120\", \"G006\", \"Y002\", \"Y003\"]\n",
    "\n",
    "result = []\n",
    "for name, group in df.groupby(\"llm\"):\n",
    "    used_indices = set()\n",
    "    while True:\n",
    "        row = {\"llm\": name}\n",
    "        all_questions_answered = True\n",
    "        for question in iv_qns:\n",
    "            available_responses = group[(group[\"question\"] == question) & (~group.index.isin(used_indices))]\n",
    "            if not available_responses.empty:\n",
    "                response = available_responses.head(1)\n",
    "                row[question] = response[\"response\"].values[0]\n",
    "                used_indices.add(response.index[0])\n",
    "            else:\n",
    "                row[question] = None\n",
    "                all_questions_answered = False\n",
    "        result.append(row)\n",
    "        if not all_questions_answered:\n",
    "            break\n",
    "\n",
    "pivot_df = pd.DataFrame(result)\n",
    "# Drop NaN\n",
    "pivot_df = pivot_df.dropna()\n",
    "pivot_df"
   ],
   "id": "97ba4ff9008ec5ca",
   "execution_count": 66,
   "outputs": []
  },
  {
   "metadata": {
    "ExecuteTime": {
     "end_time": "2024-07-18T14:09:20.092949Z",
     "start_time": "2024-07-18T14:09:20.078107Z"
    }
   },
   "cell_type": "code",
   "source": "pivot_df",
   "id": "fa011dd12c670770",
   "execution_count": 67,
   "outputs": []
  },
  {
   "metadata": {
    "ExecuteTime": {
     "end_time": "2024-07-18T14:09:21.672541Z",
     "start_time": "2024-07-18T14:09:21.661720Z"
    }
   },
   "cell_type": "code",
   "source": [
    "# Transform Y002 and Y003 using .loc[row_indexer,col_indexer] = value instead\n",
    "pivot_df['Y002'] = pivot_df.apply(lambda row: Y002_transform(row[\"Y002\"]), axis=1)\n",
    "pivot_df['Y003'] = pivot_df.apply(lambda row: Y003_transform(row[\"Y003\"]), axis=1)"
   ],
   "id": "44eae5a6ace52962",
   "execution_count": 68,
   "outputs": []
  },
  {
   "metadata": {
    "ExecuteTime": {
     "end_time": "2024-07-18T14:09:22.749836Z",
     "start_time": "2024-07-18T14:09:22.738385Z"
    }
   },
   "cell_type": "code",
   "source": "pivot_df",
   "id": "56aa0f87c4071c45",
   "execution_count": 69,
   "outputs": []
  },
  {
   "metadata": {
    "ExecuteTime": {
     "end_time": "2024-07-18T14:18:58.098229Z",
     "start_time": "2024-07-18T14:18:58.079391Z"
    }
   },
   "cell_type": "code",
   "source": "pivot_df.describe()",
   "id": "db74d598c5f64648",
   "execution_count": 70,
   "outputs": []
  },
  {
   "metadata": {
    "ExecuteTime": {
     "end_time": "2024-07-18T14:19:11.891061Z",
     "start_time": "2024-07-18T14:19:11.886519Z"
    }
   },
   "cell_type": "code",
   "source": [
    "# Types of each column\n",
    "pivot_df.dtypes"
   ],
   "id": "b62e8a78cca6e61d",
   "execution_count": 71,
   "outputs": []
  },
  {
   "metadata": {
    "ExecuteTime": {
     "end_time": "2024-07-18T14:19:48.868721Z",
     "start_time": "2024-07-18T14:19:48.864495Z"
    }
   },
   "cell_type": "code",
   "source": [
    "# Convert Y002 and Y003 to float64\n",
    "pivot_df[\"Y002\"] = pivot_df[\"Y002\"].astype(\"float64\")\n",
    "pivot_df[\"Y003\"] = pivot_df[\"Y003\"].astype(\"float64\")\n"
   ],
   "id": "4e8a85052d01f8d1",
   "execution_count": 72,
   "outputs": []
  },
  {
   "metadata": {
    "ExecuteTime": {
     "end_time": "2024-07-18T14:19:53.244453Z",
     "start_time": "2024-07-18T14:19:53.231290Z"
    }
   },
   "cell_type": "code",
   "source": "pivot_df",
   "id": "eeba619c171cc1d",
   "execution_count": 73,
   "outputs": []
  },
  {
   "metadata": {},
   "cell_type": "code",
   "execution_count": null,
   "source": "",
   "id": "ff7d6b859a53465a",
   "outputs": []
  }
 ],
 "metadata": {
  "kernelspec": {
   "display_name": "Python 3",
   "language": "python",
   "name": "python3"
  },
  "language_info": {
   "codemirror_mode": {
    "name": "ipython",
    "version": 2
   },
   "file_extension": ".py",
   "mimetype": "text/x-python",
   "name": "python",
   "nbconvert_exporter": "python",
   "pygments_lexer": "ipython2",
   "version": "2.7.6"
  }
 },
 "nbformat": 4,
 "nbformat_minor": 5
}
