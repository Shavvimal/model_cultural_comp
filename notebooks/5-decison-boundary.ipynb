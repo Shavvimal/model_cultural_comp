{
 "cells": [
  {
   "cell_type": "code",
   "id": "initial_id",
   "metadata": {
    "collapsed": true,
    "ExecuteTime": {
     "end_time": "2024-07-10T20:28:46.498541Z",
     "start_time": "2024-07-10T20:28:46.373802Z"
    }
   },
   "source": [
    "import pandas as pd\n",
    "import numpy as np\n",
    "import matplotlib.colors as mcolors"
   ],
   "outputs": [],
   "execution_count": 11
  },
  {
   "metadata": {
    "ExecuteTime": {
     "end_time": "2024-07-10T20:27:25.937346Z",
     "start_time": "2024-07-10T20:27:25.933791Z"
    }
   },
   "cell_type": "code",
   "source": "country_scores_pca = pd.read_pickle('../data/country_scores_pca.pkl')",
   "id": "63653ece0dd681b",
   "outputs": [],
   "execution_count": 3
  },
  {
   "metadata": {
    "ExecuteTime": {
     "end_time": "2024-07-10T20:28:48.748044Z",
     "start_time": "2024-07-10T20:28:48.744911Z"
    }
   },
   "cell_type": "code",
   "source": [
    "cultural_region_colors = {\n",
    "    'African-Islamic': '#000000',\n",
    "    'Confucian': '#56b4e9',\n",
    "    'Latin America': '#cc79a7',\n",
    "    'Protestant Europe': '#d55e00',\n",
    "    'Catholic Europe': '#e69f00',\n",
    "    'English-Speaking': '#009e73',\n",
    "    'Orthodox Europe': '#0072b2',\n",
    "    'West & South Asia': '#f0e442',\n",
    "}"
   ],
   "id": "7eca50dabb9832ae",
   "outputs": [],
   "execution_count": 12
  },
  {
   "metadata": {
    "ExecuteTime": {
     "end_time": "2024-07-10T21:33:26.466372Z",
     "start_time": "2024-07-10T21:33:26.458140Z"
    }
   },
   "cell_type": "code",
   "source": [
    "data = country_scores_pca.dropna()[[\"PC1_rescaled\", \"PC2_rescaled\", \"Cultural Region\"]]\n",
    "data"
   ],
   "id": "2937314249632d7a",
   "outputs": [
    {
     "data": {
      "text/plain": [
       "     PC1_rescaled  PC2_rescaled    Cultural Region\n",
       "0       -0.892988      0.569878    Orthodox Europe\n",
       "1       -1.438672      0.208161    African-Islamic\n",
       "2        3.454350     -0.343267    Catholic Europe\n",
       "3       -1.743798      0.110470    Orthodox Europe\n",
       "4        0.543768     -0.357230      Latin America\n",
       "..            ...           ...                ...\n",
       "105      1.112757     -0.688963      Latin America\n",
       "106     -1.413217     -1.298871  West & South Asia\n",
       "107     -0.946381     -0.538492      Latin America\n",
       "108     -2.208811     -0.076226    African-Islamic\n",
       "109     -1.033366      0.391868    African-Islamic\n",
       "\n",
       "[109 rows x 3 columns]"
      ],
      "text/html": [
       "<div>\n",
       "<style scoped>\n",
       "    .dataframe tbody tr th:only-of-type {\n",
       "        vertical-align: middle;\n",
       "    }\n",
       "\n",
       "    .dataframe tbody tr th {\n",
       "        vertical-align: top;\n",
       "    }\n",
       "\n",
       "    .dataframe thead th {\n",
       "        text-align: right;\n",
       "    }\n",
       "</style>\n",
       "<table border=\"1\" class=\"dataframe\">\n",
       "  <thead>\n",
       "    <tr style=\"text-align: right;\">\n",
       "      <th></th>\n",
       "      <th>PC1_rescaled</th>\n",
       "      <th>PC2_rescaled</th>\n",
       "      <th>Cultural Region</th>\n",
       "    </tr>\n",
       "  </thead>\n",
       "  <tbody>\n",
       "    <tr>\n",
       "      <th>0</th>\n",
       "      <td>-0.892988</td>\n",
       "      <td>0.569878</td>\n",
       "      <td>Orthodox Europe</td>\n",
       "    </tr>\n",
       "    <tr>\n",
       "      <th>1</th>\n",
       "      <td>-1.438672</td>\n",
       "      <td>0.208161</td>\n",
       "      <td>African-Islamic</td>\n",
       "    </tr>\n",
       "    <tr>\n",
       "      <th>2</th>\n",
       "      <td>3.454350</td>\n",
       "      <td>-0.343267</td>\n",
       "      <td>Catholic Europe</td>\n",
       "    </tr>\n",
       "    <tr>\n",
       "      <th>3</th>\n",
       "      <td>-1.743798</td>\n",
       "      <td>0.110470</td>\n",
       "      <td>Orthodox Europe</td>\n",
       "    </tr>\n",
       "    <tr>\n",
       "      <th>4</th>\n",
       "      <td>0.543768</td>\n",
       "      <td>-0.357230</td>\n",
       "      <td>Latin America</td>\n",
       "    </tr>\n",
       "    <tr>\n",
       "      <th>...</th>\n",
       "      <td>...</td>\n",
       "      <td>...</td>\n",
       "      <td>...</td>\n",
       "    </tr>\n",
       "    <tr>\n",
       "      <th>105</th>\n",
       "      <td>1.112757</td>\n",
       "      <td>-0.688963</td>\n",
       "      <td>Latin America</td>\n",
       "    </tr>\n",
       "    <tr>\n",
       "      <th>106</th>\n",
       "      <td>-1.413217</td>\n",
       "      <td>-1.298871</td>\n",
       "      <td>West &amp; South Asia</td>\n",
       "    </tr>\n",
       "    <tr>\n",
       "      <th>107</th>\n",
       "      <td>-0.946381</td>\n",
       "      <td>-0.538492</td>\n",
       "      <td>Latin America</td>\n",
       "    </tr>\n",
       "    <tr>\n",
       "      <th>108</th>\n",
       "      <td>-2.208811</td>\n",
       "      <td>-0.076226</td>\n",
       "      <td>African-Islamic</td>\n",
       "    </tr>\n",
       "    <tr>\n",
       "      <th>109</th>\n",
       "      <td>-1.033366</td>\n",
       "      <td>0.391868</td>\n",
       "      <td>African-Islamic</td>\n",
       "    </tr>\n",
       "  </tbody>\n",
       "</table>\n",
       "<p>109 rows × 3 columns</p>\n",
       "</div>"
      ]
     },
     "execution_count": 32,
     "metadata": {},
     "output_type": "execute_result"
    }
   ],
   "execution_count": 32
  },
  {
   "metadata": {
    "ExecuteTime": {
     "end_time": "2024-07-10T21:33:28.466841Z",
     "start_time": "2024-07-10T21:33:28.458520Z"
    }
   },
   "cell_type": "code",
   "source": [
    "data['label'] = pd.Categorical(data['Cultural Region']).codes\n",
    "data"
   ],
   "id": "6f934567dc4e7a6",
   "outputs": [
    {
     "data": {
      "text/plain": [
       "     PC1_rescaled  PC2_rescaled    Cultural Region  label\n",
       "0       -0.892988      0.569878    Orthodox Europe      5\n",
       "1       -1.438672      0.208161    African-Islamic      0\n",
       "2        3.454350     -0.343267    Catholic Europe      1\n",
       "3       -1.743798      0.110470    Orthodox Europe      5\n",
       "4        0.543768     -0.357230      Latin America      4\n",
       "..            ...           ...                ...    ...\n",
       "105      1.112757     -0.688963      Latin America      4\n",
       "106     -1.413217     -1.298871  West & South Asia      7\n",
       "107     -0.946381     -0.538492      Latin America      4\n",
       "108     -2.208811     -0.076226    African-Islamic      0\n",
       "109     -1.033366      0.391868    African-Islamic      0\n",
       "\n",
       "[109 rows x 4 columns]"
      ],
      "text/html": [
       "<div>\n",
       "<style scoped>\n",
       "    .dataframe tbody tr th:only-of-type {\n",
       "        vertical-align: middle;\n",
       "    }\n",
       "\n",
       "    .dataframe tbody tr th {\n",
       "        vertical-align: top;\n",
       "    }\n",
       "\n",
       "    .dataframe thead th {\n",
       "        text-align: right;\n",
       "    }\n",
       "</style>\n",
       "<table border=\"1\" class=\"dataframe\">\n",
       "  <thead>\n",
       "    <tr style=\"text-align: right;\">\n",
       "      <th></th>\n",
       "      <th>PC1_rescaled</th>\n",
       "      <th>PC2_rescaled</th>\n",
       "      <th>Cultural Region</th>\n",
       "      <th>label</th>\n",
       "    </tr>\n",
       "  </thead>\n",
       "  <tbody>\n",
       "    <tr>\n",
       "      <th>0</th>\n",
       "      <td>-0.892988</td>\n",
       "      <td>0.569878</td>\n",
       "      <td>Orthodox Europe</td>\n",
       "      <td>5</td>\n",
       "    </tr>\n",
       "    <tr>\n",
       "      <th>1</th>\n",
       "      <td>-1.438672</td>\n",
       "      <td>0.208161</td>\n",
       "      <td>African-Islamic</td>\n",
       "      <td>0</td>\n",
       "    </tr>\n",
       "    <tr>\n",
       "      <th>2</th>\n",
       "      <td>3.454350</td>\n",
       "      <td>-0.343267</td>\n",
       "      <td>Catholic Europe</td>\n",
       "      <td>1</td>\n",
       "    </tr>\n",
       "    <tr>\n",
       "      <th>3</th>\n",
       "      <td>-1.743798</td>\n",
       "      <td>0.110470</td>\n",
       "      <td>Orthodox Europe</td>\n",
       "      <td>5</td>\n",
       "    </tr>\n",
       "    <tr>\n",
       "      <th>4</th>\n",
       "      <td>0.543768</td>\n",
       "      <td>-0.357230</td>\n",
       "      <td>Latin America</td>\n",
       "      <td>4</td>\n",
       "    </tr>\n",
       "    <tr>\n",
       "      <th>...</th>\n",
       "      <td>...</td>\n",
       "      <td>...</td>\n",
       "      <td>...</td>\n",
       "      <td>...</td>\n",
       "    </tr>\n",
       "    <tr>\n",
       "      <th>105</th>\n",
       "      <td>1.112757</td>\n",
       "      <td>-0.688963</td>\n",
       "      <td>Latin America</td>\n",
       "      <td>4</td>\n",
       "    </tr>\n",
       "    <tr>\n",
       "      <th>106</th>\n",
       "      <td>-1.413217</td>\n",
       "      <td>-1.298871</td>\n",
       "      <td>West &amp; South Asia</td>\n",
       "      <td>7</td>\n",
       "    </tr>\n",
       "    <tr>\n",
       "      <th>107</th>\n",
       "      <td>-0.946381</td>\n",
       "      <td>-0.538492</td>\n",
       "      <td>Latin America</td>\n",
       "      <td>4</td>\n",
       "    </tr>\n",
       "    <tr>\n",
       "      <th>108</th>\n",
       "      <td>-2.208811</td>\n",
       "      <td>-0.076226</td>\n",
       "      <td>African-Islamic</td>\n",
       "      <td>0</td>\n",
       "    </tr>\n",
       "    <tr>\n",
       "      <th>109</th>\n",
       "      <td>-1.033366</td>\n",
       "      <td>0.391868</td>\n",
       "      <td>African-Islamic</td>\n",
       "      <td>0</td>\n",
       "    </tr>\n",
       "  </tbody>\n",
       "</table>\n",
       "<p>109 rows × 4 columns</p>\n",
       "</div>"
      ]
     },
     "execution_count": 33,
     "metadata": {},
     "output_type": "execute_result"
    }
   ],
   "execution_count": 33
  },
  {
   "metadata": {
    "ExecuteTime": {
     "end_time": "2024-07-10T21:33:31.982831Z",
     "start_time": "2024-07-10T21:33:31.974337Z"
    }
   },
   "cell_type": "code",
   "source": [
    "# Get unique (label,  Cultural Region) pairs\n",
    "tups = data[['label', 'Cultural Region']].drop_duplicates()\n",
    "# sort by label\n",
    "tups = tups.sort_values(by='label')\n",
    "# Join cultural_region_colors with tups\n",
    "tups['color'] = tups['Cultural Region'].map(cultural_region_colors)\n",
    "tups.reset_index(drop=True, inplace=True)\n",
    "tups"
   ],
   "id": "794e54755d8d5d20",
   "outputs": [
    {
     "data": {
      "text/plain": [
       "   label    Cultural Region    color\n",
       "0      0    African-Islamic  #000000\n",
       "1      1    Catholic Europe  #e69f00\n",
       "2      2          Confucian  #56b4e9\n",
       "3      3   English-Speaking  #009e73\n",
       "4      4      Latin America  #cc79a7\n",
       "5      5    Orthodox Europe  #0072b2\n",
       "6      6  Protestant Europe  #d55e00\n",
       "7      7  West & South Asia  #f0e442"
      ],
      "text/html": [
       "<div>\n",
       "<style scoped>\n",
       "    .dataframe tbody tr th:only-of-type {\n",
       "        vertical-align: middle;\n",
       "    }\n",
       "\n",
       "    .dataframe tbody tr th {\n",
       "        vertical-align: top;\n",
       "    }\n",
       "\n",
       "    .dataframe thead th {\n",
       "        text-align: right;\n",
       "    }\n",
       "</style>\n",
       "<table border=\"1\" class=\"dataframe\">\n",
       "  <thead>\n",
       "    <tr style=\"text-align: right;\">\n",
       "      <th></th>\n",
       "      <th>label</th>\n",
       "      <th>Cultural Region</th>\n",
       "      <th>color</th>\n",
       "    </tr>\n",
       "  </thead>\n",
       "  <tbody>\n",
       "    <tr>\n",
       "      <th>0</th>\n",
       "      <td>0</td>\n",
       "      <td>African-Islamic</td>\n",
       "      <td>#000000</td>\n",
       "    </tr>\n",
       "    <tr>\n",
       "      <th>1</th>\n",
       "      <td>1</td>\n",
       "      <td>Catholic Europe</td>\n",
       "      <td>#e69f00</td>\n",
       "    </tr>\n",
       "    <tr>\n",
       "      <th>2</th>\n",
       "      <td>2</td>\n",
       "      <td>Confucian</td>\n",
       "      <td>#56b4e9</td>\n",
       "    </tr>\n",
       "    <tr>\n",
       "      <th>3</th>\n",
       "      <td>3</td>\n",
       "      <td>English-Speaking</td>\n",
       "      <td>#009e73</td>\n",
       "    </tr>\n",
       "    <tr>\n",
       "      <th>4</th>\n",
       "      <td>4</td>\n",
       "      <td>Latin America</td>\n",
       "      <td>#cc79a7</td>\n",
       "    </tr>\n",
       "    <tr>\n",
       "      <th>5</th>\n",
       "      <td>5</td>\n",
       "      <td>Orthodox Europe</td>\n",
       "      <td>#0072b2</td>\n",
       "    </tr>\n",
       "    <tr>\n",
       "      <th>6</th>\n",
       "      <td>6</td>\n",
       "      <td>Protestant Europe</td>\n",
       "      <td>#d55e00</td>\n",
       "    </tr>\n",
       "    <tr>\n",
       "      <th>7</th>\n",
       "      <td>7</td>\n",
       "      <td>West &amp; South Asia</td>\n",
       "      <td>#f0e442</td>\n",
       "    </tr>\n",
       "  </tbody>\n",
       "</table>\n",
       "</div>"
      ]
     },
     "execution_count": 34,
     "metadata": {},
     "output_type": "execute_result"
    }
   ],
   "execution_count": 34
  },
  {
   "metadata": {
    "ExecuteTime": {
     "end_time": "2024-07-10T21:35:08.897572Z",
     "start_time": "2024-07-10T21:35:08.894192Z"
    }
   },
   "cell_type": "code",
   "source": [
    "x = data['PC1_rescaled']\n",
    "y = data['PC2_rescaled']\n",
    "labels = np.array(data['label']).astype(int) "
   ],
   "id": "a4ae6899b4d4ac13",
   "outputs": [],
   "execution_count": 36
  },
  {
   "metadata": {
    "ExecuteTime": {
     "end_time": "2024-07-10T21:35:13.756585Z",
     "start_time": "2024-07-10T21:35:13.753343Z"
    }
   },
   "cell_type": "code",
   "source": "train_data = np.column_stack((x, y)).astype(float)",
   "id": "a5312c4bc6303845",
   "outputs": [],
   "execution_count": 37
  },
  {
   "metadata": {
    "ExecuteTime": {
     "end_time": "2024-07-10T21:35:52.200164Z",
     "start_time": "2024-07-10T21:35:52.193449Z"
    }
   },
   "cell_type": "code",
   "source": [
    "cmap = mcolors.ListedColormap(tups['color'].values)\n",
    "cmap"
   ],
   "id": "d2a6e5daf6c87864",
   "outputs": [
    {
     "data": {
      "text/plain": [
       "<matplotlib.colors.ListedColormap at 0x239022ecf90>"
      ],
      "text/html": [
       "<div style=\"vertical-align: middle;\"><strong>from_list</strong> </div><div class=\"cmap\"><img alt=\"from_list colormap\" title=\"from_list\" style=\"border: 1px solid #555;\" src=\"data:image/png;base64,iVBORw0KGgoAAAANSUhEUgAAAgAAAABACAYAAABsv8+/AAAAGHRFWHRUaXRsZQBmcm9tX2xpc3QgY29sb3JtYXBDL89FAAAAHnRFWHREZXNjcmlwdGlvbgBmcm9tX2xpc3QgY29sb3JtYXABtCnOAAAAMHRFWHRBdXRob3IATWF0cGxvdGxpYiB2My45LjEsIGh0dHBzOi8vbWF0cGxvdGxpYi5vcmdUdHMAAAAAMnRFWHRTb2Z0d2FyZQBNYXRwbG90bGliIHYzLjkuMSwgaHR0cHM6Ly9tYXRwbG90bGliLm9yZ3rS7CcAAAFjSURBVHic7dYhkYIBGADRn7No1NUgAQHIQgoEJfCX5SwKzwwMBVDQgk/sewlW7mpZlvcSdjtPF8w6bO7TCaP+HqfphFH/1+10wqjtaz2dMOry3E8njPo97qYTRv1MBwAA32cAACDIAABAkAEAgCADAABBBgAAggwAAAQZAAAIMgAAEGQAACDIAABAkAEAgCADAABBBgAAggwAAAQZAAAIMgAAEGQAACDIAABAkAEAgCADAABBBgAAggwAAAQZAAAIMgAAEGQAACDIAABAkAEAgCADAABBBgAAggwAAAQZAAAIMgAAEGQAACDIAABAkAEAgCADAABBBgAAggwAAAQZAAAIMgAAEGQAACDIAABAkAEAgCADAABBBgAAggwAAAQZAAAIMgAAEGQAACDIAABAkAEAgCADAABBBgAAggwAAAQZAAAIMgAAEGQAACDIAABAkAEAgCADAABBBgAAggwAAAR9AJ7RDJUYL+oFAAAAAElFTkSuQmCC\"></div><div style=\"vertical-align: middle; max-width: 514px; display: flex; justify-content: space-between;\"><div style=\"float: left;\"><div title=\"#000000ff\" style=\"display: inline-block; width: 1em; height: 1em; margin: 0; vertical-align: middle; border: 1px solid #555; background-color: #000000ff;\"></div> under</div><div style=\"margin: 0 auto; display: inline-block;\">bad <div title=\"#00000000\" style=\"display: inline-block; width: 1em; height: 1em; margin: 0; vertical-align: middle; border: 1px solid #555; background-color: #00000000;\"></div></div><div style=\"float: right;\">over <div title=\"#f0e442ff\" style=\"display: inline-block; width: 1em; height: 1em; margin: 0; vertical-align: middle; border: 1px solid #555; background-color: #f0e442ff;\"></div></div>"
      ],
      "image/png": "[encoded data removed]"
     },
     "execution_count": 38,
     "metadata": {},
     "output_type": "execute_result"
    }
   ],
   "execution_count": 38
  },
  {
   "metadata": {
    "ExecuteTime": {
     "end_time": "2024-07-10T20:30:30.856237Z",
     "start_time": "2024-07-10T20:30:30.850811Z"
    }
   },
   "cell_type": "code",
   "source": "data",
   "id": "aaec6c009967f3ed",
   "outputs": [
    {
     "data": {
      "text/plain": [
       "array([[-0.89298796,  0.56987845],\n",
       "       [-1.43867152,  0.20816129],\n",
       "       [ 3.45435041, -0.34326747],\n",
       "       [-1.74379826,  0.11046967],\n",
       "       [ 0.54376767, -0.35722954],\n",
       "       [ 3.20873482, -1.14439392],\n",
       "       [ 2.55829405, -0.1699634 ],\n",
       "       [-2.06493285, -0.61329091],\n",
       "       [-1.59488913,  0.12935765],\n",
       "       [ 2.60313884, -0.46602632],\n",
       "       [-1.34142775, -0.53250228],\n",
       "       [-0.3008104 ,  0.74942647],\n",
       "       [-0.16708749, -0.04442691],\n",
       "       [ 0.39180999,  1.38563942],\n",
       "       [-1.96517875, -0.16747094],\n",
       "       [ 0.18215226,  0.79947597],\n",
       "       [ 3.20931379, -0.82018156],\n",
       "       [ 0.13478591, -0.01844789],\n",
       "       [ 0.60428574,  0.725226  ],\n",
       "       [ 0.94176078,  1.347202  ],\n",
       "       [-1.21385453, -1.34818043],\n",
       "       [ 0.75905511,  0.32283667],\n",
       "       [-0.40792967,  0.02820079],\n",
       "       [ 2.57753354,  0.73340948],\n",
       "       [ 4.74299076, -0.81762627],\n",
       "       [-1.54706174, -1.27307896],\n",
       "       [-1.68145847, -0.12346058],\n",
       "       [ 1.29888868,  1.07174933],\n",
       "       [ 3.322874  , -0.41749319],\n",
       "       [ 3.02748029, -0.38086146],\n",
       "       [-1.89445394,  0.22387271],\n",
       "       [-1.99987529,  0.38730927],\n",
       "       [ 3.19317918,  0.32364941],\n",
       "       [-2.51981788, -0.91863454],\n",
       "       [ 0.25161267,  0.42383469],\n",
       "       [-0.43320733, -0.80266404],\n",
       "       [-0.19969113, -0.47841913],\n",
       "       [ 1.84049817,  1.25118267],\n",
       "       [ 0.8442469 ,  0.74553055],\n",
       "       [ 4.00284435, -1.17963366],\n",
       "       [-1.07443389, -0.12675763],\n",
       "       [-1.82765896, -0.07614988],\n",
       "       [-1.68851237,  0.26832038],\n",
       "       [-1.69889386,  0.38755176],\n",
       "       [ 0.75052018, -1.15999374],\n",
       "       [ 1.35310795, -0.01591167],\n",
       "       [ 2.92595197,  0.9015956 ],\n",
       "       [-0.84080444,  0.16821429],\n",
       "       [-2.7256675 , -0.32831332],\n",
       "       [-0.71424309, -0.39972906],\n",
       "       [ 1.07340874,  1.23524071],\n",
       "       [-0.84120125, -0.83570503],\n",
       "       [-1.74143864, -0.50790014],\n",
       "       [-1.19366092,  0.46792659],\n",
       "       [ 0.77823513,  1.02907818],\n",
       "       [-2.4195918 , -0.55157846],\n",
       "       [ 0.65953941,  1.26767309],\n",
       "       [ 2.53395748, -0.35729146],\n",
       "       [ 1.95199044,  1.02158108],\n",
       "       [-0.95210102, -0.10194863],\n",
       "       [-1.60549201, -0.45963355],\n",
       "       [-1.12074209, -0.75633533],\n",
       "       [-1.19950636, -0.79090019],\n",
       "       [-0.61757718, -1.32605302],\n",
       "       [ 1.47857818,  0.82505844],\n",
       "       [-1.00525102,  1.68291538],\n",
       "       [-0.08057794,  0.38520772],\n",
       "       [-1.72435932,  0.29019142],\n",
       "       [ 3.85685091, -0.51416579],\n",
       "       [ 3.30945763, -1.11267876],\n",
       "       [-1.71362405, -0.97540232],\n",
       "       [-1.96647758, -0.34108468],\n",
       "       [ 4.59811078, -0.80279274],\n",
       "       [-1.62617271, -0.50896753],\n",
       "       [-1.05946182, -0.26265049],\n",
       "       [-1.17868651, -1.07814286],\n",
       "       [-0.01839546, -0.1537049 ],\n",
       "       [-0.14629655,  0.03949608],\n",
       "       [-0.37384064, -1.4974661 ],\n",
       "       [-2.38292876, -1.51074397],\n",
       "       [-1.11147608,  0.75234874],\n",
       "       [-0.12598541,  0.95603128],\n",
       "       [-1.97803727, -0.35201281],\n",
       "       [ 0.32596039,  0.81757416],\n",
       "       [ 0.32838152, -0.01958793],\n",
       "       [ 1.09648816,  0.59969716],\n",
       "       [-0.02674348, -0.62698746],\n",
       "       [ 2.03119965,  0.21276234],\n",
       "       [-0.52356345, -0.42988102],\n",
       "       [-2.17113856,  0.18807648],\n",
       "       [ 1.95062523, -0.13712892],\n",
       "       [ 5.23442588, -0.53152492],\n",
       "       [ 3.50046616, -0.62619886],\n",
       "       [-1.70881049, -0.95873847],\n",
       "       [-0.06409441, -0.14540472],\n",
       "       [-1.88184942, -1.10908291],\n",
       "       [-2.06756782,  0.56606935],\n",
       "       [-1.56620543,  0.02431682],\n",
       "       [-0.20438741,  1.08403684],\n",
       "       [ 0.29464056,  0.37706944],\n",
       "       [-2.18318956,  0.70736088],\n",
       "       [ 3.30205583, -0.70201871],\n",
       "       [ 1.93079663, -0.70703097],\n",
       "       [-1.51237603, -0.2267703 ],\n",
       "       [ 1.11275678, -0.68896312],\n",
       "       [-1.413217  , -1.29887074],\n",
       "       [-0.94638066, -0.53849203],\n",
       "       [-2.20881071, -0.07622588],\n",
       "       [-1.03336568,  0.39186828]])"
      ]
     },
     "execution_count": 17,
     "metadata": {},
     "output_type": "execute_result"
    }
   ],
   "execution_count": 17
  },
  {
   "metadata": {
    "ExecuteTime": {
     "end_time": "2024-07-10T20:30:38.869245Z",
     "start_time": "2024-07-10T20:30:38.864736Z"
    }
   },
   "cell_type": "code",
   "source": "labels",
   "id": "5c4b40d3d50159ec",
   "outputs": [
    {
     "data": {
      "text/plain": [
       "array([5, 0, 1, 5, 4, 3, 1, 7, 5, 1, 4, 5, 4, 5, 7, 5, 3, 4, 2, 2, 4, 1,\n",
       "       1, 1, 6, 4, 0, 5, 6, 1, 5, 0, 6, 0, 5, 4, 4, 2, 1, 6, 7, 7, 7, 0,\n",
       "       1, 1, 2, 5, 0, 0, 2, 0, 7, 0, 5, 0, 5, 1, 2, 7, 7, 0, 1, 4, 2, 5,\n",
       "       5, 0, 6, 3, 4, 0, 6, 7, 4, 7, 1, 1, 4, 0, 5, 5, 0, 5, 2, 1, 2, 1,\n",
       "       3, 0, 1, 6, 6, 7, 2, 4, 0, 7, 5, 5, 0, 3, 3, 0, 4, 7, 4, 0, 0])"
      ]
     },
     "execution_count": 18,
     "metadata": {},
     "output_type": "execute_result"
    }
   ],
   "execution_count": 18
  },
  {
   "metadata": {},
   "cell_type": "code",
   "outputs": [],
   "execution_count": null,
   "source": [
    "def label_map(label):\n",
    "    return cultural_region_map[label]"
   ],
   "id": "379b4ba8e2d04964"
  }
 ],
 "metadata": {
  "kernelspec": {
   "display_name": "Python 3",
   "language": "python",
   "name": "python3"
  },
  "language_info": {
   "codemirror_mode": {
    "name": "ipython",
    "version": 2
   },
   "file_extension": ".py",
   "mimetype": "text/x-python",
   "name": "python",
   "nbconvert_exporter": "python",
   "pygments_lexer": "ipython2",
   "version": "2.7.6"
  }
 },
 "nbformat": 4,
 "nbformat_minor": 5
}
