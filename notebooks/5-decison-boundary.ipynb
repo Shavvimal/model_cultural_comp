{
 "cells": [
  {
   "cell_type": "code",
   "id": "initial_id",
   "metadata": {
    "collapsed": true,
    "ExecuteTime": {
     "end_time": "2024-07-11T11:50:42.546984Z",
     "start_time": "2024-07-11T11:50:42.543875Z"
    }
   },
   "source": [
    "import pandas as pd\n",
    "import numpy as np\n",
    "import matplotlib.colors as mcolors\n",
    "import matplotlib.pyplot as plt"
   ],
   "execution_count": 7,
   "outputs": []
  },
  {
   "metadata": {
    "ExecuteTime": {
     "end_time": "2024-07-11T11:50:42.791877Z",
     "start_time": "2024-07-11T11:50:42.786681Z"
    }
   },
   "cell_type": "code",
   "source": "country_scores_pca = pd.read_pickle('../data/country_scores_pca.pkl')",
   "id": "63653ece0dd681b",
   "execution_count": 8,
   "outputs": []
  },
  {
   "metadata": {
    "ExecuteTime": {
     "end_time": "2024-07-11T11:50:43.071530Z",
     "start_time": "2024-07-11T11:50:43.067311Z"
    }
   },
   "cell_type": "code",
   "source": [
    "cultural_region_colors = {\n",
    "    'African-Islamic': '#000000',\n",
    "    'Confucian': '#56b4e9',\n",
    "    'Latin America': '#cc79a7',\n",
    "    'Protestant Europe': '#d55e00',\n",
    "    'Catholic Europe': '#e69f00',\n",
    "    'English-Speaking': '#009e73',\n",
    "    'Orthodox Europe': '#0072b2',\n",
    "    'West & South Asia': '#f0e442',\n",
    "}"
   ],
   "id": "7eca50dabb9832ae",
   "execution_count": 9,
   "outputs": []
  },
  {
   "metadata": {
    "ExecuteTime": {
     "end_time": "2024-07-11T11:50:43.391500Z",
     "start_time": "2024-07-11T11:50:43.380388Z"
    }
   },
   "cell_type": "code",
   "source": [
    "data = country_scores_pca.dropna()[[\"PC1_rescaled\", \"PC2_rescaled\", \"Cultural Region\"]]\n",
    "data"
   ],
   "id": "2937314249632d7a",
   "execution_count": 10,
   "outputs": []
  },
  {
   "metadata": {
    "ExecuteTime": {
     "end_time": "2024-07-11T11:50:43.759753Z",
     "start_time": "2024-07-11T11:50:43.749744Z"
    }
   },
   "cell_type": "code",
   "source": [
    "data['label'] = pd.Categorical(data['Cultural Region']).codes\n",
    "data"
   ],
   "id": "6f934567dc4e7a6",
   "execution_count": 11,
   "outputs": []
  },
  {
   "metadata": {
    "ExecuteTime": {
     "end_time": "2024-07-11T11:50:44.668112Z",
     "start_time": "2024-07-11T11:50:44.658090Z"
    }
   },
   "cell_type": "code",
   "source": [
    "# Get unique (label,  Cultural Region) pairs\n",
    "tups = data[['label', 'Cultural Region']].drop_duplicates()\n",
    "# sort by label\n",
    "tups = tups.sort_values(by='label')\n",
    "# Join cultural_region_colors with tups\n",
    "tups['color'] = tups['Cultural Region'].map(cultural_region_colors)\n",
    "tups.reset_index(drop=True, inplace=True)\n",
    "tups"
   ],
   "id": "794e54755d8d5d20",
   "execution_count": 12,
   "outputs": []
  },
  {
   "metadata": {
    "ExecuteTime": {
     "end_time": "2024-07-11T11:50:46.598868Z",
     "start_time": "2024-07-11T11:50:46.595661Z"
    }
   },
   "cell_type": "code",
   "source": [
    "x = data['PC1_rescaled']\n",
    "y = data['PC2_rescaled']\n",
    "labels = np.array(data['label']).astype(int) "
   ],
   "id": "a4ae6899b4d4ac13",
   "execution_count": 13,
   "outputs": []
  },
  {
   "metadata": {
    "ExecuteTime": {
     "end_time": "2024-07-11T11:50:46.895570Z",
     "start_time": "2024-07-11T11:50:46.892022Z"
    }
   },
   "cell_type": "code",
   "source": "train_data = np.column_stack((x, y)).astype(float)",
   "id": "a5312c4bc6303845",
   "execution_count": 14,
   "outputs": []
  },
  {
   "metadata": {
    "ExecuteTime": {
     "end_time": "2024-07-11T11:50:47.197400Z",
     "start_time": "2024-07-11T11:50:47.188926Z"
    }
   },
   "cell_type": "code",
   "source": [
    "cmap = mcolors.ListedColormap(tups['color'].values)\n",
    "cmap"
   ],
   "id": "d2a6e5daf6c87864",
   "execution_count": 15,
   "outputs": []
  },
  {
   "metadata": {
    "ExecuteTime": {
     "end_time": "2024-07-10T20:30:30.856237Z",
     "start_time": "2024-07-10T20:30:30.850811Z"
    }
   },
   "cell_type": "code",
   "source": "data",
   "id": "aaec6c009967f3ed",
   "execution_count": 17,
   "outputs": []
  },
  {
   "metadata": {
    "ExecuteTime": {
     "end_time": "2024-07-10T20:30:38.869245Z",
     "start_time": "2024-07-10T20:30:38.864736Z"
    }
   },
   "cell_type": "code",
   "source": "labels",
   "id": "5c4b40d3d50159ec",
   "execution_count": 18,
   "outputs": []
  },
  {
   "metadata": {},
   "cell_type": "code",
   "execution_count": null,
   "source": [
    "def label_map(label):\n",
    "    return cultural_region_map[label]"
   ],
   "id": "379b4ba8e2d04964",
   "outputs": []
  },
  {
   "metadata": {
    "ExecuteTime": {
     "end_time": "2024-07-11T11:51:02.381720Z",
     "start_time": "2024-07-11T11:51:02.376479Z"
    }
   },
   "cell_type": "code",
   "source": [
    "x = np.linspace(-5, 5, 101)\n",
    "y = np.linspace(-5, 5, 101)\n",
    "# full coordinate arrays\n",
    "xx, yy = np.meshgrid(x, y)\n",
    "zz = np.sqrt(xx**2 + yy**2)\n",
    "xx.shape, yy.shape, zz.shape"
   ],
   "id": "bf74066bc6670a2",
   "execution_count": 17,
   "outputs": []
  },
  {
   "metadata": {
    "ExecuteTime": {
     "end_time": "2024-07-11T11:51:02.727295Z",
     "start_time": "2024-07-11T11:51:02.722297Z"
    }
   },
   "cell_type": "code",
   "source": [
    "# sparse coordinate arrays\n",
    "xs, ys = np.meshgrid(x, y, sparse=True)\n",
    "zs = np.sqrt(xs**2 + ys**2)\n",
    "xs.shape, ys.shape, zs.shape\n",
    "((1, 101), (101, 1), (101, 101))\n",
    "np.array_equal(zz, zs)"
   ],
   "id": "ac8c73efb3cc77e6",
   "execution_count": 18,
   "outputs": []
  },
  {
   "metadata": {
    "ExecuteTime": {
     "end_time": "2024-07-11T11:51:03.688757Z",
     "start_time": "2024-07-11T11:51:03.582013Z"
    }
   },
   "cell_type": "code",
   "source": [
    "h = plt.contourf(x, y, zs, cmap=cmap)\n",
    "plt.axis('scaled')\n",
    "plt.colorbar()\n",
    "plt.show()"
   ],
   "id": "7775d545d9e13e36",
   "execution_count": 19,
   "outputs": []
  },
  {
   "metadata": {
    "ExecuteTime": {
     "end_time": "2024-07-11T11:54:18.810477Z",
     "start_time": "2024-07-11T11:54:00.121379Z"
    }
   },
   "cell_type": "code",
   "source": [
    "import pandas as pd\n",
    "import matplotlib.pyplot as plt\n",
    "from factor_analyzer import Rotator\n",
    "from ppca import PPCA\n",
    "import numpy as np\n",
    "from sklearn.model_selection import GridSearchCV\n",
    "from sklearn.svm import SVC\n",
    "import matplotlib.colors as mcolors\n",
    "from scipy.ndimage import center_of_mass\n",
    "\n",
    "# Load ivs_df and country metadata from pkl\n",
    "ivs_df = pd.read_pickle(\"../data/ivs_df.pkl\")\n",
    "country_codes = pd.read_pickle(\"../data/country_codes.pkl\")\n",
    "\n",
    "############################################\n",
    "######## Data Preparation ##################\n",
    "############################################\n",
    "\n",
    "# Filtering data\n",
    "meta_col = [\"S020\", \"S003\"]\n",
    "weights = [\"S017\"]\n",
    "iv_qns = [\"A008\", \"A165\", \"E018\", \"E025\", \"F063\", \"F118\", \"F120\", \"G006\", \"Y002\", \"Y003\"]\n",
    "subset_ivs_df = ivs_df[meta_col + weights + iv_qns]\n",
    "subset_ivs_df = subset_ivs_df.rename(columns={'S020': 'year', 'S003': 'country_code', 'S017': 'weight'})\n",
    "subset_ivs_df = subset_ivs_df[subset_ivs_df[\"year\"] >= 2005]\n",
    "\n",
    "############################################\n",
    "######## Data Pre-Processing ###############\n",
    "############################################\n",
    "\n",
    "subset_ivs_df = subset_ivs_df.dropna(subset=iv_qns, thresh=6)\n",
    "\n",
    "############################################\n",
    "################# PPCA #####################\n",
    "############################################\n",
    "\n",
    "ppca = PPCA()\n",
    "ppca.fit(subset_ivs_df[iv_qns].to_numpy(), d=2, min_obs=1, verbose=True)\n",
    "principal_components = ppca.transform()\n",
    "\n",
    "rotator = Rotator(method='varimax')\n",
    "rotated_components = rotator.fit_transform(principal_components)\n",
    "\n",
    "ppca_df = pd.DataFrame(principal_components, columns=[\"PC1\", \"PC2\"])\n",
    "ppca_df['PC1_rescaled'] = 1.81 * ppca_df['PC1'] + 0.38\n",
    "ppca_df['PC2_rescaled'] = 1.61 * ppca_df['PC2'] - 0.01\n",
    "ppca_df[\"country_code\"] = subset_ivs_df[\"country_code\"].values\n",
    "ppca_df = ppca_df.merge(country_codes, left_on='country_code', right_on='Numeric', how='left')\n",
    "valid_data = ppca_df.dropna(subset=['PC1_rescaled', 'PC2_rescaled'])\n",
    "\n",
    "############################################\n",
    "############# Mean Points ##################\n",
    "############################################\n",
    "\n",
    "country_mean_scores = valid_data.groupby('country_code')[['PC1_rescaled', 'PC2_rescaled']].mean().reset_index()\n",
    "country_scores_pca = country_mean_scores.merge(country_codes, left_on='country_code', right_on='Numeric', how='left')\n",
    "country_scores_pca = country_scores_pca.dropna(subset=['Numeric'])\n",
    "\n",
    "\n",
    "############################################\n",
    "############# Visualization ################\n",
    "############################################\n",
    "\n",
    "cultural_region_colors = {\n",
    "    'African-Islamic': '#000000',\n",
    "    'Confucian': '#56b4e9',\n",
    "    'Latin America': '#cc79a7',\n",
    "    'Protestant Europe': '#d55e00',\n",
    "    'Catholic Europe': '#e69f00',\n",
    "    'English-Speaking': '#009e73',\n",
    "    'Orthodox Europe': '#0072b2',\n",
    "    'West & South Asia': '#f0e442',\n",
    "}\n",
    "\n",
    "plt.figure(figsize=(14, 10))\n",
    "\n",
    "for region, color in cultural_region_colors.items():\n",
    "    subset = country_scores_pca[country_scores_pca['Cultural Region'] == region]\n",
    "    for i, row in subset.iterrows():\n",
    "        if row['Islamic']:\n",
    "            plt.text(row['PC1_rescaled'], row['PC2_rescaled'], row['Country'], color=color, fontsize=10, fontstyle='italic')\n",
    "        else:\n",
    "            plt.text(row['PC1_rescaled'], row['PC2_rescaled'], row['Country'], color=color, fontsize=10)\n",
    "\n",
    "for region, color in cultural_region_colors.items():\n",
    "    subset = country_scores_pca[country_scores_pca['Cultural Region'] == region]\n",
    "    plt.scatter(subset['PC1_rescaled'], subset['PC2_rescaled'], label=region, color=color)\n",
    "\n",
    "plt.xlabel('Survival vs. Self-Expression Values')\n",
    "plt.ylabel('Traditional vs. Secular Values')\n",
    "plt.title('Inglehart-Welzel Cultural Map')\n",
    "plt.legend()\n",
    "plt.grid(True)\n",
    "\n",
    "# Add region labels\n",
    "for region, color in cultural_region_colors.items():\n",
    "    subset = country_scores_pca[country_scores_pca['Cultural Region'] == region]\n",
    "    region_center = subset[['PC1_rescaled', 'PC2_rescaled']].mean()\n",
    "    plt.text(region_center['PC1_rescaled'], region_center['PC2_rescaled'], region, color=color, fontsize=12, weight='bold')\n",
    "\n",
    "plt.show()\n",
    "\n",
    "############################################\n",
    "######## DB Visualization Prep #############\n",
    "############################################\n",
    "\n",
    "vis_data = country_scores_pca.dropna()[[\"PC1_rescaled\", \"PC2_rescaled\", \"Cultural Region\"]]\n",
    "vis_data['label'] = pd.Categorical(vis_data['Cultural Region']).codes\n",
    "tups = vis_data[['label', 'Cultural Region']].drop_duplicates()\n",
    "tups = tups.sort_values(by='label')\n",
    "tups['color'] = tups['Cultural Region'].map(cultural_region_colors)\n",
    "tups.reset_index(drop=True, inplace=True)\n",
    "cmap = mcolors.ListedColormap(tups['color'].values)\n"
   ],
   "id": "a8ef41adf1b1dda5",
   "execution_count": 20,
   "outputs": []
  },
  {
   "metadata": {
    "ExecuteTime": {
     "end_time": "2024-07-11T12:19:31.821730Z",
     "start_time": "2024-07-11T12:19:27.290122Z"
    }
   },
   "cell_type": "code",
   "source": [
    "############################################\n",
    "########## Visualization (SVC) #############\n",
    "############################################\n",
    "\n",
    "x = vis_data['PC1_rescaled']\n",
    "y = vis_data['PC2_rescaled']\n",
    "train_data = np.column_stack((x, y)).astype(float)\n",
    "labels = np.array(vis_data['label']).astype(int)\n",
    "\n",
    "param_grid_fine = {\n",
    "    'C': [500, 1000, 1500, 2000],\n",
    "    'gamma': [0.05, 0.1, 0.15, 0.2],\n",
    "    'kernel': ['rbf']\n",
    "}\n",
    "\n",
    "svm = SVC()\n",
    "grid_search = GridSearchCV(svm, param_grid_fine, refit=True, verbose=2, cv=5)\n",
    "grid_search.fit(train_data, labels)\n",
    "print(\"Best parameters found: \", grid_search.best_params_)\n",
    "best_svm = grid_search.best_estimator_\n",
    "best_svm.fit(train_data, labels)\n",
    "\n",
    "h = .01\n",
    "x_min, x_max = train_data[:, 0].min() - 1, train_data[:, 0].max() + 1\n",
    "y_min, y_max = train_data[:, 1].min() - 1, train_data[:, 1].max() + 1\n",
    "\n",
    "\n",
    "\n",
    "\n",
    "xx, yy = np.meshgrid(np.arange(x_min, x_max, h), np.arange(y_min, y_max, h))\n",
    "\n",
    "Z = best_svm.predict(np.c_[xx.ravel(), yy.ravel()])\n",
    "Z = Z.reshape(xx.shape)\n",
    "\n",
    "# sparse coordinate arrays\n",
    "xs, ys = np.meshgrid(np.arange(x_min, x_max, h), np.arange(y_min, y_max, h), sparse=True)\n",
    "zs = best_svm.predict(np.c_[xs.ravel(), ys.ravel()])\n"
   ],
   "id": "d028e6d508e2f51c",
   "execution_count": 42,
   "outputs": []
  },
  {
   "metadata": {
    "ExecuteTime": {
     "end_time": "2024-07-11T12:20:21.625448Z",
     "start_time": "2024-07-11T12:20:21.619281Z"
    }
   },
   "cell_type": "code",
   "source": "tups",
   "id": "3fbf5d208eaf2f81",
   "execution_count": 44,
   "outputs": []
  },
  {
   "metadata": {
    "ExecuteTime": {
     "end_time": "2024-07-11T12:14:09.755462Z",
     "start_time": "2024-07-11T12:14:09.745847Z"
    }
   },
   "cell_type": "code",
   "source": [
    "cmap = mcolors.ListedColormap(tups['color'].to_list())\n",
    "cmap"
   ],
   "id": "7b2e4af03d1c683f",
   "execution_count": 31,
   "outputs": []
  },
  {
   "metadata": {
    "ExecuteTime": {
     "end_time": "2024-07-11T12:19:50.473928Z",
     "start_time": "2024-07-11T12:19:50.103406Z"
    }
   },
   "cell_type": "code",
   "source": [
    "plt.figure(figsize=(14, 10))\n",
    "contour = plt.contourf(xx, yy, Z, alpha=1, cmap=cmap)\n",
    "\n",
    "# Add contour labels\n",
    "plt.clabel(contour, inline=True, fontsize=15, fmt='%d')\n",
    "\n",
    "\n",
    "for region, color in cultural_region_colors.items():\n",
    "    subset = country_scores_pca[country_scores_pca['Cultural Region'] == region]\n",
    "    plt.scatter(subset['PC1_rescaled'], subset['PC2_rescaled'], label=region, color=color)\n",
    "\n",
    "plt.xlabel('Survival vs. Self-Expression Values')\n",
    "plt.ylabel('Traditional vs. Secular Values')\n",
    "plt.title('Inglehart-Welzel Cultural Map with SVM Decision Boundary (SVC)')\n",
    "plt.legend()\n",
    "plt.grid(True)\n",
    "\n",
    "# Add region labels\n",
    "for region, color in cultural_region_colors.items():\n",
    "    subset = country_scores_pca[country_scores_pca['Cultural Region'] == region]\n",
    "    region_center = subset[['PC1_rescaled', 'PC2_rescaled']].mean()\n",
    "    plt.text(region_center['PC1_rescaled'], region_center['PC2_rescaled'], region, color=color, fontsize=12, weight='bold')\n",
    "\n",
    "plt.colorbar()\n",
    "plt.show()"
   ],
   "id": "85f772780ae7e043",
   "execution_count": 43,
   "outputs": []
  },
  {
   "metadata": {
    "ExecuteTime": {
     "end_time": "2024-07-11T12:21:47.601683Z",
     "start_time": "2024-07-11T12:21:46.628397Z"
    }
   },
   "cell_type": "code",
   "source": [
    "import numpy as np\n",
    "import matplotlib.pyplot as plt\n",
    "from sklearn import svm, datasets\n",
    "\n",
    "\n",
    "def make_meshgrid(x, y, h=.02):\n",
    "    \"\"\"Create a mesh of points to plot in\n",
    "\n",
    "    Parameters\n",
    "    ----------\n",
    "    x: data to base x-axis meshgrid on\n",
    "    y: data to base y-axis meshgrid on\n",
    "    h: stepsize for meshgrid, optional\n",
    "\n",
    "    Returns\n",
    "    -------\n",
    "    xx, yy : ndarray\n",
    "    \"\"\"\n",
    "    x_min, x_max = x.min() - 1, x.max() + 1\n",
    "    y_min, y_max = y.min() - 1, y.max() + 1\n",
    "    xx, yy = np.meshgrid(np.arange(x_min, x_max, h),\n",
    "                         np.arange(y_min, y_max, h))\n",
    "    return xx, yy\n",
    "\n",
    "\n",
    "def plot_contours(ax, clf, xx, yy, **params):\n",
    "    \"\"\"Plot the decision boundaries for a classifier.\n",
    "\n",
    "    Parameters\n",
    "    ----------\n",
    "    ax: matplotlib axes object\n",
    "    clf: a classifier\n",
    "    xx: meshgrid ndarray\n",
    "    yy: meshgrid ndarray\n",
    "    params: dictionary of params to pass to contourf, optional\n",
    "    \"\"\"\n",
    "    Z = clf.predict(np.c_[xx.ravel(), yy.ravel()])\n",
    "    Z = Z.reshape(xx.shape)\n",
    "    out = ax.contourf(xx, yy, Z, **params)\n",
    "    return out\n",
    "\n",
    "\n",
    "# import some data to play with\n",
    "iris = datasets.load_iris()\n",
    "# Take the first two features. We could avoid this by using a two-dim dataset\n",
    "X = iris.data[:, :2]\n",
    "y = iris.target\n",
    "\n",
    "# we create an instance of SVM and fit out data. We do not scale our\n",
    "# data since we want to plot the support vectors\n",
    "C = 1.0  # SVM regularization parameter\n",
    "models = (svm.SVC(kernel='linear', C=C),\n",
    "          svm.LinearSVC(C=C),\n",
    "          svm.SVC(kernel='rbf', gamma=0.7, C=C),\n",
    "          svm.SVC(kernel='poly', degree=3, C=C))\n",
    "models = (clf.fit(X, y) for clf in models)\n",
    "\n",
    "# title for the plots\n",
    "titles = ('SVC with linear kernel',\n",
    "          'LinearSVC (linear kernel)',\n",
    "          'SVC with RBF kernel',\n",
    "          'SVC with polynomial (degree 3) kernel')\n",
    "\n",
    "# Set-up 2x2 grid for plotting.\n",
    "fig, sub = plt.subplots(2, 2)\n",
    "plt.subplots_adjust(wspace=0.4, hspace=0.4)\n",
    "\n",
    "X0, X1 = X[:, 0], X[:, 1]\n",
    "xx, yy = make_meshgrid(X0, X1)\n",
    "\n",
    "for clf, title, ax in zip(models, titles, sub.flatten()):\n",
    "    plot_contours(ax, clf, xx, yy,\n",
    "                  cmap=plt.cm.coolwarm, alpha=0.8)\n",
    "    ax.scatter(X0, X1, c=y, cmap=plt.cm.coolwarm, s=20, edgecolors='k')\n",
    "    ax.set_xlim(xx.min(), xx.max())\n",
    "    ax.set_ylim(yy.min(), yy.max())\n",
    "    ax.set_xlabel('Sepal length')\n",
    "    ax.set_ylabel('Sepal width')\n",
    "    ax.set_xticks(())\n",
    "    ax.set_yticks(())\n",
    "    ax.set_title(title)\n",
    "\n",
    "plt.show()"
   ],
   "id": "bc5af54d3ecc68e2",
   "execution_count": 45,
   "outputs": []
  },
  {
   "metadata": {},
   "cell_type": "code",
   "execution_count": null,
   "source": "",
   "id": "5346687c85720fe1",
   "outputs": []
  }
 ],
 "metadata": {
  "kernelspec": {
   "display_name": "Python 3",
   "language": "python",
   "name": "python3"
  },
  "language_info": {
   "codemirror_mode": {
    "name": "ipython",
    "version": 2
   },
   "file_extension": ".py",
   "mimetype": "text/x-python",
   "name": "python",
   "nbconvert_exporter": "python",
   "pygments_lexer": "ipython2",
   "version": "2.7.6"
  }
 },
 "nbformat": 4,
 "nbformat_minor": 5
}
