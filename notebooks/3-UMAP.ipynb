{
 "cells": [
  {
   "cell_type": "code",
   "id": "initial_id",
   "metadata": {
    "collapsed": true,
    "jupyter": {
     "outputs_hidden": true
    },
    "ExecuteTime": {
     "end_time": "2024-07-09T21:58:07.653074Z",
     "start_time": "2024-07-09T21:58:03.210393Z"
    }
   },
   "source": [
    "import pandas as pd\n",
    "from sklearn.decomposition import PCA\n",
    "import matplotlib.pyplot as plt\n",
    "import numpy as np\n",
    "from factor_analyzer import Rotator\n",
    "from sklearn.preprocessing import StandardScaler\n",
    "import umap\n",
    "import seaborn as sns\n",
    "from scipy.spatial.distance import pdist, squareform\n",
    "from scipy.sparse import csr_matrix"
   ],
   "execution_count": 1,
   "outputs": []
  },
  {
   "metadata": {
    "ExecuteTime": {
     "end_time": "2024-07-09T21:58:10.266103Z",
     "start_time": "2024-07-09T21:58:07.654083Z"
    }
   },
   "cell_type": "code",
   "source": [
    "# load ivs_df from pkl\n",
    "ivs_df = pd.read_pickle(\"../data/ivs_df.pkl\")\n",
    "variable_view = pd.read_pickle(\"../data/variable_view.pkl\")"
   ],
   "id": "98961055a52a4d45",
   "execution_count": 2,
   "outputs": []
  },
  {
   "metadata": {
    "ExecuteTime": {
     "end_time": "2024-07-09T21:58:10.285872Z",
     "start_time": "2024-07-09T21:58:10.267114Z"
    }
   },
   "cell_type": "code",
   "source": "ivs_df.head()",
   "id": "5035dc105b390bb1",
   "execution_count": 3,
   "outputs": []
  },
  {
   "metadata": {
    "ExecuteTime": {
     "end_time": "2024-07-09T21:58:10.295487Z",
     "start_time": "2024-07-09T21:58:10.286880Z"
    }
   },
   "cell_type": "code",
   "source": "variable_view",
   "id": "e16abcf7e51fac3f",
   "execution_count": 4,
   "outputs": []
  },
  {
   "metadata": {},
   "cell_type": "markdown",
   "source": "We need to filter down to the three most recent survey waves (from 2005 onwards). The most recent survey waves provide up-to-date information on cultural values, ensuring that the analysis reflects current societal norms and attitudes. We also filter out the ten questions from the IVS that form the basis of the Inglehart-Welzel Cultural Map. ",
   "id": "b85a29cdcec2f77c"
  },
  {
   "metadata": {
    "ExecuteTime": {
     "end_time": "2024-07-09T21:58:10.299613Z",
     "start_time": "2024-07-09T21:58:10.296495Z"
    }
   },
   "cell_type": "code",
   "source": [
    "# Metadata we need\n",
    "meta_col = [\"S020\", \"S003\"]\n",
    "# Weights\n",
    "weights = [\"S017\"]\n",
    "# Use the ten questions from the IVS that form the basis of the Inglehart-Welzel Cultural Map\n",
    "iv_qns = [\"A008\", \"A165\", \"E018\", \"E025\", \"F063\", \"F118\", \"F120\", \"G006\", \"Y002\", \"Y003\"]"
   ],
   "id": "58676e021731037e",
   "execution_count": 5,
   "outputs": []
  },
  {
   "cell_type": "code",
   "id": "7aa1f137e41efa34",
   "metadata": {
    "ExecuteTime": {
     "end_time": "2024-07-09T21:58:10.342037Z",
     "start_time": "2024-07-09T21:58:10.300619Z"
    }
   },
   "source": [
    "subset_ivs_df = ivs_df[meta_col+weights+iv_qns]\n",
    "subset_ivs_df"
   ],
   "execution_count": 6,
   "outputs": []
  },
  {
   "cell_type": "code",
   "id": "29795238edac215d",
   "metadata": {
    "ExecuteTime": {
     "end_time": "2024-07-09T21:58:10.848435Z",
     "start_time": "2024-07-09T21:58:10.343043Z"
    }
   },
   "source": [
    "subset_ivs_df.describe()"
   ],
   "execution_count": 7,
   "outputs": []
  },
  {
   "cell_type": "code",
   "id": "11f4bed857cdbbc6",
   "metadata": {
    "ExecuteTime": {
     "end_time": "2024-07-09T21:58:10.870147Z",
     "start_time": "2024-07-09T21:58:10.850020Z"
    }
   },
   "source": [
    "subset_ivs_df.isna().sum()"
   ],
   "execution_count": 8,
   "outputs": []
  },
  {
   "cell_type": "code",
   "id": "37bd044a8f41a257",
   "metadata": {
    "ExecuteTime": {
     "end_time": "2024-07-09T21:58:15.696293Z",
     "start_time": "2024-07-09T21:58:15.655357Z"
    }
   },
   "source": "subset_ivs_df = subset_ivs_df.rename(columns={'S020': 'year', 'S003': 'country_code', 'S017': 'weight'})",
   "execution_count": 9,
   "outputs": []
  },
  {
   "cell_type": "code",
   "id": "a9273dd45be2df9",
   "metadata": {
    "ExecuteTime": {
     "end_time": "2024-07-09T21:58:16.430030Z",
     "start_time": "2024-07-09T21:58:16.414554Z"
    }
   },
   "source": [
    "subset_ivs_df"
   ],
   "execution_count": 10,
   "outputs": []
  },
  {
   "cell_type": "code",
   "id": "2e3828cfa3bc27d9",
   "metadata": {
    "ExecuteTime": {
     "end_time": "2024-07-09T21:58:19.421078Z",
     "start_time": "2024-07-09T21:58:19.396086Z"
    }
   },
   "source": [
    "# remove before 2005\n",
    "subset_ivs_df = subset_ivs_df[subset_ivs_df[\"year\"] >= 2005]"
   ],
   "execution_count": 11,
   "outputs": []
  },
  {
   "cell_type": "code",
   "id": "946f06286bdecb3b",
   "metadata": {
    "ExecuteTime": {
     "end_time": "2024-07-09T21:58:20.084526Z",
     "start_time": "2024-07-09T21:58:20.073548Z"
    }
   },
   "source": [
    "subset_ivs_df.head()"
   ],
   "execution_count": 12,
   "outputs": []
  },
  {
   "cell_type": "code",
   "id": "c4cf7213447c2f2",
   "metadata": {
    "ExecuteTime": {
     "end_time": "2024-07-09T21:58:20.976701Z",
     "start_time": "2024-07-09T21:58:20.968676Z"
    }
   },
   "source": [
    "len(subset_ivs_df[\"country_code\"].unique())"
   ],
   "execution_count": 13,
   "outputs": []
  },
  {
   "metadata": {
    "ExecuteTime": {
     "end_time": "2024-07-09T21:58:21.311756Z",
     "start_time": "2024-07-09T21:58:21.307510Z"
    }
   },
   "cell_type": "code",
   "source": "len(subset_ivs_df)",
   "id": "8e1a45a1b81bd7a2",
   "execution_count": 14,
   "outputs": []
  },
  {
   "metadata": {},
   "cell_type": "markdown",
   "source": "The joint IVS data, after filtering, covers 394,524 individual-level survey response observations from 112 countries.",
   "id": "88649f8e0208491c"
  },
  {
   "metadata": {},
   "cell_type": "markdown",
   "source": [
    "# Country Names and Metadata\n",
    "\n",
    "We also need to collect the country names and metadata for the countries in our dataset. We will use this information to map the countries to their respective cultural regions and to identify Islamic countries."
   ],
   "id": "39623a5910b216fa"
  },
  {
   "metadata": {
    "ExecuteTime": {
     "end_time": "2024-07-09T21:58:22.343904Z",
     "start_time": "2024-07-09T21:58:22.325682Z"
    }
   },
   "cell_type": "code",
   "source": [
    "data = {\n",
    "    \"Country\": [\"Afghanistan\", \"Albania\", \"Algeria\", \"American Samoa\", \"Andorra\", \"Angola\", \"Anguilla\", \n",
    "                \"Antarctica\", \"Antigua and Barbuda\", \"Argentina\", \"Armenia\", \"Aruba\", \"Australia\", \"Austria\", \n",
    "                \"Azerbaijan\", \"Bahamas (the)\", \"Bahrain\", \"Bangladesh\", \"Barbados\", \"Belarus\", \"Belgium\", \n",
    "                \"Belize\", \"Benin\", \"Bermuda\", \"Bhutan\", \"Bolivia (Plurinational State of)\", \n",
    "                \"Bonaire, Sint Eustatius and Saba\", \"Bosnia and Herzegovina\", \"Botswana\", \"Bouvet Island\", \n",
    "                \"Brazil\", \"British Indian Ocean Territory (the)\", \"Brunei Darussalam\", \"Bulgaria\", \n",
    "                \"Burkina Faso\", \"Burundi\", \"Cabo Verde\", \"Cambodia\", \"Cameroon\", \"Canada\", \"Cayman Islands (the)\", \n",
    "                \"Central African Republic (the)\", \"Chad\", \"Chile\", \"China\", \"Christmas Island\", \n",
    "                \"Cocos (Keeling) Islands (the)\", \"Colombia\", \"Comoros (the)\", \"Congo (the Democratic Republic of the)\", \n",
    "                \"Congo (the)\", \"Cook Islands (the)\", \"Costa Rica\", \"Croatia\", \"Cuba\", \"Curaçao\", \"Cyprus\", \n",
    "                \"Czechia\", \"Côte d'Ivoire\", \"Denmark\", \"Djibouti\", \"Dominica\", \"Dominican Republic (the)\", \n",
    "                \"Ecuador\", \"Egypt\", \"El Salvador\", \"Equatorial Guinea\", \"Eritrea\", \"Estonia\", \"Eswatini\", \n",
    "                \"Ethiopia\", \"Falkland Islands (the) [Malvinas]\", \"Faroe Islands (the)\", \"Fiji\", \"Finland\", \n",
    "                \"France\", \"French Guiana\", \"French Polynesia\", \"French Southern Territories (the)\", \"Gabon\", \n",
    "                \"Gambia (the)\", \"Georgia\", \"Germany\", \"Ghana\", \"Gibraltar\", \"Greece\", \"Greenland\", \"Grenada\", \n",
    "                \"Guadeloupe\", \"Guam\", \"Guatemala\", \"Guernsey\", \"Guinea\", \"Guinea-Bissau\", \"Guyana\", \"Haiti\", \n",
    "                \"Heard Island and McDonald Islands\", \"Holy See (the)\", \"Honduras\", \"Hong Kong\", \"Hungary\", \"Iceland\", \n",
    "                \"India\", \"Indonesia\", \"Iran (Islamic Republic of)\", \"Iraq\", \"Ireland\", \"Isle of Man\", \"Israel\", \n",
    "                \"Italy\", \"Jamaica\", \"Japan\", \"Jersey\", \"Jordan\", \"Kazakhstan\", \"Kenya\", \"Kiribati\", \n",
    "                \"Korea (the Democratic People's Republic of)\", \"Korea (the Republic of)\", \"Kuwait\", \"Kyrgyzstan\", \n",
    "                \"Lao People's Democratic Republic (the)\", \"Latvia\", \"Lebanon\", \"Lesotho\", \"Liberia\", \"Libya\", \n",
    "                \"Liechtenstein\", \"Lithuania\", \"Luxembourg\", \"Macao\", \"Madagascar\", \"Malawi\", \"Malaysia\", \"Maldives\", \n",
    "                \"Mali\", \"Malta\", \"Marshall Islands (the)\", \"Martinique\", \"Mauritania\", \"Mauritius\", \"Mayotte\", \n",
    "                \"Mexico\", \"Micronesia (Federated States of)\", \"Moldova (the Republic of)\", \"Monaco\", \"Mongolia\", \n",
    "                \"Montenegro\", \"Montserrat\", \"Morocco\", \"Mozambique\", \"Myanmar\", \"Namibia\", \"Nauru\", \"Nepal\", \n",
    "                \"Netherlands (the)\", \"New Caledonia\", \"New Zealand\", \"Nicaragua\", \"Niger (the)\", \"Nigeria\", \n",
    "                \"Niue\", \"Norfolk Island\", \"Northern Mariana Islands (the)\", \"Norway\", \"Oman\", \"Pakistan\", \"Palau\", \n",
    "                \"Palestine, State of\", \"Panama\", \"Papua New Guinea\", \"Paraguay\", \"Peru\", \"Philippines (the)\", \n",
    "                \"Pitcairn\", \"Poland\", \"Portugal\", \"Puerto Rico\", \"Qatar\", \"Republic of North Macedonia\", \"Romania\", \n",
    "                \"Russian Federation (the)\", \"Rwanda\", \"Réunion\", \"Saint Barthélemy\", \n",
    "                \"Saint Helena, Ascension and Tristan da Cunha\", \"Saint Kitts and Nevis\", \"Saint Lucia\", \n",
    "                \"Saint Martin (French part)\", \"Saint Pierre and Miquelon\", \"Saint Vincent and the Grenadines\", \"Samoa\", \n",
    "                \"San Marino\", \"Sao Tome and Principe\", \"Saudi Arabia\", \"Senegal\", \"Serbia\", \"Seychelles\", \n",
    "                \"Sierra Leone\", \"Singapore\", \"Sint Maarten (Dutch part)\", \"Slovakia\", \"Slovenia\", \"Solomon Islands\", \n",
    "                \"Somalia\", \"South Africa\", \"South Georgia and the South Sandwich Islands\", \"South Sudan\", \"Spain\", \n",
    "                \"Sri Lanka\", \"Sudan (the)\", \"Suriname\", \"Svalbard and Jan Mayen\", \"Sweden\", \"Switzerland\", \n",
    "                \"Syrian Arab Republic\", \"Taiwan (Province of China)\", \"Tajikistan\", \"Tanzania, United Republic of\", \n",
    "                \"Thailand\", \"Timor-Leste\", \"Togo\", \"Tokelau\", \"Tonga\", \"Trinidad and Tobago\", \"Tunisia\", \"Turkey\", \n",
    "                \"Turkmenistan\", \"Turks and Caicos Islands (the)\", \"Tuvalu\", \"Uganda\", \"Ukraine\", \"United Arab Emirates (the)\", \n",
    "                \"United Kingdom of Great Britain and Northern Ireland (the)\", \"United States Minor Outlying Islands (the)\", \n",
    "                \"United States of America (the)\", \"Uruguay\", \"Uzbekistan\", \"Vanuatu\", \"Venezuela (Bolivarian Republic of)\", \n",
    "                \"Viet Nam\", \"Virgin Islands (British)\", \"Virgin Islands (U.S.)\", \"Wallis and Futuna\", \"Western Sahara\", \n",
    "                \"Yemen\", \"Zambia\", \"Zimbabwe\", \"Åland Islands\"],\n",
    "    \"Numeric\": [4, 8, 12, 16, 20, 24, 660, 10, 28, 32, 51, 533, 36, 40, 31, 44, 48, 50, 52, 112, 56, 84, 204, 60, 64, \n",
    "                68, 535, 70, 72, 74, 76, 86, 96, 100, 854, 108, 132, 116, 120, 124, 136, 140, 148, 152, 156, 162, \n",
    "                166, 170, 174, 180, 178, 184, 188, 191, 192, 531, 196, 203, 384, 208, 262, 212, 214, 218, 818, 222, \n",
    "                226, 232, 233, 748, 231, 238, 234, 242, 246, 250, 254, 258, 260, 266, 270, 268, 276, 288, 292, 300, \n",
    "                304, 308, 312, 316, 320, 831, 324, 624, 328, 332, 334, 336, 340, 344, 348, 352, 356, 360, 364, 368, \n",
    "                372, 833, 376, 380, 388, 392, 832, 400, 398, 404, 296, 408, 410, 414, 417, 418, 428, 422, 426, 430, \n",
    "                434, 438, 440, 442, 446, 450, 454, 458, 462, 466, 470, 584, 474, 478, 480, 175, 484, 583, 498, 492, \n",
    "                496, 499, 500, 504, 508, 104, 516, 520, 524, 528, 540, 554, 558, 562, 566, 570, 574, 580, 578, 512, \n",
    "                586, 585, 275, 591, 598, 600, 604, 608, 612, 616, 620, 630, 634, 807, 642, 643, 646, 638, 652, 654, \n",
    "                659, 662, 663, 666, 670, 882, 674, 678, 682, 686, 688, 690, 694, 702, 534, 703, 705, 90, 706, 710, \n",
    "                239, 728, 724, 144, 729, 740, 744, 752, 756, 760, 158, 762, 834, 764, 626, 768, 772, 776, 780, 788, \n",
    "                792, 795, 796, 798, 800, 804, 784, 826, 581, 840, 858, 860, 548, 862, 704, 92, 850, 876, 732, 887, \n",
    "                894, 716, 248]\n",
    "}\n",
    "\n",
    "country_codes = pd.DataFrame(data)\n",
    "country_codes"
   ],
   "id": "83a021d451ebb14f",
   "execution_count": 15,
   "outputs": []
  },
  {
   "metadata": {
    "ExecuteTime": {
     "end_time": "2024-07-09T21:58:22.864596Z",
     "start_time": "2024-07-09T21:58:22.856702Z"
    }
   },
   "cell_type": "code",
   "source": [
    "unique_countries = subset_ivs_df[\"country_code\"].unique()\n",
    "unique_countries"
   ],
   "id": "5aebf6619e47be3e",
   "execution_count": 16,
   "outputs": []
  },
  {
   "metadata": {
    "ExecuteTime": {
     "end_time": "2024-07-09T21:58:23.226856Z",
     "start_time": "2024-07-09T21:58:23.218979Z"
    }
   },
   "cell_type": "code",
   "source": [
    "country_codes = country_codes[country_codes[\"Numeric\"].isin(unique_countries)]\n",
    "country_codes"
   ],
   "id": "cf2f1e8357a731d9",
   "execution_count": 17,
   "outputs": []
  },
  {
   "metadata": {
    "ExecuteTime": {
     "end_time": "2024-07-09T21:58:23.837206Z",
     "start_time": "2024-07-09T21:58:23.829277Z"
    }
   },
   "cell_type": "code",
   "source": [
    "# Adding cultural regions for the regions in our dataset\n",
    "\n",
    "cultural_regions = {\n",
    "    'Albania': 'Orthodox Europe',\n",
    "    'Algeria': 'African-Islamic',\n",
    "    'Andorra': 'Catholic Europe',\n",
    "    'Argentina': 'Latin America',\n",
    "    'Armenia': 'Orthodox Europe',\n",
    "    'Australia': 'English-Speaking',\n",
    "    'Austria': 'Catholic Europe',\n",
    "    'Azerbaijan': 'Orthodox Europe',\n",
    "    'Bangladesh': 'West & South Asia',\n",
    "    'Belarus': 'Orthodox Europe',\n",
    "    'Belgium': 'Catholic Europe',\n",
    "    'Bolivia (Plurinational State of)': 'Latin America',\n",
    "    'Bosnia and Herzegovina': 'Orthodox Europe',\n",
    "    'Brazil': 'Latin America',\n",
    "    'Bulgaria': 'Orthodox Europe',\n",
    "    'Burkina Faso': 'African-Islamic',\n",
    "    'Canada': 'English-Speaking',\n",
    "    'Chile': 'Latin America',\n",
    "    'China': 'Confucian',\n",
    "    'Colombia': 'Latin America',\n",
    "    'Croatia': 'Catholic Europe',\n",
    "    'Cyprus': 'Catholic Europe',\n",
    "    'Czechia': 'Catholic Europe',\n",
    "    'Denmark': 'Protestant Europe',\n",
    "    'Ecuador': 'Latin America',\n",
    "    'Egypt': 'African-Islamic',\n",
    "    'Estonia': 'Orthodox Europe',\n",
    "    'Ethiopia': 'African-Islamic',\n",
    "    'Finland': 'Protestant Europe',\n",
    "    'France': 'Catholic Europe',\n",
    "    'Georgia': 'Orthodox Europe',\n",
    "    'Germany': 'Protestant Europe',\n",
    "    'Ghana': 'African-Islamic',\n",
    "    'Greece': 'Orthodox Europe',\n",
    "    'Guatemala': 'Latin America',\n",
    "    'Haiti': 'Latin America',\n",
    "    'Hong Kong': 'Confucian',\n",
    "    'Hungary': 'Catholic Europe',\n",
    "    'Iceland': 'Protestant Europe',\n",
    "    'India': 'West & South Asia',\n",
    "    'Indonesia': 'West & South Asia',\n",
    "    'Iran (Islamic Republic of)': 'West & South Asia',\n",
    "    'Iraq': 'African-Islamic',\n",
    "    'Ireland': 'Catholic Europe',\n",
    "    'Italy': 'Catholic Europe',\n",
    "    'Japan': 'Confucian',\n",
    "    'Jordan': 'African-Islamic',\n",
    "    'Kazakhstan': 'Orthodox Europe',\n",
    "    'Kenya': 'African-Islamic',\n",
    "    'Korea (the Republic of)': 'Confucian',\n",
    "    'Kuwait': 'African-Islamic',\n",
    "    'Kyrgyzstan': 'West & South Asia',\n",
    "    'Latvia': 'Orthodox Europe',\n",
    "    'Lebanon': 'African-Islamic',\n",
    "    'Libya': 'African-Islamic',\n",
    "    'Lithuania': 'Orthodox Europe',\n",
    "    'Luxembourg': 'Catholic Europe',\n",
    "    'Macao': 'Confucian',\n",
    "    'Malaysia': 'West & South Asia',\n",
    "    'Maldives': 'West & South Asia',\n",
    "    'Mali': 'African-Islamic',\n",
    "    'Malta': 'Catholic Europe',\n",
    "    'Mexico': 'Latin America',\n",
    "    'Moldova (the Republic of)': 'Orthodox Europe',\n",
    "    'Mongolia': 'Confucian',\n",
    "    'Montenegro': 'Orthodox Europe',\n",
    "    'Morocco': 'African-Islamic',\n",
    "    'Myanmar': 'West & South Asia',\n",
    "    'Netherlands (the)': 'Protestant Europe',\n",
    "    'New Zealand': 'English-Speaking',\n",
    "    'Nicaragua': 'Latin America',\n",
    "    'Nigeria': 'African-Islamic',\n",
    "    'Norway': 'Protestant Europe',\n",
    "    'Pakistan': 'West & South Asia',\n",
    "    'Palestine, State of': 'African-Islamic',\n",
    "    'Peru': 'Latin America',\n",
    "    'Philippines (the)': 'West & South Asia',\n",
    "    'Poland': 'Catholic Europe',\n",
    "    'Portugal': 'Catholic Europe',\n",
    "    'Puerto Rico': 'Latin America',\n",
    "    'Qatar': 'African-Islamic',\n",
    "    'Republic of North Macedonia': 'Orthodox Europe',\n",
    "    'Romania': 'Orthodox Europe',\n",
    "    'Russian Federation (the)': 'Orthodox Europe',\n",
    "    'Rwanda': 'African-Islamic',\n",
    "    'Serbia': 'Orthodox Europe',\n",
    "    'Singapore': 'Confucian',\n",
    "    'Slovakia': 'Catholic Europe',\n",
    "    'Slovenia': 'Catholic Europe',\n",
    "    'South Africa': 'English-Speaking',\n",
    "    'Spain': 'Catholic Europe',\n",
    "    'Sweden': 'Protestant Europe',\n",
    "    'Switzerland': 'Protestant Europe',\n",
    "    'Taiwan (Province of China)': 'Confucian',\n",
    "    'Tajikistan': 'West & South Asia',\n",
    "    'Thailand': 'Confucian',\n",
    "    'Trinidad and Tobago': 'Latin America',\n",
    "    'Tunisia': 'African-Islamic',\n",
    "    'Turkey': 'West & South Asia',\n",
    "    'Ukraine': 'Orthodox Europe',\n",
    "    'United Kingdom of Great Britain and Northern Ireland (the)': 'English-Speaking',\n",
    "    'United States of America (the)': 'English-Speaking',\n",
    "    'Uruguay': 'Latin America',\n",
    "    'Uzbekistan': 'West & South Asia',\n",
    "    'Venezuela (Bolivarian Republic of)': 'Latin America',\n",
    "    'Viet Nam': 'Confucian',\n",
    "    'Yemen': 'African-Islamic',\n",
    "    'Zambia': 'African-Islamic',\n",
    "    'Zimbabwe': 'African-Islamic',\n",
    "}"
   ],
   "id": "bcf0076edcc00855",
   "execution_count": 18,
   "outputs": []
  },
  {
   "metadata": {
    "ExecuteTime": {
     "end_time": "2024-07-09T21:58:24.589751Z",
     "start_time": "2024-07-09T21:58:24.582603Z"
    }
   },
   "cell_type": "code",
   "source": [
    "# boolean values indicating whether the country is Islamic\n",
    "\n",
    "islamic_countries = {\n",
    "    'Albania': True,\n",
    "    'Algeria': True,\n",
    "    'Andorra': False,\n",
    "    'Argentina': False,\n",
    "    'Armenia': False,\n",
    "    'Australia': False,\n",
    "    'Austria': False,\n",
    "    'Azerbaijan': True,\n",
    "    'Bangladesh': True,\n",
    "    'Belarus': False,\n",
    "    'Belgium': False,\n",
    "    'Bolivia (Plurinational State of)': False,\n",
    "    'Bosnia and Herzegovina': True,\n",
    "    'Brazil': False,\n",
    "    'Bulgaria': False,\n",
    "    'Burkina Faso': True,\n",
    "    'Canada': False,\n",
    "    'Chile': False,\n",
    "    'China': False,\n",
    "    'Colombia': False,\n",
    "    'Croatia': False,\n",
    "    'Cyprus': False,\n",
    "    'Czechia': False,\n",
    "    'Denmark': False,\n",
    "    'Ecuador': False,\n",
    "    'Egypt': True,\n",
    "    'Estonia': False,\n",
    "    'Ethiopia': False,\n",
    "    'Finland': False,\n",
    "    'France': False,\n",
    "    'Georgia': False,\n",
    "    'Germany': False,\n",
    "    'Ghana': True,\n",
    "    'Greece': False,\n",
    "    'Guatemala': False,\n",
    "    'Haiti': False,\n",
    "    'Hong Kong': False,\n",
    "    'Hungary': False,\n",
    "    'Iceland': False,\n",
    "    'India': False,\n",
    "    'Indonesia': True,\n",
    "    'Iran (Islamic Republic of)': True,\n",
    "    'Iraq': True,\n",
    "    'Ireland': False,\n",
    "    'Italy': False,\n",
    "    'Japan': False,\n",
    "    'Jordan': True,\n",
    "    'Kazakhstan': True,\n",
    "    'Kenya': True,\n",
    "    'Korea (the Republic of)': False,\n",
    "    'Kuwait': True,\n",
    "    'Kyrgyzstan': True,\n",
    "    'Latvia': False,\n",
    "    'Lebanon': True,\n",
    "    'Libya': True,\n",
    "    'Lithuania': False,\n",
    "    'Luxembourg': False,\n",
    "    'Macao': False,\n",
    "    'Malaysia': True,\n",
    "    'Maldives': True,\n",
    "    'Mali': True,\n",
    "    'Malta': False,\n",
    "    'Mexico': False,\n",
    "    'Moldova (the Republic of)': False,\n",
    "    'Mongolia': False,\n",
    "    'Montenegro': False,\n",
    "    'Morocco': True,\n",
    "    'Myanmar': False,\n",
    "    'Netherlands (the)': False,\n",
    "    'New Zealand': False,\n",
    "    'Nicaragua': False,\n",
    "    'Nigeria': True,\n",
    "    'Norway': False,\n",
    "    'Pakistan': True,\n",
    "    'Palestine, State of': True,\n",
    "    'Peru': False,\n",
    "    'Philippines (the)': False,\n",
    "    'Poland': False,\n",
    "    'Portugal': False,\n",
    "    'Puerto Rico': False,\n",
    "    'Qatar': True,\n",
    "    'Republic of North Macedonia': False,\n",
    "    'Romania': False,\n",
    "    'Russian Federation (the)': False,\n",
    "    'Rwanda': True,\n",
    "    'Serbia': False,\n",
    "    'Singapore': False,\n",
    "    'Slovakia': False,\n",
    "    'Slovenia': False,\n",
    "    'South Africa': False,\n",
    "    'Spain': False,\n",
    "    'Sweden': False,\n",
    "    'Switzerland': False,\n",
    "    'Taiwan (Province of China)': False,\n",
    "    'Tajikistan': True,\n",
    "    'Thailand': False,\n",
    "    'Trinidad and Tobago': False,\n",
    "    'Tunisia': True,\n",
    "    'Turkey': True,\n",
    "    'Ukraine': False,\n",
    "    'United Kingdom of Great Britain and Northern Ireland (the)': False,\n",
    "    'United States of America (the)': False,\n",
    "    'Uruguay': False,\n",
    "    'Uzbekistan': True,\n",
    "    'Venezuela (Bolivarian Republic of)': False,\n",
    "    'Viet Nam': False,\n",
    "    'Yemen': True,\n",
    "    'Zambia': True,\n",
    "    'Zimbabwe': False,\n",
    "}"
   ],
   "id": "fc671ca2cbfb1530",
   "execution_count": 19,
   "outputs": []
  },
  {
   "metadata": {
    "ExecuteTime": {
     "end_time": "2024-07-09T21:58:25.408221Z",
     "start_time": "2024-07-09T21:58:25.399608Z"
    }
   },
   "cell_type": "code",
   "source": [
    "# We need columns of \"Islamic\" and categorise the countries based on the region\n",
    "# Add cultural regions column\n",
    "country_codes = country_codes.copy()\n",
    "country_codes['Cultural Region'] = country_codes['Country'].map(cultural_regions)\n",
    "country_codes['Islamic'] = country_codes['Country'].map(islamic_countries)\n",
    "country_codes"
   ],
   "id": "eea8de216235f65d",
   "execution_count": 20,
   "outputs": []
  },
  {
   "metadata": {
    "ExecuteTime": {
     "end_time": "2024-07-09T21:58:27.440427Z",
     "start_time": "2024-07-09T21:58:27.359357Z"
    }
   },
   "cell_type": "code",
   "source": [
    "# Merge into the subset_ivs_df\n",
    "subset_ivs_df = subset_ivs_df.merge(country_codes, left_on='country_code', right_on='Numeric', how='left')\n",
    "subset_ivs_df.head()"
   ],
   "id": "377b29f8e883924e",
   "execution_count": 21,
   "outputs": []
  },
  {
   "metadata": {
    "ExecuteTime": {
     "end_time": "2024-07-09T21:58:29.641884Z",
     "start_time": "2024-07-09T21:58:29.628924Z"
    }
   },
   "cell_type": "code",
   "source": [
    "survey_responses = subset_ivs_df[iv_qns]\n",
    "cultural_region = subset_ivs_df[\"Cultural Region\"]"
   ],
   "id": "409c939414b7ef8e",
   "execution_count": 22,
   "outputs": []
  },
  {
   "metadata": {
    "ExecuteTime": {
     "end_time": "2024-07-09T14:28:40.455854Z",
     "start_time": "2024-07-09T14:28:40.325215Z"
    }
   },
   "cell_type": "code",
   "source": [
    "weights = subset_ivs_df['weight'].values\n",
    "features = subset_ivs_df[iv_qns].values\n",
    "scaler = StandardScaler()\n",
    "standardized_data = scaler.fit_transform(features, sample_weight=weights)\n",
    "standardized_data"
   ],
   "id": "3ab6a6813b1e2ee5",
   "execution_count": 23,
   "outputs": []
  },
  {
   "metadata": {
    "ExecuteTime": {
     "end_time": "2024-07-09T14:30:46.852916Z",
     "start_time": "2024-07-09T14:30:46.821897Z"
    }
   },
   "cell_type": "code",
   "source": [
    "# Add Metadata back to standardized data\n",
    "standardized_data = pd.DataFrame(standardized_data, columns=iv_qns)\n",
    "standardized_data[\"Cultural Region\"] = subset_ivs_df[\"Cultural Region\"]\n",
    "standardized_data[\"Country\"] = subset_ivs_df[\"Country\"]\n",
    "standardized_data[\"Islamic\"] = subset_ivs_df[\"Islamic\"]\n",
    "standardized_data"
   ],
   "id": "79935be8b7e74e9f",
   "execution_count": 26,
   "outputs": []
  },
  {
   "metadata": {
    "ExecuteTime": {
     "end_time": "2024-07-09T14:47:52.515588Z",
     "start_time": "2024-07-09T14:41:47.099294Z"
    }
   },
   "cell_type": "code",
   "source": [
    "from sklearn.impute import KNNImputer\n",
    "\n",
    "# Function to impute missing values within each cultural region using KNNImputer\n",
    "def impute_within_region(df):\n",
    "    imputer = KNNImputer(n_neighbors=5)\n",
    "    df[iv_qns] = imputer.fit_transform(df[iv_qns])\n",
    "    return df\n",
    "\n",
    "# Split the data by cultural region, apply KNN imputation, and then combine it back\n",
    "data_imputed_parts = []\n",
    "for name, group in standardized_data.groupby('Cultural Region'):\n",
    "    print(f\"Processing {name}\")\n",
    "    imputed_group = impute_within_region(group.copy())\n",
    "    data_imputed_parts.append(imputed_group)\n",
    "\n",
    "# Combine the imputed parts back into a single DataFrame\n",
    "data_imputed = pd.concat(data_imputed_parts, ignore_index=True)"
   ],
   "id": "3d1cfa9d1d1f4538",
   "execution_count": 30,
   "outputs": []
  },
  {
   "metadata": {
    "ExecuteTime": {
     "end_time": "2024-07-09T21:22:18.000172Z",
     "start_time": "2024-07-09T21:22:17.989801Z"
    }
   },
   "cell_type": "code",
   "source": "data_imputed",
   "id": "1d028b4fe686903b",
   "execution_count": 43,
   "outputs": []
  },
  {
   "metadata": {
    "ExecuteTime": {
     "end_time": "2024-07-09T16:09:22.778120Z",
     "start_time": "2024-07-09T16:09:22.737349Z"
    }
   },
   "cell_type": "code",
   "source": [
    "# Save the imputed data\n",
    "data_imputed.to_pickle(\"../data/data_imputed.pkl\")"
   ],
   "id": "20a73a665fa2e763",
   "execution_count": 32,
   "outputs": []
  },
  {
   "metadata": {},
   "cell_type": "code",
   "execution_count": null,
   "source": "",
   "id": "b3c8bcf3211185a3",
   "outputs": []
  },
  {
   "metadata": {
    "ExecuteTime": {
     "end_time": "2024-07-09T17:12:05.114704Z",
     "start_time": "2024-07-09T16:09:53.157751Z"
    }
   },
   "cell_type": "code",
   "source": [
    "import umap \n",
    "# Use UMAP with the bias-corrected Gram matrix\n",
    "reducer = umap.UMAP()\n",
    "embedding = reducer.fit_transform(data_imputed[iv_qns])"
   ],
   "id": "5d3dbb7e19205e4d",
   "execution_count": 34,
   "outputs": []
  },
  {
   "metadata": {
    "ExecuteTime": {
     "end_time": "2024-07-09T21:13:50.886944Z",
     "start_time": "2024-07-09T21:13:50.849624Z"
    }
   },
   "cell_type": "code",
   "source": [
    "# Create a DataFrame for the embedding results\n",
    "embedding_df = pd.DataFrame(embedding, columns=[\"UMAP1\", \"UMAP2\"])\n",
    "embedding_df[\"Cultural Region\"] = data_imputed[\"Cultural Region\"]\n",
    "embedding_df[\"Country\"] = data_imputed[\"Country\"]\n",
    "embedding_df[\"Islamic\"] = data_imputed[\"Islamic\"]"
   ],
   "id": "bf8f83a2f5b3ee5f",
   "execution_count": 35,
   "outputs": []
  },
  {
   "metadata": {
    "ExecuteTime": {
     "end_time": "2024-07-09T21:21:45.788797Z",
     "start_time": "2024-07-09T21:21:45.781567Z"
    }
   },
   "cell_type": "code",
   "source": "embedding_df",
   "id": "84fc0d927517962",
   "execution_count": 42,
   "outputs": []
  },
  {
   "metadata": {
    "ExecuteTime": {
     "end_time": "2024-07-09T21:22:33.479609Z",
     "start_time": "2024-07-09T21:22:33.466761Z"
    }
   },
   "cell_type": "code",
   "source": [
    "# Drop \"Cultural Region\" and \"Country\" columns and Islamic column\n",
    "embedding_df = embedding_df.drop(columns=[\"Cultural Region\", \"Country\", \"Islamic\"])\n",
    "# Add columns back from the data_imputed dataframe\n",
    "embedding_df[\"Cultural Region\"] = data_imputed[\"Cultural Region\"]\n",
    "embedding_df[\"Country\"] = data_imputed[\"Country\"]\n",
    "embedding_df[\"Islamic\"] = data_imputed[\"Islamic\"]"
   ],
   "id": "6ee273f1a69117c5",
   "execution_count": 44,
   "outputs": []
  },
  {
   "metadata": {
    "ExecuteTime": {
     "end_time": "2024-07-09T21:22:34.862323Z",
     "start_time": "2024-07-09T21:22:34.832621Z"
    }
   },
   "cell_type": "code",
   "source": "embedding_df.to_pickle(\"../data/embedding_df.pkl\")",
   "id": "8407833d7368cf21",
   "execution_count": 45,
   "outputs": []
  },
  {
   "metadata": {
    "ExecuteTime": {
     "end_time": "2024-07-09T21:58:44.780425Z",
     "start_time": "2024-07-09T21:58:44.741215Z"
    }
   },
   "cell_type": "code",
   "source": "embedding_df = pd.read_pickle(\"../data/embedding_df.pkl\")",
   "id": "92525b65580c5495",
   "execution_count": 23,
   "outputs": []
  },
  {
   "metadata": {
    "ExecuteTime": {
     "end_time": "2024-07-09T21:58:55.702754Z",
     "start_time": "2024-07-09T21:58:47.470836Z"
    }
   },
   "cell_type": "code",
   "source": [
    "plt.figure(figsize=(30, 18))\n",
    "sns.scatterplot(data=embedding_df, x=\"UMAP1\", y=\"UMAP2\", hue=\"Cultural Region\", palette=\"hls\")\n",
    "plt.title(\"UMAP Projection of Survey Responses Colored by Cultural Region\")\n",
    "plt.show()"
   ],
   "id": "6f165e2921df7126",
   "execution_count": 24,
   "outputs": []
  },
  {
   "metadata": {
    "ExecuteTime": {
     "end_time": "2024-07-09T21:59:11.848218Z",
     "start_time": "2024-07-09T21:59:11.823702Z"
    }
   },
   "cell_type": "code",
   "source": [
    "# Calculate the mean of the rescaled individual-level scores for each country\n",
    "country_scores_umap = embedding_df.groupby('Country')[['UMAP1', 'UMAP2']].mean().reset_index()"
   ],
   "id": "59aaf6b1cadbc760",
   "execution_count": 25,
   "outputs": []
  },
  {
   "metadata": {
    "ExecuteTime": {
     "end_time": "2024-07-09T21:59:15.489685Z",
     "start_time": "2024-07-09T21:59:15.482555Z"
    }
   },
   "cell_type": "code",
   "source": [
    "# Merge back the cultural region and Islamic columns\n",
    "country_scores_umap = country_scores_umap.merge(country_codes[['Country', 'Cultural Region', 'Islamic']], on='Country', how='left')\n",
    "\n",
    "# Mapping cultural regions to colors\n",
    "cultural_region_colors = {\n",
    "    'African-Islamic': 'black',\n",
    "    'Confucian': 'deepskyblue',\n",
    "    'Latin America': 'violet',\n",
    "    'Protestant Europe': 'orange',\n",
    "    'Catholic Europe': 'gold',\n",
    "    'English-Speaking': 'green',\n",
    "    'Orthodox Europe': 'blue',\n",
    "    'West & South Asia': 'brown'\n",
    "}\n"
   ],
   "id": "a43c3f8dc3d45f59",
   "execution_count": 26,
   "outputs": []
  },
  {
   "metadata": {
    "ExecuteTime": {
     "end_time": "2024-07-09T21:59:41.816563Z",
     "start_time": "2024-07-09T21:59:41.556886Z"
    }
   },
   "cell_type": "code",
   "source": [
    "# Plot the Cultural Map\n",
    "plt.figure(figsize=(14, 10))\n",
    "\n",
    "\n",
    "# Create a scatter plot with colored points based on cultural regions\n",
    "for region, color in cultural_region_colors.items():\n",
    "    subset = country_scores_umap[country_scores_umap['Cultural Region'] == region]\n",
    "    plt.scatter(subset['UMAP1'], subset['UMAP2'], label=region, color=color)\n",
    "\n",
    "plt.xlabel('Traditional vs. Secular-rational values')\n",
    "plt.ylabel('Survival vs. Self-expression values')\n",
    "plt.title('Inglehart-Welzel Cultural Map')\n",
    "\n",
    "# Add legend\n",
    "plt.legend()\n",
    "\n",
    "plt.grid(True)\n",
    "plt.show()"
   ],
   "id": "23ca5ce469594312",
   "execution_count": 28,
   "outputs": []
  },
  {
   "metadata": {
    "ExecuteTime": {
     "end_time": "2024-07-09T22:00:45.554058Z",
     "start_time": "2024-07-09T22:00:45.546515Z"
    }
   },
   "cell_type": "code",
   "source": "country_scores_umap",
   "id": "adcd96ae98737f34",
   "execution_count": 29,
   "outputs": []
  },
  {
   "metadata": {
    "ExecuteTime": {
     "end_time": "2024-07-09T22:02:08.686735Z",
     "start_time": "2024-07-09T22:02:08.680254Z"
    }
   },
   "cell_type": "code",
   "source": [
    "x = country_scores_umap.dropna()['UMAP1']\n",
    "y = country_scores_umap.dropna()['UMAP2']\n",
    "categories = country_scores_umap.dropna()['Cultural Region']\n",
    "# create number map for categories\n",
    "categories = pd.Categorical(categories)\n",
    "categories = categories.codes\n",
    "categories"
   ],
   "id": "c96efe9f3db334c1",
   "execution_count": 34,
   "outputs": []
  },
  {
   "metadata": {
    "ExecuteTime": {
     "end_time": "2024-07-09T22:02:10.151475Z",
     "start_time": "2024-07-09T22:02:10.148092Z"
    }
   },
   "cell_type": "code",
   "source": [
    "data = np.column_stack((x, y)).astype(float)\n",
    "labels = np.array(categories).astype(int)"
   ],
   "id": "5f09779942fac5f7",
   "execution_count": 35,
   "outputs": []
  },
  {
   "metadata": {
    "ExecuteTime": {
     "end_time": "2024-07-09T22:02:14.235718Z",
     "start_time": "2024-07-09T22:02:14.228718Z"
    }
   },
   "cell_type": "code",
   "source": [
    "from sklearn.svm import SVC\n",
    "\n",
    "# Create an SVM classifier with a radial basis function kernel\n",
    "svm_classifier = SVC(kernel='rbf', gamma='auto')\n",
    "\n",
    "# Fit the classifier to the data\n",
    "svm_classifier.fit(data, labels)"
   ],
   "id": "ce2dc2173dc88a22",
   "execution_count": 36,
   "outputs": []
  },
  {
   "metadata": {
    "ExecuteTime": {
     "end_time": "2024-07-09T22:02:20.958343Z",
     "start_time": "2024-07-09T22:02:14.600449Z"
    }
   },
   "cell_type": "code",
   "source": [
    "import matplotlib.pyplot as plt\n",
    "import matplotlib.colors as mcolors\n",
    "\n",
    "# Create a mesh grid\n",
    "h = .01  # step size in the mesh\n",
    "x_min, x_max = data[:, 0].min() - 1, data[:, 0].max() + 1\n",
    "y_min, y_max = data[:, 1].min() - 1, data[:, 1].max() + 1\n",
    "xx, yy = np.meshgrid(np.arange(x_min, x_max, h), np.arange(y_min, y_max, h))\n",
    "\n",
    "# Predict classifications for each point in the mesh\n",
    "Z = svm_classifier.predict(np.c_[xx.ravel(), yy.ravel()])\n",
    "Z = Z.reshape(xx.shape)\n",
    "\n",
    "# Define color map\n",
    "cmap = plt.cm.get_cmap('viridis', len(np.unique(labels)))\n",
    "norm = mcolors.BoundaryNorm(np.arange(-0.5, len(np.unique(labels)), 1), cmap.N)\n",
    "\n",
    "# Plot the decision boundary\n",
    "plt.contourf(xx, yy, Z, cmap=cmap, alpha=0.3, norm=norm)\n",
    "plt.scatter(data[:, 0], data[:, 1], c=labels, cmap=cmap, edgecolors='k', s=20)\n",
    "plt.xlabel('UMAP 1')\n",
    "plt.ylabel('UMAP 2')\n",
    "plt.title('SVM Decision Boundaries')\n",
    "plt.show()\n"
   ],
   "id": "17c33885a18345c3",
   "execution_count": 37,
   "outputs": []
  },
  {
   "metadata": {},
   "cell_type": "code",
   "execution_count": null,
   "source": "",
   "id": "914f09a8519947b0",
   "outputs": []
  }
 ],
 "metadata": {
  "kernelspec": {
   "display_name": "Python 3 (ipykernel)",
   "language": "python",
   "name": "python3"
  },
  "language_info": {
   "codemirror_mode": {
    "name": "ipython",
    "version": 3
   },
   "file_extension": ".py",
   "mimetype": "text/x-python",
   "name": "python",
   "nbconvert_exporter": "python",
   "pygments_lexer": "ipython3",
   "version": "3.11.9"
  }
 },
 "nbformat": 4,
 "nbformat_minor": 5
}
